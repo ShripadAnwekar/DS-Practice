{
 "cells": [
  {
   "cell_type": "code",
   "execution_count": 31,
   "metadata": {
    "ExecuteTime": {
     "end_time": "2020-04-24T08:50:41.511617Z",
     "start_time": "2020-04-24T08:50:41.459755Z"
    },
    "colab": {},
    "colab_type": "code",
    "id": "RRIlDGgevFvW"
   },
   "outputs": [],
   "source": [
    "#Import Libraries\n",
    "import numpy as np\n",
    "import pandas as pd\n",
    "import seaborn as sns\n",
    "from statsmodels.stats.anova import _get_covariance,anova_lm # For n-way ANOVA\n",
    "%matplotlib inline\n",
    "#Import Libraries\n",
    "from scipy.stats import f\n",
    "import matplotlib.pyplot as plt\n",
    "%matplotlib inline\n",
    "from scipy.stats import ttest_1samp, ttest_ind\n",
    "from statsmodels.stats.power import ttest_power\n",
    "pd.set_option('display.float_format', lambda x: '%.2f' % x)\n",
    "import scipy.stats as stats\n",
    "from warnings import filterwarnings\n",
    "filterwarnings(\"ignore\")\n",
    "import statsmodels.api as sm\n",
    "import statistics\n",
    "from statsmodels.formula.api import ols\n",
    "from statsmodels.graphics.gofplots import ProbPlot\n",
    "from statsmodels.graphics.factorplots import interaction_plot\n",
    "from statsmodels.stats.multicomp import (pairwise_tukeyhsd,MultiComparison)"
   ]
  },
  {
   "cell_type": "markdown",
   "metadata": {
    "colab_type": "text",
    "id": "2eaGa3pwcdVd"
   },
   "source": [
    "### Problem-1. Salary is hypothesized to depend on educational qualification and occupation. To understand the dependency, the salaries of 40 individuals [SalaryData.csv] are collected and each person’s educational qualification and occupation are noted. Educational qualification is at three levels, High school graduate, Bachelor, and Doctorate. Occupation is at four levels, Administrative and clerical, Sales, Professional or specialty, and Executive or managerial. A different number of observations are in each level of education – occupation combination.\n",
    "\n",
    "[Assume that the data follows a normal distribution. In reality, the normality assumption may not always hold if the sample size is small.]\n"
   ]
  },
  {
   "cell_type": "markdown",
   "metadata": {},
   "source": [
    "### Problem-1 -A "
   ]
  },
  {
   "cell_type": "code",
   "execution_count": 32,
   "metadata": {},
   "outputs": [],
   "source": [
    "df_Salary = pd.read_csv('SalaryData.csv')"
   ]
  },
  {
   "cell_type": "code",
   "execution_count": 33,
   "metadata": {},
   "outputs": [
    {
     "data": {
      "text/html": [
       "<div>\n",
       "<style scoped>\n",
       "    .dataframe tbody tr th:only-of-type {\n",
       "        vertical-align: middle;\n",
       "    }\n",
       "\n",
       "    .dataframe tbody tr th {\n",
       "        vertical-align: top;\n",
       "    }\n",
       "\n",
       "    .dataframe thead th {\n",
       "        text-align: right;\n",
       "    }\n",
       "</style>\n",
       "<table border=\"1\" class=\"dataframe\">\n",
       "  <thead>\n",
       "    <tr style=\"text-align: right;\">\n",
       "      <th></th>\n",
       "      <th>Education</th>\n",
       "      <th>Occupation</th>\n",
       "      <th>Salary</th>\n",
       "    </tr>\n",
       "  </thead>\n",
       "  <tbody>\n",
       "    <tr>\n",
       "      <th>0</th>\n",
       "      <td>Doctorate</td>\n",
       "      <td>Adm-clerical</td>\n",
       "      <td>153197</td>\n",
       "    </tr>\n",
       "    <tr>\n",
       "      <th>1</th>\n",
       "      <td>Doctorate</td>\n",
       "      <td>Adm-clerical</td>\n",
       "      <td>115945</td>\n",
       "    </tr>\n",
       "    <tr>\n",
       "      <th>2</th>\n",
       "      <td>Doctorate</td>\n",
       "      <td>Adm-clerical</td>\n",
       "      <td>175935</td>\n",
       "    </tr>\n",
       "    <tr>\n",
       "      <th>3</th>\n",
       "      <td>Doctorate</td>\n",
       "      <td>Adm-clerical</td>\n",
       "      <td>220754</td>\n",
       "    </tr>\n",
       "    <tr>\n",
       "      <th>4</th>\n",
       "      <td>Doctorate</td>\n",
       "      <td>Sales</td>\n",
       "      <td>170769</td>\n",
       "    </tr>\n",
       "  </tbody>\n",
       "</table>\n",
       "</div>"
      ],
      "text/plain": [
       "    Education     Occupation  Salary\n",
       "0   Doctorate   Adm-clerical  153197\n",
       "1   Doctorate   Adm-clerical  115945\n",
       "2   Doctorate   Adm-clerical  175935\n",
       "3   Doctorate   Adm-clerical  220754\n",
       "4   Doctorate          Sales  170769"
      ]
     },
     "execution_count": 33,
     "metadata": {},
     "output_type": "execute_result"
    }
   ],
   "source": [
    "df_Salary.head()"
   ]
  },
  {
   "cell_type": "code",
   "execution_count": 34,
   "metadata": {},
   "outputs": [
    {
     "name": "stdout",
     "output_type": "stream",
     "text": [
      "<class 'pandas.core.frame.DataFrame'>\n",
      "RangeIndex: 40 entries, 0 to 39\n",
      "Data columns (total 3 columns):\n",
      " #   Column      Non-Null Count  Dtype \n",
      "---  ------      --------------  ----- \n",
      " 0   Education   40 non-null     object\n",
      " 1   Occupation  40 non-null     object\n",
      " 2   Salary      40 non-null     int64 \n",
      "dtypes: int64(1), object(2)\n",
      "memory usage: 1.1+ KB\n"
     ]
    }
   ],
   "source": [
    "df_Salary.info()"
   ]
  },
  {
   "cell_type": "code",
   "execution_count": 35,
   "metadata": {},
   "outputs": [
    {
     "data": {
      "text/html": [
       "<div>\n",
       "<style scoped>\n",
       "    .dataframe tbody tr th:only-of-type {\n",
       "        vertical-align: middle;\n",
       "    }\n",
       "\n",
       "    .dataframe tbody tr th {\n",
       "        vertical-align: top;\n",
       "    }\n",
       "\n",
       "    .dataframe thead th {\n",
       "        text-align: right;\n",
       "    }\n",
       "</style>\n",
       "<table border=\"1\" class=\"dataframe\">\n",
       "  <thead>\n",
       "    <tr style=\"text-align: right;\">\n",
       "      <th></th>\n",
       "      <th>Salary</th>\n",
       "    </tr>\n",
       "  </thead>\n",
       "  <tbody>\n",
       "    <tr>\n",
       "      <th>count</th>\n",
       "      <td>40.00</td>\n",
       "    </tr>\n",
       "    <tr>\n",
       "      <th>mean</th>\n",
       "      <td>162186.88</td>\n",
       "    </tr>\n",
       "    <tr>\n",
       "      <th>std</th>\n",
       "      <td>64860.41</td>\n",
       "    </tr>\n",
       "    <tr>\n",
       "      <th>min</th>\n",
       "      <td>50103.00</td>\n",
       "    </tr>\n",
       "    <tr>\n",
       "      <th>25%</th>\n",
       "      <td>99897.50</td>\n",
       "    </tr>\n",
       "    <tr>\n",
       "      <th>50%</th>\n",
       "      <td>169100.00</td>\n",
       "    </tr>\n",
       "    <tr>\n",
       "      <th>75%</th>\n",
       "      <td>214440.75</td>\n",
       "    </tr>\n",
       "    <tr>\n",
       "      <th>max</th>\n",
       "      <td>260151.00</td>\n",
       "    </tr>\n",
       "  </tbody>\n",
       "</table>\n",
       "</div>"
      ],
      "text/plain": [
       "         Salary\n",
       "count     40.00\n",
       "mean  162186.88\n",
       "std    64860.41\n",
       "min    50103.00\n",
       "25%    99897.50\n",
       "50%   169100.00\n",
       "75%   214440.75\n",
       "max   260151.00"
      ]
     },
     "execution_count": 35,
     "metadata": {},
     "output_type": "execute_result"
    }
   ],
   "source": [
    "df_Salary.describe()"
   ]
  },
  {
   "cell_type": "code",
   "execution_count": 36,
   "metadata": {},
   "outputs": [],
   "source": [
    "df_Salary['Education'] = pd.Categorical(df_Salary['Education'])\n",
    "df_Salary['Occupation'] = pd.Categorical(df_Salary['Occupation'])\n"
   ]
  },
  {
   "cell_type": "code",
   "execution_count": 37,
   "metadata": {},
   "outputs": [
    {
     "name": "stdout",
     "output_type": "stream",
     "text": [
      "<class 'pandas.core.frame.DataFrame'>\n",
      "RangeIndex: 40 entries, 0 to 39\n",
      "Data columns (total 3 columns):\n",
      " #   Column      Non-Null Count  Dtype   \n",
      "---  ------      --------------  -----   \n",
      " 0   Education   40 non-null     category\n",
      " 1   Occupation  40 non-null     category\n",
      " 2   Salary      40 non-null     int64   \n",
      "dtypes: category(2), int64(1)\n",
      "memory usage: 824.0 bytes\n"
     ]
    }
   ],
   "source": [
    "df_Salary.info()"
   ]
  },
  {
   "cell_type": "markdown",
   "metadata": {},
   "source": [
    "###              1.1. State the null and the alternate hypothesis for conducting one-way ANOVA for both Education and Occupation individually."
   ]
  },
  {
   "cell_type": "markdown",
   "metadata": {},
   "source": [
    "###               Hypothesis for conducting one-way ANOVA for Education Level as a Factor\n",
    "\n",
    "#### Null hypothesis  H0 :  The mean Salary received is same across different Education levels i.e. Doctorate, Bachelors and HS-grad\n",
    "#### Alternate hypothesis Ha : The mean Salary received is different in at-least one category of Education than others where Education category as  provided in data set are ' Doctorate', ' Bachelors'  and ' HS-grad'"
   ]
  },
  {
   "cell_type": "markdown",
   "metadata": {},
   "source": [
    "###               Hypothesis for conducting one-way ANOVA for Occupation Level as a Factor\n",
    "\n",
    "#### Null hypothesis  H0 :  The mean Salary received is same across different Occupation levels ' Adm-clerical', ' Sales', ' Prof-specialty' and ' Exec-managerial'\n",
    "#### Alternate hypothesis Ha : The mean Salary received is different in at-least one category of Occupation levels  which are ' Adm-clerical', ' Sales', ' Prof-specialty' and ' Exec-managerial'"
   ]
  },
  {
   "cell_type": "markdown",
   "metadata": {},
   "source": [
    "###              1.2  Perform a one-way ANOVA on Salary with respect to Education. State whether the null hypothesis is accepted or rejected based on the ANOVA results."
   ]
  },
  {
   "cell_type": "code",
   "execution_count": 38,
   "metadata": {},
   "outputs": [
    {
     "name": "stdout",
     "output_type": "stream",
     "text": [
      "             df          sum_sq        mean_sq     F  PR(>F)\n",
      "Education  2.00 102695466735.89 51347733367.94 30.96    0.00\n",
      "Residual  37.00  61372559274.49  1658717818.23   nan     nan\n"
     ]
    }
   ],
   "source": [
    "formula = 'Salary ~ Education'\n",
    "model =  ols(formula,df_Salary).fit()\n",
    "aov_table = anova_lm(model)\n",
    "print(aov_table)"
   ]
  },
  {
   "cell_type": "code",
   "execution_count": 39,
   "metadata": {},
   "outputs": [
    {
     "data": {
      "text/plain": [
       "3.251923846387207"
      ]
     },
     "execution_count": 39,
     "metadata": {},
     "output_type": "execute_result"
    }
   ],
   "source": [
    "import scipy.stats as stats\n",
    "stats.f.ppf(q=.95,dfn=2, dfd=37) #F-critical"
   ]
  },
  {
   "cell_type": "markdown",
   "metadata": {},
   "source": [
    "#### Since the p-value (0.00 ) is less than the level of significance(0.05), we reject the null hypothesis and conclude \n",
    "#### that there is a difference in the mean salary received by the education levels by atleast one level of Education. \n",
    "#### Mean Salary paid to Education levels ' Doctorate', ' Bachelors' and ' HS-grad' varies.\n",
    "#### The decision is again supported by the F Value  of (30.96) which is fairly high as well the F-Critical Value of 3.251923846387207\n",
    "\n"
   ]
  },
  {
   "cell_type": "markdown",
   "metadata": {},
   "source": [
    "###              1.3. Perform a one-way ANOVA on Salary with respect to Occupation. State whether the null hypothesis is accepted or rejected based on the ANOVA results."
   ]
  },
  {
   "cell_type": "code",
   "execution_count": 40,
   "metadata": {
    "scrolled": true
   },
   "outputs": [
    {
     "name": "stdout",
     "output_type": "stream",
     "text": [
      "              df          sum_sq       mean_sq    F  PR(>F)\n",
      "Occupation  3.00  11258782926.47 3752927642.16 0.88    0.46\n",
      "Residual   36.00 152809243083.91 4244701196.78  nan     nan\n"
     ]
    }
   ],
   "source": [
    "formula = 'Salary ~ Occupation'\n",
    "model = ols(formula,df_Salary).fit()\n",
    "aov_table = anova_lm(model)\n",
    "print(aov_table)"
   ]
  },
  {
   "cell_type": "code",
   "execution_count": 41,
   "metadata": {},
   "outputs": [
    {
     "data": {
      "text/plain": [
       "2.86626555094018"
      ]
     },
     "execution_count": 41,
     "metadata": {},
     "output_type": "execute_result"
    }
   ],
   "source": [
    "import scipy.stats as stats\n",
    "stats.f.ppf(q=.95,dfn=3, dfd=36) #F-critical"
   ]
  },
  {
   "cell_type": "markdown",
   "metadata": {},
   "source": [
    "#### Since the p-value (0.46 ) is Greater than the level of significance(0.05), we fail to reject the null hypothesis and conclude \n",
    "#### that there is no a difference in the mean salary received by any one of the Occupations. \n",
    "#### Mean Salary paid to Occupations ' Adm-clerical', ' Sales', ' Prof-specialty' and ' Exec-managerial' remains same.\n",
    "#### The decision is again supported by the F Value  of (0.88) which is fairly low as well the F-Critical Value of 2.86626555094018"
   ]
  },
  {
   "cell_type": "markdown",
   "metadata": {},
   "source": [
    "###             1.4. If the null hypothesis is rejected in either (2) or in (3), find out which class means are significantly different. Interpret the result. (Non-Graded)"
   ]
  },
  {
   "cell_type": "markdown",
   "metadata": {},
   "source": [
    "#### We Performed a one-way ANOVA on Salary with respect to Education(Question 1.2). The null hypothesis is REJECTED based on the ANOVA results. Data shows that the mean salary to \" HS-GRAD\"  differs significantly\n",
    "\n"
   ]
  },
  {
   "cell_type": "markdown",
   "metadata": {},
   "source": [
    "### Problem-1 -B"
   ]
  },
  {
   "cell_type": "markdown",
   "metadata": {},
   "source": [
    "#### 1.5. The Student News Service at Clear Mountain State University (CMSU) has decided to gather What is the interaction between two treatments? Analyze the effects of one variable on the other (Education and Occupation) with the help of an interaction plot.\n",
    "\n",
    "[hint: use the ‘pointplot’ function from the ‘seaborn’ function]\n"
   ]
  },
  {
   "cell_type": "code",
   "execution_count": 42,
   "metadata": {
    "scrolled": true
   },
   "outputs": [
    {
     "data": {
      "image/png": "[encoded data removed]",
      "text/plain": [
       "<Figure size 432x288 with 1 Axes>"
      ]
     },
     "metadata": {
      "needs_background": "light"
     },
     "output_type": "display_data"
    }
   ],
   "source": [
    "sns.pointplot(x='Occupation', y='Salary', data=df_Salary, hue='Education',ci=None);"
   ]
  },
  {
   "cell_type": "code",
   "execution_count": 43,
   "metadata": {},
   "outputs": [
    {
     "data": {
      "text/html": [
       "<div>\n",
       "<style scoped>\n",
       "    .dataframe tbody tr th:only-of-type {\n",
       "        vertical-align: middle;\n",
       "    }\n",
       "\n",
       "    .dataframe tbody tr th {\n",
       "        vertical-align: top;\n",
       "    }\n",
       "\n",
       "    .dataframe thead th {\n",
       "        text-align: right;\n",
       "    }\n",
       "</style>\n",
       "<table border=\"1\" class=\"dataframe\">\n",
       "  <thead>\n",
       "    <tr style=\"text-align: right;\">\n",
       "      <th></th>\n",
       "      <th>df</th>\n",
       "      <th>sum_sq</th>\n",
       "      <th>mean_sq</th>\n",
       "      <th>F</th>\n",
       "      <th>PR(&gt;F)</th>\n",
       "    </tr>\n",
       "  </thead>\n",
       "  <tbody>\n",
       "    <tr>\n",
       "      <th>C(Education):C(Occupation)</th>\n",
       "      <td>11.00</td>\n",
       "      <td>143801936828.37</td>\n",
       "      <td>13072903348.03</td>\n",
       "      <td>18.38</td>\n",
       "      <td>0.00</td>\n",
       "    </tr>\n",
       "    <tr>\n",
       "      <th>Residual</th>\n",
       "      <td>29.00</td>\n",
       "      <td>20621020503.03</td>\n",
       "      <td>711069672.52</td>\n",
       "      <td>nan</td>\n",
       "      <td>nan</td>\n",
       "    </tr>\n",
       "  </tbody>\n",
       "</table>\n",
       "</div>"
      ],
      "text/plain": [
       "                              df          sum_sq        mean_sq     F  PR(>F)\n",
       "C(Education):C(Occupation) 11.00 143801936828.37 13072903348.03 18.38    0.00\n",
       "Residual                   29.00  20621020503.03   711069672.52   nan     nan"
      ]
     },
     "execution_count": 43,
     "metadata": {},
     "output_type": "execute_result"
    }
   ],
   "source": [
    "formula = 'Salary ~  C(Education):C(Occupation)'\n",
    "model = ols(formula, df_Salary).fit()\n",
    "aov_table = anova_lm(model)\n",
    "(aov_table)"
   ]
  },
  {
   "cell_type": "markdown",
   "metadata": {},
   "source": [
    "### Point chart as well as P=Value of variance analysis shows a really high degree of interaction between Education and Occupation impacting the Salary. \n",
    "### 'HS-Grad' at every occupation earn less than 'Doctorate' or 'Bachelors'.\n",
    "### 'Doctorate' at every occupation earn More than 'HS-Grad' or 'Bachelors'.\n",
    "### 'Bachelors' at every occupation earn More than 'HS-Grad'.\n",
    "### There is no evidence that The Salaries are independent of combination of 'Education' and 'Occupation'."
   ]
  },
  {
   "cell_type": "markdown",
   "metadata": {},
   "source": [
    "### 1.6. Perform a two-way ANOVA based on Salary with respect to both Education and Occupation (along with their interaction Education*Occupation). State the null and alternative hypotheses and state your results. How will you interpret this result?"
   ]
  },
  {
   "cell_type": "markdown",
   "metadata": {},
   "source": [
    "\n",
    "###               Hypothesis for conducting Two-way ANOVA for Education Level as a Factor / Treatment\n",
    "\n",
    "   #### Null hypothesis  H0 :  The mean Salary received is same across different Education levels i.e. Doctorate, Bachelors and HS-grad\n",
    "   #### Alternate hypothesis Ha : The mean Salary received is different in at-least one category of Education than others where Education category as  provided in data set are ' Doctorate', ' Bachelors'  and ' HS-grad'\n",
    "    \n",
    "\n",
    "###               Hypothesis for conducting Two-way ANOVA for Occupation Level as a Factor / Treatment\n",
    "\n",
    "   #### Null hypothesis  H0 :  The mean Salary received is same across different Occupation levels ' Adm-clerical', ' Sales', ' Prof-specialty' and ' Exec-managerial'\n",
    "   #### Alternate hypothesis Ha : The mean Salary received is different in at-least one category of Occupation levels  which are ' Adm-clerical', ' Sales', ' Prof-specialty' and ' Exec-managerial'\n",
    "   \n",
    "   \n",
    " ###               Hypothesis for conducting Two-way ANOVA for Interaction between  Factors Education and Occupation to understand impact on Salary\n",
    "\n",
    "   #### Null hypothesis  H0 :  There is no impact of Interaction between factors Education and Occupation on Salary\n",
    "   #### Alternate hypothesis Ha : There is  impact of Interaction between factors Education and Occupation on Salary\n"
   ]
  },
  {
   "cell_type": "code",
   "execution_count": 44,
   "metadata": {},
   "outputs": [
    {
     "data": {
      "text/html": [
       "<div>\n",
       "<style scoped>\n",
       "    .dataframe tbody tr th:only-of-type {\n",
       "        vertical-align: middle;\n",
       "    }\n",
       "\n",
       "    .dataframe tbody tr th {\n",
       "        vertical-align: top;\n",
       "    }\n",
       "\n",
       "    .dataframe thead th {\n",
       "        text-align: right;\n",
       "    }\n",
       "</style>\n",
       "<table border=\"1\" class=\"dataframe\">\n",
       "  <thead>\n",
       "    <tr style=\"text-align: right;\">\n",
       "      <th></th>\n",
       "      <th>df</th>\n",
       "      <th>sum_sq</th>\n",
       "      <th>mean_sq</th>\n",
       "      <th>F</th>\n",
       "      <th>PR(&gt;F)</th>\n",
       "    </tr>\n",
       "  </thead>\n",
       "  <tbody>\n",
       "    <tr>\n",
       "      <th>C(Education)</th>\n",
       "      <td>2.00</td>\n",
       "      <td>102695466735.89</td>\n",
       "      <td>51347733367.94</td>\n",
       "      <td>72.21</td>\n",
       "      <td>0.00</td>\n",
       "    </tr>\n",
       "    <tr>\n",
       "      <th>C(Occupation)</th>\n",
       "      <td>3.00</td>\n",
       "      <td>5519946053.36</td>\n",
       "      <td>1839982017.79</td>\n",
       "      <td>2.59</td>\n",
       "      <td>0.07</td>\n",
       "    </tr>\n",
       "    <tr>\n",
       "      <th>C(Education):C(Occupation)</th>\n",
       "      <td>6.00</td>\n",
       "      <td>36349090964.89</td>\n",
       "      <td>6058181827.48</td>\n",
       "      <td>8.52</td>\n",
       "      <td>0.00</td>\n",
       "    </tr>\n",
       "    <tr>\n",
       "      <th>Residual</th>\n",
       "      <td>29.00</td>\n",
       "      <td>20621020503.03</td>\n",
       "      <td>711069672.52</td>\n",
       "      <td>nan</td>\n",
       "      <td>nan</td>\n",
       "    </tr>\n",
       "  </tbody>\n",
       "</table>\n",
       "</div>"
      ],
      "text/plain": [
       "                              df          sum_sq        mean_sq     F  PR(>F)\n",
       "C(Education)                2.00 102695466735.89 51347733367.94 72.21    0.00\n",
       "C(Occupation)               3.00   5519946053.36  1839982017.79  2.59    0.07\n",
       "C(Education):C(Occupation)  6.00  36349090964.89  6058181827.48  8.52    0.00\n",
       "Residual                   29.00  20621020503.03   711069672.52   nan     nan"
      ]
     },
     "execution_count": 44,
     "metadata": {},
     "output_type": "execute_result"
    }
   ],
   "source": [
    "formula = 'Salary ~ C(Education) + C(Occupation) + C(Education):C(Occupation)'\n",
    "model = ols(formula, df_Salary).fit()\n",
    "aov_table = anova_lm(model)\n",
    "(aov_table)"
   ]
  },
  {
   "cell_type": "markdown",
   "metadata": {},
   "source": [
    "### A 2-Way ANOVA was run on a sample of 40 individuals to examine the effect of Education and Occupation on Salary.  There was a significant interaction as the P-Value of 0.00 < 0.05 between the effects of Education and Occupation on Salary. Simple main effects analysis showed that Occupation has no significant effect on Salary as the P-Value of 0.07 > 0.05 , but the treatment level(Education) has significant effect on Salary as the P-Value of 0.00 < 0.05"
   ]
  },
  {
   "cell_type": "markdown",
   "metadata": {},
   "source": [
    "### 1.7. Explain the business implications of performing ANOVA for this particular case study."
   ]
  },
  {
   "cell_type": "markdown",
   "metadata": {},
   "source": [
    "one way anova is used to determine if there is any statistically significant  \n",
    "differences between means of two or more independent (Unrelated) groups. Ideally minumum 3.\n",
    "In current situation for Education levels when we perfomed this analysis it revealed that that there \n",
    "is difference in the mean of Salary received by Education levels 'Doctorate', 'Bachelors' and 'HS-grad'.\n",
    "This outcome of test is logically correct as it is expected that Salaries will vary for staff with varied Education levels.\n",
    "\n",
    "one way anova is used to determine if there is any statistically significant  \n",
    "differences between means of two or more independent (Unrelated) groups. Ideally minumum 3.\n",
    "In current situation for Occupation levels when we perfomed this analysis it revealed that that there \n",
    "is No difference in the mean of Salary received by Occupation levels 'Adm-clerical', 'Exec-managerial','Prof-specialty' and 'Sales'.\n",
    "This outcome of test is logically correct as it is expected that Salaries Spend will be similarfor staff employeed with different Departments.\n",
    "IN order to strengthen each of the department Equally.\n",
    "\n",
    "\n",
    "Two Way is extension of One way ANOVA that examines the influence of two different categorical independent variables on\n",
    "one continous dependent variable.\n",
    "A 2-Way ANOVA was run on a sample of 40 individuals to examine the effect of Education and Occupation on Salary.  \n",
    "1) Simple main effects analysis showed that Occupation has no significant effect on Salary as the P-Value \n",
    "of 0.07 > 0.05; which is logically correct as Each occupation has staff with varied Education background and they are paid\n",
    "differently summing up to similar payout per occupation.\n",
    "\n",
    "2) There was a significant interaction as the P-Value of 0.00 < 0.05 between the effects of Education and Occupation \n",
    "on Salary. This is logically correct since the Education levels within same occupation are paid differently.\n",
    "\n",
    "3) Treatment level(Education) has significant effect on Salary as the P-Value of 0.00 < 0.05.\n",
    "This is logically correct since the Education levels within same occupation are expected to be paid differently."
   ]
  }
 ],
 "metadata": {
  "colab": {
   "collapsed_sections": [],
   "name": "Titan_casestudy.ipynb",
   "provenance": []
  },
  "kernelspec": {
   "display_name": "Python 3 (ipykernel)",
   "language": "python",
   "name": "python3"
  },
  "language_info": {
   "codemirror_mode": {
    "name": "ipython",
    "version": 3
   },
   "file_extension": ".py",
   "mimetype": "text/x-python",
   "name": "python",
   "nbconvert_exporter": "python",
   "pygments_lexer": "ipython3",
   "version": "3.8.5"
  },
  "toc": {
   "base_numbering": 1,
   "nav_menu": {},
   "number_sections": true,
   "sideBar": true,
   "skip_h1_title": false,
   "title_cell": "Table of Contents",
   "title_sidebar": "Contents",
   "toc_cell": false,
   "toc_position": {},
   "toc_section_display": true,
   "toc_window_display": false
  },
  "varInspector": {
   "cols": {
    "lenName": 16,
    "lenType": 16,
    "lenVar": 40
   },
   "kernels_config": {
    "python": {
     "delete_cmd_postfix": "",
     "delete_cmd_prefix": "del ",
     "library": "var_list.py",
     "varRefreshCmd": "print(var_dic_list())"
    },
    "r": {
     "delete_cmd_postfix": ") ",
     "delete_cmd_prefix": "rm(",
     "library": "var_list.r",
     "varRefreshCmd": "cat(var_dic_list()) "
    }
   },
   "types_to_exclude": [
    "module",
    "function",
    "builtin_function_or_method",
    "instance",
    "_Feature"
   ],
   "window_display": false
  }
 },
 "nbformat": 4,
 "nbformat_minor": 1
}
