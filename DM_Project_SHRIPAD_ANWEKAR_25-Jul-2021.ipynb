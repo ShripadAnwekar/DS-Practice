{
 "cells": [
  {
   "cell_type": "code",
   "execution_count": 1,
   "metadata": {
    "ExecuteTime": {
     "end_time": "2020-04-24T08:50:41.511617Z",
     "start_time": "2020-04-24T08:50:41.459755Z"
    },
    "colab": {},
    "colab_type": "code",
    "id": "RRIlDGgevFvW"
   },
   "outputs": [],
   "source": [
    "#Import Libraries\n",
    "import numpy as np\n",
    "import pandas as pd\n",
    "import seaborn as sns\n",
    "from statsmodels.stats.anova import _get_covariance,anova_lm # For n-way ANOVA\n",
    "%matplotlib inline\n",
    "from scipy.stats import f\n",
    "import matplotlib.pyplot as plt\n",
    "%matplotlib inline\n",
    "from scipy.stats import ttest_1samp, ttest_ind\n",
    "from statsmodels.stats.power import ttest_power\n",
    "pd.set_option('display.float_format', lambda x: '%.2f' % x)\n",
    "import scipy.stats as stats\n",
    "from warnings import filterwarnings\n",
    "filterwarnings(\"ignore\")\n",
    "import statsmodels.api as sm\n",
    "import statistics\n",
    "from statsmodels.formula.api import ols\n",
    "from statsmodels.graphics.gofplots import ProbPlot\n",
    "from statsmodels.graphics.factorplots import interaction_plot\n",
    "from statsmodels.stats.multicomp import (pairwise_tukeyhsd,MultiComparison)\n",
    "from scipy.cluster.hierarchy import dendrogram, linkage\n",
    "from sklearn.cluster import AgglomerativeClustering\n",
    "from sklearn.tree import DecisionTreeClassifier\n",
    "from sklearn.model_selection import train_test_split\n",
    "from sklearn.metrics import classification_report,confusion_matrix\n",
    "from sklearn.ensemble import RandomForestClassifier\n",
    "from sklearn.metrics import roc_curve,roc_auc_score\n",
    "from scipy.cluster.hierarchy import fcluster\n",
    "from sklearn.cluster import KMeans \n",
    "from sklearn.neural_network import MLPClassifier\n",
    "from sklearn.metrics import silhouette_samples, silhouette_score"
   ]
  },
  {
   "cell_type": "markdown",
   "metadata": {
    "colab_type": "text",
    "id": "2eaGa3pwcdVd"
   },
   "source": [
    "## Problem 1: Clustering\n",
    "### A leading bank wants to develop a customer segmentation to give promotional offers to its customers. They collected a sample that summarizes the activities of users during the past few months. You are given the task to identify the segments based on credit card usage."
   ]
  },
  {
   "cell_type": "markdown",
   "metadata": {},
   "source": [
    "###              1.1. Read the data, do the necessary initial steps, and exploratory data analysis (Univariate, Bi-variate, and multivariate analysis)."
   ]
  },
  {
   "cell_type": "markdown",
   "metadata": {},
   "source": [
    "Read the data and do exploratory data analysis (3 pts). \n",
    "Describe the data briefly. Interpret the inferences for each (3 pts). \n",
    "\n",
    "Initial steps like head() .info(), Data Types, etc . Null value check. Distribution plots(histogram) or similar plots for the continuous columns. Box plots, Correlation plots. Appropriate plots for categorical variables. Inferences on each plot. Summary stats, Skewness, Outliers proportion should be discussed, and inferences from above used plots should be there. There is no restriction on how the learner wishes to implement this but the code should be able to represent the correct output and inferences should be logical and correct."
   ]
  },
  {
   "cell_type": "code",
   "execution_count": 2,
   "metadata": {},
   "outputs": [],
   "source": [
    "Bank = pd.read_csv('bank_marketing_part1_Data.csv')"
   ]
  },
  {
   "cell_type": "code",
   "execution_count": 3,
   "metadata": {},
   "outputs": [
    {
     "data": {
      "text/html": [
       "<div>\n",
       "<style scoped>\n",
       "    .dataframe tbody tr th:only-of-type {\n",
       "        vertical-align: middle;\n",
       "    }\n",
       "\n",
       "    .dataframe tbody tr th {\n",
       "        vertical-align: top;\n",
       "    }\n",
       "\n",
       "    .dataframe thead th {\n",
       "        text-align: right;\n",
       "    }\n",
       "</style>\n",
       "<table border=\"1\" class=\"dataframe\">\n",
       "  <thead>\n",
       "    <tr style=\"text-align: right;\">\n",
       "      <th></th>\n",
       "      <th>spending</th>\n",
       "      <th>advance_payments</th>\n",
       "      <th>probability_of_full_payment</th>\n",
       "      <th>current_balance</th>\n",
       "      <th>credit_limit</th>\n",
       "      <th>min_payment_amt</th>\n",
       "      <th>max_spent_in_single_shopping</th>\n",
       "    </tr>\n",
       "  </thead>\n",
       "  <tbody>\n",
       "    <tr>\n",
       "      <th>0</th>\n",
       "      <td>19.94</td>\n",
       "      <td>16.92</td>\n",
       "      <td>0.88</td>\n",
       "      <td>6.67</td>\n",
       "      <td>3.76</td>\n",
       "      <td>3.25</td>\n",
       "      <td>6.55</td>\n",
       "    </tr>\n",
       "    <tr>\n",
       "      <th>1</th>\n",
       "      <td>15.99</td>\n",
       "      <td>14.89</td>\n",
       "      <td>0.91</td>\n",
       "      <td>5.36</td>\n",
       "      <td>3.58</td>\n",
       "      <td>3.34</td>\n",
       "      <td>5.14</td>\n",
       "    </tr>\n",
       "    <tr>\n",
       "      <th>2</th>\n",
       "      <td>18.95</td>\n",
       "      <td>16.42</td>\n",
       "      <td>0.88</td>\n",
       "      <td>6.25</td>\n",
       "      <td>3.75</td>\n",
       "      <td>3.37</td>\n",
       "      <td>6.15</td>\n",
       "    </tr>\n",
       "    <tr>\n",
       "      <th>3</th>\n",
       "      <td>10.83</td>\n",
       "      <td>12.96</td>\n",
       "      <td>0.81</td>\n",
       "      <td>5.28</td>\n",
       "      <td>2.64</td>\n",
       "      <td>5.18</td>\n",
       "      <td>5.18</td>\n",
       "    </tr>\n",
       "    <tr>\n",
       "      <th>4</th>\n",
       "      <td>17.99</td>\n",
       "      <td>15.86</td>\n",
       "      <td>0.90</td>\n",
       "      <td>5.89</td>\n",
       "      <td>3.69</td>\n",
       "      <td>2.07</td>\n",
       "      <td>5.84</td>\n",
       "    </tr>\n",
       "  </tbody>\n",
       "</table>\n",
       "</div>"
      ],
      "text/plain": [
       "   spending  advance_payments  probability_of_full_payment  current_balance  \\\n",
       "0     19.94             16.92                         0.88             6.67   \n",
       "1     15.99             14.89                         0.91             5.36   \n",
       "2     18.95             16.42                         0.88             6.25   \n",
       "3     10.83             12.96                         0.81             5.28   \n",
       "4     17.99             15.86                         0.90             5.89   \n",
       "\n",
       "   credit_limit  min_payment_amt  max_spent_in_single_shopping  \n",
       "0          3.76             3.25                          6.55  \n",
       "1          3.58             3.34                          5.14  \n",
       "2          3.75             3.37                          6.15  \n",
       "3          2.64             5.18                          5.18  \n",
       "4          3.69             2.07                          5.84  "
      ]
     },
     "execution_count": 3,
     "metadata": {},
     "output_type": "execute_result"
    }
   ],
   "source": [
    "Bank.head()"
   ]
  },
  {
   "cell_type": "code",
   "execution_count": 4,
   "metadata": {
    "scrolled": true
   },
   "outputs": [
    {
     "name": "stdout",
     "output_type": "stream",
     "text": [
      "<class 'pandas.core.frame.DataFrame'>\n",
      "RangeIndex: 210 entries, 0 to 209\n",
      "Data columns (total 7 columns):\n",
      " #   Column                        Non-Null Count  Dtype  \n",
      "---  ------                        --------------  -----  \n",
      " 0   spending                      210 non-null    float64\n",
      " 1   advance_payments              210 non-null    float64\n",
      " 2   probability_of_full_payment   210 non-null    float64\n",
      " 3   current_balance               210 non-null    float64\n",
      " 4   credit_limit                  210 non-null    float64\n",
      " 5   min_payment_amt               210 non-null    float64\n",
      " 6   max_spent_in_single_shopping  210 non-null    float64\n",
      "dtypes: float64(7)\n",
      "memory usage: 11.6 KB\n"
     ]
    }
   ],
   "source": [
    "Bank.info()"
   ]
  },
  {
   "cell_type": "code",
   "execution_count": 5,
   "metadata": {
    "scrolled": true
   },
   "outputs": [
    {
     "data": {
      "text/html": [
       "<div>\n",
       "<style scoped>\n",
       "    .dataframe tbody tr th:only-of-type {\n",
       "        vertical-align: middle;\n",
       "    }\n",
       "\n",
       "    .dataframe tbody tr th {\n",
       "        vertical-align: top;\n",
       "    }\n",
       "\n",
       "    .dataframe thead th {\n",
       "        text-align: right;\n",
       "    }\n",
       "</style>\n",
       "<table border=\"1\" class=\"dataframe\">\n",
       "  <thead>\n",
       "    <tr style=\"text-align: right;\">\n",
       "      <th></th>\n",
       "      <th>spending</th>\n",
       "      <th>advance_payments</th>\n",
       "      <th>probability_of_full_payment</th>\n",
       "      <th>current_balance</th>\n",
       "      <th>credit_limit</th>\n",
       "      <th>min_payment_amt</th>\n",
       "      <th>max_spent_in_single_shopping</th>\n",
       "    </tr>\n",
       "  </thead>\n",
       "  <tbody>\n",
       "    <tr>\n",
       "      <th>count</th>\n",
       "      <td>210.00</td>\n",
       "      <td>210.00</td>\n",
       "      <td>210.00</td>\n",
       "      <td>210.00</td>\n",
       "      <td>210.00</td>\n",
       "      <td>210.00</td>\n",
       "      <td>210.00</td>\n",
       "    </tr>\n",
       "    <tr>\n",
       "      <th>mean</th>\n",
       "      <td>14.85</td>\n",
       "      <td>14.56</td>\n",
       "      <td>0.87</td>\n",
       "      <td>5.63</td>\n",
       "      <td>3.26</td>\n",
       "      <td>3.70</td>\n",
       "      <td>5.41</td>\n",
       "    </tr>\n",
       "    <tr>\n",
       "      <th>std</th>\n",
       "      <td>2.91</td>\n",
       "      <td>1.31</td>\n",
       "      <td>0.02</td>\n",
       "      <td>0.44</td>\n",
       "      <td>0.38</td>\n",
       "      <td>1.50</td>\n",
       "      <td>0.49</td>\n",
       "    </tr>\n",
       "    <tr>\n",
       "      <th>min</th>\n",
       "      <td>10.59</td>\n",
       "      <td>12.41</td>\n",
       "      <td>0.81</td>\n",
       "      <td>4.90</td>\n",
       "      <td>2.63</td>\n",
       "      <td>0.77</td>\n",
       "      <td>4.52</td>\n",
       "    </tr>\n",
       "    <tr>\n",
       "      <th>25%</th>\n",
       "      <td>12.27</td>\n",
       "      <td>13.45</td>\n",
       "      <td>0.86</td>\n",
       "      <td>5.26</td>\n",
       "      <td>2.94</td>\n",
       "      <td>2.56</td>\n",
       "      <td>5.04</td>\n",
       "    </tr>\n",
       "    <tr>\n",
       "      <th>50%</th>\n",
       "      <td>14.36</td>\n",
       "      <td>14.32</td>\n",
       "      <td>0.87</td>\n",
       "      <td>5.52</td>\n",
       "      <td>3.24</td>\n",
       "      <td>3.60</td>\n",
       "      <td>5.22</td>\n",
       "    </tr>\n",
       "    <tr>\n",
       "      <th>75%</th>\n",
       "      <td>17.30</td>\n",
       "      <td>15.71</td>\n",
       "      <td>0.89</td>\n",
       "      <td>5.98</td>\n",
       "      <td>3.56</td>\n",
       "      <td>4.77</td>\n",
       "      <td>5.88</td>\n",
       "    </tr>\n",
       "    <tr>\n",
       "      <th>max</th>\n",
       "      <td>21.18</td>\n",
       "      <td>17.25</td>\n",
       "      <td>0.92</td>\n",
       "      <td>6.67</td>\n",
       "      <td>4.03</td>\n",
       "      <td>8.46</td>\n",
       "      <td>6.55</td>\n",
       "    </tr>\n",
       "  </tbody>\n",
       "</table>\n",
       "</div>"
      ],
      "text/plain": [
       "       spending  advance_payments  probability_of_full_payment  \\\n",
       "count    210.00            210.00                       210.00   \n",
       "mean      14.85             14.56                         0.87   \n",
       "std        2.91              1.31                         0.02   \n",
       "min       10.59             12.41                         0.81   \n",
       "25%       12.27             13.45                         0.86   \n",
       "50%       14.36             14.32                         0.87   \n",
       "75%       17.30             15.71                         0.89   \n",
       "max       21.18             17.25                         0.92   \n",
       "\n",
       "       current_balance  credit_limit  min_payment_amt  \\\n",
       "count           210.00        210.00           210.00   \n",
       "mean              5.63          3.26             3.70   \n",
       "std               0.44          0.38             1.50   \n",
       "min               4.90          2.63             0.77   \n",
       "25%               5.26          2.94             2.56   \n",
       "50%               5.52          3.24             3.60   \n",
       "75%               5.98          3.56             4.77   \n",
       "max               6.67          4.03             8.46   \n",
       "\n",
       "       max_spent_in_single_shopping  \n",
       "count                        210.00  \n",
       "mean                           5.41  \n",
       "std                            0.49  \n",
       "min                            4.52  \n",
       "25%                            5.04  \n",
       "50%                            5.22  \n",
       "75%                            5.88  \n",
       "max                            6.55  "
      ]
     },
     "execution_count": 5,
     "metadata": {},
     "output_type": "execute_result"
    }
   ],
   "source": [
    "Bank.describe()"
   ]
  },
  {
   "cell_type": "markdown",
   "metadata": {},
   "source": [
    "### Data Pre-processing"
   ]
  },
  {
   "cell_type": "markdown",
   "metadata": {},
   "source": [
    "### Treat BAD Data"
   ]
  },
  {
   "cell_type": "code",
   "execution_count": 6,
   "metadata": {},
   "outputs": [
    {
     "name": "stdout",
     "output_type": "stream",
     "text": [
      "<class 'pandas.core.frame.DataFrame'>\n",
      "RangeIndex: 210 entries, 0 to 209\n",
      "Data columns (total 7 columns):\n",
      " #   Column                        Non-Null Count  Dtype  \n",
      "---  ------                        --------------  -----  \n",
      " 0   spending                      210 non-null    float64\n",
      " 1   advance_payments              210 non-null    float64\n",
      " 2   probability_of_full_payment   210 non-null    float64\n",
      " 3   current_balance               210 non-null    float64\n",
      " 4   credit_limit                  210 non-null    float64\n",
      " 5   min_payment_amt               210 non-null    float64\n",
      " 6   max_spent_in_single_shopping  210 non-null    float64\n",
      "dtypes: float64(7)\n",
      "memory usage: 11.6 KB\n"
     ]
    }
   ],
   "source": [
    "Bank.info()"
   ]
  },
  {
   "cell_type": "markdown",
   "metadata": {},
   "source": [
    "####                 Data types are in line with the supporting data dictionary, Presense of no Bad Data is noticed"
   ]
  },
  {
   "cell_type": "markdown",
   "metadata": {},
   "source": [
    "### Treat Anomalies"
   ]
  },
  {
   "cell_type": "markdown",
   "metadata": {},
   "source": [
    "####                 There are apparently no noticable Anamolies, with the definition of Existing Business rules that are available"
   ]
  },
  {
   "cell_type": "markdown",
   "metadata": {},
   "source": [
    "### Treat Missing Values"
   ]
  },
  {
   "cell_type": "code",
   "execution_count": 7,
   "metadata": {},
   "outputs": [
    {
     "data": {
      "text/plain": [
       "spending                        0\n",
       "advance_payments                0\n",
       "probability_of_full_payment     0\n",
       "current_balance                 0\n",
       "credit_limit                    0\n",
       "min_payment_amt                 0\n",
       "max_spent_in_single_shopping    0\n",
       "dtype: int64"
      ]
     },
     "execution_count": 7,
     "metadata": {},
     "output_type": "execute_result"
    }
   ],
   "source": [
    "Bank.isnull().sum()"
   ]
  },
  {
   "cell_type": "markdown",
   "metadata": {},
   "source": [
    "####                 There are no Missing values in the supplied DataSet"
   ]
  },
  {
   "cell_type": "markdown",
   "metadata": {},
   "source": [
    "### Checking for Duplicates"
   ]
  },
  {
   "cell_type": "code",
   "execution_count": 8,
   "metadata": {},
   "outputs": [
    {
     "name": "stdout",
     "output_type": "stream",
     "text": [
      "Number of duplicate rows = 0\n"
     ]
    }
   ],
   "source": [
    "# Are there any duplicates\n",
    "dups = Bank.duplicated()\n",
    "print('Number of duplicate rows = %d' % (dups.sum()))"
   ]
  },
  {
   "cell_type": "markdown",
   "metadata": {},
   "source": [
    "####                 There are no Duplicate values in the supplied DataSet"
   ]
  },
  {
   "cell_type": "markdown",
   "metadata": {},
   "source": [
    "### Data Visualization"
   ]
  },
  {
   "cell_type": "markdown",
   "metadata": {},
   "source": [
    "#### Univariate Analysis"
   ]
  },
  {
   "cell_type": "code",
   "execution_count": 9,
   "metadata": {},
   "outputs": [
    {
     "data": {
      "text/html": [
       "<div>\n",
       "<style scoped>\n",
       "    .dataframe tbody tr th:only-of-type {\n",
       "        vertical-align: middle;\n",
       "    }\n",
       "\n",
       "    .dataframe tbody tr th {\n",
       "        vertical-align: top;\n",
       "    }\n",
       "\n",
       "    .dataframe thead th {\n",
       "        text-align: right;\n",
       "    }\n",
       "</style>\n",
       "<table border=\"1\" class=\"dataframe\">\n",
       "  <thead>\n",
       "    <tr style=\"text-align: right;\">\n",
       "      <th></th>\n",
       "      <th>count</th>\n",
       "      <th>mean</th>\n",
       "      <th>std</th>\n",
       "      <th>min</th>\n",
       "      <th>25%</th>\n",
       "      <th>50%</th>\n",
       "      <th>75%</th>\n",
       "      <th>max</th>\n",
       "      <th>CV</th>\n",
       "      <th>Q1 - Min</th>\n",
       "      <th>Max - 75%</th>\n",
       "      <th>Q2 - Min</th>\n",
       "      <th>Max - 50%</th>\n",
       "      <th>Q2 - Q1</th>\n",
       "      <th>Q3 - Q2</th>\n",
       "    </tr>\n",
       "  </thead>\n",
       "  <tbody>\n",
       "    <tr>\n",
       "      <th>spending</th>\n",
       "      <td>210.00</td>\n",
       "      <td>14.85</td>\n",
       "      <td>2.91</td>\n",
       "      <td>10.59</td>\n",
       "      <td>12.27</td>\n",
       "      <td>14.36</td>\n",
       "      <td>17.30</td>\n",
       "      <td>21.18</td>\n",
       "      <td>0.20</td>\n",
       "      <td>1.68</td>\n",
       "      <td>3.88</td>\n",
       "      <td>3.77</td>\n",
       "      <td>6.82</td>\n",
       "      <td>2.09</td>\n",
       "      <td>2.95</td>\n",
       "    </tr>\n",
       "    <tr>\n",
       "      <th>advance_payments</th>\n",
       "      <td>210.00</td>\n",
       "      <td>14.56</td>\n",
       "      <td>1.31</td>\n",
       "      <td>12.41</td>\n",
       "      <td>13.45</td>\n",
       "      <td>14.32</td>\n",
       "      <td>15.71</td>\n",
       "      <td>17.25</td>\n",
       "      <td>0.09</td>\n",
       "      <td>1.04</td>\n",
       "      <td>1.54</td>\n",
       "      <td>1.91</td>\n",
       "      <td>2.93</td>\n",
       "      <td>0.87</td>\n",
       "      <td>1.39</td>\n",
       "    </tr>\n",
       "    <tr>\n",
       "      <th>probability_of_full_payment</th>\n",
       "      <td>210.00</td>\n",
       "      <td>0.87</td>\n",
       "      <td>0.02</td>\n",
       "      <td>0.81</td>\n",
       "      <td>0.86</td>\n",
       "      <td>0.87</td>\n",
       "      <td>0.89</td>\n",
       "      <td>0.92</td>\n",
       "      <td>0.03</td>\n",
       "      <td>0.05</td>\n",
       "      <td>0.03</td>\n",
       "      <td>0.07</td>\n",
       "      <td>0.04</td>\n",
       "      <td>0.02</td>\n",
       "      <td>0.01</td>\n",
       "    </tr>\n",
       "    <tr>\n",
       "      <th>current_balance</th>\n",
       "      <td>210.00</td>\n",
       "      <td>5.63</td>\n",
       "      <td>0.44</td>\n",
       "      <td>4.90</td>\n",
       "      <td>5.26</td>\n",
       "      <td>5.52</td>\n",
       "      <td>5.98</td>\n",
       "      <td>6.67</td>\n",
       "      <td>0.08</td>\n",
       "      <td>0.36</td>\n",
       "      <td>0.70</td>\n",
       "      <td>0.62</td>\n",
       "      <td>1.15</td>\n",
       "      <td>0.26</td>\n",
       "      <td>0.46</td>\n",
       "    </tr>\n",
       "    <tr>\n",
       "      <th>credit_limit</th>\n",
       "      <td>210.00</td>\n",
       "      <td>3.26</td>\n",
       "      <td>0.38</td>\n",
       "      <td>2.63</td>\n",
       "      <td>2.94</td>\n",
       "      <td>3.24</td>\n",
       "      <td>3.56</td>\n",
       "      <td>4.03</td>\n",
       "      <td>0.12</td>\n",
       "      <td>0.31</td>\n",
       "      <td>0.47</td>\n",
       "      <td>0.61</td>\n",
       "      <td>0.80</td>\n",
       "      <td>0.29</td>\n",
       "      <td>0.32</td>\n",
       "    </tr>\n",
       "    <tr>\n",
       "      <th>min_payment_amt</th>\n",
       "      <td>210.00</td>\n",
       "      <td>3.70</td>\n",
       "      <td>1.50</td>\n",
       "      <td>0.77</td>\n",
       "      <td>2.56</td>\n",
       "      <td>3.60</td>\n",
       "      <td>4.77</td>\n",
       "      <td>8.46</td>\n",
       "      <td>0.41</td>\n",
       "      <td>1.80</td>\n",
       "      <td>3.69</td>\n",
       "      <td>2.83</td>\n",
       "      <td>4.86</td>\n",
       "      <td>1.04</td>\n",
       "      <td>1.17</td>\n",
       "    </tr>\n",
       "    <tr>\n",
       "      <th>max_spent_in_single_shopping</th>\n",
       "      <td>210.00</td>\n",
       "      <td>5.41</td>\n",
       "      <td>0.49</td>\n",
       "      <td>4.52</td>\n",
       "      <td>5.04</td>\n",
       "      <td>5.22</td>\n",
       "      <td>5.88</td>\n",
       "      <td>6.55</td>\n",
       "      <td>0.09</td>\n",
       "      <td>0.53</td>\n",
       "      <td>0.67</td>\n",
       "      <td>0.70</td>\n",
       "      <td>1.33</td>\n",
       "      <td>0.18</td>\n",
       "      <td>0.65</td>\n",
       "    </tr>\n",
       "  </tbody>\n",
       "</table>\n",
       "</div>"
      ],
      "text/plain": [
       "                              count  mean  std   min   25%   50%   75%   max  \\\n",
       "spending                     210.00 14.85 2.91 10.59 12.27 14.36 17.30 21.18   \n",
       "advance_payments             210.00 14.56 1.31 12.41 13.45 14.32 15.71 17.25   \n",
       "probability_of_full_payment  210.00  0.87 0.02  0.81  0.86  0.87  0.89  0.92   \n",
       "current_balance              210.00  5.63 0.44  4.90  5.26  5.52  5.98  6.67   \n",
       "credit_limit                 210.00  3.26 0.38  2.63  2.94  3.24  3.56  4.03   \n",
       "min_payment_amt              210.00  3.70 1.50  0.77  2.56  3.60  4.77  8.46   \n",
       "max_spent_in_single_shopping 210.00  5.41 0.49  4.52  5.04  5.22  5.88  6.55   \n",
       "\n",
       "                               CV  Q1 - Min  Max - 75%  Q2 - Min  Max - 50%  \\\n",
       "spending                     0.20      1.68       3.88      3.77       6.82   \n",
       "advance_payments             0.09      1.04       1.54      1.91       2.93   \n",
       "probability_of_full_payment  0.03      0.05       0.03      0.07       0.04   \n",
       "current_balance              0.08      0.36       0.70      0.62       1.15   \n",
       "credit_limit                 0.12      0.31       0.47      0.61       0.80   \n",
       "min_payment_amt              0.41      1.80       3.69      2.83       4.86   \n",
       "max_spent_in_single_shopping 0.09      0.53       0.67      0.70       1.33   \n",
       "\n",
       "                              Q2 - Q1  Q3 - Q2  \n",
       "spending                         2.09     2.95  \n",
       "advance_payments                 0.87     1.39  \n",
       "probability_of_full_payment      0.02     0.01  \n",
       "current_balance                  0.26     0.46  \n",
       "credit_limit                     0.29     0.32  \n",
       "min_payment_amt                  1.04     1.17  \n",
       "max_spent_in_single_shopping     0.18     0.65  "
      ]
     },
     "execution_count": 9,
     "metadata": {},
     "output_type": "execute_result"
    }
   ],
   "source": [
    "Bank_univariant=Bank.describe().T\n",
    "Bank_univariant_detailed=Bank_univariant\n",
    "Bank_univariant_detailed['CV']=Bank_univariant_detailed['std']/Bank_univariant_detailed['mean']\n",
    "Bank_univariant_detailed['Q1 - Min']= Bank_univariant_detailed['25%'] -Bank_univariant_detailed['min']\n",
    "Bank_univariant_detailed['Max - 75%']= Bank_univariant_detailed['max'] -Bank_univariant_detailed['75%']\n",
    "Bank_univariant_detailed['Q2 - Min']= Bank_univariant_detailed['50%'] -Bank_univariant_detailed['min']\n",
    "Bank_univariant_detailed['Max - 50%']= Bank_univariant_detailed['max'] -Bank_univariant_detailed['50%']\n",
    "Bank_univariant_detailed['Q2 - Q1']= Bank_univariant_detailed['50%'] -Bank_univariant_detailed['25%']\n",
    "Bank_univariant_detailed['Q3 - Q2']= Bank_univariant_detailed['75%'] -Bank_univariant_detailed['50%']\n",
    "Bank_univariant_detailed"
   ]
  },
  {
   "cell_type": "markdown",
   "metadata": {},
   "source": [
    "## Bank['spending']   5 Number Analysis"
   ]
  },
  {
   "cell_type": "code",
   "execution_count": 10,
   "metadata": {
    "scrolled": true
   },
   "outputs": [
    {
     "data": {
      "text/plain": [
       "count       210.00\n",
       "mean         14.85\n",
       "std           2.91\n",
       "min          10.59\n",
       "25%          12.27\n",
       "50%          14.36\n",
       "75%          17.30\n",
       "max          21.18\n",
       "CV            0.20\n",
       "Q1 - Min      1.68\n",
       "Max - 75%     3.88\n",
       "Q2 - Min      3.77\n",
       "Max - 50%     6.82\n",
       "Q2 - Q1       2.09\n",
       "Q3 - Q2       2.95\n",
       "Name: spending, dtype: float64"
      ]
     },
     "execution_count": 10,
     "metadata": {},
     "output_type": "execute_result"
    }
   ],
   "source": [
    "Bank_univariant_detailed.loc['spending']"
   ]
  },
  {
   "cell_type": "markdown",
   "metadata": {},
   "source": [
    "### Bank['spending']  review of 5 number Summary Suggests that -\n",
    "\n",
    "  ##### Disribution is  Right skewed  -\n",
    "        (Q1 - Min) which is 1.68  <  Max - Q3 which is 3.88\n",
    "  ##### Following points  support the symmetry -\n",
    "        (Q2 - Min ) which is 3.77 <  (Max - Q2) which is 6.82\n",
    "        (Q2 - Q1 ) which is 2.09 < (Q3 - Q2 ) which is 2.95\n",
    "        \n"
   ]
  },
  {
   "cell_type": "markdown",
   "metadata": {},
   "source": [
    "   ##### Let's review the Histogram as second level of verification to Confirm the Skewness -   "
   ]
  },
  {
   "cell_type": "code",
   "execution_count": 11,
   "metadata": {},
   "outputs": [
    {
     "data": {
      "text/plain": [
       "<AxesSubplot:xlabel='spending', ylabel='Density'>"
      ]
     },
     "execution_count": 11,
     "metadata": {},
     "output_type": "execute_result"
    },
    {
     "data": {
      "image/png": "[encoded data removed]",
      "text/plain": [
       "<Figure size 432x288 with 1 Axes>"
      ]
     },
     "metadata": {
      "needs_background": "light"
     },
     "output_type": "display_data"
    }
   ],
   "source": [
    "sns.distplot(Bank['spending'])"
   ]
  },
  {
   "cell_type": "markdown",
   "metadata": {},
   "source": [
    "## Histogram Review for Bank['spending'] Shows -\n",
    "#### 1) 2 Peaks\n",
    "#### 2) Right Skewness\n",
    "#### 3) It doesnt Show a perfect 'Bell Curve'"
   ]
  },
  {
   "cell_type": "markdown",
   "metadata": {},
   "source": [
    "   ##### Let's review the BoxPlot to Confirm the Skewness  and to check if there are any outliers-   "
   ]
  },
  {
   "cell_type": "code",
   "execution_count": 12,
   "metadata": {},
   "outputs": [
    {
     "data": {
      "image/png": "[encoded data removed]",
      "text/plain": [
       "<Figure size 432x288 with 1 Axes>"
      ]
     },
     "metadata": {
      "needs_background": "light"
     },
     "output_type": "display_data"
    }
   ],
   "source": [
    "sns.boxplot(x=Bank['spending']) \n",
    "plt.grid()"
   ]
  },
  {
   "cell_type": "markdown",
   "metadata": {},
   "source": [
    "### Bank['spending'] review of Boxplot Suggests that -\n",
    "\n",
    "#### 1) There are No outliers\n",
    "#### 2) Distribution is RightSkewed due to longer Right Whisker"
   ]
  },
  {
   "cell_type": "markdown",
   "metadata": {},
   "source": [
    "## Bank['spending'] Empirical Rule"
   ]
  },
  {
   "cell_type": "code",
   "execution_count": 13,
   "metadata": {
    "scrolled": true
   },
   "outputs": [
    {
     "name": "stdout",
     "output_type": "stream",
     "text": [
      "Number of Mean + 1 Sigma occurances should be  71.4 where as they are  46\n",
      "Number of Mean - 1 Sigma occurances should be  71.4 where as they are  77\n",
      "Number of Mean + 2 Sigma occurances should be  99.75 where as they are  90\n",
      "Number of Mean - 2 Sigma occurances should be  99.75 where as they are  116\n",
      "Number of Mean + 3 Sigma occurances should be  104.685 where as they are  94\n",
      "Number of Mean - 3 Sigma occurances should be  104.685 where as they are  116\n"
     ]
    }
   ],
   "source": [
    "x_1std= Bank['spending'].mean() + (1 * Bank['spending'].std())\n",
    "y_1std= Bank['spending'].mean() - (1 * Bank['spending'].std())\n",
    "x_2std= Bank['spending'].mean() + (2 * Bank['spending'].std())\n",
    "y_2std= Bank['spending'].mean() - (2 * Bank['spending'].std())\n",
    "x_3std= Bank['spending'].mean() + (3 * Bank['spending'].std())\n",
    "y_3std= Bank['spending'].mean() - (3 * Bank['spending'].std())\n",
    "\n",
    "Sample_size=len(Bank['spending'])\n",
    "\n",
    "is_between11 = Bank['spending'].between(Bank['spending'].mean(),x_1std, inclusive=False )\n",
    "Level11=len(Bank[is_between11])\n",
    "is_between12 = Bank['spending'].between(y_1std,Bank['spending'].mean(), inclusive=False )\n",
    "Level12=len(Bank[is_between12]) \n",
    "\n",
    "is_between21 = Bank['spending'].between(Bank['spending'].mean(),x_2std, inclusive=False )\n",
    "Level21=len(Bank[is_between21])\n",
    "is_between22 = Bank['spending'].between(y_2std,Bank['spending'].mean(), inclusive=False )\n",
    "Level22=len(Bank[is_between22])\n",
    "\n",
    "is_between31 = Bank['spending'].between(Bank['spending'].mean(),x_3std, inclusive=False )\n",
    "Level31=len(Bank[is_between31])\n",
    "is_between32 = Bank['spending'].between(y_3std,Bank['spending'].mean(), inclusive=False )\n",
    "Level32=len(Bank[is_between32])\n",
    "\n",
    "print('Number of Mean + 1 Sigma occurances should be ', round((Sample_size * .68/2),3) , 'where as they are ',  Level11)\n",
    "print('Number of Mean - 1 Sigma occurances should be ', round((Sample_size * .68/2),3) , 'where as they are ',  Level12)\n",
    "print('Number of Mean + 2 Sigma occurances should be ', round((Sample_size * .95/2),3) , 'where as they are ',  Level21)\n",
    "print('Number of Mean - 2 Sigma occurances should be ', round((Sample_size * .95/2),3) , 'where as they are ',  Level22)\n",
    "print('Number of Mean + 3 Sigma occurances should be ', round((Sample_size * .997/2),3) , 'where as they are ',  Level31)\n",
    "print('Number of Mean - 3 Sigma occurances should be ', round((Sample_size * .997/2),3) , 'where as they are ',  Level32)"
   ]
  },
  {
   "cell_type": "markdown",
   "metadata": {},
   "source": [
    "### Bank['spending'] review of Empirical Rule suggest that -\n",
    "\n",
    "#### 1) '1 standard deviation' from Mean is assymetrical (Right Skewed)\n",
    "#### 1) '2 standard deviation' from Mean is assymetrical (Right Skewed)\n",
    "#### 1) '3 standard deviation' from Mean is assymetrical (Right Skewed)"
   ]
  },
  {
   "cell_type": "markdown",
   "metadata": {},
   "source": [
    "##  Bank['spending'] mean,median and mode"
   ]
  },
  {
   "cell_type": "code",
   "execution_count": 14,
   "metadata": {},
   "outputs": [
    {
     "name": "stdout",
     "output_type": "stream",
     "text": [
      "Mean = 14.847523809523807 Median = 14.355 Mode = 13.573333333333332\n"
     ]
    }
   ],
   "source": [
    "a=Bank['spending'].mean()\n",
    "b=Bank['spending'].median()\n",
    "c=Bank['spending'].mode().mean()\n",
    "print('Mean =', a,'Median =',b,'Mode =',c)"
   ]
  },
  {
   "cell_type": "markdown",
   "metadata": {},
   "source": [
    "### Bank['spending'] review of Mean, Median and Mode suggests that -\n",
    "\n",
    "#### In this case Mean > Median > Mode hence the distribution is Right Skewed"
   ]
  },
  {
   "cell_type": "markdown",
   "metadata": {},
   "source": [
    "#### Insights:\n",
    "\n",
    "Amount spent by the customer per month (in 1000s) range from 10.59K to 21.18K\n",
    "\n",
    "75% of the customer spend less than 17.30K .\n",
    "\n",
    "From above figure, we can say that the Amount spent by the customer per month is right skewed\n",
    "\n",
    "Average spend by customer is  14.856K which is mirginally higher than the median value 14.36K indicating that the ditribution is right tailed. \n",
    "\n",
    "There are no outliers Outliers  which shows data consistency."
   ]
  },
  {
   "cell_type": "markdown",
   "metadata": {},
   "source": [
    "## Bank['advance_payments']   5 Number Analysis"
   ]
  },
  {
   "cell_type": "code",
   "execution_count": 15,
   "metadata": {
    "scrolled": true
   },
   "outputs": [
    {
     "data": {
      "text/plain": [
       "count       210.00\n",
       "mean         14.56\n",
       "std           1.31\n",
       "min          12.41\n",
       "25%          13.45\n",
       "50%          14.32\n",
       "75%          15.71\n",
       "max          17.25\n",
       "CV            0.09\n",
       "Q1 - Min      1.04\n",
       "Max - 75%     1.54\n",
       "Q2 - Min      1.91\n",
       "Max - 50%     2.93\n",
       "Q2 - Q1       0.87\n",
       "Q3 - Q2       1.39\n",
       "Name: advance_payments, dtype: float64"
      ]
     },
     "execution_count": 15,
     "metadata": {},
     "output_type": "execute_result"
    }
   ],
   "source": [
    "Bank_univariant_detailed.loc['advance_payments']"
   ]
  },
  {
   "cell_type": "markdown",
   "metadata": {},
   "source": [
    "### Bank['advance_payments']  review of 5 number Summary Suggests that -\n",
    "\n",
    "  ##### Disribution is  Right skewed  -\n",
    "        (Q1 - Min) which is 1.04  <  Max - Q3 which is 1.54\n",
    "  ##### Following points  support the symmetry -\n",
    "        (Q2 - Min ) which is 1.91 <  (Max - Q2) which is 2.93\n",
    "        (Q2 - Q1 ) which is 0.87 < (Q3 - Q2 ) which is 1.39\n",
    "        \n"
   ]
  },
  {
   "cell_type": "markdown",
   "metadata": {},
   "source": [
    "   ##### Let's review the Histogram as second level of verification to Confirm the Skewness -   "
   ]
  },
  {
   "cell_type": "code",
   "execution_count": 16,
   "metadata": {},
   "outputs": [
    {
     "data": {
      "text/plain": [
       "<AxesSubplot:xlabel='advance_payments', ylabel='Density'>"
      ]
     },
     "execution_count": 16,
     "metadata": {},
     "output_type": "execute_result"
    },
    {
     "data": {
      "image/png": "[encoded data removed]",
      "text/plain": [
       "<Figure size 432x288 with 1 Axes>"
      ]
     },
     "metadata": {
      "needs_background": "light"
     },
     "output_type": "display_data"
    }
   ],
   "source": [
    "sns.distplot(Bank['advance_payments'])"
   ]
  },
  {
   "cell_type": "markdown",
   "metadata": {},
   "source": [
    "## Histogram Review for Bank['advance_payments'] Shows -\n",
    "#### 1) 2 Peaks\n",
    "#### 2) Right Skewness\n",
    "#### 3) It doesnt Show a perfect 'Bell Curve'"
   ]
  },
  {
   "cell_type": "markdown",
   "metadata": {},
   "source": [
    "   ##### Let's review the BoxPlot to Confirm the Skewness  and to check if there are any outliers-   "
   ]
  },
  {
   "cell_type": "code",
   "execution_count": 17,
   "metadata": {},
   "outputs": [
    {
     "data": {
      "image/png": "[encoded data removed]",
      "text/plain": [
       "<Figure size 432x288 with 1 Axes>"
      ]
     },
     "metadata": {
      "needs_background": "light"
     },
     "output_type": "display_data"
    }
   ],
   "source": [
    "sns.boxplot(x=Bank['advance_payments']) \n",
    "plt.grid()"
   ]
  },
  {
   "cell_type": "markdown",
   "metadata": {},
   "source": [
    "### Bank['advance_payments'] review of Boxplot Suggests that -\n",
    "\n",
    "#### 1) There are No outliers\n",
    "#### 2) Distribution is RightSkewed due to longer Right Whisker"
   ]
  },
  {
   "cell_type": "markdown",
   "metadata": {},
   "source": [
    "## Bank['advance_payments'] Empirical Rule"
   ]
  },
  {
   "cell_type": "code",
   "execution_count": 18,
   "metadata": {
    "scrolled": true
   },
   "outputs": [
    {
     "name": "stdout",
     "output_type": "stream",
     "text": [
      "Number of Mean + 1 Sigma occurances should be  71.4 where as they are  46\n",
      "Number of Mean - 1 Sigma occurances should be  71.4 where as they are  77\n",
      "Number of Mean + 2 Sigma occurances should be  99.75 where as they are  91\n",
      "Number of Mean - 2 Sigma occurances should be  99.75 where as they are  116\n",
      "Number of Mean + 3 Sigma occurances should be  104.685 where as they are  94\n",
      "Number of Mean - 3 Sigma occurances should be  104.685 where as they are  116\n"
     ]
    }
   ],
   "source": [
    "x_1std= Bank['advance_payments'].mean() + (1 * Bank['advance_payments'].std())\n",
    "y_1std= Bank['advance_payments'].mean() - (1 * Bank['advance_payments'].std())\n",
    "x_2std= Bank['advance_payments'].mean() + (2 * Bank['advance_payments'].std())\n",
    "y_2std= Bank['advance_payments'].mean() - (2 * Bank['advance_payments'].std())\n",
    "x_3std= Bank['advance_payments'].mean() + (3 * Bank['advance_payments'].std())\n",
    "y_3std= Bank['advance_payments'].mean() - (3 * Bank['advance_payments'].std())\n",
    "\n",
    "Sample_size=len(Bank['advance_payments'])\n",
    "is_between11 = Bank['advance_payments'].between(Bank['advance_payments'].mean(),x_1std, inclusive=False )\n",
    "Level11=len(Bank[is_between11])\n",
    "is_between12 = Bank['advance_payments'].between(y_1std,Bank['advance_payments'].mean(), inclusive=False )\n",
    "Level12=len(Bank[is_between12]) \n",
    "is_between21 = Bank['advance_payments'].between(Bank['advance_payments'].mean(),x_2std, inclusive=False )\n",
    "Level21=len(Bank[is_between21])\n",
    "is_between22 = Bank['advance_payments'].between(y_2std,Bank['advance_payments'].mean(), inclusive=False )\n",
    "Level22=len(Bank[is_between22])\n",
    "is_between31 = Bank['advance_payments'].between(Bank['advance_payments'].mean(),x_3std, inclusive=False )\n",
    "Level31=len(Bank[is_between31])\n",
    "is_between32 = Bank['advance_payments'].between(y_3std,Bank['advance_payments'].mean(), inclusive=False )\n",
    "Level32=len(Bank[is_between32])\n",
    "print('Number of Mean + 1 Sigma occurances should be ', round((Sample_size * .68/2),3) , 'where as they are ',  Level11)\n",
    "print('Number of Mean - 1 Sigma occurances should be ', round((Sample_size * .68/2),3) , 'where as they are ',  Level12)\n",
    "print('Number of Mean + 2 Sigma occurances should be ', round((Sample_size * .95/2),3) , 'where as they are ',  Level21)\n",
    "print('Number of Mean - 2 Sigma occurances should be ', round((Sample_size * .95/2),3) , 'where as they are ',  Level22)\n",
    "print('Number of Mean + 3 Sigma occurances should be ', round((Sample_size * .997/2),3) , 'where as they are ',  Level31)\n",
    "print('Number of Mean - 3 Sigma occurances should be ', round((Sample_size * .997/2),3) , 'where as they are ',  Level32)"
   ]
  },
  {
   "cell_type": "markdown",
   "metadata": {},
   "source": [
    "### Bank['advance_payments'] review of Empirical Rule suggest that -\n",
    "\n",
    "#### 1) '1 standard deviation' from Mean is assymetrical (Right Skewed)\n",
    "#### 1) '2 standard deviation' from Mean is assymetrical (Right Skewed)\n",
    "#### 1) '3 standard deviation' from Mean is assymetrical (Right Skewed)"
   ]
  },
  {
   "cell_type": "markdown",
   "metadata": {},
   "source": [
    "##  Bank['advance_payments'] mean,median and mode"
   ]
  },
  {
   "cell_type": "code",
   "execution_count": 19,
   "metadata": {},
   "outputs": [
    {
     "name": "stdout",
     "output_type": "stream",
     "text": [
      "Mean = 14.559285714285714 Median = 14.32 Mode = 13.47\n"
     ]
    }
   ],
   "source": [
    "a=Bank['advance_payments'].mean()\n",
    "b=Bank['advance_payments'].median()\n",
    "c=Bank['advance_payments'].mode().mean()\n",
    "print('Mean =', a,'Median =',b,'Mode =',c)"
   ]
  },
  {
   "cell_type": "markdown",
   "metadata": {},
   "source": [
    "### Bank['advance_payments'] review of Mean, Median and Mode suggests that -\n",
    "\n",
    "#### In this case Mean > Median > Mode hence the distribution is Right Skewed"
   ]
  },
  {
   "cell_type": "markdown",
   "metadata": {},
   "source": [
    "#### Insights:\n",
    "\n",
    "Amount paid by the customer in advance by cash range from 1.241K to 1.725K\n",
    "\n",
    "75% of the customer's advance payment is less than 1.571K .\n",
    "\n",
    "From above figure, we can say that the Amount spent by the customer per month is right skewed\n",
    "\n",
    "Average spend by customer is  1.456K which is mirginally higher than the median value 1.432K indicating that the ditribution is right tailed. \n",
    "\n",
    "There are no outliers Outliers  which shows data consistency."
   ]
  },
  {
   "cell_type": "markdown",
   "metadata": {},
   "source": [
    "## Bank['probability_of_full_payment']   5 Number Analysis"
   ]
  },
  {
   "cell_type": "code",
   "execution_count": 20,
   "metadata": {
    "scrolled": false
   },
   "outputs": [
    {
     "data": {
      "text/plain": [
       "count       210.00\n",
       "mean          0.87\n",
       "std           0.02\n",
       "min           0.81\n",
       "25%           0.86\n",
       "50%           0.87\n",
       "75%           0.89\n",
       "max           0.92\n",
       "CV            0.03\n",
       "Q1 - Min      0.05\n",
       "Max - 75%     0.03\n",
       "Q2 - Min      0.07\n",
       "Max - 50%     0.04\n",
       "Q2 - Q1       0.02\n",
       "Q3 - Q2       0.01\n",
       "Name: probability_of_full_payment, dtype: float64"
      ]
     },
     "execution_count": 20,
     "metadata": {},
     "output_type": "execute_result"
    }
   ],
   "source": [
    "Bank_univariant_detailed.loc['probability_of_full_payment']"
   ]
  },
  {
   "cell_type": "markdown",
   "metadata": {},
   "source": [
    "### Bank['probability_of_full_payment']  review of 5 number Summary Suggests that -\n",
    "\n",
    "  ##### Disribution is  Left skewed  -\n",
    "        (Q1 - Min) which is 0.05 >  Max - Q3 which is 0.03\n",
    "  ##### Following points  support the symmetry -\n",
    "        (Q2 - Min ) which is 0.07 >  (Max - Q2) which is 0.04\n",
    "        (Q2 - Q1 ) which is 0.02 > (Q3 - Q2 ) which is 0.01\n",
    "        \n"
   ]
  },
  {
   "cell_type": "markdown",
   "metadata": {},
   "source": [
    "   ##### Let's review the Histogram as second level of verification to Confirm the Skewness -   "
   ]
  },
  {
   "cell_type": "code",
   "execution_count": 21,
   "metadata": {},
   "outputs": [
    {
     "data": {
      "text/plain": [
       "<AxesSubplot:xlabel='probability_of_full_payment', ylabel='Density'>"
      ]
     },
     "execution_count": 21,
     "metadata": {},
     "output_type": "execute_result"
    },
    {
     "data": {
      "image/png": "[encoded data removed]",
      "text/plain": [
       "<Figure size 432x288 with 1 Axes>"
      ]
     },
     "metadata": {
      "needs_background": "light"
     },
     "output_type": "display_data"
    }
   ],
   "source": [
    "sns.distplot(Bank['probability_of_full_payment'])"
   ]
  },
  {
   "cell_type": "markdown",
   "metadata": {},
   "source": [
    "# Histogram Review for Bank['probability_of_full_payment'] Shows -\n",
    "#### 1) 1 Peaks\n",
    "#### 2) Left Skewness\n",
    "#### 3) It doesnt Show a perfect 'Bell Curve'"
   ]
  },
  {
   "cell_type": "markdown",
   "metadata": {},
   "source": [
    "   ##### Let's review the BoxPlot to Confirm the Skewness  and to check if there are any outliers-   "
   ]
  },
  {
   "cell_type": "code",
   "execution_count": 22,
   "metadata": {},
   "outputs": [
    {
     "data": {
      "image/png": "[encoded data removed]",
      "text/plain": [
       "<Figure size 432x288 with 1 Axes>"
      ]
     },
     "metadata": {
      "needs_background": "light"
     },
     "output_type": "display_data"
    }
   ],
   "source": [
    "sns.boxplot(x=Bank['probability_of_full_payment']) \n",
    "plt.grid()"
   ]
  },
  {
   "cell_type": "markdown",
   "metadata": {},
   "source": [
    "### Bank['probability_of_full_payment'] review of Boxplot Suggests that -\n",
    "\n",
    "#### 1) There are  couple of outliers\n",
    "#### 2) Distribution is LeftSkewed due to longer Left Whisker"
   ]
  },
  {
   "cell_type": "markdown",
   "metadata": {},
   "source": [
    "## Bank['probability_of_full_payment'] Empirical Rule"
   ]
  },
  {
   "cell_type": "code",
   "execution_count": 23,
   "metadata": {
    "scrolled": true
   },
   "outputs": [
    {
     "name": "stdout",
     "output_type": "stream",
     "text": [
      "Number of Mean + 1 Sigma occurances should be  71.4 where as they are  80\n",
      "Number of Mean - 1 Sigma occurances should be  71.4 where as they are  59\n",
      "Number of Mean + 2 Sigma occurances should be  99.75 where as they are  115\n",
      "Number of Mean - 2 Sigma occurances should be  99.75 where as they are  86\n",
      "Number of Mean + 3 Sigma occurances should be  104.685 where as they are  116\n",
      "Number of Mean - 3 Sigma occurances should be  104.685 where as they are  94\n"
     ]
    }
   ],
   "source": [
    "x_1std= Bank['probability_of_full_payment'].mean() + (1 * Bank['probability_of_full_payment'].std())\n",
    "y_1std= Bank['probability_of_full_payment'].mean() - (1 * Bank['probability_of_full_payment'].std())\n",
    "x_2std= Bank['probability_of_full_payment'].mean() + (2 * Bank['probability_of_full_payment'].std())\n",
    "y_2std= Bank['probability_of_full_payment'].mean() - (2 * Bank['probability_of_full_payment'].std())\n",
    "x_3std= Bank['probability_of_full_payment'].mean() + (3 * Bank['probability_of_full_payment'].std())\n",
    "y_3std= Bank['probability_of_full_payment'].mean() - (3 * Bank['probability_of_full_payment'].std())\n",
    "\n",
    "Sample_size=len(Bank['probability_of_full_payment'])\n",
    "is_between11 = Bank['probability_of_full_payment'].between(Bank['probability_of_full_payment'].mean(),x_1std, inclusive=False )\n",
    "Level11=len(Bank[is_between11])\n",
    "is_between12 = Bank['probability_of_full_payment'].between(y_1std,Bank['probability_of_full_payment'].mean(), inclusive=False )\n",
    "Level12=len(Bank[is_between12]) \n",
    "is_between21 = Bank['probability_of_full_payment'].between(Bank['probability_of_full_payment'].mean(),x_2std, inclusive=False )\n",
    "Level21=len(Bank[is_between21])\n",
    "is_between22 = Bank['probability_of_full_payment'].between(y_2std,Bank['probability_of_full_payment'].mean(), inclusive=False )\n",
    "Level22=len(Bank[is_between22])\n",
    "is_between31 = Bank['probability_of_full_payment'].between(Bank['probability_of_full_payment'].mean(),x_3std, inclusive=False )\n",
    "Level31=len(Bank[is_between31])\n",
    "is_between32 = Bank['probability_of_full_payment'].between(y_3std,Bank['probability_of_full_payment'].mean(), inclusive=False )\n",
    "Level32=len(Bank[is_between32])\n",
    "print('Number of Mean + 1 Sigma occurances should be ', round((Sample_size * .68/2),3) , 'where as they are ',  Level11)\n",
    "print('Number of Mean - 1 Sigma occurances should be ', round((Sample_size * .68/2),3) , 'where as they are ',  Level12)\n",
    "print('Number of Mean + 2 Sigma occurances should be ', round((Sample_size * .95/2),3) , 'where as they are ',  Level21)\n",
    "print('Number of Mean - 2 Sigma occurances should be ', round((Sample_size * .95/2),3) , 'where as they are ',  Level22)\n",
    "print('Number of Mean + 3 Sigma occurances should be ', round((Sample_size * .997/2),3) , 'where as they are ',  Level31)\n",
    "print('Number of Mean - 3 Sigma occurances should be ', round((Sample_size * .997/2),3) , 'where as they are ',  Level32)"
   ]
  },
  {
   "cell_type": "markdown",
   "metadata": {},
   "source": [
    "### Bank['probability_of_full_payment'] review of Empirical Rule suggest that -\n",
    "\n",
    "#### 1) '1 standard deviation' from Mean is assymetrical (Left Skewed)\n",
    "#### 1) '2 standard deviation' from Mean is assymetrical (Left Skewed)\n",
    "#### 1) '3 standard deviation' from Mean is assymetrical (Left Skewed)"
   ]
  },
  {
   "cell_type": "markdown",
   "metadata": {},
   "source": [
    "##  Bank['probability_of_full_payment'] mean,median and mode"
   ]
  },
  {
   "cell_type": "code",
   "execution_count": 24,
   "metadata": {},
   "outputs": [
    {
     "name": "stdout",
     "output_type": "stream",
     "text": [
      "Mean = 0.8709985714285714 Median = 0.8734500000000001 Mode = 0.8823\n"
     ]
    }
   ],
   "source": [
    "a=Bank['probability_of_full_payment'].mean()\n",
    "b=Bank['probability_of_full_payment'].median()\n",
    "c=Bank['probability_of_full_payment'].mode().mean()\n",
    "print('Mean =', a,'Median =',b,'Mode =',c)"
   ]
  },
  {
   "cell_type": "markdown",
   "metadata": {},
   "source": [
    "### Bank['probability_of_full_payment'] review of Mean, Median and Mode suggests that -\n",
    "\n",
    "#### In this case Mean< Median < Mode hence the distribution is Left Skewed"
   ]
  },
  {
   "cell_type": "markdown",
   "metadata": {},
   "source": [
    "#### Insights:\n",
    "\n",
    "Probability of payment done in full by the customer to the bank\n",
    "range from 0.81 to 0.92\n",
    "\n",
    "Probability that 75% of the customers will pay in full is less than  0.89 .\n",
    "\n",
    "From above figure, we can say that the Amount spent by the customer per month is Letf skewed\n",
    "\n",
    "Average probability as well as median value of probability that customer will pay in full is same and is 0.87\n",
    "\n",
    "There are couple of Outliers  towards lower probability of full payment"
   ]
  },
  {
   "cell_type": "markdown",
   "metadata": {},
   "source": [
    "## Bank['current_balance']   5 Number Analysis"
   ]
  },
  {
   "cell_type": "code",
   "execution_count": 25,
   "metadata": {
    "scrolled": false
   },
   "outputs": [
    {
     "data": {
      "text/plain": [
       "count       210.00\n",
       "mean          5.63\n",
       "std           0.44\n",
       "min           4.90\n",
       "25%           5.26\n",
       "50%           5.52\n",
       "75%           5.98\n",
       "max           6.67\n",
       "CV            0.08\n",
       "Q1 - Min      0.36\n",
       "Max - 75%     0.70\n",
       "Q2 - Min      0.62\n",
       "Max - 50%     1.15\n",
       "Q2 - Q1       0.26\n",
       "Q3 - Q2       0.46\n",
       "Name: current_balance, dtype: float64"
      ]
     },
     "execution_count": 25,
     "metadata": {},
     "output_type": "execute_result"
    }
   ],
   "source": [
    "Bank_univariant_detailed.loc['current_balance']"
   ]
  },
  {
   "cell_type": "markdown",
   "metadata": {},
   "source": [
    "### Bank['current_balance']  review of 5 number Summary Suggests that -\n",
    "\n",
    "  ##### Disribution is  Right skewed  -\n",
    "        (Q1 - Min) which is 0.36 <  Max - Q3 which is 0.70\n",
    "  ##### Following points  support the symmetry -\n",
    "        (Q2 - Min ) which is 0.62 <  (Max - Q2) which is 1.15\n",
    "        (Q2 - Q1 ) which is 0.26 < (Q3 - Q2 ) which is 0.46\n",
    "        \n"
   ]
  },
  {
   "cell_type": "markdown",
   "metadata": {},
   "source": [
    "   ##### Let's review the Histogram as second level of verification to Confirm the Skewness -   "
   ]
  },
  {
   "cell_type": "code",
   "execution_count": 26,
   "metadata": {},
   "outputs": [
    {
     "data": {
      "text/plain": [
       "<AxesSubplot:xlabel='current_balance', ylabel='Density'>"
      ]
     },
     "execution_count": 26,
     "metadata": {},
     "output_type": "execute_result"
    },
    {
     "data": {
      "image/png": "[encoded data removed]",
      "text/plain": [
       "<Figure size 432x288 with 1 Axes>"
      ]
     },
     "metadata": {
      "needs_background": "light"
     },
     "output_type": "display_data"
    }
   ],
   "source": [
    "sns.distplot(Bank['current_balance'])"
   ]
  },
  {
   "cell_type": "markdown",
   "metadata": {},
   "source": [
    "## Histogram Review for Bank['current_balance'] Shows -\n",
    "#### 1) 2 Peaks\n",
    "#### 2) Right Skewness\n",
    "#### 3) It doesnt Show a perfect 'Bell Curve'"
   ]
  },
  {
   "cell_type": "markdown",
   "metadata": {},
   "source": [
    "   ##### Let's review the BoxPlot to Confirm the Skewness  and to check if there are any outliers-   "
   ]
  },
  {
   "cell_type": "code",
   "execution_count": 27,
   "metadata": {},
   "outputs": [
    {
     "data": {
      "image/png": "[encoded data removed]",
      "text/plain": [
       "<Figure size 432x288 with 1 Axes>"
      ]
     },
     "metadata": {
      "needs_background": "light"
     },
     "output_type": "display_data"
    }
   ],
   "source": [
    "sns.boxplot(x=Bank['current_balance']) \n",
    "plt.grid()"
   ]
  },
  {
   "cell_type": "markdown",
   "metadata": {},
   "source": [
    "### Bank['current_balance'] review of Boxplot Suggests that -\n",
    "\n",
    "#### 1) There are No outliers\n",
    "#### 2) Distribution is RightSkewed due to longer Right Whisker"
   ]
  },
  {
   "cell_type": "markdown",
   "metadata": {},
   "source": [
    "## Bank['current_balance'] Empirical Rule"
   ]
  },
  {
   "cell_type": "code",
   "execution_count": 28,
   "metadata": {
    "scrolled": true
   },
   "outputs": [
    {
     "name": "stdout",
     "output_type": "stream",
     "text": [
      "Number of Mean + 1 Sigma occurances should be  71.4 where as they are  50\n",
      "Number of Mean - 1 Sigma occurances should be  71.4 where as they are  80\n",
      "Number of Mean + 2 Sigma occurances should be  99.75 where as they are  85\n",
      "Number of Mean - 2 Sigma occurances should be  99.75 where as they are  118\n",
      "Number of Mean + 3 Sigma occurances should be  104.685 where as they are  92\n",
      "Number of Mean - 3 Sigma occurances should be  104.685 where as they are  118\n"
     ]
    }
   ],
   "source": [
    "x_1std= Bank['current_balance'].mean() + (1 * Bank['current_balance'].std())\n",
    "y_1std= Bank['current_balance'].mean() - (1 * Bank['current_balance'].std())\n",
    "x_2std= Bank['current_balance'].mean() + (2 * Bank['current_balance'].std())\n",
    "y_2std= Bank['current_balance'].mean() - (2 * Bank['current_balance'].std())\n",
    "x_3std= Bank['current_balance'].mean() + (3 * Bank['current_balance'].std())\n",
    "y_3std= Bank['current_balance'].mean() - (3 * Bank['current_balance'].std())\n",
    "\n",
    "Sample_size=len(Bank['current_balance'])\n",
    "is_between11 = Bank['current_balance'].between(Bank['current_balance'].mean(),x_1std, inclusive=False )\n",
    "Level11=len(Bank[is_between11])\n",
    "is_between12 = Bank['current_balance'].between(y_1std,Bank['current_balance'].mean(), inclusive=False )\n",
    "Level12=len(Bank[is_between12]) \n",
    "is_between21 = Bank['current_balance'].between(Bank['current_balance'].mean(),x_2std, inclusive=False )\n",
    "Level21=len(Bank[is_between21])\n",
    "is_between22 = Bank['current_balance'].between(y_2std,Bank['current_balance'].mean(), inclusive=False )\n",
    "Level22=len(Bank[is_between22])\n",
    "is_between31 = Bank['current_balance'].between(Bank['current_balance'].mean(),x_3std, inclusive=False )\n",
    "Level31=len(Bank[is_between31])\n",
    "is_between32 = Bank['current_balance'].between(y_3std,Bank['current_balance'].mean(), inclusive=False )\n",
    "Level32=len(Bank[is_between32])\n",
    "print('Number of Mean + 1 Sigma occurances should be ', round((Sample_size * .68/2),3) , 'where as they are ',  Level11)\n",
    "print('Number of Mean - 1 Sigma occurances should be ', round((Sample_size * .68/2),3) , 'where as they are ',  Level12)\n",
    "print('Number of Mean + 2 Sigma occurances should be ', round((Sample_size * .95/2),3) , 'where as they are ',  Level21)\n",
    "print('Number of Mean - 2 Sigma occurances should be ', round((Sample_size * .95/2),3) , 'where as they are ',  Level22)\n",
    "print('Number of Mean + 3 Sigma occurances should be ', round((Sample_size * .997/2),3) , 'where as they are ',  Level31)\n",
    "print('Number of Mean - 3 Sigma occurances should be ', round((Sample_size * .997/2),3) , 'where as they are ',  Level32)\n"
   ]
  },
  {
   "cell_type": "markdown",
   "metadata": {},
   "source": [
    "### Bank['current_balance'] review of Empirical Rule suggest that -\n",
    "\n",
    "#### 1) '1 standard deviation' from Mean is assymetrical (Right Skewed)\n",
    "#### 1) '2 standard deviation' from Mean is assymetrical (Right Skewed)\n",
    "#### 1) '3 standard deviation' from Mean is assymetrical (Right Skewed)"
   ]
  },
  {
   "cell_type": "markdown",
   "metadata": {},
   "source": [
    "##  Bank['current_balance'] mean,median and mode"
   ]
  },
  {
   "cell_type": "code",
   "execution_count": 29,
   "metadata": {},
   "outputs": [
    {
     "name": "stdout",
     "output_type": "stream",
     "text": [
      "Mean = 5.628533333333333 Median = 5.5235 Mode = 5.3155\n"
     ]
    }
   ],
   "source": [
    "a=Bank['current_balance'].mean()\n",
    "b=Bank['current_balance'].median()\n",
    "c=Bank['current_balance'].mode().mean()\n",
    "print('Mean =', a,'Median =',b,'Mode =',c)"
   ]
  },
  {
   "cell_type": "markdown",
   "metadata": {},
   "source": [
    "### Bank['current_balance'] review of Mean, Median and Mode suggests that -\n",
    "\n",
    "#### In this case Mean > Median > Mode hence the distribution is Right Skewed"
   ]
  },
  {
   "cell_type": "markdown",
   "metadata": {},
   "source": [
    "#### Insights:\n",
    "\n",
    "Balance amount left in the account to make purchases (in 1000s)range from 4.90K to  6.67K\n",
    "\n",
    "75% of the customer's balance left is less than  5.98K .\n",
    "\n",
    "From above figure, we can say that the Amount spent by the customer per month is right skewed\n",
    "\n",
    "Average spend by customer is   5.63K which is mirginally higher than the median value  5.52K indicating that the ditribution is right tailed. \n",
    "\n",
    "There are no outliers Outliers  which shows data consistency."
   ]
  },
  {
   "cell_type": "markdown",
   "metadata": {},
   "source": [
    "## Bank['credit_limit']   5 Number Analysis"
   ]
  },
  {
   "cell_type": "code",
   "execution_count": 30,
   "metadata": {
    "scrolled": false
   },
   "outputs": [
    {
     "data": {
      "text/plain": [
       "count       210.00\n",
       "mean          3.26\n",
       "std           0.38\n",
       "min           2.63\n",
       "25%           2.94\n",
       "50%           3.24\n",
       "75%           3.56\n",
       "max           4.03\n",
       "CV            0.12\n",
       "Q1 - Min      0.31\n",
       "Max - 75%     0.47\n",
       "Q2 - Min      0.61\n",
       "Max - 50%     0.80\n",
       "Q2 - Q1       0.29\n",
       "Q3 - Q2       0.32\n",
       "Name: credit_limit, dtype: float64"
      ]
     },
     "execution_count": 30,
     "metadata": {},
     "output_type": "execute_result"
    }
   ],
   "source": [
    "Bank_univariant_detailed.loc['credit_limit']"
   ]
  },
  {
   "cell_type": "markdown",
   "metadata": {},
   "source": [
    "### Bank['credit_limit']  review of 5 number Summary Suggests that -\n",
    "\n",
    "  ##### Disribution is  Right skewed  -\n",
    "        (Q1 - Min) which is 0.31 <  Max - Q3 which is 0.47\n",
    "  ##### Following points  support the symmetry -\n",
    "        (Q2 - Min ) which is 0.61 <  (Max - Q2) which is 0.80\n",
    "        (Q2 - Q1 ) which is 0.29 < (Q3 - Q2 ) which is 0.32\n",
    "        \n"
   ]
  },
  {
   "cell_type": "markdown",
   "metadata": {},
   "source": [
    "   ##### Let's review the Histogram as second level of verification to Confirm the Skewness -   "
   ]
  },
  {
   "cell_type": "code",
   "execution_count": 31,
   "metadata": {},
   "outputs": [
    {
     "data": {
      "text/plain": [
       "<AxesSubplot:xlabel='credit_limit', ylabel='Density'>"
      ]
     },
     "execution_count": 31,
     "metadata": {},
     "output_type": "execute_result"
    },
    {
     "data": {
      "image/png": "[encoded data removed]",
      "text/plain": [
       "<Figure size 432x288 with 1 Axes>"
      ]
     },
     "metadata": {
      "needs_background": "light"
     },
     "output_type": "display_data"
    }
   ],
   "source": [
    "sns.distplot(Bank['credit_limit'])"
   ]
  },
  {
   "cell_type": "markdown",
   "metadata": {},
   "source": [
    "## Histogram Review for Bank['credit_limit'] Shows -\n",
    "#### 1) Flat top\n",
    "#### 2) Right Skewness\n",
    "#### 3) It doesnt Show a perfect 'Bell Curve'"
   ]
  },
  {
   "cell_type": "markdown",
   "metadata": {},
   "source": [
    "   ##### Let's review the BoxPlot to Confirm the Skewness  and to check if there are any outliers-   "
   ]
  },
  {
   "cell_type": "code",
   "execution_count": 32,
   "metadata": {},
   "outputs": [
    {
     "data": {
      "image/png": "[encoded data removed]",
      "text/plain": [
       "<Figure size 432x288 with 1 Axes>"
      ]
     },
     "metadata": {
      "needs_background": "light"
     },
     "output_type": "display_data"
    }
   ],
   "source": [
    "sns.boxplot(x=Bank['credit_limit']) \n",
    "plt.grid()"
   ]
  },
  {
   "cell_type": "markdown",
   "metadata": {},
   "source": [
    "### Bank['credit_limit'] review of Boxplot Suggests that -\n",
    "\n",
    "#### 1) There are No outliers\n",
    "#### 2) Distribution is RightSkewed due to longer Right Whisker"
   ]
  },
  {
   "cell_type": "markdown",
   "metadata": {},
   "source": [
    "## Bank['credit_limit'] Empirical Rule"
   ]
  },
  {
   "cell_type": "code",
   "execution_count": 33,
   "metadata": {
    "scrolled": true
   },
   "outputs": [
    {
     "name": "stdout",
     "output_type": "stream",
     "text": [
      "Number of Mean + 1 Sigma occurances should be  71.4 where as they are  57\n",
      "Number of Mean - 1 Sigma occurances should be  71.4 where as they are  63\n",
      "Number of Mean + 2 Sigma occurances should be  99.75 where as they are  100\n",
      "Number of Mean - 2 Sigma occurances should be  99.75 where as they are  108\n",
      "Number of Mean + 3 Sigma occurances should be  104.685 where as they are  102\n",
      "Number of Mean - 3 Sigma occurances should be  104.685 where as they are  108\n"
     ]
    }
   ],
   "source": [
    "x_1std= Bank['credit_limit'].mean() + (1 * Bank['credit_limit'].std())\n",
    "y_1std= Bank['credit_limit'].mean() - (1 * Bank['credit_limit'].std())\n",
    "x_2std= Bank['credit_limit'].mean() + (2 * Bank['credit_limit'].std())\n",
    "y_2std= Bank['credit_limit'].mean() - (2 * Bank['credit_limit'].std())\n",
    "x_3std= Bank['credit_limit'].mean() + (3 * Bank['credit_limit'].std())\n",
    "y_3std= Bank['credit_limit'].mean() - (3 * Bank['credit_limit'].std())\n",
    "\n",
    "Sample_size=len(Bank['credit_limit'])\n",
    "is_between11 = Bank['credit_limit'].between(Bank['credit_limit'].mean(),x_1std, inclusive=False )\n",
    "Level11=len(Bank[is_between11])\n",
    "is_between12 = Bank['credit_limit'].between(y_1std,Bank['credit_limit'].mean(), inclusive=False )\n",
    "Level12=len(Bank[is_between12]) \n",
    "is_between21 = Bank['credit_limit'].between(Bank['credit_limit'].mean(),x_2std, inclusive=False )\n",
    "Level21=len(Bank[is_between21])\n",
    "is_between22 = Bank['credit_limit'].between(y_2std,Bank['credit_limit'].mean(), inclusive=False )\n",
    "Level22=len(Bank[is_between22])\n",
    "is_between31 = Bank['credit_limit'].between(Bank['credit_limit'].mean(),x_3std, inclusive=False )\n",
    "Level31=len(Bank[is_between31])\n",
    "is_between32 = Bank['credit_limit'].between(y_3std,Bank['credit_limit'].mean(), inclusive=False )\n",
    "Level32=len(Bank[is_between32])\n",
    "print('Number of Mean + 1 Sigma occurances should be ', round((Sample_size * .68/2),3) , 'where as they are ',  Level11)\n",
    "print('Number of Mean - 1 Sigma occurances should be ', round((Sample_size * .68/2),3) , 'where as they are ',  Level12)\n",
    "print('Number of Mean + 2 Sigma occurances should be ', round((Sample_size * .95/2),3) , 'where as they are ',  Level21)\n",
    "print('Number of Mean - 2 Sigma occurances should be ', round((Sample_size * .95/2),3) , 'where as they are ',  Level22)\n",
    "print('Number of Mean + 3 Sigma occurances should be ', round((Sample_size * .997/2),3) , 'where as they are ',  Level31)\n",
    "print('Number of Mean - 3 Sigma occurances should be ', round((Sample_size * .997/2),3) , 'where as they are ',  Level32)\n"
   ]
  },
  {
   "cell_type": "markdown",
   "metadata": {},
   "source": [
    "### Bank['credit_limit'] review of Empirical Rule suggest that -\n",
    "\n",
    "#### 1) '1 standard deviation' from Mean is assymetrical (Right Skewed)\n",
    "#### 1) '2 standard deviation' from Mean is assymetrical (Right Skewed)\n",
    "#### 1) '3 standard deviation' from Mean is assymetrical (Right Skewed)"
   ]
  },
  {
   "cell_type": "markdown",
   "metadata": {},
   "source": [
    "##  Bank['credit_limit'] mean,median and mode"
   ]
  },
  {
   "cell_type": "code",
   "execution_count": 34,
   "metadata": {},
   "outputs": [
    {
     "name": "stdout",
     "output_type": "stream",
     "text": [
      "Mean = 3.258604761904762 Median = 3.237 Mode = 3.026\n"
     ]
    }
   ],
   "source": [
    "a=Bank['credit_limit'].mean()\n",
    "b=Bank['credit_limit'].median()\n",
    "c=Bank['credit_limit'].mode().mean()\n",
    "print('Mean =', a,'Median =',b,'Mode =',c)"
   ]
  },
  {
   "cell_type": "markdown",
   "metadata": {},
   "source": [
    "### Bank['credit_limit'] review of Mean, Median and Mode suggests that -\n",
    "\n",
    "#### In this case Mean > Median > Mode hence the distribution is Right Skewed"
   ]
  },
  {
   "cell_type": "markdown",
   "metadata": {},
   "source": [
    "#### Insights:\n",
    "\n",
    "Limit of the amount in credit card (10000s) range from 26.3K to  40.03K\n",
    "\n",
    "75% of the customer's  credit limit  is less than  35.6K .\n",
    "\n",
    "From above figure, we can say that the Amount spent by the customer per month is right skewed\n",
    "\n",
    "Average spend by customer is 32.6 K which is mirginally higher than the median value  32.4K indicating that the ditribution is right tailed. \n",
    "\n",
    "There are no outliers Outliers  which shows data consistency."
   ]
  },
  {
   "cell_type": "markdown",
   "metadata": {},
   "source": [
    "## Bank['max_spent_in_single_shopping']   5 Number Analysis"
   ]
  },
  {
   "cell_type": "code",
   "execution_count": 35,
   "metadata": {
    "scrolled": true
   },
   "outputs": [
    {
     "data": {
      "text/plain": [
       "count       210.00\n",
       "mean          5.41\n",
       "std           0.49\n",
       "min           4.52\n",
       "25%           5.04\n",
       "50%           5.22\n",
       "75%           5.88\n",
       "max           6.55\n",
       "CV            0.09\n",
       "Q1 - Min      0.53\n",
       "Max - 75%     0.67\n",
       "Q2 - Min      0.70\n",
       "Max - 50%     1.33\n",
       "Q2 - Q1       0.18\n",
       "Q3 - Q2       0.65\n",
       "Name: max_spent_in_single_shopping, dtype: float64"
      ]
     },
     "execution_count": 35,
     "metadata": {},
     "output_type": "execute_result"
    }
   ],
   "source": [
    "Bank_univariant_detailed.loc['max_spent_in_single_shopping']"
   ]
  },
  {
   "cell_type": "markdown",
   "metadata": {},
   "source": [
    "### Bank['max_spent_in_single_shopping']  review of 5 number Summary Suggests that -\n",
    "\n",
    "  ##### Disribution is  Right skewed  -\n",
    "        (Q1 - Min) which is 0.53 <  Max - Q3 which is 0.67\n",
    "  ##### Following points  support the symmetry -\n",
    "        (Q2 - Min ) which is 0.70 <  (Max - Q2) which is 1.33\n",
    "        (Q2 - Q1 ) which is 0.18 < (Q3 - Q2 ) which is 0.65\n",
    "        \n"
   ]
  },
  {
   "cell_type": "markdown",
   "metadata": {},
   "source": [
    "   ##### Let's review the Histogram as second level of verification to Confirm the Skewness -   "
   ]
  },
  {
   "cell_type": "code",
   "execution_count": 36,
   "metadata": {},
   "outputs": [
    {
     "data": {
      "text/plain": [
       "<AxesSubplot:xlabel='max_spent_in_single_shopping', ylabel='Density'>"
      ]
     },
     "execution_count": 36,
     "metadata": {},
     "output_type": "execute_result"
    },
    {
     "data": {
      "image/png": "[encoded data removed]",
      "text/plain": [
       "<Figure size 432x288 with 1 Axes>"
      ]
     },
     "metadata": {
      "needs_background": "light"
     },
     "output_type": "display_data"
    }
   ],
   "source": [
    "sns.distplot(Bank['max_spent_in_single_shopping'])"
   ]
  },
  {
   "cell_type": "markdown",
   "metadata": {},
   "source": [
    "## Histogram Review for Bank['max_spent_in_single_shopping'] Shows -\n",
    "#### 1) 2 Peaks\n",
    "#### 2) Right Skewness\n",
    "#### 3) It doesnt Show a perfect 'Bell Curve'"
   ]
  },
  {
   "cell_type": "markdown",
   "metadata": {},
   "source": [
    "   ##### Let's review the BoxPlot to Confirm the Skewness  and to check if there are any outliers-   "
   ]
  },
  {
   "cell_type": "code",
   "execution_count": 37,
   "metadata": {},
   "outputs": [
    {
     "data": {
      "image/png": "[encoded data removed]",
      "text/plain": [
       "<Figure size 432x288 with 1 Axes>"
      ]
     },
     "metadata": {
      "needs_background": "light"
     },
     "output_type": "display_data"
    }
   ],
   "source": [
    "sns.boxplot(x=Bank['max_spent_in_single_shopping']) \n",
    "plt.grid()"
   ]
  },
  {
   "cell_type": "markdown",
   "metadata": {},
   "source": [
    "### Bank['max_spent_in_single_shopping'] review of Boxplot Suggests that -\n",
    "\n",
    "#### 1) There are No outliers\n",
    "#### 2) Distribution is RightSkewed due to marginally longer Right Whisker"
   ]
  },
  {
   "cell_type": "markdown",
   "metadata": {},
   "source": [
    "## Bank['max_spent_in_single_shopping'] Empirical Rule"
   ]
  },
  {
   "cell_type": "code",
   "execution_count": 38,
   "metadata": {
    "scrolled": true
   },
   "outputs": [
    {
     "name": "stdout",
     "output_type": "stream",
     "text": [
      "Number of Mean + 1 Sigma occurances should be  71.4 where as they are  32\n",
      "Number of Mean - 1 Sigma occurances should be  71.4 where as they are  106\n",
      "Number of Mean + 2 Sigma occurances should be  99.75 where as they are  73\n",
      "Number of Mean - 2 Sigma occurances should be  99.75 where as they are  131\n",
      "Number of Mean + 3 Sigma occurances should be  104.685 where as they are  79\n",
      "Number of Mean - 3 Sigma occurances should be  104.685 where as they are  131\n"
     ]
    }
   ],
   "source": [
    "x_1std= Bank['max_spent_in_single_shopping'].mean() + (1 * Bank['max_spent_in_single_shopping'].std())\n",
    "y_1std= Bank['max_spent_in_single_shopping'].mean() - (1 * Bank['max_spent_in_single_shopping'].std())\n",
    "x_2std= Bank['max_spent_in_single_shopping'].mean() + (2 * Bank['max_spent_in_single_shopping'].std())\n",
    "y_2std= Bank['max_spent_in_single_shopping'].mean() - (2 * Bank['max_spent_in_single_shopping'].std())\n",
    "x_3std= Bank['max_spent_in_single_shopping'].mean() + (3 * Bank['max_spent_in_single_shopping'].std())\n",
    "y_3std= Bank['max_spent_in_single_shopping'].mean() - (3 * Bank['max_spent_in_single_shopping'].std())\n",
    "\n",
    "Sample_size=len(Bank['max_spent_in_single_shopping'])\n",
    "is_between11 = Bank['max_spent_in_single_shopping'].between(Bank['max_spent_in_single_shopping'].mean(),x_1std, inclusive=False )\n",
    "Level11=len(Bank[is_between11])\n",
    "is_between12 = Bank['max_spent_in_single_shopping'].between(y_1std,Bank['max_spent_in_single_shopping'].mean(), inclusive=False )\n",
    "Level12=len(Bank[is_between12]) \n",
    "is_between21 = Bank['max_spent_in_single_shopping'].between(Bank['max_spent_in_single_shopping'].mean(),x_2std, inclusive=False )\n",
    "Level21=len(Bank[is_between21])\n",
    "is_between22 = Bank['max_spent_in_single_shopping'].between(y_2std,Bank['max_spent_in_single_shopping'].mean(), inclusive=False )\n",
    "Level22=len(Bank[is_between22])\n",
    "is_between31 = Bank['max_spent_in_single_shopping'].between(Bank['max_spent_in_single_shopping'].mean(),x_3std, inclusive=False )\n",
    "Level31=len(Bank[is_between31])\n",
    "is_between32 = Bank['max_spent_in_single_shopping'].between(y_3std,Bank['max_spent_in_single_shopping'].mean(), inclusive=False )\n",
    "Level32=len(Bank[is_between32])\n",
    "print('Number of Mean + 1 Sigma occurances should be ', round((Sample_size * .68/2),3) , 'where as they are ',  Level11)\n",
    "print('Number of Mean - 1 Sigma occurances should be ', round((Sample_size * .68/2),3) , 'where as they are ',  Level12)\n",
    "print('Number of Mean + 2 Sigma occurances should be ', round((Sample_size * .95/2),3) , 'where as they are ',  Level21)\n",
    "print('Number of Mean - 2 Sigma occurances should be ', round((Sample_size * .95/2),3) , 'where as they are ',  Level22)\n",
    "print('Number of Mean + 3 Sigma occurances should be ', round((Sample_size * .997/2),3) , 'where as they are ',  Level31)\n",
    "print('Number of Mean - 3 Sigma occurances should be ', round((Sample_size * .997/2),3) , 'where as they are ',  Level32)\n"
   ]
  },
  {
   "cell_type": "markdown",
   "metadata": {},
   "source": [
    "### Bank['max_spent_in_single_shopping'] review of Empirical Rule suggest that -\n",
    "\n",
    "#### 1) '1 standard deviation' from Mean is assymetrical (Right Skewed)\n",
    "#### 1) '2 standard deviation' from Mean is assymetrical (Right Skewed)\n",
    "#### 1) '3 standard deviation' from Mean is assymetrical (Right Skewed)"
   ]
  },
  {
   "cell_type": "markdown",
   "metadata": {},
   "source": [
    "##  Bank['max_spent_in_single_shopping'] mean,median and mode"
   ]
  },
  {
   "cell_type": "code",
   "execution_count": 39,
   "metadata": {},
   "outputs": [
    {
     "name": "stdout",
     "output_type": "stream",
     "text": [
      "Mean = 5.4080714285714295 Median = 5.223000000000001 Mode = 5.001\n"
     ]
    }
   ],
   "source": [
    "a=Bank['max_spent_in_single_shopping'].mean()\n",
    "b=Bank['max_spent_in_single_shopping'].median()\n",
    "c=Bank['max_spent_in_single_shopping'].mode().mean()\n",
    "print('Mean =', a,'Median =',b,'Mode =',c)"
   ]
  },
  {
   "cell_type": "markdown",
   "metadata": {},
   "source": [
    "### Bank['max_spent_in_single_shopping'] review of Mean, Median and Mode suggests that -\n",
    "\n",
    "#### In this case Mean > Median > Mode hence the distribution is Right Skewed"
   ]
  },
  {
   "cell_type": "markdown",
   "metadata": {},
   "source": [
    "#### Insights:\n",
    "\n",
    "minimum paid by the customer while making payments for purchases made monthly (in 100s)\n",
    "range from 0.452K to  0.655K\n",
    "\n",
    "75% of the customer's  credit limit  is less than  0.588K .\n",
    "\n",
    "From above figure, we can say that the Amount spent by the customer per month is right skewed\n",
    "\n",
    "Average spend by customer is 0.541 K which is mirginally higher than the median value 0.522K indicating that the ditribution is right tailed. \n",
    "\n",
    "There are no outliers which shows data consistency."
   ]
  },
  {
   "cell_type": "markdown",
   "metadata": {},
   "source": [
    "####  Bivariate Analysis"
   ]
  },
  {
   "cell_type": "code",
   "execution_count": 40,
   "metadata": {
    "scrolled": true
   },
   "outputs": [
    {
     "data": {
      "image/png": "[encoded data removed]",
      "text/plain": [
       "<Figure size 432x288 with 1 Axes>"
      ]
     },
     "metadata": {
      "needs_background": "light"
     },
     "output_type": "display_data"
    }
   ],
   "source": [
    "sns.scatterplot(x='spending', y='advance_payments', data=Bank) \n",
    "plt.ticklabel_format(style='plain', axis='x')"
   ]
  },
  {
   "cell_type": "code",
   "execution_count": 41,
   "metadata": {},
   "outputs": [
    {
     "data": {
      "image/png": "[encoded data removed]",
      "text/plain": [
       "<Figure size 432x288 with 1 Axes>"
      ]
     },
     "metadata": {
      "needs_background": "light"
     },
     "output_type": "display_data"
    }
   ],
   "source": [
    "sns.scatterplot(x='spending', y='probability_of_full_payment', data=Bank) \n",
    "plt.ticklabel_format(style='plain', axis='x')"
   ]
  },
  {
   "cell_type": "code",
   "execution_count": 42,
   "metadata": {},
   "outputs": [
    {
     "data": {
      "image/png": "[encoded data removed]",
      "text/plain": [
       "<Figure size 432x288 with 1 Axes>"
      ]
     },
     "metadata": {
      "needs_background": "light"
     },
     "output_type": "display_data"
    }
   ],
   "source": [
    "sns.scatterplot(x='spending', y='current_balance', data=Bank) \n",
    "plt.ticklabel_format(style='plain', axis='x')"
   ]
  },
  {
   "cell_type": "code",
   "execution_count": 43,
   "metadata": {
    "scrolled": true
   },
   "outputs": [
    {
     "data": {
      "image/png": "[encoded data removed]",
      "text/plain": [
       "<Figure size 432x288 with 1 Axes>"
      ]
     },
     "metadata": {
      "needs_background": "light"
     },
     "output_type": "display_data"
    }
   ],
   "source": [
    "sns.scatterplot(x='spending', y='credit_limit', data=Bank) \n",
    "plt.ticklabel_format(style='plain', axis='x')"
   ]
  },
  {
   "cell_type": "code",
   "execution_count": 44,
   "metadata": {},
   "outputs": [
    {
     "data": {
      "image/png": "[encoded data removed]",
      "text/plain": [
       "<Figure size 432x288 with 1 Axes>"
      ]
     },
     "metadata": {
      "needs_background": "light"
     },
     "output_type": "display_data"
    }
   ],
   "source": [
    "sns.scatterplot(x='spending', y='min_payment_amt', data=Bank) \n",
    "plt.ticklabel_format(style='plain', axis='x')"
   ]
  },
  {
   "cell_type": "code",
   "execution_count": 45,
   "metadata": {},
   "outputs": [
    {
     "data": {
      "image/png": "[encoded data removed]",
      "text/plain": [
       "<Figure size 432x288 with 1 Axes>"
      ]
     },
     "metadata": {
      "needs_background": "light"
     },
     "output_type": "display_data"
    }
   ],
   "source": [
    "sns.scatterplot(x='spending', y='max_spent_in_single_shopping', data=Bank) \n",
    "plt.ticklabel_format(style='plain', axis='x')"
   ]
  },
  {
   "cell_type": "markdown",
   "metadata": {},
   "source": [
    "### Outlier Treatment\n",
    "\n",
    "**To check for outliers, we will be plotting the box plots.**"
   ]
  },
  {
   "cell_type": "code",
   "execution_count": 46,
   "metadata": {},
   "outputs": [],
   "source": [
    "def remove_outlier(col):\n",
    "    sorted(col)\n",
    "    Q1,Q3 = col.quantile([0.25,0.75])\n",
    "    IQR = Q3-Q1\n",
    "    lower_range = Q1-(1.5*IQR)\n",
    "    upper_range = Q3+(1.5*IQR)\n",
    "    return lower_range, upper_range"
   ]
  },
  {
   "cell_type": "code",
   "execution_count": 47,
   "metadata": {},
   "outputs": [
    {
     "data": {
      "text/plain": [
       "(210, 7)"
      ]
     },
     "execution_count": 47,
     "metadata": {},
     "output_type": "execute_result"
    }
   ],
   "source": [
    "lrprob,urprob=remove_outlier(Bank['probability_of_full_payment'])\n",
    "Bank['probability_of_full_payment']=np.where(Bank['probability_of_full_payment']>urprob,urprob,Bank['probability_of_full_payment'])\n",
    "Bank['probability_of_full_payment']=np.where(Bank['probability_of_full_payment']<lrprob,lrprob,Bank['probability_of_full_payment'])\n",
    "\n",
    "Bank.shape"
   ]
  },
  {
   "cell_type": "code",
   "execution_count": 48,
   "metadata": {},
   "outputs": [
    {
     "data": {
      "image/png": "[encoded data removed]",
      "text/plain": [
       "<Figure size 432x288 with 1 Axes>"
      ]
     },
     "metadata": {
      "needs_background": "light"
     },
     "output_type": "display_data"
    }
   ],
   "source": [
    "sns.boxplot(x=Bank['probability_of_full_payment']) \n",
    "plt.grid()"
   ]
  },
  {
   "cell_type": "code",
   "execution_count": 49,
   "metadata": {},
   "outputs": [
    {
     "data": {
      "text/html": [
       "<div>\n",
       "<style scoped>\n",
       "    .dataframe tbody tr th:only-of-type {\n",
       "        vertical-align: middle;\n",
       "    }\n",
       "\n",
       "    .dataframe tbody tr th {\n",
       "        vertical-align: top;\n",
       "    }\n",
       "\n",
       "    .dataframe thead th {\n",
       "        text-align: right;\n",
       "    }\n",
       "</style>\n",
       "<table border=\"1\" class=\"dataframe\">\n",
       "  <thead>\n",
       "    <tr style=\"text-align: right;\">\n",
       "      <th></th>\n",
       "      <th>spending</th>\n",
       "      <th>advance_payments</th>\n",
       "      <th>probability_of_full_payment</th>\n",
       "      <th>current_balance</th>\n",
       "      <th>credit_limit</th>\n",
       "      <th>min_payment_amt</th>\n",
       "      <th>max_spent_in_single_shopping</th>\n",
       "    </tr>\n",
       "  </thead>\n",
       "  <tbody>\n",
       "    <tr>\n",
       "      <th>spending</th>\n",
       "      <td>1.00</td>\n",
       "      <td>0.99</td>\n",
       "      <td>0.61</td>\n",
       "      <td>0.95</td>\n",
       "      <td>0.97</td>\n",
       "      <td>-0.23</td>\n",
       "      <td>0.86</td>\n",
       "    </tr>\n",
       "    <tr>\n",
       "      <th>advance_payments</th>\n",
       "      <td>0.99</td>\n",
       "      <td>1.00</td>\n",
       "      <td>0.53</td>\n",
       "      <td>0.97</td>\n",
       "      <td>0.94</td>\n",
       "      <td>-0.22</td>\n",
       "      <td>0.89</td>\n",
       "    </tr>\n",
       "    <tr>\n",
       "      <th>probability_of_full_payment</th>\n",
       "      <td>0.61</td>\n",
       "      <td>0.53</td>\n",
       "      <td>1.00</td>\n",
       "      <td>0.37</td>\n",
       "      <td>0.76</td>\n",
       "      <td>-0.33</td>\n",
       "      <td>0.23</td>\n",
       "    </tr>\n",
       "    <tr>\n",
       "      <th>current_balance</th>\n",
       "      <td>0.95</td>\n",
       "      <td>0.97</td>\n",
       "      <td>0.37</td>\n",
       "      <td>1.00</td>\n",
       "      <td>0.86</td>\n",
       "      <td>-0.17</td>\n",
       "      <td>0.93</td>\n",
       "    </tr>\n",
       "    <tr>\n",
       "      <th>credit_limit</th>\n",
       "      <td>0.97</td>\n",
       "      <td>0.94</td>\n",
       "      <td>0.76</td>\n",
       "      <td>0.86</td>\n",
       "      <td>1.00</td>\n",
       "      <td>-0.26</td>\n",
       "      <td>0.75</td>\n",
       "    </tr>\n",
       "    <tr>\n",
       "      <th>min_payment_amt</th>\n",
       "      <td>-0.23</td>\n",
       "      <td>-0.22</td>\n",
       "      <td>-0.33</td>\n",
       "      <td>-0.17</td>\n",
       "      <td>-0.26</td>\n",
       "      <td>1.00</td>\n",
       "      <td>-0.01</td>\n",
       "    </tr>\n",
       "    <tr>\n",
       "      <th>max_spent_in_single_shopping</th>\n",
       "      <td>0.86</td>\n",
       "      <td>0.89</td>\n",
       "      <td>0.23</td>\n",
       "      <td>0.93</td>\n",
       "      <td>0.75</td>\n",
       "      <td>-0.01</td>\n",
       "      <td>1.00</td>\n",
       "    </tr>\n",
       "  </tbody>\n",
       "</table>\n",
       "</div>"
      ],
      "text/plain": [
       "                              spending  advance_payments  \\\n",
       "spending                          1.00              0.99   \n",
       "advance_payments                  0.99              1.00   \n",
       "probability_of_full_payment       0.61              0.53   \n",
       "current_balance                   0.95              0.97   \n",
       "credit_limit                      0.97              0.94   \n",
       "min_payment_amt                  -0.23             -0.22   \n",
       "max_spent_in_single_shopping      0.86              0.89   \n",
       "\n",
       "                              probability_of_full_payment  current_balance  \\\n",
       "spending                                             0.61             0.95   \n",
       "advance_payments                                     0.53             0.97   \n",
       "probability_of_full_payment                          1.00             0.37   \n",
       "current_balance                                      0.37             1.00   \n",
       "credit_limit                                         0.76             0.86   \n",
       "min_payment_amt                                     -0.33            -0.17   \n",
       "max_spent_in_single_shopping                         0.23             0.93   \n",
       "\n",
       "                              credit_limit  min_payment_amt  \\\n",
       "spending                              0.97            -0.23   \n",
       "advance_payments                      0.94            -0.22   \n",
       "probability_of_full_payment           0.76            -0.33   \n",
       "current_balance                       0.86            -0.17   \n",
       "credit_limit                          1.00            -0.26   \n",
       "min_payment_amt                      -0.26             1.00   \n",
       "max_spent_in_single_shopping          0.75            -0.01   \n",
       "\n",
       "                              max_spent_in_single_shopping  \n",
       "spending                                              0.86  \n",
       "advance_payments                                      0.89  \n",
       "probability_of_full_payment                           0.23  \n",
       "current_balance                                       0.93  \n",
       "credit_limit                                          0.75  \n",
       "min_payment_amt                                      -0.01  \n",
       "max_spent_in_single_shopping                          1.00  "
      ]
     },
     "execution_count": 49,
     "metadata": {},
     "output_type": "execute_result"
    }
   ],
   "source": [
    "Bank.corr()"
   ]
  },
  {
   "cell_type": "markdown",
   "metadata": {},
   "source": [
    "###              1.2  Do you think scaling is necessary for clustering in this case? Justify"
   ]
  },
  {
   "cell_type": "code",
   "execution_count": 50,
   "metadata": {},
   "outputs": [
    {
     "data": {
      "text/html": [
       "<div>\n",
       "<style scoped>\n",
       "    .dataframe tbody tr th:only-of-type {\n",
       "        vertical-align: middle;\n",
       "    }\n",
       "\n",
       "    .dataframe tbody tr th {\n",
       "        vertical-align: top;\n",
       "    }\n",
       "\n",
       "    .dataframe thead th {\n",
       "        text-align: right;\n",
       "    }\n",
       "</style>\n",
       "<table border=\"1\" class=\"dataframe\">\n",
       "  <thead>\n",
       "    <tr style=\"text-align: right;\">\n",
       "      <th></th>\n",
       "      <th>spending</th>\n",
       "      <th>advance_payments</th>\n",
       "      <th>probability_of_full_payment</th>\n",
       "      <th>current_balance</th>\n",
       "      <th>credit_limit</th>\n",
       "      <th>min_payment_amt</th>\n",
       "      <th>max_spent_in_single_shopping</th>\n",
       "    </tr>\n",
       "  </thead>\n",
       "  <tbody>\n",
       "    <tr>\n",
       "      <th>count</th>\n",
       "      <td>210.00</td>\n",
       "      <td>210.00</td>\n",
       "      <td>210.00</td>\n",
       "      <td>210.00</td>\n",
       "      <td>210.00</td>\n",
       "      <td>210.00</td>\n",
       "      <td>210.00</td>\n",
       "    </tr>\n",
       "    <tr>\n",
       "      <th>mean</th>\n",
       "      <td>14.85</td>\n",
       "      <td>14.56</td>\n",
       "      <td>0.87</td>\n",
       "      <td>5.63</td>\n",
       "      <td>3.26</td>\n",
       "      <td>3.70</td>\n",
       "      <td>5.41</td>\n",
       "    </tr>\n",
       "    <tr>\n",
       "      <th>std</th>\n",
       "      <td>2.91</td>\n",
       "      <td>1.31</td>\n",
       "      <td>0.02</td>\n",
       "      <td>0.44</td>\n",
       "      <td>0.38</td>\n",
       "      <td>1.50</td>\n",
       "      <td>0.49</td>\n",
       "    </tr>\n",
       "    <tr>\n",
       "      <th>min</th>\n",
       "      <td>10.59</td>\n",
       "      <td>12.41</td>\n",
       "      <td>0.81</td>\n",
       "      <td>4.90</td>\n",
       "      <td>2.63</td>\n",
       "      <td>0.77</td>\n",
       "      <td>4.52</td>\n",
       "    </tr>\n",
       "    <tr>\n",
       "      <th>25%</th>\n",
       "      <td>12.27</td>\n",
       "      <td>13.45</td>\n",
       "      <td>0.86</td>\n",
       "      <td>5.26</td>\n",
       "      <td>2.94</td>\n",
       "      <td>2.56</td>\n",
       "      <td>5.04</td>\n",
       "    </tr>\n",
       "    <tr>\n",
       "      <th>50%</th>\n",
       "      <td>14.36</td>\n",
       "      <td>14.32</td>\n",
       "      <td>0.87</td>\n",
       "      <td>5.52</td>\n",
       "      <td>3.24</td>\n",
       "      <td>3.60</td>\n",
       "      <td>5.22</td>\n",
       "    </tr>\n",
       "    <tr>\n",
       "      <th>75%</th>\n",
       "      <td>17.30</td>\n",
       "      <td>15.71</td>\n",
       "      <td>0.89</td>\n",
       "      <td>5.98</td>\n",
       "      <td>3.56</td>\n",
       "      <td>4.77</td>\n",
       "      <td>5.88</td>\n",
       "    </tr>\n",
       "    <tr>\n",
       "      <th>max</th>\n",
       "      <td>21.18</td>\n",
       "      <td>17.25</td>\n",
       "      <td>0.92</td>\n",
       "      <td>6.67</td>\n",
       "      <td>4.03</td>\n",
       "      <td>8.46</td>\n",
       "      <td>6.55</td>\n",
       "    </tr>\n",
       "  </tbody>\n",
       "</table>\n",
       "</div>"
      ],
      "text/plain": [
       "       spending  advance_payments  probability_of_full_payment  \\\n",
       "count    210.00            210.00                       210.00   \n",
       "mean      14.85             14.56                         0.87   \n",
       "std        2.91              1.31                         0.02   \n",
       "min       10.59             12.41                         0.81   \n",
       "25%       12.27             13.45                         0.86   \n",
       "50%       14.36             14.32                         0.87   \n",
       "75%       17.30             15.71                         0.89   \n",
       "max       21.18             17.25                         0.92   \n",
       "\n",
       "       current_balance  credit_limit  min_payment_amt  \\\n",
       "count           210.00        210.00           210.00   \n",
       "mean              5.63          3.26             3.70   \n",
       "std               0.44          0.38             1.50   \n",
       "min               4.90          2.63             0.77   \n",
       "25%               5.26          2.94             2.56   \n",
       "50%               5.52          3.24             3.60   \n",
       "75%               5.98          3.56             4.77   \n",
       "max               6.67          4.03             8.46   \n",
       "\n",
       "       max_spent_in_single_shopping  \n",
       "count                        210.00  \n",
       "mean                           5.41  \n",
       "std                            0.49  \n",
       "min                            4.52  \n",
       "25%                            5.04  \n",
       "50%                            5.22  \n",
       "75%                            5.88  \n",
       "max                            6.55  "
      ]
     },
     "execution_count": 50,
     "metadata": {},
     "output_type": "execute_result"
    }
   ],
   "source": [
    "Bank.describe()"
   ]
  },
  {
   "cell_type": "code",
   "execution_count": 51,
   "metadata": {},
   "outputs": [],
   "source": [
    "from sklearn.preprocessing import StandardScaler"
   ]
  },
  {
   "cell_type": "code",
   "execution_count": 52,
   "metadata": {},
   "outputs": [],
   "source": [
    "X = StandardScaler()"
   ]
  },
  {
   "cell_type": "code",
   "execution_count": 53,
   "metadata": {},
   "outputs": [
    {
     "data": {
      "text/plain": [
       "Index(['spending', 'advance_payments', 'probability_of_full_payment',\n",
       "       'current_balance', 'credit_limit', 'min_payment_amt',\n",
       "       'max_spent_in_single_shopping'],\n",
       "      dtype='object')"
      ]
     },
     "execution_count": 53,
     "metadata": {},
     "output_type": "execute_result"
    }
   ],
   "source": [
    "Bank.columns[0:]"
   ]
  },
  {
   "cell_type": "code",
   "execution_count": 54,
   "metadata": {},
   "outputs": [],
   "source": [
    "# Bank=Bank.drop(['probability_of_full_payment'], axis = 1)"
   ]
  },
  {
   "cell_type": "code",
   "execution_count": 55,
   "metadata": {
    "scrolled": false
   },
   "outputs": [],
   "source": [
    "Bank_scaled = pd.DataFrame(X.fit_transform(Bank.iloc[:,0:7]),columns=Bank.columns[0:7])"
   ]
  },
  {
   "cell_type": "code",
   "execution_count": 56,
   "metadata": {},
   "outputs": [
    {
     "data": {
      "text/html": [
       "<div>\n",
       "<style scoped>\n",
       "    .dataframe tbody tr th:only-of-type {\n",
       "        vertical-align: middle;\n",
       "    }\n",
       "\n",
       "    .dataframe tbody tr th {\n",
       "        vertical-align: top;\n",
       "    }\n",
       "\n",
       "    .dataframe thead th {\n",
       "        text-align: right;\n",
       "    }\n",
       "</style>\n",
       "<table border=\"1\" class=\"dataframe\">\n",
       "  <thead>\n",
       "    <tr style=\"text-align: right;\">\n",
       "      <th></th>\n",
       "      <th>spending</th>\n",
       "      <th>advance_payments</th>\n",
       "      <th>probability_of_full_payment</th>\n",
       "      <th>current_balance</th>\n",
       "      <th>credit_limit</th>\n",
       "      <th>min_payment_amt</th>\n",
       "      <th>max_spent_in_single_shopping</th>\n",
       "    </tr>\n",
       "  </thead>\n",
       "  <tbody>\n",
       "    <tr>\n",
       "      <th>0</th>\n",
       "      <td>1.75</td>\n",
       "      <td>1.81</td>\n",
       "      <td>0.18</td>\n",
       "      <td>2.37</td>\n",
       "      <td>1.34</td>\n",
       "      <td>-0.30</td>\n",
       "      <td>2.33</td>\n",
       "    </tr>\n",
       "    <tr>\n",
       "      <th>1</th>\n",
       "      <td>0.39</td>\n",
       "      <td>0.25</td>\n",
       "      <td>1.51</td>\n",
       "      <td>-0.60</td>\n",
       "      <td>0.86</td>\n",
       "      <td>-0.24</td>\n",
       "      <td>-0.54</td>\n",
       "    </tr>\n",
       "    <tr>\n",
       "      <th>2</th>\n",
       "      <td>1.41</td>\n",
       "      <td>1.43</td>\n",
       "      <td>0.51</td>\n",
       "      <td>1.40</td>\n",
       "      <td>1.32</td>\n",
       "      <td>-0.22</td>\n",
       "      <td>1.51</td>\n",
       "    </tr>\n",
       "    <tr>\n",
       "      <th>3</th>\n",
       "      <td>-1.38</td>\n",
       "      <td>-1.23</td>\n",
       "      <td>-2.57</td>\n",
       "      <td>-0.79</td>\n",
       "      <td>-1.64</td>\n",
       "      <td>0.99</td>\n",
       "      <td>-0.45</td>\n",
       "    </tr>\n",
       "    <tr>\n",
       "      <th>4</th>\n",
       "      <td>1.08</td>\n",
       "      <td>1.00</td>\n",
       "      <td>1.20</td>\n",
       "      <td>0.59</td>\n",
       "      <td>1.16</td>\n",
       "      <td>-1.09</td>\n",
       "      <td>0.87</td>\n",
       "    </tr>\n",
       "  </tbody>\n",
       "</table>\n",
       "</div>"
      ],
      "text/plain": [
       "   spending  advance_payments  probability_of_full_payment  current_balance  \\\n",
       "0      1.75              1.81                         0.18             2.37   \n",
       "1      0.39              0.25                         1.51            -0.60   \n",
       "2      1.41              1.43                         0.51             1.40   \n",
       "3     -1.38             -1.23                        -2.57            -0.79   \n",
       "4      1.08              1.00                         1.20             0.59   \n",
       "\n",
       "   credit_limit  min_payment_amt  max_spent_in_single_shopping  \n",
       "0          1.34            -0.30                          2.33  \n",
       "1          0.86            -0.24                         -0.54  \n",
       "2          1.32            -0.22                          1.51  \n",
       "3         -1.64             0.99                         -0.45  \n",
       "4          1.16            -1.09                          0.87  "
      ]
     },
     "execution_count": 56,
     "metadata": {},
     "output_type": "execute_result"
    }
   ],
   "source": [
    "Bank_scaled.head()"
   ]
  },
  {
   "cell_type": "markdown",
   "metadata": {},
   "source": [
    "###              1.3. Apply hierarchical clustering to scaled data. Identify the number of optimum clusters using Dendrogram and briefly describe them"
   ]
  },
  {
   "cell_type": "code",
   "execution_count": 57,
   "metadata": {},
   "outputs": [],
   "source": [
    "from scipy.cluster.hierarchy import dendrogram, linkage"
   ]
  },
  {
   "cell_type": "code",
   "execution_count": 58,
   "metadata": {},
   "outputs": [
    {
     "data": {
      "text/html": [
       "<div>\n",
       "<style scoped>\n",
       "    .dataframe tbody tr th:only-of-type {\n",
       "        vertical-align: middle;\n",
       "    }\n",
       "\n",
       "    .dataframe tbody tr th {\n",
       "        vertical-align: top;\n",
       "    }\n",
       "\n",
       "    .dataframe thead th {\n",
       "        text-align: right;\n",
       "    }\n",
       "</style>\n",
       "<table border=\"1\" class=\"dataframe\">\n",
       "  <thead>\n",
       "    <tr style=\"text-align: right;\">\n",
       "      <th></th>\n",
       "      <th>spending</th>\n",
       "      <th>advance_payments</th>\n",
       "      <th>probability_of_full_payment</th>\n",
       "      <th>current_balance</th>\n",
       "      <th>credit_limit</th>\n",
       "      <th>min_payment_amt</th>\n",
       "      <th>max_spent_in_single_shopping</th>\n",
       "    </tr>\n",
       "  </thead>\n",
       "  <tbody>\n",
       "    <tr>\n",
       "      <th>0</th>\n",
       "      <td>1.75</td>\n",
       "      <td>1.81</td>\n",
       "      <td>0.18</td>\n",
       "      <td>2.37</td>\n",
       "      <td>1.34</td>\n",
       "      <td>-0.30</td>\n",
       "      <td>2.33</td>\n",
       "    </tr>\n",
       "    <tr>\n",
       "      <th>1</th>\n",
       "      <td>0.39</td>\n",
       "      <td>0.25</td>\n",
       "      <td>1.51</td>\n",
       "      <td>-0.60</td>\n",
       "      <td>0.86</td>\n",
       "      <td>-0.24</td>\n",
       "      <td>-0.54</td>\n",
       "    </tr>\n",
       "    <tr>\n",
       "      <th>2</th>\n",
       "      <td>1.41</td>\n",
       "      <td>1.43</td>\n",
       "      <td>0.51</td>\n",
       "      <td>1.40</td>\n",
       "      <td>1.32</td>\n",
       "      <td>-0.22</td>\n",
       "      <td>1.51</td>\n",
       "    </tr>\n",
       "    <tr>\n",
       "      <th>3</th>\n",
       "      <td>-1.38</td>\n",
       "      <td>-1.23</td>\n",
       "      <td>-2.57</td>\n",
       "      <td>-0.79</td>\n",
       "      <td>-1.64</td>\n",
       "      <td>0.99</td>\n",
       "      <td>-0.45</td>\n",
       "    </tr>\n",
       "    <tr>\n",
       "      <th>4</th>\n",
       "      <td>1.08</td>\n",
       "      <td>1.00</td>\n",
       "      <td>1.20</td>\n",
       "      <td>0.59</td>\n",
       "      <td>1.16</td>\n",
       "      <td>-1.09</td>\n",
       "      <td>0.87</td>\n",
       "    </tr>\n",
       "    <tr>\n",
       "      <th>...</th>\n",
       "      <td>...</td>\n",
       "      <td>...</td>\n",
       "      <td>...</td>\n",
       "      <td>...</td>\n",
       "      <td>...</td>\n",
       "      <td>...</td>\n",
       "      <td>...</td>\n",
       "    </tr>\n",
       "    <tr>\n",
       "      <th>205</th>\n",
       "      <td>-0.33</td>\n",
       "      <td>-0.41</td>\n",
       "      <td>0.72</td>\n",
       "      <td>-0.43</td>\n",
       "      <td>-0.16</td>\n",
       "      <td>0.19</td>\n",
       "      <td>-1.37</td>\n",
       "    </tr>\n",
       "    <tr>\n",
       "      <th>206</th>\n",
       "      <td>0.66</td>\n",
       "      <td>0.81</td>\n",
       "      <td>-0.31</td>\n",
       "      <td>0.68</td>\n",
       "      <td>0.48</td>\n",
       "      <td>0.81</td>\n",
       "      <td>0.79</td>\n",
       "    </tr>\n",
       "    <tr>\n",
       "      <th>207</th>\n",
       "      <td>-0.28</td>\n",
       "      <td>-0.31</td>\n",
       "      <td>0.36</td>\n",
       "      <td>-0.43</td>\n",
       "      <td>-0.15</td>\n",
       "      <td>-1.32</td>\n",
       "      <td>-0.83</td>\n",
       "    </tr>\n",
       "    <tr>\n",
       "      <th>208</th>\n",
       "      <td>0.44</td>\n",
       "      <td>0.34</td>\n",
       "      <td>1.23</td>\n",
       "      <td>0.18</td>\n",
       "      <td>0.60</td>\n",
       "      <td>-0.95</td>\n",
       "      <td>0.07</td>\n",
       "    </tr>\n",
       "    <tr>\n",
       "      <th>209</th>\n",
       "      <td>0.25</td>\n",
       "      <td>0.45</td>\n",
       "      <td>-0.78</td>\n",
       "      <td>0.66</td>\n",
       "      <td>-0.07</td>\n",
       "      <td>-0.71</td>\n",
       "      <td>0.96</td>\n",
       "    </tr>\n",
       "  </tbody>\n",
       "</table>\n",
       "<p>210 rows × 7 columns</p>\n",
       "</div>"
      ],
      "text/plain": [
       "     spending  advance_payments  probability_of_full_payment  current_balance  \\\n",
       "0        1.75              1.81                         0.18             2.37   \n",
       "1        0.39              0.25                         1.51            -0.60   \n",
       "2        1.41              1.43                         0.51             1.40   \n",
       "3       -1.38             -1.23                        -2.57            -0.79   \n",
       "4        1.08              1.00                         1.20             0.59   \n",
       "..        ...               ...                          ...              ...   \n",
       "205     -0.33             -0.41                         0.72            -0.43   \n",
       "206      0.66              0.81                        -0.31             0.68   \n",
       "207     -0.28             -0.31                         0.36            -0.43   \n",
       "208      0.44              0.34                         1.23             0.18   \n",
       "209      0.25              0.45                        -0.78             0.66   \n",
       "\n",
       "     credit_limit  min_payment_amt  max_spent_in_single_shopping  \n",
       "0            1.34            -0.30                          2.33  \n",
       "1            0.86            -0.24                         -0.54  \n",
       "2            1.32            -0.22                          1.51  \n",
       "3           -1.64             0.99                         -0.45  \n",
       "4            1.16            -1.09                          0.87  \n",
       "..            ...              ...                           ...  \n",
       "205         -0.16             0.19                         -1.37  \n",
       "206          0.48             0.81                          0.79  \n",
       "207         -0.15            -1.32                         -0.83  \n",
       "208          0.60            -0.95                          0.07  \n",
       "209         -0.07            -0.71                          0.96  \n",
       "\n",
       "[210 rows x 7 columns]"
      ]
     },
     "execution_count": 58,
     "metadata": {},
     "output_type": "execute_result"
    }
   ],
   "source": [
    "Bank_scaled.iloc[:,0:7]"
   ]
  },
  {
   "cell_type": "code",
   "execution_count": 59,
   "metadata": {},
   "outputs": [],
   "source": [
    "link_method = linkage(Bank_scaled.iloc[:,0:8], method = 'average')"
   ]
  },
  {
   "cell_type": "code",
   "execution_count": 60,
   "metadata": {
    "scrolled": true
   },
   "outputs": [],
   "source": [
    "labelList = np.arange(len(Bank_scaled))"
   ]
  },
  {
   "cell_type": "code",
   "execution_count": 61,
   "metadata": {},
   "outputs": [
    {
     "data": {
      "image/png": "[encoded data removed]",
      "text/plain": [
       "<Figure size 432x288 with 1 Axes>"
      ]
     },
     "metadata": {
      "needs_background": "light"
     },
     "output_type": "display_data"
    }
   ],
   "source": [
    "dend = dendrogram(link_method,labels = labelList)"
   ]
  },
  {
   "cell_type": "code",
   "execution_count": 62,
   "metadata": {},
   "outputs": [
    {
     "data": {
      "image/png": "[encoded data removed]",
      "text/plain": [
       "<Figure size 432x288 with 1 Axes>"
      ]
     },
     "metadata": {
      "needs_background": "light"
     },
     "output_type": "display_data"
    }
   ],
   "source": [
    "dend = dendrogram(link_method,\n",
    "                 truncate_mode='lastp',\n",
    "                 p=10,\n",
    "                 labels=labelList)"
   ]
  },
  {
   "cell_type": "code",
   "execution_count": 63,
   "metadata": {
    "scrolled": true
   },
   "outputs": [
    {
     "data": {
      "text/plain": [
       "array([1, 3, 1, 2, 1, 3, 2, 2, 1, 2, 1, 1, 2, 1, 3, 3, 3, 2, 2, 2, 2, 2,\n",
       "       1, 2, 3, 1, 3, 2, 2, 2, 2, 2, 2, 3, 2, 2, 2, 2, 2, 1, 1, 3, 1, 1,\n",
       "       2, 2, 3, 1, 1, 1, 2, 1, 1, 1, 1, 1, 2, 2, 2, 1, 3, 2, 2, 1, 3, 1,\n",
       "       1, 3, 1, 2, 3, 2, 1, 1, 2, 1, 3, 2, 1, 3, 3, 3, 3, 1, 2, 1, 1, 1,\n",
       "       1, 3, 3, 1, 3, 2, 2, 1, 1, 1, 2, 1, 3, 1, 3, 1, 3, 1, 1, 2, 3, 1,\n",
       "       1, 3, 1, 2, 2, 1, 3, 3, 2, 1, 3, 2, 2, 2, 3, 3, 1, 2, 3, 3, 2, 3,\n",
       "       3, 1, 2, 1, 1, 2, 1, 3, 3, 3, 2, 2, 2, 2, 1, 2, 3, 2, 3, 2, 3, 1,\n",
       "       3, 3, 2, 2, 3, 1, 1, 2, 1, 1, 1, 2, 1, 3, 3, 2, 3, 2, 3, 1, 1, 1,\n",
       "       3, 2, 3, 2, 3, 2, 3, 3, 1, 1, 3, 1, 3, 2, 3, 3, 2, 1, 3, 1, 1, 2,\n",
       "       1, 2, 3, 3, 3, 2, 1, 3, 1, 3, 3, 1], dtype=int32)"
      ]
     },
     "execution_count": 63,
     "metadata": {},
     "output_type": "execute_result"
    }
   ],
   "source": [
    "clusters = fcluster(link_method,3, criterion='maxclust')\n",
    "clusters"
   ]
  },
  {
   "cell_type": "code",
   "execution_count": 64,
   "metadata": {},
   "outputs": [],
   "source": [
    "Bank['clusters'] = clusters"
   ]
  },
  {
   "cell_type": "code",
   "execution_count": 66,
   "metadata": {
    "scrolled": true
   },
   "outputs": [
    {
     "data": {
      "text/plain": [
       "1    75\n",
       "2    70\n",
       "3    65\n",
       "Name: clusters, dtype: int64"
      ]
     },
     "execution_count": 66,
     "metadata": {},
     "output_type": "execute_result"
    }
   ],
   "source": [
    "Bank.clusters.value_counts().sort_index()"
   ]
  },
  {
   "cell_type": "code",
   "execution_count": 67,
   "metadata": {},
   "outputs": [
    {
     "data": {
      "text/html": [
       "<div>\n",
       "<style scoped>\n",
       "    .dataframe tbody tr th:only-of-type {\n",
       "        vertical-align: middle;\n",
       "    }\n",
       "\n",
       "    .dataframe tbody tr th {\n",
       "        vertical-align: top;\n",
       "    }\n",
       "\n",
       "    .dataframe thead th {\n",
       "        text-align: right;\n",
       "    }\n",
       "</style>\n",
       "<table border=\"1\" class=\"dataframe\">\n",
       "  <thead>\n",
       "    <tr style=\"text-align: right;\">\n",
       "      <th></th>\n",
       "      <th>spending</th>\n",
       "      <th>advance_payments</th>\n",
       "      <th>probability_of_full_payment</th>\n",
       "      <th>current_balance</th>\n",
       "      <th>credit_limit</th>\n",
       "      <th>min_payment_amt</th>\n",
       "      <th>max_spent_in_single_shopping</th>\n",
       "      <th>Freq</th>\n",
       "    </tr>\n",
       "    <tr>\n",
       "      <th>clusters</th>\n",
       "      <th></th>\n",
       "      <th></th>\n",
       "      <th></th>\n",
       "      <th></th>\n",
       "      <th></th>\n",
       "      <th></th>\n",
       "      <th></th>\n",
       "      <th></th>\n",
       "    </tr>\n",
       "  </thead>\n",
       "  <tbody>\n",
       "    <tr>\n",
       "      <th>2</th>\n",
       "      <td>11.92</td>\n",
       "      <td>13.29</td>\n",
       "      <td>0.85</td>\n",
       "      <td>5.26</td>\n",
       "      <td>2.85</td>\n",
       "      <td>4.62</td>\n",
       "      <td>5.12</td>\n",
       "      <td>70</td>\n",
       "    </tr>\n",
       "    <tr>\n",
       "      <th>3</th>\n",
       "      <td>14.22</td>\n",
       "      <td>14.20</td>\n",
       "      <td>0.88</td>\n",
       "      <td>5.44</td>\n",
       "      <td>3.25</td>\n",
       "      <td>2.77</td>\n",
       "      <td>5.06</td>\n",
       "      <td>65</td>\n",
       "    </tr>\n",
       "    <tr>\n",
       "      <th>1</th>\n",
       "      <td>18.13</td>\n",
       "      <td>16.06</td>\n",
       "      <td>0.88</td>\n",
       "      <td>6.14</td>\n",
       "      <td>3.65</td>\n",
       "      <td>3.65</td>\n",
       "      <td>5.99</td>\n",
       "      <td>75</td>\n",
       "    </tr>\n",
       "  </tbody>\n",
       "</table>\n",
       "</div>"
      ],
      "text/plain": [
       "          spending  advance_payments  probability_of_full_payment  \\\n",
       "clusters                                                            \n",
       "2            11.92             13.29                         0.85   \n",
       "3            14.22             14.20                         0.88   \n",
       "1            18.13             16.06                         0.88   \n",
       "\n",
       "          current_balance  credit_limit  min_payment_amt  \\\n",
       "clusters                                                   \n",
       "2                    5.26          2.85             4.62   \n",
       "3                    5.44          3.25             2.77   \n",
       "1                    6.14          3.65             3.65   \n",
       "\n",
       "          max_spent_in_single_shopping  Freq  \n",
       "clusters                                      \n",
       "2                                 5.12    70  \n",
       "3                                 5.06    65  \n",
       "1                                 5.99    75  "
      ]
     },
     "execution_count": 67,
     "metadata": {},
     "output_type": "execute_result"
    }
   ],
   "source": [
    "aggdata=Bank.iloc[:,0:8].groupby('clusters').mean().sort_values(by='spending')\n",
    "aggdata['Freq']=Bank.clusters.value_counts().sort_index()\n",
    "aggdata"
   ]
  },
  {
   "cell_type": "code",
   "execution_count": 68,
   "metadata": {},
   "outputs": [
    {
     "data": {
      "text/html": [
       "<div>\n",
       "<style scoped>\n",
       "    .dataframe tbody tr th:only-of-type {\n",
       "        vertical-align: middle;\n",
       "    }\n",
       "\n",
       "    .dataframe tbody tr th {\n",
       "        vertical-align: top;\n",
       "    }\n",
       "\n",
       "    .dataframe thead th {\n",
       "        text-align: right;\n",
       "    }\n",
       "</style>\n",
       "<table border=\"1\" class=\"dataframe\">\n",
       "  <thead>\n",
       "    <tr style=\"text-align: right;\">\n",
       "      <th></th>\n",
       "      <th>spending</th>\n",
       "      <th>advance_payments</th>\n",
       "      <th>probability_of_full_payment</th>\n",
       "      <th>current_balance</th>\n",
       "      <th>credit_limit</th>\n",
       "      <th>min_payment_amt</th>\n",
       "      <th>max_spent_in_single_shopping</th>\n",
       "      <th>Freq</th>\n",
       "    </tr>\n",
       "  </thead>\n",
       "  <tbody>\n",
       "    <tr>\n",
       "      <th>count</th>\n",
       "      <td>3.00</td>\n",
       "      <td>3.00</td>\n",
       "      <td>3.00</td>\n",
       "      <td>3.00</td>\n",
       "      <td>3.00</td>\n",
       "      <td>3.00</td>\n",
       "      <td>3.00</td>\n",
       "      <td>3.00</td>\n",
       "    </tr>\n",
       "    <tr>\n",
       "      <th>mean</th>\n",
       "      <td>14.75</td>\n",
       "      <td>14.51</td>\n",
       "      <td>0.87</td>\n",
       "      <td>5.61</td>\n",
       "      <td>3.25</td>\n",
       "      <td>3.68</td>\n",
       "      <td>5.39</td>\n",
       "      <td>70.00</td>\n",
       "    </tr>\n",
       "    <tr>\n",
       "      <th>std</th>\n",
       "      <td>3.14</td>\n",
       "      <td>1.41</td>\n",
       "      <td>0.02</td>\n",
       "      <td>0.46</td>\n",
       "      <td>0.40</td>\n",
       "      <td>0.93</td>\n",
       "      <td>0.52</td>\n",
       "      <td>5.00</td>\n",
       "    </tr>\n",
       "    <tr>\n",
       "      <th>min</th>\n",
       "      <td>11.92</td>\n",
       "      <td>13.29</td>\n",
       "      <td>0.85</td>\n",
       "      <td>5.26</td>\n",
       "      <td>2.85</td>\n",
       "      <td>2.77</td>\n",
       "      <td>5.06</td>\n",
       "      <td>65.00</td>\n",
       "    </tr>\n",
       "    <tr>\n",
       "      <th>25%</th>\n",
       "      <td>13.07</td>\n",
       "      <td>13.74</td>\n",
       "      <td>0.86</td>\n",
       "      <td>5.35</td>\n",
       "      <td>3.05</td>\n",
       "      <td>3.21</td>\n",
       "      <td>5.09</td>\n",
       "      <td>67.50</td>\n",
       "    </tr>\n",
       "    <tr>\n",
       "      <th>50%</th>\n",
       "      <td>14.22</td>\n",
       "      <td>14.20</td>\n",
       "      <td>0.88</td>\n",
       "      <td>5.44</td>\n",
       "      <td>3.25</td>\n",
       "      <td>3.65</td>\n",
       "      <td>5.12</td>\n",
       "      <td>70.00</td>\n",
       "    </tr>\n",
       "    <tr>\n",
       "      <th>75%</th>\n",
       "      <td>16.17</td>\n",
       "      <td>15.13</td>\n",
       "      <td>0.88</td>\n",
       "      <td>5.79</td>\n",
       "      <td>3.45</td>\n",
       "      <td>4.13</td>\n",
       "      <td>5.55</td>\n",
       "      <td>72.50</td>\n",
       "    </tr>\n",
       "    <tr>\n",
       "      <th>max</th>\n",
       "      <td>18.13</td>\n",
       "      <td>16.06</td>\n",
       "      <td>0.88</td>\n",
       "      <td>6.14</td>\n",
       "      <td>3.65</td>\n",
       "      <td>4.62</td>\n",
       "      <td>5.99</td>\n",
       "      <td>75.00</td>\n",
       "    </tr>\n",
       "  </tbody>\n",
       "</table>\n",
       "</div>"
      ],
      "text/plain": [
       "       spending  advance_payments  probability_of_full_payment  \\\n",
       "count      3.00              3.00                         3.00   \n",
       "mean      14.75             14.51                         0.87   \n",
       "std        3.14              1.41                         0.02   \n",
       "min       11.92             13.29                         0.85   \n",
       "25%       13.07             13.74                         0.86   \n",
       "50%       14.22             14.20                         0.88   \n",
       "75%       16.17             15.13                         0.88   \n",
       "max       18.13             16.06                         0.88   \n",
       "\n",
       "       current_balance  credit_limit  min_payment_amt  \\\n",
       "count             3.00          3.00             3.00   \n",
       "mean              5.61          3.25             3.68   \n",
       "std               0.46          0.40             0.93   \n",
       "min               5.26          2.85             2.77   \n",
       "25%               5.35          3.05             3.21   \n",
       "50%               5.44          3.25             3.65   \n",
       "75%               5.79          3.45             4.13   \n",
       "max               6.14          3.65             4.62   \n",
       "\n",
       "       max_spent_in_single_shopping  Freq  \n",
       "count                          3.00  3.00  \n",
       "mean                           5.39 70.00  \n",
       "std                            0.52  5.00  \n",
       "min                            5.06 65.00  \n",
       "25%                            5.09 67.50  \n",
       "50%                            5.12 70.00  \n",
       "75%                            5.55 72.50  \n",
       "max                            5.99 75.00  "
      ]
     },
     "execution_count": 68,
     "metadata": {},
     "output_type": "execute_result"
    }
   ],
   "source": [
    "aggdata.describe()"
   ]
  },
  {
   "cell_type": "code",
   "execution_count": 69,
   "metadata": {},
   "outputs": [
    {
     "data": {
      "image/png": "[encoded data removed]",
      "text/plain": [
       "<Figure size 432x288 with 1 Axes>"
      ]
     },
     "metadata": {
      "needs_background": "light"
     },
     "output_type": "display_data"
    }
   ],
   "source": [
    "sns.scatterplot(x='clusters', y='spending', data=aggdata) \n",
    "plt.ticklabel_format(style='plain', axis='x')"
   ]
  },
  {
   "cell_type": "code",
   "execution_count": 70,
   "metadata": {
    "scrolled": true
   },
   "outputs": [
    {
     "data": {
      "image/png": "[encoded data removed]",
      "text/plain": [
       "<Figure size 432x288 with 1 Axes>"
      ]
     },
     "metadata": {
      "needs_background": "light"
     },
     "output_type": "display_data"
    }
   ],
   "source": [
    "sns.scatterplot(x='spending', y='advance_payments',hue='clusters', data=aggdata) \n",
    "plt.ticklabel_format(style='plain', axis='x')"
   ]
  },
  {
   "cell_type": "code",
   "execution_count": 71,
   "metadata": {
    "scrolled": true
   },
   "outputs": [
    {
     "data": {
      "image/png": "[encoded data removed]",
      "text/plain": [
       "<Figure size 432x288 with 1 Axes>"
      ]
     },
     "metadata": {
      "needs_background": "light"
     },
     "output_type": "display_data"
    }
   ],
   "source": [
    "sns.scatterplot(x='spending', y='probability_of_full_payment',hue='clusters', data=aggdata)\n",
    "plt.ticklabel_format(style='plain', axis='x')"
   ]
  },
  {
   "cell_type": "code",
   "execution_count": null,
   "metadata": {},
   "outputs": [],
   "source": []
  },
  {
   "cell_type": "code",
   "execution_count": null,
   "metadata": {
    "scrolled": true
   },
   "outputs": [],
   "source": [
    "sns.scatterplot(x='spending', y='current_balance',hue='clusters', data=aggdata)\n",
    "plt.ticklabel_format(style='plain', axis='x')"
   ]
  },
  {
   "cell_type": "code",
   "execution_count": null,
   "metadata": {},
   "outputs": [],
   "source": [
    "sns.scatterplot(x='spending', y='credit_limit',hue='clusters', data=aggdata)\n",
    "plt.ticklabel_format(style='plain', axis='x')"
   ]
  },
  {
   "cell_type": "code",
   "execution_count": null,
   "metadata": {},
   "outputs": [],
   "source": [
    "sns.scatterplot(x='spending', y='min_payment_amt',hue='clusters', data=aggdata)\n",
    "plt.ticklabel_format(style='plain', axis='x')"
   ]
  },
  {
   "cell_type": "code",
   "execution_count": null,
   "metadata": {
    "scrolled": true
   },
   "outputs": [],
   "source": [
    "sns.scatterplot(x='spending', y='max_spent_in_single_shopping',hue='clusters', data=aggdata)\n",
    "plt.ticklabel_format(style='plain', axis='x')"
   ]
  },
  {
   "cell_type": "markdown",
   "metadata": {},
   "source": [
    "###             1.4. Apply K-Means clustering on scaled data and determine optimum clusters. Apply elbow curve and silhouette score. Explain the results properly. Interpret and write inferences on the finalized clusters."
   ]
  },
  {
   "cell_type": "markdown",
   "metadata": {},
   "source": [
    "### Calculating WSS for other values of K - Elbow Method"
   ]
  },
  {
   "cell_type": "code",
   "execution_count": 72,
   "metadata": {},
   "outputs": [],
   "source": [
    "wss =[] "
   ]
  },
  {
   "cell_type": "code",
   "execution_count": 73,
   "metadata": {},
   "outputs": [],
   "source": [
    "for i in range(1,11):\n",
    "    KM = KMeans(n_clusters=i,random_state=1)\n",
    "    KM.fit(Bank_scaled)\n",
    "    wss.append(KM.inertia_)"
   ]
  },
  {
   "cell_type": "code",
   "execution_count": 74,
   "metadata": {},
   "outputs": [
    {
     "data": {
      "text/plain": [
       "[1470.0,\n",
       " 659.1089125654629,\n",
       " 430.51206029051684,\n",
       " 371.16487493380384,\n",
       " 327.90200158429354,\n",
       " 290.34216771393557,\n",
       " 262.06970623006134,\n",
       " 240.7389726714008,\n",
       " 224.559263493065,\n",
       " 206.35880459576322]"
      ]
     },
     "execution_count": 74,
     "metadata": {},
     "output_type": "execute_result"
    }
   ],
   "source": [
    "wss"
   ]
  },
  {
   "cell_type": "code",
   "execution_count": 75,
   "metadata": {},
   "outputs": [
    {
     "data": {
      "text/plain": [
       "[<matplotlib.lines.Line2D at 0x2577fb50>]"
      ]
     },
     "execution_count": 75,
     "metadata": {},
     "output_type": "execute_result"
    },
    {
     "data": {
      "image/png": "[encoded data removed]",
      "text/plain": [
       "<Figure size 432x288 with 1 Axes>"
      ]
     },
     "metadata": {
      "needs_background": "light"
     },
     "output_type": "display_data"
    }
   ],
   "source": [
    "plt.plot(range(1,11), wss)"
   ]
  },
  {
   "cell_type": "markdown",
   "metadata": {},
   "source": [
    "# KMeans"
   ]
  },
  {
   "cell_type": "code",
   "execution_count": 76,
   "metadata": {},
   "outputs": [],
   "source": [
    "sls =[] \n",
    "for i in range(2,12):\n",
    "    k_means = KMeans(n_clusters=i, random_state=1)\n",
    "    k_means.fit(Bank_scaled)\n",
    "    labels = k_means.labels_\n",
    "#     print(x-silhouette_score(Bank_scaled,labels, random_state=1))\n",
    "#     x= silhouette_score(Bank_scaled,labels, random_state=1)\n",
    "    sls.append(silhouette_score(Bank_scaled,labels, random_state=1))"
   ]
  },
  {
   "cell_type": "code",
   "execution_count": 77,
   "metadata": {},
   "outputs": [
    {
     "data": {
      "text/plain": [
       "[0.465776699623352,\n",
       " 0.40086389728433913,\n",
       " 0.32775518030020434,\n",
       " 0.27853448242928874,\n",
       " 0.2746325704750688,\n",
       " 0.28027106808343505,\n",
       " 0.25765014957752674,\n",
       " 0.26517588612934323,\n",
       " 0.240471942121349,\n",
       " 0.256392899804882]"
      ]
     },
     "execution_count": 77,
     "metadata": {},
     "output_type": "execute_result"
    }
   ],
   "source": [
    "sls"
   ]
  },
  {
   "cell_type": "code",
   "execution_count": 78,
   "metadata": {},
   "outputs": [
    {
     "data": {
      "text/plain": [
       "[<matplotlib.lines.Line2D at 0x257ef4c0>]"
      ]
     },
     "execution_count": 78,
     "metadata": {},
     "output_type": "execute_result"
    },
    {
     "data": {
      "image/png": "[encoded data removed]",
      "text/plain": [
       "<Figure size 432x288 with 1 Axes>"
      ]
     },
     "metadata": {
      "needs_background": "light"
     },
     "output_type": "display_data"
    }
   ],
   "source": [
    "plt.plot(range(1,11), sls)"
   ]
  },
  {
   "cell_type": "code",
   "execution_count": 79,
   "metadata": {},
   "outputs": [],
   "source": [
    "k_means = KMeans(n_clusters=3, random_state=1)\n",
    "k_means.fit(Bank_scaled)\n",
    "labels = k_means.labels_"
   ]
  },
  {
   "cell_type": "code",
   "execution_count": 80,
   "metadata": {},
   "outputs": [
    {
     "data": {
      "text/html": [
       "<div>\n",
       "<style scoped>\n",
       "    .dataframe tbody tr th:only-of-type {\n",
       "        vertical-align: middle;\n",
       "    }\n",
       "\n",
       "    .dataframe tbody tr th {\n",
       "        vertical-align: top;\n",
       "    }\n",
       "\n",
       "    .dataframe thead th {\n",
       "        text-align: right;\n",
       "    }\n",
       "</style>\n",
       "<table border=\"1\" class=\"dataframe\">\n",
       "  <thead>\n",
       "    <tr style=\"text-align: right;\">\n",
       "      <th></th>\n",
       "      <th>spending</th>\n",
       "      <th>advance_payments</th>\n",
       "      <th>probability_of_full_payment</th>\n",
       "      <th>current_balance</th>\n",
       "      <th>credit_limit</th>\n",
       "      <th>min_payment_amt</th>\n",
       "      <th>max_spent_in_single_shopping</th>\n",
       "      <th>clusters</th>\n",
       "      <th>Clus_kmeans4</th>\n",
       "    </tr>\n",
       "  </thead>\n",
       "  <tbody>\n",
       "    <tr>\n",
       "      <th>0</th>\n",
       "      <td>19.94</td>\n",
       "      <td>16.92</td>\n",
       "      <td>0.88</td>\n",
       "      <td>6.67</td>\n",
       "      <td>3.76</td>\n",
       "      <td>3.25</td>\n",
       "      <td>6.55</td>\n",
       "      <td>1</td>\n",
       "      <td>1</td>\n",
       "    </tr>\n",
       "    <tr>\n",
       "      <th>1</th>\n",
       "      <td>15.99</td>\n",
       "      <td>14.89</td>\n",
       "      <td>0.91</td>\n",
       "      <td>5.36</td>\n",
       "      <td>3.58</td>\n",
       "      <td>3.34</td>\n",
       "      <td>5.14</td>\n",
       "      <td>3</td>\n",
       "      <td>2</td>\n",
       "    </tr>\n",
       "    <tr>\n",
       "      <th>2</th>\n",
       "      <td>18.95</td>\n",
       "      <td>16.42</td>\n",
       "      <td>0.88</td>\n",
       "      <td>6.25</td>\n",
       "      <td>3.75</td>\n",
       "      <td>3.37</td>\n",
       "      <td>6.15</td>\n",
       "      <td>1</td>\n",
       "      <td>1</td>\n",
       "    </tr>\n",
       "    <tr>\n",
       "      <th>3</th>\n",
       "      <td>10.83</td>\n",
       "      <td>12.96</td>\n",
       "      <td>0.81</td>\n",
       "      <td>5.28</td>\n",
       "      <td>2.64</td>\n",
       "      <td>5.18</td>\n",
       "      <td>5.18</td>\n",
       "      <td>2</td>\n",
       "      <td>0</td>\n",
       "    </tr>\n",
       "    <tr>\n",
       "      <th>4</th>\n",
       "      <td>17.99</td>\n",
       "      <td>15.86</td>\n",
       "      <td>0.90</td>\n",
       "      <td>5.89</td>\n",
       "      <td>3.69</td>\n",
       "      <td>2.07</td>\n",
       "      <td>5.84</td>\n",
       "      <td>1</td>\n",
       "      <td>1</td>\n",
       "    </tr>\n",
       "  </tbody>\n",
       "</table>\n",
       "</div>"
      ],
      "text/plain": [
       "   spending  advance_payments  probability_of_full_payment  current_balance  \\\n",
       "0     19.94             16.92                         0.88             6.67   \n",
       "1     15.99             14.89                         0.91             5.36   \n",
       "2     18.95             16.42                         0.88             6.25   \n",
       "3     10.83             12.96                         0.81             5.28   \n",
       "4     17.99             15.86                         0.90             5.89   \n",
       "\n",
       "   credit_limit  min_payment_amt  max_spent_in_single_shopping  clusters  \\\n",
       "0          3.76             3.25                          6.55         1   \n",
       "1          3.58             3.34                          5.14         3   \n",
       "2          3.75             3.37                          6.15         1   \n",
       "3          2.64             5.18                          5.18         2   \n",
       "4          3.69             2.07                          5.84         1   \n",
       "\n",
       "   Clus_kmeans4  \n",
       "0             1  \n",
       "1             2  \n",
       "2             1  \n",
       "3             0  \n",
       "4             1  "
      ]
     },
     "execution_count": 80,
     "metadata": {},
     "output_type": "execute_result"
    }
   ],
   "source": [
    "# Bank=Bank.drop(['clusters','labels'],axis=1)\n",
    "Bank[\"Clus_kmeans4\"] = labels\n",
    "Bank.head()"
   ]
  },
  {
   "cell_type": "markdown",
   "metadata": {},
   "source": [
    "# Cluster Profiling"
   ]
  },
  {
   "cell_type": "code",
   "execution_count": 81,
   "metadata": {},
   "outputs": [
    {
     "data": {
      "text/plain": [
       "0    72\n",
       "1    67\n",
       "2    71\n",
       "Name: Clus_kmeans4, dtype: int64"
      ]
     },
     "execution_count": 81,
     "metadata": {},
     "output_type": "execute_result"
    }
   ],
   "source": [
    "Bank.Clus_kmeans4.value_counts().sort_index()"
   ]
  },
  {
   "cell_type": "code",
   "execution_count": 82,
   "metadata": {
    "scrolled": true
   },
   "outputs": [
    {
     "data": {
      "text/html": [
       "<div>\n",
       "<style scoped>\n",
       "    .dataframe tbody tr th:only-of-type {\n",
       "        vertical-align: middle;\n",
       "    }\n",
       "\n",
       "    .dataframe tbody tr th {\n",
       "        vertical-align: top;\n",
       "    }\n",
       "\n",
       "    .dataframe thead th {\n",
       "        text-align: right;\n",
       "    }\n",
       "</style>\n",
       "<table border=\"1\" class=\"dataframe\">\n",
       "  <thead>\n",
       "    <tr style=\"text-align: right;\">\n",
       "      <th></th>\n",
       "      <th>spending</th>\n",
       "      <th>advance_payments</th>\n",
       "      <th>probability_of_full_payment</th>\n",
       "      <th>current_balance</th>\n",
       "      <th>credit_limit</th>\n",
       "      <th>min_payment_amt</th>\n",
       "      <th>max_spent_in_single_shopping</th>\n",
       "      <th>Freq</th>\n",
       "    </tr>\n",
       "    <tr>\n",
       "      <th>Clus_kmeans4</th>\n",
       "      <th></th>\n",
       "      <th></th>\n",
       "      <th></th>\n",
       "      <th></th>\n",
       "      <th></th>\n",
       "      <th></th>\n",
       "      <th></th>\n",
       "      <th></th>\n",
       "    </tr>\n",
       "  </thead>\n",
       "  <tbody>\n",
       "    <tr>\n",
       "      <th>0</th>\n",
       "      <td>11.86</td>\n",
       "      <td>13.25</td>\n",
       "      <td>0.85</td>\n",
       "      <td>5.23</td>\n",
       "      <td>2.85</td>\n",
       "      <td>4.74</td>\n",
       "      <td>5.10</td>\n",
       "      <td>72</td>\n",
       "    </tr>\n",
       "    <tr>\n",
       "      <th>2</th>\n",
       "      <td>14.44</td>\n",
       "      <td>14.34</td>\n",
       "      <td>0.88</td>\n",
       "      <td>5.51</td>\n",
       "      <td>3.26</td>\n",
       "      <td>2.71</td>\n",
       "      <td>5.12</td>\n",
       "      <td>71</td>\n",
       "    </tr>\n",
       "    <tr>\n",
       "      <th>1</th>\n",
       "      <td>18.50</td>\n",
       "      <td>16.20</td>\n",
       "      <td>0.88</td>\n",
       "      <td>6.18</td>\n",
       "      <td>3.70</td>\n",
       "      <td>3.63</td>\n",
       "      <td>6.04</td>\n",
       "      <td>67</td>\n",
       "    </tr>\n",
       "  </tbody>\n",
       "</table>\n",
       "</div>"
      ],
      "text/plain": [
       "              spending  advance_payments  probability_of_full_payment  \\\n",
       "Clus_kmeans4                                                            \n",
       "0                11.86             13.25                         0.85   \n",
       "2                14.44             14.34                         0.88   \n",
       "1                18.50             16.20                         0.88   \n",
       "\n",
       "              current_balance  credit_limit  min_payment_amt  \\\n",
       "Clus_kmeans4                                                   \n",
       "0                        5.23          2.85             4.74   \n",
       "2                        5.51          3.26             2.71   \n",
       "1                        6.18          3.70             3.63   \n",
       "\n",
       "              max_spent_in_single_shopping  Freq  \n",
       "Clus_kmeans4                                      \n",
       "0                                     5.10    72  \n",
       "2                                     5.12    71  \n",
       "1                                     6.04    67  "
      ]
     },
     "execution_count": 82,
     "metadata": {},
     "output_type": "execute_result"
    }
   ],
   "source": [
    "Bank=Bank.drop(['clusters'],axis=1)\n",
    "clust_profile=Bank.iloc[:,0:8].groupby('Clus_kmeans4').mean().sort_values(by='spending')\n",
    "clust_profile['Freq']=Bank.Clus_kmeans4.value_counts().sort_index()\n",
    "clust_profile"
   ]
  },
  {
   "cell_type": "code",
   "execution_count": 83,
   "metadata": {},
   "outputs": [
    {
     "ename": "ModuleNotFoundError",
     "evalue": "No module named 'openpyxl'",
     "output_type": "error",
     "traceback": [
      "\u001b[1;31m---------------------------------------------------------------------------\u001b[0m",
      "\u001b[1;31mModuleNotFoundError\u001b[0m                       Traceback (most recent call last)",
      "Input \u001b[1;32mIn [83]\u001b[0m, in \u001b[0;36m<module>\u001b[1;34m\u001b[0m\n\u001b[1;32m----> 1\u001b[0m \u001b[43mBank\u001b[49m\u001b[38;5;241;43m.\u001b[39;49m\u001b[43mto_excel\u001b[49m\u001b[43m(\u001b[49m\u001b[38;5;124;43m'\u001b[39;49m\u001b[38;5;124;43mBank_Kmeans.xlsx\u001b[39;49m\u001b[38;5;124;43m'\u001b[39;49m\u001b[43m)\u001b[49m\n",
      "File \u001b[1;32m~\\anaconda3\\lib\\site-packages\\pandas\\core\\generic.py:2357\u001b[0m, in \u001b[0;36mNDFrame.to_excel\u001b[1;34m(self, excel_writer, sheet_name, na_rep, float_format, columns, header, index, index_label, startrow, startcol, engine, merge_cells, encoding, inf_rep, verbose, freeze_panes, storage_options)\u001b[0m\n\u001b[0;32m   2344\u001b[0m \u001b[38;5;28;01mfrom\u001b[39;00m \u001b[38;5;21;01mpandas\u001b[39;00m\u001b[38;5;21;01m.\u001b[39;00m\u001b[38;5;21;01mio\u001b[39;00m\u001b[38;5;21;01m.\u001b[39;00m\u001b[38;5;21;01mformats\u001b[39;00m\u001b[38;5;21;01m.\u001b[39;00m\u001b[38;5;21;01mexcel\u001b[39;00m \u001b[38;5;28;01mimport\u001b[39;00m ExcelFormatter\n\u001b[0;32m   2346\u001b[0m formatter \u001b[38;5;241m=\u001b[39m ExcelFormatter(\n\u001b[0;32m   2347\u001b[0m     df,\n\u001b[0;32m   2348\u001b[0m     na_rep\u001b[38;5;241m=\u001b[39mna_rep,\n\u001b[1;32m   (...)\u001b[0m\n\u001b[0;32m   2355\u001b[0m     inf_rep\u001b[38;5;241m=\u001b[39minf_rep,\n\u001b[0;32m   2356\u001b[0m )\n\u001b[1;32m-> 2357\u001b[0m \u001b[43mformatter\u001b[49m\u001b[38;5;241;43m.\u001b[39;49m\u001b[43mwrite\u001b[49m\u001b[43m(\u001b[49m\n\u001b[0;32m   2358\u001b[0m \u001b[43m    \u001b[49m\u001b[43mexcel_writer\u001b[49m\u001b[43m,\u001b[49m\n\u001b[0;32m   2359\u001b[0m \u001b[43m    \u001b[49m\u001b[43msheet_name\u001b[49m\u001b[38;5;241;43m=\u001b[39;49m\u001b[43msheet_name\u001b[49m\u001b[43m,\u001b[49m\n\u001b[0;32m   2360\u001b[0m \u001b[43m    \u001b[49m\u001b[43mstartrow\u001b[49m\u001b[38;5;241;43m=\u001b[39;49m\u001b[43mstartrow\u001b[49m\u001b[43m,\u001b[49m\n\u001b[0;32m   2361\u001b[0m \u001b[43m    \u001b[49m\u001b[43mstartcol\u001b[49m\u001b[38;5;241;43m=\u001b[39;49m\u001b[43mstartcol\u001b[49m\u001b[43m,\u001b[49m\n\u001b[0;32m   2362\u001b[0m \u001b[43m    \u001b[49m\u001b[43mfreeze_panes\u001b[49m\u001b[38;5;241;43m=\u001b[39;49m\u001b[43mfreeze_panes\u001b[49m\u001b[43m,\u001b[49m\n\u001b[0;32m   2363\u001b[0m \u001b[43m    \u001b[49m\u001b[43mengine\u001b[49m\u001b[38;5;241;43m=\u001b[39;49m\u001b[43mengine\u001b[49m\u001b[43m,\u001b[49m\n\u001b[0;32m   2364\u001b[0m \u001b[43m    \u001b[49m\u001b[43mstorage_options\u001b[49m\u001b[38;5;241;43m=\u001b[39;49m\u001b[43mstorage_options\u001b[49m\u001b[43m,\u001b[49m\n\u001b[0;32m   2365\u001b[0m \u001b[43m\u001b[49m\u001b[43m)\u001b[49m\n",
      "File \u001b[1;32m~\\anaconda3\\lib\\site-packages\\pandas\\io\\formats\\excel.py:886\u001b[0m, in \u001b[0;36mExcelFormatter.write\u001b[1;34m(self, writer, sheet_name, startrow, startcol, freeze_panes, engine, storage_options)\u001b[0m\n\u001b[0;32m    882\u001b[0m     need_save \u001b[38;5;241m=\u001b[39m \u001b[38;5;28;01mFalse\u001b[39;00m\n\u001b[0;32m    883\u001b[0m \u001b[38;5;28;01melse\u001b[39;00m:\n\u001b[0;32m    884\u001b[0m     \u001b[38;5;66;03m# error: Cannot instantiate abstract class 'ExcelWriter' with abstract\u001b[39;00m\n\u001b[0;32m    885\u001b[0m     \u001b[38;5;66;03m# attributes 'engine', 'save', 'supported_extensions' and 'write_cells'\u001b[39;00m\n\u001b[1;32m--> 886\u001b[0m     writer \u001b[38;5;241m=\u001b[39m \u001b[43mExcelWriter\u001b[49m\u001b[43m(\u001b[49m\u001b[43m  \u001b[49m\u001b[38;5;66;43;03m# type: ignore[abstract]\u001b[39;49;00m\n\u001b[0;32m    887\u001b[0m \u001b[43m        \u001b[49m\u001b[43mwriter\u001b[49m\u001b[43m,\u001b[49m\u001b[43m \u001b[49m\u001b[43mengine\u001b[49m\u001b[38;5;241;43m=\u001b[39;49m\u001b[43mengine\u001b[49m\u001b[43m,\u001b[49m\u001b[43m \u001b[49m\u001b[43mstorage_options\u001b[49m\u001b[38;5;241;43m=\u001b[39;49m\u001b[43mstorage_options\u001b[49m\n\u001b[0;32m    888\u001b[0m \u001b[43m    \u001b[49m\u001b[43m)\u001b[49m\n\u001b[0;32m    889\u001b[0m     need_save \u001b[38;5;241m=\u001b[39m \u001b[38;5;28;01mTrue\u001b[39;00m\n\u001b[0;32m    891\u001b[0m \u001b[38;5;28;01mtry\u001b[39;00m:\n",
      "File \u001b[1;32m~\\anaconda3\\lib\\site-packages\\pandas\\io\\excel\\_openpyxl.py:49\u001b[0m, in \u001b[0;36mOpenpyxlWriter.__init__\u001b[1;34m(self, path, engine, date_format, datetime_format, mode, storage_options, if_sheet_exists, engine_kwargs, **kwargs)\u001b[0m\n\u001b[0;32m     36\u001b[0m \u001b[38;5;28;01mdef\u001b[39;00m \u001b[38;5;21m__init__\u001b[39m(\n\u001b[0;32m     37\u001b[0m     \u001b[38;5;28mself\u001b[39m,\n\u001b[0;32m     38\u001b[0m     path,\n\u001b[1;32m   (...)\u001b[0m\n\u001b[0;32m     47\u001b[0m ):\n\u001b[0;32m     48\u001b[0m     \u001b[38;5;66;03m# Use the openpyxl module as the Excel writer.\u001b[39;00m\n\u001b[1;32m---> 49\u001b[0m     \u001b[38;5;28;01mfrom\u001b[39;00m \u001b[38;5;21;01mopenpyxl\u001b[39;00m\u001b[38;5;21;01m.\u001b[39;00m\u001b[38;5;21;01mworkbook\u001b[39;00m \u001b[38;5;28;01mimport\u001b[39;00m Workbook\n\u001b[0;32m     51\u001b[0m     engine_kwargs \u001b[38;5;241m=\u001b[39m combine_kwargs(engine_kwargs, kwargs)\n\u001b[0;32m     53\u001b[0m     \u001b[38;5;28msuper\u001b[39m()\u001b[38;5;241m.\u001b[39m\u001b[38;5;21m__init__\u001b[39m(\n\u001b[0;32m     54\u001b[0m         path,\n\u001b[0;32m     55\u001b[0m         mode\u001b[38;5;241m=\u001b[39mmode,\n\u001b[1;32m   (...)\u001b[0m\n\u001b[0;32m     58\u001b[0m         engine_kwargs\u001b[38;5;241m=\u001b[39mengine_kwargs,\n\u001b[0;32m     59\u001b[0m     )\n",
      "\u001b[1;31mModuleNotFoundError\u001b[0m: No module named 'openpyxl'"
     ]
    }
   ],
   "source": [
    "Bank.to_excel('Bank_Kmeans.xlsx')"
   ]
  },
  {
   "cell_type": "code",
   "execution_count": 84,
   "metadata": {},
   "outputs": [
    {
     "data": {
      "text/html": [
       "<div>\n",
       "<style scoped>\n",
       "    .dataframe tbody tr th:only-of-type {\n",
       "        vertical-align: middle;\n",
       "    }\n",
       "\n",
       "    .dataframe tbody tr th {\n",
       "        vertical-align: top;\n",
       "    }\n",
       "\n",
       "    .dataframe thead th {\n",
       "        text-align: right;\n",
       "    }\n",
       "</style>\n",
       "<table border=\"1\" class=\"dataframe\">\n",
       "  <thead>\n",
       "    <tr style=\"text-align: right;\">\n",
       "      <th></th>\n",
       "      <th>spending</th>\n",
       "      <th>advance_payments</th>\n",
       "      <th>probability_of_full_payment</th>\n",
       "      <th>current_balance</th>\n",
       "      <th>credit_limit</th>\n",
       "      <th>min_payment_amt</th>\n",
       "      <th>max_spent_in_single_shopping</th>\n",
       "      <th>Freq</th>\n",
       "    </tr>\n",
       "  </thead>\n",
       "  <tbody>\n",
       "    <tr>\n",
       "      <th>count</th>\n",
       "      <td>3.00</td>\n",
       "      <td>3.00</td>\n",
       "      <td>3.00</td>\n",
       "      <td>3.00</td>\n",
       "      <td>3.00</td>\n",
       "      <td>3.00</td>\n",
       "      <td>3.00</td>\n",
       "      <td>3.00</td>\n",
       "    </tr>\n",
       "    <tr>\n",
       "      <th>mean</th>\n",
       "      <td>14.93</td>\n",
       "      <td>14.60</td>\n",
       "      <td>0.87</td>\n",
       "      <td>5.64</td>\n",
       "      <td>3.27</td>\n",
       "      <td>3.69</td>\n",
       "      <td>5.42</td>\n",
       "      <td>70.00</td>\n",
       "    </tr>\n",
       "    <tr>\n",
       "      <th>std</th>\n",
       "      <td>3.35</td>\n",
       "      <td>1.49</td>\n",
       "      <td>0.02</td>\n",
       "      <td>0.48</td>\n",
       "      <td>0.42</td>\n",
       "      <td>1.02</td>\n",
       "      <td>0.54</td>\n",
       "      <td>2.65</td>\n",
       "    </tr>\n",
       "    <tr>\n",
       "      <th>min</th>\n",
       "      <td>11.86</td>\n",
       "      <td>13.25</td>\n",
       "      <td>0.85</td>\n",
       "      <td>5.23</td>\n",
       "      <td>2.85</td>\n",
       "      <td>2.71</td>\n",
       "      <td>5.10</td>\n",
       "      <td>67.00</td>\n",
       "    </tr>\n",
       "    <tr>\n",
       "      <th>25%</th>\n",
       "      <td>13.15</td>\n",
       "      <td>13.79</td>\n",
       "      <td>0.86</td>\n",
       "      <td>5.37</td>\n",
       "      <td>3.05</td>\n",
       "      <td>3.17</td>\n",
       "      <td>5.11</td>\n",
       "      <td>69.00</td>\n",
       "    </tr>\n",
       "    <tr>\n",
       "      <th>50%</th>\n",
       "      <td>14.44</td>\n",
       "      <td>14.34</td>\n",
       "      <td>0.88</td>\n",
       "      <td>5.51</td>\n",
       "      <td>3.26</td>\n",
       "      <td>3.63</td>\n",
       "      <td>5.12</td>\n",
       "      <td>71.00</td>\n",
       "    </tr>\n",
       "    <tr>\n",
       "      <th>75%</th>\n",
       "      <td>16.47</td>\n",
       "      <td>15.27</td>\n",
       "      <td>0.88</td>\n",
       "      <td>5.85</td>\n",
       "      <td>3.48</td>\n",
       "      <td>4.19</td>\n",
       "      <td>5.58</td>\n",
       "      <td>71.50</td>\n",
       "    </tr>\n",
       "    <tr>\n",
       "      <th>max</th>\n",
       "      <td>18.50</td>\n",
       "      <td>16.20</td>\n",
       "      <td>0.88</td>\n",
       "      <td>6.18</td>\n",
       "      <td>3.70</td>\n",
       "      <td>4.74</td>\n",
       "      <td>6.04</td>\n",
       "      <td>72.00</td>\n",
       "    </tr>\n",
       "  </tbody>\n",
       "</table>\n",
       "</div>"
      ],
      "text/plain": [
       "       spending  advance_payments  probability_of_full_payment  \\\n",
       "count      3.00              3.00                         3.00   \n",
       "mean      14.93             14.60                         0.87   \n",
       "std        3.35              1.49                         0.02   \n",
       "min       11.86             13.25                         0.85   \n",
       "25%       13.15             13.79                         0.86   \n",
       "50%       14.44             14.34                         0.88   \n",
       "75%       16.47             15.27                         0.88   \n",
       "max       18.50             16.20                         0.88   \n",
       "\n",
       "       current_balance  credit_limit  min_payment_amt  \\\n",
       "count             3.00          3.00             3.00   \n",
       "mean              5.64          3.27             3.69   \n",
       "std               0.48          0.42             1.02   \n",
       "min               5.23          2.85             2.71   \n",
       "25%               5.37          3.05             3.17   \n",
       "50%               5.51          3.26             3.63   \n",
       "75%               5.85          3.48             4.19   \n",
       "max               6.18          3.70             4.74   \n",
       "\n",
       "       max_spent_in_single_shopping  Freq  \n",
       "count                          3.00  3.00  \n",
       "mean                           5.42 70.00  \n",
       "std                            0.54  2.65  \n",
       "min                            5.10 67.00  \n",
       "25%                            5.11 69.00  \n",
       "50%                            5.12 71.00  \n",
       "75%                            5.58 71.50  \n",
       "max                            6.04 72.00  "
      ]
     },
     "execution_count": 84,
     "metadata": {},
     "output_type": "execute_result"
    }
   ],
   "source": [
    "clust_profile.describe()"
   ]
  },
  {
   "cell_type": "markdown",
   "metadata": {},
   "source": [
    "###             1.5. Describe cluster profiles for the clusters defined. Recommend different promotional strategies for different clusters."
   ]
  },
  {
   "cell_type": "markdown",
   "metadata": {
    "colab_type": "text",
    "id": "2eaGa3pwcdVd"
   },
   "source": [
    "## Problem 2: CART-RF-ANN \n",
    "\n",
    "### An Insurance firm providing tour insurance is facing higher claim frequency. The management decides to collect data from the past few years. You are assigned the task to make a model which predicts the claim status and provide recommendations to management. Use CART, RF & ANN and compare the models' performances in train and test sets.\n"
   ]
  },
  {
   "cell_type": "markdown",
   "metadata": {},
   "source": [
    "### 2.1 Read the data, do the necessary initial steps, and exploratory data analysis (Univariate, Bi-variate, and multivariate analysis)."
   ]
  },
  {
   "cell_type": "code",
   "execution_count": 85,
   "metadata": {},
   "outputs": [],
   "source": [
    "Insurance = pd.read_csv('insurance_part2_data.csv')"
   ]
  },
  {
   "cell_type": "code",
   "execution_count": 86,
   "metadata": {},
   "outputs": [
    {
     "data": {
      "text/html": [
       "<div>\n",
       "<style scoped>\n",
       "    .dataframe tbody tr th:only-of-type {\n",
       "        vertical-align: middle;\n",
       "    }\n",
       "\n",
       "    .dataframe tbody tr th {\n",
       "        vertical-align: top;\n",
       "    }\n",
       "\n",
       "    .dataframe thead th {\n",
       "        text-align: right;\n",
       "    }\n",
       "</style>\n",
       "<table border=\"1\" class=\"dataframe\">\n",
       "  <thead>\n",
       "    <tr style=\"text-align: right;\">\n",
       "      <th></th>\n",
       "      <th>Age</th>\n",
       "      <th>Agency_Code</th>\n",
       "      <th>Type</th>\n",
       "      <th>Claimed</th>\n",
       "      <th>Commision</th>\n",
       "      <th>Channel</th>\n",
       "      <th>Duration</th>\n",
       "      <th>Sales</th>\n",
       "      <th>Product Name</th>\n",
       "      <th>Destination</th>\n",
       "    </tr>\n",
       "  </thead>\n",
       "  <tbody>\n",
       "    <tr>\n",
       "      <th>0</th>\n",
       "      <td>48</td>\n",
       "      <td>C2B</td>\n",
       "      <td>Airlines</td>\n",
       "      <td>No</td>\n",
       "      <td>0.70</td>\n",
       "      <td>Online</td>\n",
       "      <td>7</td>\n",
       "      <td>2.51</td>\n",
       "      <td>Customised Plan</td>\n",
       "      <td>ASIA</td>\n",
       "    </tr>\n",
       "    <tr>\n",
       "      <th>1</th>\n",
       "      <td>36</td>\n",
       "      <td>EPX</td>\n",
       "      <td>Travel Agency</td>\n",
       "      <td>No</td>\n",
       "      <td>0.00</td>\n",
       "      <td>Online</td>\n",
       "      <td>34</td>\n",
       "      <td>20.00</td>\n",
       "      <td>Customised Plan</td>\n",
       "      <td>ASIA</td>\n",
       "    </tr>\n",
       "    <tr>\n",
       "      <th>2</th>\n",
       "      <td>39</td>\n",
       "      <td>CWT</td>\n",
       "      <td>Travel Agency</td>\n",
       "      <td>No</td>\n",
       "      <td>5.94</td>\n",
       "      <td>Online</td>\n",
       "      <td>3</td>\n",
       "      <td>9.90</td>\n",
       "      <td>Customised Plan</td>\n",
       "      <td>Americas</td>\n",
       "    </tr>\n",
       "    <tr>\n",
       "      <th>3</th>\n",
       "      <td>36</td>\n",
       "      <td>EPX</td>\n",
       "      <td>Travel Agency</td>\n",
       "      <td>No</td>\n",
       "      <td>0.00</td>\n",
       "      <td>Online</td>\n",
       "      <td>4</td>\n",
       "      <td>26.00</td>\n",
       "      <td>Cancellation Plan</td>\n",
       "      <td>ASIA</td>\n",
       "    </tr>\n",
       "    <tr>\n",
       "      <th>4</th>\n",
       "      <td>33</td>\n",
       "      <td>JZI</td>\n",
       "      <td>Airlines</td>\n",
       "      <td>No</td>\n",
       "      <td>6.30</td>\n",
       "      <td>Online</td>\n",
       "      <td>53</td>\n",
       "      <td>18.00</td>\n",
       "      <td>Bronze Plan</td>\n",
       "      <td>ASIA</td>\n",
       "    </tr>\n",
       "  </tbody>\n",
       "</table>\n",
       "</div>"
      ],
      "text/plain": [
       "   Age Agency_Code           Type Claimed  Commision Channel  Duration  Sales  \\\n",
       "0   48         C2B       Airlines      No       0.70  Online         7   2.51   \n",
       "1   36         EPX  Travel Agency      No       0.00  Online        34  20.00   \n",
       "2   39         CWT  Travel Agency      No       5.94  Online         3   9.90   \n",
       "3   36         EPX  Travel Agency      No       0.00  Online         4  26.00   \n",
       "4   33         JZI       Airlines      No       6.30  Online        53  18.00   \n",
       "\n",
       "        Product Name Destination  \n",
       "0    Customised Plan        ASIA  \n",
       "1    Customised Plan        ASIA  \n",
       "2    Customised Plan    Americas  \n",
       "3  Cancellation Plan        ASIA  \n",
       "4        Bronze Plan        ASIA  "
      ]
     },
     "execution_count": 86,
     "metadata": {},
     "output_type": "execute_result"
    }
   ],
   "source": [
    "Insurance.head()"
   ]
  },
  {
   "cell_type": "code",
   "execution_count": 87,
   "metadata": {
    "scrolled": true
   },
   "outputs": [
    {
     "name": "stdout",
     "output_type": "stream",
     "text": [
      "<class 'pandas.core.frame.DataFrame'>\n",
      "RangeIndex: 3000 entries, 0 to 2999\n",
      "Data columns (total 10 columns):\n",
      " #   Column        Non-Null Count  Dtype  \n",
      "---  ------        --------------  -----  \n",
      " 0   Age           3000 non-null   int64  \n",
      " 1   Agency_Code   3000 non-null   object \n",
      " 2   Type          3000 non-null   object \n",
      " 3   Claimed       3000 non-null   object \n",
      " 4   Commision     3000 non-null   float64\n",
      " 5   Channel       3000 non-null   object \n",
      " 6   Duration      3000 non-null   int64  \n",
      " 7   Sales         3000 non-null   float64\n",
      " 8   Product Name  3000 non-null   object \n",
      " 9   Destination   3000 non-null   object \n",
      "dtypes: float64(2), int64(2), object(6)\n",
      "memory usage: 234.5+ KB\n"
     ]
    }
   ],
   "source": [
    "Insurance.info()"
   ]
  },
  {
   "cell_type": "code",
   "execution_count": 88,
   "metadata": {
    "scrolled": true
   },
   "outputs": [
    {
     "data": {
      "text/html": [
       "<div>\n",
       "<style scoped>\n",
       "    .dataframe tbody tr th:only-of-type {\n",
       "        vertical-align: middle;\n",
       "    }\n",
       "\n",
       "    .dataframe tbody tr th {\n",
       "        vertical-align: top;\n",
       "    }\n",
       "\n",
       "    .dataframe thead th {\n",
       "        text-align: right;\n",
       "    }\n",
       "</style>\n",
       "<table border=\"1\" class=\"dataframe\">\n",
       "  <thead>\n",
       "    <tr style=\"text-align: right;\">\n",
       "      <th></th>\n",
       "      <th>Age</th>\n",
       "      <th>Commision</th>\n",
       "      <th>Duration</th>\n",
       "      <th>Sales</th>\n",
       "    </tr>\n",
       "  </thead>\n",
       "  <tbody>\n",
       "    <tr>\n",
       "      <th>count</th>\n",
       "      <td>3000.00</td>\n",
       "      <td>3000.00</td>\n",
       "      <td>3000.00</td>\n",
       "      <td>3000.00</td>\n",
       "    </tr>\n",
       "    <tr>\n",
       "      <th>mean</th>\n",
       "      <td>38.09</td>\n",
       "      <td>14.53</td>\n",
       "      <td>70.00</td>\n",
       "      <td>60.25</td>\n",
       "    </tr>\n",
       "    <tr>\n",
       "      <th>std</th>\n",
       "      <td>10.46</td>\n",
       "      <td>25.48</td>\n",
       "      <td>134.05</td>\n",
       "      <td>70.73</td>\n",
       "    </tr>\n",
       "    <tr>\n",
       "      <th>min</th>\n",
       "      <td>8.00</td>\n",
       "      <td>0.00</td>\n",
       "      <td>-1.00</td>\n",
       "      <td>0.00</td>\n",
       "    </tr>\n",
       "    <tr>\n",
       "      <th>25%</th>\n",
       "      <td>32.00</td>\n",
       "      <td>0.00</td>\n",
       "      <td>11.00</td>\n",
       "      <td>20.00</td>\n",
       "    </tr>\n",
       "    <tr>\n",
       "      <th>50%</th>\n",
       "      <td>36.00</td>\n",
       "      <td>4.63</td>\n",
       "      <td>26.50</td>\n",
       "      <td>33.00</td>\n",
       "    </tr>\n",
       "    <tr>\n",
       "      <th>75%</th>\n",
       "      <td>42.00</td>\n",
       "      <td>17.23</td>\n",
       "      <td>63.00</td>\n",
       "      <td>69.00</td>\n",
       "    </tr>\n",
       "    <tr>\n",
       "      <th>max</th>\n",
       "      <td>84.00</td>\n",
       "      <td>210.21</td>\n",
       "      <td>4580.00</td>\n",
       "      <td>539.00</td>\n",
       "    </tr>\n",
       "  </tbody>\n",
       "</table>\n",
       "</div>"
      ],
      "text/plain": [
       "          Age  Commision  Duration   Sales\n",
       "count 3000.00    3000.00   3000.00 3000.00\n",
       "mean    38.09      14.53     70.00   60.25\n",
       "std     10.46      25.48    134.05   70.73\n",
       "min      8.00       0.00     -1.00    0.00\n",
       "25%     32.00       0.00     11.00   20.00\n",
       "50%     36.00       4.63     26.50   33.00\n",
       "75%     42.00      17.23     63.00   69.00\n",
       "max     84.00     210.21   4580.00  539.00"
      ]
     },
     "execution_count": 88,
     "metadata": {},
     "output_type": "execute_result"
    }
   ],
   "source": [
    "Insurance.describe()"
   ]
  },
  {
   "cell_type": "markdown",
   "metadata": {},
   "source": [
    "### Data Pre-processing"
   ]
  },
  {
   "cell_type": "markdown",
   "metadata": {},
   "source": [
    "### Treat BAD Data"
   ]
  },
  {
   "cell_type": "code",
   "execution_count": 89,
   "metadata": {},
   "outputs": [
    {
     "name": "stdout",
     "output_type": "stream",
     "text": [
      "<class 'pandas.core.frame.DataFrame'>\n",
      "RangeIndex: 3000 entries, 0 to 2999\n",
      "Data columns (total 10 columns):\n",
      " #   Column        Non-Null Count  Dtype  \n",
      "---  ------        --------------  -----  \n",
      " 0   Age           3000 non-null   int64  \n",
      " 1   Agency_Code   3000 non-null   object \n",
      " 2   Type          3000 non-null   object \n",
      " 3   Claimed       3000 non-null   object \n",
      " 4   Commision     3000 non-null   float64\n",
      " 5   Channel       3000 non-null   object \n",
      " 6   Duration      3000 non-null   int64  \n",
      " 7   Sales         3000 non-null   float64\n",
      " 8   Product Name  3000 non-null   object \n",
      " 9   Destination   3000 non-null   object \n",
      "dtypes: float64(2), int64(2), object(6)\n",
      "memory usage: 234.5+ KB\n"
     ]
    }
   ],
   "source": [
    "Insurance.info()"
   ]
  },
  {
   "cell_type": "markdown",
   "metadata": {},
   "source": [
    "####                 Data types are in line with the supporting data dictionary, Presense of no Bad Data is noticed"
   ]
  },
  {
   "cell_type": "markdown",
   "metadata": {},
   "source": [
    "### Treat Anomalies"
   ]
  },
  {
   "cell_type": "markdown",
   "metadata": {},
   "source": [
    "####                 There are apparently no noticable Anamolies, with the definition of Existing Business rules that are available"
   ]
  },
  {
   "cell_type": "markdown",
   "metadata": {},
   "source": [
    "### Treat Missing Values"
   ]
  },
  {
   "cell_type": "code",
   "execution_count": 90,
   "metadata": {},
   "outputs": [
    {
     "data": {
      "text/plain": [
       "Age             0\n",
       "Agency_Code     0\n",
       "Type            0\n",
       "Claimed         0\n",
       "Commision       0\n",
       "Channel         0\n",
       "Duration        0\n",
       "Sales           0\n",
       "Product Name    0\n",
       "Destination     0\n",
       "dtype: int64"
      ]
     },
     "execution_count": 90,
     "metadata": {},
     "output_type": "execute_result"
    }
   ],
   "source": [
    "Insurance.isnull().sum()"
   ]
  },
  {
   "cell_type": "markdown",
   "metadata": {},
   "source": [
    "####                 There are no Missing values in the supplied DataSet"
   ]
  },
  {
   "cell_type": "markdown",
   "metadata": {},
   "source": [
    "### Checking for Duplicates"
   ]
  },
  {
   "cell_type": "code",
   "execution_count": 91,
   "metadata": {},
   "outputs": [
    {
     "name": "stdout",
     "output_type": "stream",
     "text": [
      "Number of duplicate rows = 139\n"
     ]
    }
   ],
   "source": [
    "# Are there any duplicates\n",
    "dups = Insurance.duplicated()\n",
    "print('Number of duplicate rows = %d' % (dups.sum()))"
   ]
  },
  {
   "cell_type": "markdown",
   "metadata": {},
   "source": [
    "####                 There are 139 Duplicate values in the supplied DataSet However it is not advisable to remove them since considering the business duplicates are possible"
   ]
  },
  {
   "cell_type": "markdown",
   "metadata": {},
   "source": [
    "### Data Visualization"
   ]
  },
  {
   "cell_type": "markdown",
   "metadata": {},
   "source": [
    "#### Univariate Analysis"
   ]
  },
  {
   "cell_type": "code",
   "execution_count": 92,
   "metadata": {},
   "outputs": [
    {
     "data": {
      "text/html": [
       "<div>\n",
       "<style scoped>\n",
       "    .dataframe tbody tr th:only-of-type {\n",
       "        vertical-align: middle;\n",
       "    }\n",
       "\n",
       "    .dataframe tbody tr th {\n",
       "        vertical-align: top;\n",
       "    }\n",
       "\n",
       "    .dataframe thead th {\n",
       "        text-align: right;\n",
       "    }\n",
       "</style>\n",
       "<table border=\"1\" class=\"dataframe\">\n",
       "  <thead>\n",
       "    <tr style=\"text-align: right;\">\n",
       "      <th></th>\n",
       "      <th>count</th>\n",
       "      <th>mean</th>\n",
       "      <th>std</th>\n",
       "      <th>min</th>\n",
       "      <th>25%</th>\n",
       "      <th>50%</th>\n",
       "      <th>75%</th>\n",
       "      <th>max</th>\n",
       "      <th>CV</th>\n",
       "      <th>Q1 - Min</th>\n",
       "      <th>Max - 75%</th>\n",
       "      <th>Q2 - Min</th>\n",
       "      <th>Max - 50%</th>\n",
       "      <th>Q2 - Q1</th>\n",
       "      <th>Q3 - Q2</th>\n",
       "    </tr>\n",
       "  </thead>\n",
       "  <tbody>\n",
       "    <tr>\n",
       "      <th>Age</th>\n",
       "      <td>3000.00</td>\n",
       "      <td>38.09</td>\n",
       "      <td>10.46</td>\n",
       "      <td>8.00</td>\n",
       "      <td>32.00</td>\n",
       "      <td>36.00</td>\n",
       "      <td>42.00</td>\n",
       "      <td>84.00</td>\n",
       "      <td>0.27</td>\n",
       "      <td>24.00</td>\n",
       "      <td>42.00</td>\n",
       "      <td>28.00</td>\n",
       "      <td>48.00</td>\n",
       "      <td>4.00</td>\n",
       "      <td>6.00</td>\n",
       "    </tr>\n",
       "    <tr>\n",
       "      <th>Commision</th>\n",
       "      <td>3000.00</td>\n",
       "      <td>14.53</td>\n",
       "      <td>25.48</td>\n",
       "      <td>0.00</td>\n",
       "      <td>0.00</td>\n",
       "      <td>4.63</td>\n",
       "      <td>17.23</td>\n",
       "      <td>210.21</td>\n",
       "      <td>1.75</td>\n",
       "      <td>0.00</td>\n",
       "      <td>192.98</td>\n",
       "      <td>4.63</td>\n",
       "      <td>205.58</td>\n",
       "      <td>4.63</td>\n",
       "      <td>12.61</td>\n",
       "    </tr>\n",
       "    <tr>\n",
       "      <th>Duration</th>\n",
       "      <td>3000.00</td>\n",
       "      <td>70.00</td>\n",
       "      <td>134.05</td>\n",
       "      <td>-1.00</td>\n",
       "      <td>11.00</td>\n",
       "      <td>26.50</td>\n",
       "      <td>63.00</td>\n",
       "      <td>4580.00</td>\n",
       "      <td>1.92</td>\n",
       "      <td>12.00</td>\n",
       "      <td>4517.00</td>\n",
       "      <td>27.50</td>\n",
       "      <td>4553.50</td>\n",
       "      <td>15.50</td>\n",
       "      <td>36.50</td>\n",
       "    </tr>\n",
       "    <tr>\n",
       "      <th>Sales</th>\n",
       "      <td>3000.00</td>\n",
       "      <td>60.25</td>\n",
       "      <td>70.73</td>\n",
       "      <td>0.00</td>\n",
       "      <td>20.00</td>\n",
       "      <td>33.00</td>\n",
       "      <td>69.00</td>\n",
       "      <td>539.00</td>\n",
       "      <td>1.17</td>\n",
       "      <td>20.00</td>\n",
       "      <td>470.00</td>\n",
       "      <td>33.00</td>\n",
       "      <td>506.00</td>\n",
       "      <td>13.00</td>\n",
       "      <td>36.00</td>\n",
       "    </tr>\n",
       "  </tbody>\n",
       "</table>\n",
       "</div>"
      ],
      "text/plain": [
       "            count  mean    std   min   25%   50%   75%     max   CV  Q1 - Min  \\\n",
       "Age       3000.00 38.09  10.46  8.00 32.00 36.00 42.00   84.00 0.27     24.00   \n",
       "Commision 3000.00 14.53  25.48  0.00  0.00  4.63 17.23  210.21 1.75      0.00   \n",
       "Duration  3000.00 70.00 134.05 -1.00 11.00 26.50 63.00 4580.00 1.92     12.00   \n",
       "Sales     3000.00 60.25  70.73  0.00 20.00 33.00 69.00  539.00 1.17     20.00   \n",
       "\n",
       "           Max - 75%  Q2 - Min  Max - 50%  Q2 - Q1  Q3 - Q2  \n",
       "Age            42.00     28.00      48.00     4.00     6.00  \n",
       "Commision     192.98      4.63     205.58     4.63    12.61  \n",
       "Duration     4517.00     27.50    4553.50    15.50    36.50  \n",
       "Sales         470.00     33.00     506.00    13.00    36.00  "
      ]
     },
     "execution_count": 92,
     "metadata": {},
     "output_type": "execute_result"
    }
   ],
   "source": [
    "Insurance_univariant=Insurance.describe().T\n",
    "Insurance_univariant_detailed=Insurance_univariant\n",
    "Insurance_univariant_detailed['CV']=Insurance_univariant_detailed['std']/Insurance_univariant_detailed['mean']\n",
    "Insurance_univariant_detailed['Q1 - Min']= Insurance_univariant_detailed['25%'] -Insurance_univariant_detailed['min']\n",
    "Insurance_univariant_detailed['Max - 75%']= Insurance_univariant_detailed['max'] -Insurance_univariant_detailed['75%']\n",
    "Insurance_univariant_detailed['Q2 - Min']= Insurance_univariant_detailed['50%'] -Insurance_univariant_detailed['min']\n",
    "Insurance_univariant_detailed['Max - 50%']= Insurance_univariant_detailed['max'] -Insurance_univariant_detailed['50%']\n",
    "Insurance_univariant_detailed['Q2 - Q1']= Insurance_univariant_detailed['50%'] -Insurance_univariant_detailed['25%']\n",
    "Insurance_univariant_detailed['Q3 - Q2']= Insurance_univariant_detailed['75%'] -Insurance_univariant_detailed['50%']\n",
    "Insurance_univariant_detailed"
   ]
  },
  {
   "cell_type": "markdown",
   "metadata": {},
   "source": [
    "## Insurance['Age']   5 Number Analysis"
   ]
  },
  {
   "cell_type": "code",
   "execution_count": 93,
   "metadata": {
    "scrolled": true
   },
   "outputs": [
    {
     "data": {
      "text/plain": [
       "count       3000.00\n",
       "mean          38.09\n",
       "std           10.46\n",
       "min            8.00\n",
       "25%           32.00\n",
       "50%           36.00\n",
       "75%           42.00\n",
       "max           84.00\n",
       "CV             0.27\n",
       "Q1 - Min      24.00\n",
       "Max - 75%     42.00\n",
       "Q2 - Min      28.00\n",
       "Max - 50%     48.00\n",
       "Q2 - Q1        4.00\n",
       "Q3 - Q2        6.00\n",
       "Name: Age, dtype: float64"
      ]
     },
     "execution_count": 93,
     "metadata": {},
     "output_type": "execute_result"
    }
   ],
   "source": [
    "Insurance_univariant_detailed.loc['Age']"
   ]
  },
  {
   "cell_type": "markdown",
   "metadata": {},
   "source": [
    "### Insurance['Age']  review of 5 number Summary Suggests that -\n",
    "\n",
    "  ##### Disribution is  Right skewed  -\n",
    "        (Q1 - Min) which is 24.00  <  Max - Q3 which is 42.00\n",
    "  ##### Following points  support the symmetry -\n",
    "        (Q2 - Min ) which is 28.00 <  (Max - Q2) which is 48.00\n",
    "        (Q2 - Q1 ) which is 4.00 < (Q3 - Q2 ) which is 6.00\n",
    "        \n"
   ]
  },
  {
   "cell_type": "markdown",
   "metadata": {},
   "source": [
    "   ##### Let's review the Histogram as second level of verification to Confirm the Skewness -   "
   ]
  },
  {
   "cell_type": "code",
   "execution_count": 94,
   "metadata": {},
   "outputs": [
    {
     "data": {
      "text/plain": [
       "<AxesSubplot:xlabel='Age', ylabel='Density'>"
      ]
     },
     "execution_count": 94,
     "metadata": {},
     "output_type": "execute_result"
    },
    {
     "data": {
      "image/png": "[encoded data removed]",
      "text/plain": [
       "<Figure size 432x288 with 1 Axes>"
      ]
     },
     "metadata": {
      "needs_background": "light"
     },
     "output_type": "display_data"
    }
   ],
   "source": [
    "sns.distplot(Insurance['Age'])"
   ]
  },
  {
   "cell_type": "markdown",
   "metadata": {},
   "source": [
    "# Histogram Review for Insurance['Age']Shows -\n",
    "#### 1) 1 Peaks\n",
    "#### 2) Right Skewness\n",
    "#### 3) It doesnt Show a perfect 'Bell Curve'"
   ]
  },
  {
   "cell_type": "markdown",
   "metadata": {},
   "source": [
    "   ##### Let's review the BoxPlot to Confirm the Skewness  and to check if there are any outliers-   "
   ]
  },
  {
   "cell_type": "code",
   "execution_count": 95,
   "metadata": {},
   "outputs": [
    {
     "data": {
      "image/png": "[encoded data removed]",
      "text/plain": [
       "<Figure size 432x288 with 1 Axes>"
      ]
     },
     "metadata": {
      "needs_background": "light"
     },
     "output_type": "display_data"
    }
   ],
   "source": [
    "sns.boxplot(x=Insurance['Age']) \n",
    "plt.grid()"
   ]
  },
  {
   "cell_type": "markdown",
   "metadata": {},
   "source": [
    "### Insurance['Age'] review of Boxplot Suggests that -\n",
    "\n",
    "#### 1) There are Many outliers\n",
    "#### 2) Distribution is RightSkewed due to longer Right Whisker"
   ]
  },
  {
   "cell_type": "markdown",
   "metadata": {},
   "source": [
    "## Insurance['Age'] Empirical Rule"
   ]
  },
  {
   "cell_type": "code",
   "execution_count": 96,
   "metadata": {
    "scrolled": true
   },
   "outputs": [
    {
     "name": "stdout",
     "output_type": "stream",
     "text": [
      "Number of Mean + 1 Sigma occurances should be  1020.0 where as they are  476\n",
      "Number of Mean - 1 Sigma occurances should be  1020.0 where as they are  1743\n",
      "Number of Mean + 2 Sigma occurances should be  1425.0 where as they are  736\n",
      "Number of Mean - 2 Sigma occurances should be  1425.0 where as they are  2091\n",
      "Number of Mean + 3 Sigma occurances should be  1495.5 where as they are  864\n",
      "Number of Mean - 3 Sigma occurances should be  1495.5 where as they are  2100\n"
     ]
    }
   ],
   "source": [
    "x_1std= Insurance['Age'].mean() + (1 * Insurance['Age'].std())\n",
    "y_1std= Insurance['Age'].mean() - (1 * Insurance['Age'].std())\n",
    "x_2std= Insurance['Age'].mean() + (2 * Insurance['Age'].std())\n",
    "y_2std= Insurance['Age'].mean() - (2 * Insurance['Age'].std())\n",
    "x_3std= Insurance['Age'].mean() + (3 * Insurance['Age'].std())\n",
    "y_3std= Insurance['Age'].mean() - (3 * Insurance['Age'].std())\n",
    "\n",
    "Sample_size=len(Insurance['Age'])\n",
    "\n",
    "is_between11 = Insurance['Age'].between(Insurance['Age'].mean(),x_1std, inclusive=False )\n",
    "Level11=len(Insurance[is_between11])\n",
    "is_between12 = Insurance['Age'].between(y_1std,Insurance['Age'].mean(), inclusive=False )\n",
    "Level12=len(Insurance[is_between12]) \n",
    "\n",
    "is_between21 = Insurance['Age'].between(Insurance['Age'].mean(),x_2std, inclusive=False )\n",
    "Level21=len(Insurance[is_between21])\n",
    "is_between22 = Insurance['Age'].between(y_2std,Insurance['Age'].mean(), inclusive=False )\n",
    "Level22=len(Insurance[is_between22])\n",
    "\n",
    "is_between31 = Insurance['Age'].between(Insurance['Age'].mean(),x_3std, inclusive=False )\n",
    "Level31=len(Insurance[is_between31])\n",
    "is_between32 = Insurance['Age'].between(y_3std,Insurance['Age'].mean(), inclusive=False )\n",
    "Level32=len(Insurance[is_between32])\n",
    "\n",
    "print('Number of Mean + 1 Sigma occurances should be ', round((Sample_size * .68/2),3) , 'where as they are ',  Level11)\n",
    "print('Number of Mean - 1 Sigma occurances should be ', round((Sample_size * .68/2),3) , 'where as they are ',  Level12)\n",
    "print('Number of Mean + 2 Sigma occurances should be ', round((Sample_size * .95/2),3) , 'where as they are ',  Level21)\n",
    "print('Number of Mean - 2 Sigma occurances should be ', round((Sample_size * .95/2),3) , 'where as they are ',  Level22)\n",
    "print('Number of Mean + 3 Sigma occurances should be ', round((Sample_size * .997/2),3) , 'where as they are ',  Level31)\n",
    "print('Number of Mean - 3 Sigma occurances should be ', round((Sample_size * .997/2),3) , 'where as they are ',  Level32)"
   ]
  },
  {
   "cell_type": "markdown",
   "metadata": {},
   "source": [
    "### Insurance['Age'] review of Empirical Rule suggest that -\n",
    "\n",
    "#### 1) '1 standard deviation' from Mean is assymetrical (Right Skewed)\n",
    "#### 1) '2 standard deviation' from Mean is assymetrical (Right Skewed)\n",
    "#### 1) '3 standard deviation' from Mean is assymetrical (Right Skewed)"
   ]
  },
  {
   "cell_type": "markdown",
   "metadata": {},
   "source": [
    "##  Insurance['Age']mean,median and mode"
   ]
  },
  {
   "cell_type": "code",
   "execution_count": 97,
   "metadata": {},
   "outputs": [
    {
     "name": "stdout",
     "output_type": "stream",
     "text": [
      "Mean = 38.091 Median = 36.0 Mode = 36.0\n"
     ]
    }
   ],
   "source": [
    "a=Insurance['Age'].mean()\n",
    "b=Insurance['Age'].median()\n",
    "c=Insurance['Age'].mode().mean()\n",
    "print('Mean =', a,'Median =',b,'Mode =',c)"
   ]
  },
  {
   "cell_type": "markdown",
   "metadata": {},
   "source": [
    "### Insurance['Age'] review of Mean, Median and Mode suggests that -\n",
    "\n",
    "#### In this case Mean > Median > Mode hence the distribution is Right Skewed"
   ]
  },
  {
   "cell_type": "markdown",
   "metadata": {},
   "source": [
    "#### Insights:\n",
    "\n",
    "Age of insured  range from 8 year to 84 years\n",
    "\n",
    "75% of the insured is less than 42 years\n",
    "\n",
    "From above figure, we can say that the Age of insured  is right skewed\n",
    "\n",
    "Average age of insured is 38 years which is mirginally higher than the median value 36 years indicating that the ditribution is right tailed. \n",
    "\n",
    "There are so many Outliers  which shows data inconsistency."
   ]
  },
  {
   "cell_type": "markdown",
   "metadata": {},
   "source": [
    "## Insurance['Commision']   5 Number Analysis"
   ]
  },
  {
   "cell_type": "code",
   "execution_count": null,
   "metadata": {
    "scrolled": true
   },
   "outputs": [],
   "source": [
    "Insurance_univariant_detailed.loc['Commision']"
   ]
  },
  {
   "cell_type": "markdown",
   "metadata": {},
   "source": [
    "### Insurance['Commision']  review of 5 number Summary Suggests that -\n",
    "\n",
    "  ##### Disribution is  Right skewed  -\n",
    "        (Q1 - Min) which is 0.00  <  Max - Q3 which is  192.98\n",
    "  ##### Following points  support the symmetry -\n",
    "        (Q2 - Min ) which is 4.63 <  (Max - Q2) which is  205.58\n",
    "        (Q2 - Q1 ) which is 4.63 < (Q3 - Q2 ) which is  12.61\n",
    "        \n"
   ]
  },
  {
   "cell_type": "markdown",
   "metadata": {},
   "source": [
    "   ##### Let's review the Histogram as second level of verification to Confirm the Skewness -   "
   ]
  },
  {
   "cell_type": "code",
   "execution_count": null,
   "metadata": {},
   "outputs": [],
   "source": [
    "sns.distplot(Insurance['Commision'])"
   ]
  },
  {
   "cell_type": "markdown",
   "metadata": {},
   "source": [
    "# Histogram Review for Insurance['Commision']Shows -\n",
    "#### 1) 1 Peaks\n",
    "#### 2) Right Skewness\n",
    "#### 3) It doesnt Show a perfect 'Bell Curve'"
   ]
  },
  {
   "cell_type": "markdown",
   "metadata": {},
   "source": [
    "   ##### Let's review the BoxPlot to Confirm the Skewness  and to check if there are any outliers-   "
   ]
  },
  {
   "cell_type": "code",
   "execution_count": null,
   "metadata": {},
   "outputs": [],
   "source": [
    "sns.boxplot(x=Insurance['Commision']) \n",
    "plt.grid()"
   ]
  },
  {
   "cell_type": "markdown",
   "metadata": {},
   "source": [
    "### Insurance['Commision'] review of Boxplot Suggests that -\n",
    "\n",
    "#### 1) There are Many outliers\n",
    "#### 2) Distribution is RightSkewed due to longer Right Whisker"
   ]
  },
  {
   "cell_type": "markdown",
   "metadata": {},
   "source": [
    "## Insurance['Commision'] Empirical Rule"
   ]
  },
  {
   "cell_type": "code",
   "execution_count": null,
   "metadata": {
    "scrolled": true
   },
   "outputs": [],
   "source": [
    "x_1std= Insurance['Commision'].mean() + (1 * Insurance['Commision'].std())\n",
    "y_1std= Insurance['Commision'].mean() - (1 * Insurance['Commision'].std())\n",
    "x_2std= Insurance['Commision'].mean() + (2 * Insurance['Commision'].std())\n",
    "y_2std= Insurance['Commision'].mean() - (2 * Insurance['Commision'].std())\n",
    "x_3std= Insurance['Commision'].mean() + (3 * Insurance['Commision'].std())\n",
    "y_3std= Insurance['Commision'].mean() - (3 * Insurance['Commision'].std())\n",
    "\n",
    "Sample_size=len(Insurance['Commision'])\n",
    "\n",
    "is_between11 = Insurance['Commision'].between(Insurance['Commision'].mean(),x_1std, inclusive=False )\n",
    "Level11=len(Insurance[is_between11])\n",
    "is_between12 = Insurance['Commision'].between(y_1std,Insurance['Commision'].mean(), inclusive=False )\n",
    "Level12=len(Insurance[is_between12]) \n",
    "\n",
    "is_between21 = Insurance['Commision'].between(Insurance['Commision'].mean(),x_2std, inclusive=False )\n",
    "Level21=len(Insurance[is_between21])\n",
    "is_between22 = Insurance['Commision'].between(y_2std,Insurance['Commision'].mean(), inclusive=False )\n",
    "Level22=len(Insurance[is_between22])\n",
    "\n",
    "is_between31 = Insurance['Commision'].between(Insurance['Commision'].mean(),x_3std, inclusive=False )\n",
    "Level31=len(Insurance[is_between31])\n",
    "is_between32 = Insurance['Commision'].between(y_3std,Insurance['Commision'].mean(), inclusive=False )\n",
    "Level32=len(Insurance[is_between32])\n",
    "\n",
    "print('Number of Mean + 1 Sigma occurances should be ', round((Sample_size * .68/2),3) , 'where as they are ',  Level11)\n",
    "print('Number of Mean - 1 Sigma occurances should be ', round((Sample_size * .68/2),3) , 'where as they are ',  Level12)\n",
    "print('Number of Mean + 2 Sigma occurances should be ', round((Sample_size * .95/2),3) , 'where as they are ',  Level21)\n",
    "print('Number of Mean - 2 Sigma occurances should be ', round((Sample_size * .95/2),3) , 'where as they are ',  Level22)\n",
    "print('Number of Mean + 3 Sigma occurances should be ', round((Sample_size * .997/2),3) , 'where as they are ',  Level31)\n",
    "print('Number of Mean - 3 Sigma occurances should be ', round((Sample_size * .997/2),3) , 'where as they are ',  Level32)"
   ]
  },
  {
   "cell_type": "markdown",
   "metadata": {},
   "source": [
    "### Insurance['Commision'] review of Empirical Rule suggest that -\n",
    "\n",
    "#### 1) '1 standard deviation' from Mean is assymetrical (Right Skewed)\n",
    "#### 1) '2 standard deviation' from Mean is assymetrical (Right Skewed)\n",
    "#### 1) '3 standard deviation' from Mean is assymetrical (Right Skewed)"
   ]
  },
  {
   "cell_type": "markdown",
   "metadata": {},
   "source": [
    "##  Insurance['Commision']mean,median and mode"
   ]
  },
  {
   "cell_type": "code",
   "execution_count": null,
   "metadata": {},
   "outputs": [],
   "source": [
    "a=Insurance['Commision'].mean()\n",
    "b=Insurance['Commision'].median()\n",
    "c=Insurance['Commision'].mode().mean()\n",
    "print('Mean =', a,'Median =',b,'Mode =',c)"
   ]
  },
  {
   "cell_type": "markdown",
   "metadata": {},
   "source": [
    "### Insurance['Commision'] review of Mean, Median and Mode suggests that -\n",
    "\n",
    "#### In this case Mean > Median > Mode hence the distribution is Right Skewed"
   ]
  },
  {
   "cell_type": "markdown",
   "metadata": {},
   "source": [
    "#### Insights:\n",
    "\n",
    "The commission received for tour insurance firm range from 0 to 210.21\n",
    "\n",
    "For 75% of the insured, The commission received for tour insurance is less than 17.23\n",
    "\n",
    "From above figure, we can say that the Age of insured  is right skewed\n",
    "\n",
    "Average commission received for tour insurance is 14.53 which is higher than the median value 4.63 indicating that the ditribution is right tailed. \n",
    "\n",
    "There are so many Outliers which shows data inconsistency, most of the outliers are on higher side"
   ]
  },
  {
   "cell_type": "markdown",
   "metadata": {},
   "source": [
    "## Insurance['Duration']   5 Number Analysis"
   ]
  },
  {
   "cell_type": "code",
   "execution_count": null,
   "metadata": {
    "scrolled": true
   },
   "outputs": [],
   "source": [
    "Insurance_univariant_detailed.loc['Duration']"
   ]
  },
  {
   "cell_type": "markdown",
   "metadata": {},
   "source": [
    "## Insurance['Duration']  review of 5 number Summary Suggests that -\n",
    "\n",
    "  ##### Disribution is  Right skewed  -\n",
    "        (Q1 - Min) which is 12.00  <  Max - Q3 which is 4517.00\n",
    "  ##### Following points  support the symmetry -\n",
    "        (Q2 - Min ) which is 27.50 <  (Max - Q2) which is 4553.50\n",
    "        (Q2 - Q1 ) which is 15.50< (Q3 - Q2 ) which is 36.50\n",
    "        \n"
   ]
  },
  {
   "cell_type": "markdown",
   "metadata": {},
   "source": [
    "   ##### Let's review the Histogram as second level of verification to Confirm the Skewness -   "
   ]
  },
  {
   "cell_type": "code",
   "execution_count": null,
   "metadata": {},
   "outputs": [],
   "source": [
    "sns.distplot(Insurance['Duration'])"
   ]
  },
  {
   "cell_type": "markdown",
   "metadata": {},
   "source": [
    "# Histogram Review for Insurance['Duration']Shows -\n",
    "#### 1) 1 Peaks\n",
    "#### 2) Right Skewness\n",
    "#### 3) It doesnt Show a perfect 'Bell Curve'"
   ]
  },
  {
   "cell_type": "markdown",
   "metadata": {},
   "source": [
    "   ##### Let's review the BoxPlot to Confirm the Skewness  and to check if there are any outliers-   "
   ]
  },
  {
   "cell_type": "code",
   "execution_count": null,
   "metadata": {},
   "outputs": [],
   "source": [
    "sns.boxplot(x=Insurance['Duration']) \n",
    "plt.grid()"
   ]
  },
  {
   "cell_type": "markdown",
   "metadata": {},
   "source": [
    "### Insurance['Duration'] review of Boxplot Suggests that -\n",
    "\n",
    "#### 1) There are Many outliers\n",
    "#### 2) Distribution is RightSkewed due to longer Right Whisker"
   ]
  },
  {
   "cell_type": "markdown",
   "metadata": {},
   "source": [
    "## Insurance['Duration'] Empirical Rule"
   ]
  },
  {
   "cell_type": "code",
   "execution_count": null,
   "metadata": {
    "scrolled": true
   },
   "outputs": [],
   "source": [
    "x_1std= Insurance['Duration'].mean() + (1 * Insurance['Duration'].std())\n",
    "y_1std= Insurance['Duration'].mean() - (1 * Insurance['Duration'].std())\n",
    "x_2std= Insurance['Duration'].mean() + (2 * Insurance['Duration'].std())\n",
    "y_2std= Insurance['Duration'].mean() - (2 * Insurance['Duration'].std())\n",
    "x_3std= Insurance['Duration'].mean() + (3 * Insurance['Duration'].std())\n",
    "y_3std= Insurance['Duration'].mean() - (3 * Insurance['Duration'].std())\n",
    "\n",
    "Sample_size=len(Insurance['Duration'])\n",
    "\n",
    "is_between11 = Insurance['Duration'].between(Insurance['Duration'].mean(),x_1std, inclusive=False )\n",
    "Level11=len(Insurance[is_between11])\n",
    "is_between12 = Insurance['Duration'].between(y_1std,Insurance['Duration'].mean(), inclusive=False )\n",
    "Level12=len(Insurance[is_between12]) \n",
    "\n",
    "is_between21 = Insurance['Duration'].between(Insurance['Duration'].mean(),x_2std, inclusive=False )\n",
    "Level21=len(Insurance[is_between21])\n",
    "is_between22 = Insurance['Duration'].between(y_2std,Insurance['Duration'].mean(), inclusive=False )\n",
    "Level22=len(Insurance[is_between22])\n",
    "\n",
    "is_between31 = Insurance['Duration'].between(Insurance['Duration'].mean(),x_3std, inclusive=False )\n",
    "Level31=len(Insurance[is_between31])\n",
    "is_between32 = Insurance['Duration'].between(y_3std,Insurance['Duration'].mean(), inclusive=False )\n",
    "Level32=len(Insurance[is_between32])\n",
    "\n",
    "print('Number of Mean + 1 Sigma occurances should be ', round((Sample_size * .68/2),3) , 'where as they are ',  Level11)\n",
    "print('Number of Mean - 1 Sigma occurances should be ', round((Sample_size * .68/2),3) , 'where as they are ',  Level12)\n",
    "print('Number of Mean + 2 Sigma occurances should be ', round((Sample_size * .95/2),3) , 'where as they are ',  Level21)\n",
    "print('Number of Mean - 2 Sigma occurances should be ', round((Sample_size * .95/2),3) , 'where as they are ',  Level22)\n",
    "print('Number of Mean + 3 Sigma occurances should be ', round((Sample_size * .997/2),3) , 'where as they are ',  Level31)\n",
    "print('Number of Mean - 3 Sigma occurances should be ', round((Sample_size * .997/2),3) , 'where as they are ',  Level32)"
   ]
  },
  {
   "cell_type": "markdown",
   "metadata": {},
   "source": [
    "### Insurance['Duration'] review of Empirical Rule suggest that -\n",
    "\n",
    "#### 1) '1 standard deviation' from Mean is assymetrical (Right Skewed)\n",
    "#### 1) '2 standard deviation' from Mean is assymetrical (Right Skewed)\n",
    "#### 1) '3 standard deviation' from Mean is assymetrical (Right Skewed)"
   ]
  },
  {
   "cell_type": "markdown",
   "metadata": {},
   "source": [
    "##  Insurance['Duration']mean,median and mode"
   ]
  },
  {
   "cell_type": "code",
   "execution_count": null,
   "metadata": {},
   "outputs": [],
   "source": [
    "a=Insurance['Duration'].mean()\n",
    "b=Insurance['Duration'].median()\n",
    "c=Insurance['Duration'].mode().mean()\n",
    "print('Mean =', a,'Median =',b,'Mode =',c)"
   ]
  },
  {
   "cell_type": "markdown",
   "metadata": {},
   "source": [
    "### Insurance['Duration'] review of Mean, Median and Mode suggests that -\n",
    "\n",
    "#### In this case Mean > Median > Mode hence the distribution is Right Skewed"
   ]
  },
  {
   "cell_type": "markdown",
   "metadata": {},
   "source": [
    "#### Insights:\n",
    "\n",
    "Duration of the tour range from 0 days to 4580 Days\n",
    "\n",
    "75% of the insured  tours are for less than 63 days\n",
    "\n",
    "From above figure, we can say that the Duration of the tour  is right skewed\n",
    "\n",
    "Average age of insured is 70 days which is higher than the median value 26.50 days indicating that the ditribution is right tailed. \n",
    "\n",
    "There are so  many Outliers  which shows data inconsistency."
   ]
  },
  {
   "cell_type": "markdown",
   "metadata": {},
   "source": [
    "## Insurance['Sales']   5 Number Analysis"
   ]
  },
  {
   "cell_type": "code",
   "execution_count": null,
   "metadata": {
    "scrolled": true
   },
   "outputs": [],
   "source": [
    "Insurance_univariant_detailed.loc['Sales']"
   ]
  },
  {
   "cell_type": "markdown",
   "metadata": {},
   "source": [
    "### Insurance['Sales']  review of 5 number Summary Suggests that -\n",
    "\n",
    "  ##### Disribution is  Right skewed  -\n",
    "        (Q1 - Min) which is  20.00  <  Max - Q3 which is 470.00\n",
    "  ##### Following points  support the symmetry -\n",
    "        (Q2 - Min ) which is 33.00 <  (Max - Q2) which is 506.00\n",
    "        (Q2 - Q1 ) which is 13.00 < (Q3 - Q2 ) which is 36.00\n",
    "        \n"
   ]
  },
  {
   "cell_type": "markdown",
   "metadata": {},
   "source": [
    "   ##### Let's review the Histogram as second level of verification to Confirm the Skewness -   "
   ]
  },
  {
   "cell_type": "code",
   "execution_count": null,
   "metadata": {},
   "outputs": [],
   "source": [
    "sns.distplot(Insurance['Sales'])"
   ]
  },
  {
   "cell_type": "markdown",
   "metadata": {},
   "source": [
    "# Histogram Review for Insurance['Sales']Shows -\n",
    "#### 1) 1 Peaks\n",
    "#### 2) Right Skewness\n",
    "#### 3) It doesnt Show a perfect 'Bell Curve'"
   ]
  },
  {
   "cell_type": "markdown",
   "metadata": {},
   "source": [
    "   ##### Let's review the BoxPlot to Confirm the Skewness  and to check if there are any outliers-   "
   ]
  },
  {
   "cell_type": "code",
   "execution_count": null,
   "metadata": {},
   "outputs": [],
   "source": [
    "sns.boxplot(x=Insurance['Sales']) \n",
    "plt.grid()"
   ]
  },
  {
   "cell_type": "markdown",
   "metadata": {},
   "source": [
    "### Insurance['Sales'] review of Boxplot Suggests that -\n",
    "\n",
    "#### 1) There are Many outliers\n",
    "#### 2) Distribution is RightSkewed due to longer Right Whisker"
   ]
  },
  {
   "cell_type": "markdown",
   "metadata": {},
   "source": [
    "## Insurance['Sales'] Empirical Rule"
   ]
  },
  {
   "cell_type": "code",
   "execution_count": null,
   "metadata": {
    "scrolled": true
   },
   "outputs": [],
   "source": [
    "x_1std= Insurance['Sales'].mean() + (1 * Insurance['Sales'].std())\n",
    "y_1std= Insurance['Sales'].mean() - (1 * Insurance['Sales'].std())\n",
    "x_2std= Insurance['Sales'].mean() + (2 * Insurance['Sales'].std())\n",
    "y_2std= Insurance['Sales'].mean() - (2 * Insurance['Sales'].std())\n",
    "x_3std= Insurance['Sales'].mean() + (3 * Insurance['Sales'].std())\n",
    "y_3std= Insurance['Sales'].mean() - (3 * Insurance['Sales'].std())\n",
    "\n",
    "Sample_size=len(Insurance['Sales'])\n",
    "\n",
    "is_between11 = Insurance['Sales'].between(Insurance['Sales'].mean(),x_1std, inclusive=False )\n",
    "Level11=len(Insurance[is_between11])\n",
    "is_between12 = Insurance['Sales'].between(y_1std,Insurance['Sales'].mean(), inclusive=False )\n",
    "Level12=len(Insurance[is_between12]) \n",
    "\n",
    "is_between21 = Insurance['Sales'].between(Insurance['Sales'].mean(),x_2std, inclusive=False )\n",
    "Level21=len(Insurance[is_between21])\n",
    "is_between22 = Insurance['Sales'].between(y_2std,Insurance['Sales'].mean(), inclusive=False )\n",
    "Level22=len(Insurance[is_between22])\n",
    "\n",
    "is_between31 = Insurance['Sales'].between(Insurance['Sales'].mean(),x_3std, inclusive=False )\n",
    "Level31=len(Insurance[is_between31])\n",
    "is_between32 = Insurance['Sales'].between(y_3std,Insurance['Sales'].mean(), inclusive=False )\n",
    "Level32=len(Insurance[is_between32])\n",
    "\n",
    "print('Number of Mean + 1 Sigma occurances should be ', round((Sample_size * .68/2),3) , 'where as they are ',  Level11)\n",
    "print('Number of Mean - 1 Sigma occurances should be ', round((Sample_size * .68/2),3) , 'where as they are ',  Level12)\n",
    "print('Number of Mean + 2 Sigma occurances should be ', round((Sample_size * .95/2),3) , 'where as they are ',  Level21)\n",
    "print('Number of Mean - 2 Sigma occurances should be ', round((Sample_size * .95/2),3) , 'where as they are ',  Level22)\n",
    "print('Number of Mean + 3 Sigma occurances should be ', round((Sample_size * .997/2),3) , 'where as they are ',  Level31)\n",
    "print('Number of Mean - 3 Sigma occurances should be ', round((Sample_size * .997/2),3) , 'where as they are ',  Level32)"
   ]
  },
  {
   "cell_type": "markdown",
   "metadata": {},
   "source": [
    "### Insurance['Sales'] review of Empirical Rule suggest that -\n",
    "\n",
    "#### 1) '1 standard deviation' from Mean is assymetrical (Right Skewed)\n",
    "#### 1) '2 standard deviation' from Mean is assymetrical (Right Skewed)\n",
    "#### 1) '3 standard deviation' from Mean is assymetrical (Right Skewed)"
   ]
  },
  {
   "cell_type": "markdown",
   "metadata": {},
   "source": [
    "##  Insurance['Sales']mean,median and mode"
   ]
  },
  {
   "cell_type": "code",
   "execution_count": null,
   "metadata": {},
   "outputs": [],
   "source": [
    "a=Insurance['Sales'].mean()\n",
    "b=Insurance['Sales'].median()\n",
    "c=Insurance['Sales'].mode().mean()\n",
    "print('Mean =', a,'Median =',b,'Mode =',c)"
   ]
  },
  {
   "cell_type": "markdown",
   "metadata": {},
   "source": [
    "### Insurance['Sales'] review of Mean, Median and Mode suggests that -\n",
    "\n",
    "#### In this case Mean > Median > Mode hence the distribution is Right Skewed"
   ]
  },
  {
   "cell_type": "markdown",
   "metadata": {},
   "source": [
    "#### Insights:\n",
    "\n",
    "Amount of sales of tour insurance policies range from 0 to 539.00\n",
    "\n",
    "75% of the policies get is less than 69 Amount of sales\n",
    "\n",
    "From above figure, we can say that the Age of insured  is right skewed\n",
    "\n",
    "Average Amount of sales of tour insurance policies is 60.25 which is higher than the median value 33.00 indicating that the ditribution is right tailed. \n",
    "\n",
    "There are so many Outliers  which shows data inconsistency."
   ]
  },
  {
   "cell_type": "markdown",
   "metadata": {},
   "source": [
    "####  Bivariate Analysis"
   ]
  },
  {
   "cell_type": "code",
   "execution_count": null,
   "metadata": {},
   "outputs": [],
   "source": [
    "sns.scatterplot(x='Age', y='Agency_Code', data=Insurance)\n",
    "plt.ticklabel_format(style='plain', axis='x')"
   ]
  },
  {
   "cell_type": "code",
   "execution_count": null,
   "metadata": {},
   "outputs": [],
   "source": [
    "sns.scatterplot(x='Age', y='Type', data=Insurance)\n",
    "plt.ticklabel_format(style='plain', axis='x')"
   ]
  },
  {
   "cell_type": "code",
   "execution_count": null,
   "metadata": {},
   "outputs": [],
   "source": [
    "sns.scatterplot(x='Age', y='Claimed', data=Insurance)\n",
    "plt.ticklabel_format(style='plain', axis='x')"
   ]
  },
  {
   "cell_type": "code",
   "execution_count": null,
   "metadata": {},
   "outputs": [],
   "source": [
    "sns.scatterplot(x='Age', y='Commision', data=Insurance)\n",
    "plt.ticklabel_format(style='plain', axis='x')"
   ]
  },
  {
   "cell_type": "code",
   "execution_count": null,
   "metadata": {},
   "outputs": [],
   "source": [
    "sns.scatterplot(x='Age', y='Channel', data=Insurance)\n",
    "plt.ticklabel_format(style='plain', axis='x')"
   ]
  },
  {
   "cell_type": "code",
   "execution_count": null,
   "metadata": {},
   "outputs": [],
   "source": [
    "sns.scatterplot(x='Age', y='Duration', data=Insurance)\n",
    "plt.ticklabel_format(style='plain', axis='x')"
   ]
  },
  {
   "cell_type": "code",
   "execution_count": null,
   "metadata": {},
   "outputs": [],
   "source": [
    "sns.scatterplot(x='Age', y='Sales', data=Insurance)\n",
    "plt.ticklabel_format(style='plain', axis='x')"
   ]
  },
  {
   "cell_type": "code",
   "execution_count": null,
   "metadata": {},
   "outputs": [],
   "source": [
    "sns.scatterplot(x='Age', y='Product Name', data=Insurance)\n",
    "plt.ticklabel_format(style='plain', axis='x')"
   ]
  },
  {
   "cell_type": "code",
   "execution_count": null,
   "metadata": {},
   "outputs": [],
   "source": [
    "sns.scatterplot(x='Age', y='Destination', data=Insurance)\n",
    "plt.ticklabel_format(style='plain', axis='x')"
   ]
  },
  {
   "cell_type": "code",
   "execution_count": null,
   "metadata": {},
   "outputs": [],
   "source": [
    "sns.scatterplot(x='Commision', y='Duration', data=Insurance)\n",
    "plt.ticklabel_format(style='plain', axis='x')"
   ]
  },
  {
   "cell_type": "code",
   "execution_count": null,
   "metadata": {},
   "outputs": [],
   "source": [
    "sns.scatterplot(x='Commision', y='Sales', data=Insurance)\n",
    "plt.ticklabel_format(style='plain', axis='x')"
   ]
  },
  {
   "cell_type": "code",
   "execution_count": null,
   "metadata": {},
   "outputs": [],
   "source": [
    "sns.scatterplot(x='Commision', y='Product Name', data=Insurance)\n",
    "plt.ticklabel_format(style='plain', axis='x')"
   ]
  },
  {
   "cell_type": "code",
   "execution_count": null,
   "metadata": {},
   "outputs": [],
   "source": [
    "sns.scatterplot(x='Commision', y='Destination', data=Insurance)\n",
    "plt.ticklabel_format(style='plain', axis='x')"
   ]
  },
  {
   "cell_type": "code",
   "execution_count": null,
   "metadata": {},
   "outputs": [],
   "source": [
    "sns.scatterplot(x='Duration', y='Sales', data=Insurance)\n",
    "plt.ticklabel_format(style='plain', axis='x')"
   ]
  },
  {
   "cell_type": "code",
   "execution_count": null,
   "metadata": {},
   "outputs": [],
   "source": [
    "sns.scatterplot(x='Duration', y='Product Name', data=Insurance)\n",
    "plt.ticklabel_format(style='plain', axis='x')"
   ]
  },
  {
   "cell_type": "code",
   "execution_count": null,
   "metadata": {},
   "outputs": [],
   "source": [
    "sns.scatterplot(x='Duration', y='Destination', data=Insurance)\n",
    "plt.ticklabel_format(style='plain', axis='x')"
   ]
  },
  {
   "cell_type": "code",
   "execution_count": null,
   "metadata": {},
   "outputs": [],
   "source": [
    "sns.scatterplot(x='Sales', y='Product Name', data=Insurance)\n",
    "plt.ticklabel_format(style='plain', axis='x')"
   ]
  },
  {
   "cell_type": "code",
   "execution_count": null,
   "metadata": {},
   "outputs": [],
   "source": [
    "sns.scatterplot(x='Sales', y='Destination', data=Insurance)\n",
    "plt.ticklabel_format(style='plain', axis='x')"
   ]
  },
  {
   "cell_type": "markdown",
   "metadata": {},
   "source": [
    "### Outlier Treatment\n",
    "\n",
    "**To check for outliers, we will be plotting the box plots.**"
   ]
  },
  {
   "cell_type": "code",
   "execution_count": 98,
   "metadata": {},
   "outputs": [
    {
     "name": "stdout",
     "output_type": "stream",
     "text": [
      "There are  204  outliers for \"Age\" is 6.8 % of total and  which are lower than  17.0  Or Higher than  57.0\n",
      "There are  362  outliers for \"Commision\" is 12.07 % of total and  which are lower than  -25.86  Or Higher than  43.1\n",
      "There are  382  outliers for \"Duration\" is 12.73 % of total and  which are lower than  -67.0  Or Higher than  141.0\n",
      "There are  353  outliers for \"Sales\" is 11.77 % of total and  which are lower than  -53.5  Or Higher than  142.5\n"
     ]
    }
   ],
   "source": [
    "Sort_Age=np.sort(Insurance['Age'])\n",
    "Count_Age=Insurance['Age'].count()\n",
    "Q1_Age=np.percentile(Insurance['Age'],25, interpolation = 'midpoint')\n",
    "Q2_Age=np.percentile(Insurance['Age'],50, interpolation = 'midpoint')\n",
    "Q3_Age=np.percentile(Insurance['Age'],75, interpolation = 'midpoint')\n",
    "IQR_Age=Q3_Age-Q1_Age\n",
    "Low_Age=Q1_Age-1.5*IQR_Age\n",
    "High_Age=Q3_Age+1.5*IQR_Age\n",
    "Outlier_Age=[]\n",
    "for x in Sort_Age:\n",
    "    if (( x>High_Age) or ( x<Low_Age)):\n",
    "        Outlier_Age.append(x)\n",
    "\n",
    "Sort_Commision=np.sort(Insurance['Commision'])\n",
    "Count_Commision=Insurance['Commision'].count()\n",
    "Q1_Commision=np.percentile(Insurance['Commision'],25, interpolation = 'midpoint')\n",
    "Q2_Commision=np.percentile(Insurance['Commision'],50, interpolation = 'midpoint')\n",
    "Q3_Commision=np.percentile(Insurance['Commision'],75, interpolation = 'midpoint')\n",
    "IQR_Commision=Q3_Commision-Q1_Commision\n",
    "Low_Commision=Q1_Commision-1.5*IQR_Commision\n",
    "High_Commision=Q3_Commision+1.5*IQR_Commision\n",
    "Outlier_Commision=[]\n",
    "for x in Sort_Commision:\n",
    "    if (( x>High_Commision) or ( x<Low_Commision)):\n",
    "        Outlier_Commision.append(x)\n",
    "\n",
    "Sort_Duration=np.sort(Insurance['Duration'])\n",
    "Count_Duration=Insurance['Duration'].count()\n",
    "Q1_Duration=np.percentile(Insurance['Duration'],25, interpolation = 'midpoint')\n",
    "Q2_Duration=np.percentile(Insurance['Duration'],50, interpolation = 'midpoint')\n",
    "Q3_Duration=np.percentile(Insurance['Duration'],75, interpolation = 'midpoint')\n",
    "IQR_Duration=Q3_Duration-Q1_Duration\n",
    "Low_Duration=Q1_Duration-1.5*IQR_Duration\n",
    "High_Duration=Q3_Duration+1.5*IQR_Duration\n",
    "Outlier_Duration=[]\n",
    "for x in Sort_Duration:\n",
    "    if (( x>High_Duration) or ( x<Low_Duration)):\n",
    "        Outlier_Duration.append(x)\n",
    "\n",
    "\n",
    "Sort_Sales=np.sort(Insurance['Sales'])\n",
    "Count_Sales=Insurance['Sales'].count()\n",
    "Q1_Sales=np.percentile(Insurance['Sales'],25, interpolation = 'midpoint')\n",
    "Q2_Sales=np.percentile(Insurance['Sales'],50, interpolation = 'midpoint')\n",
    "Q3_Sales=np.percentile(Insurance['Sales'],75, interpolation = 'midpoint')\n",
    "IQR_Sales=Q3_Sales-Q1_Sales\n",
    "Low_Sales=Q1_Sales-1.5*IQR_Sales\n",
    "High_Sales=Q3_Sales+1.5*IQR_Sales\n",
    "Outlier_Sales=[]\n",
    "for x in Sort_Sales:\n",
    "    if (( x>High_Sales) or ( x<Low_Sales)):\n",
    "        Outlier_Sales.append(x)\n",
    "\n",
    "print('There are ',len(Outlier_Age), ' outliers for \"Age\" is',round(len(Outlier_Age) * 100/ Count_Age,2),'% of total and  which are lower than ' , round(Low_Age,3) , ' Or Higher than ', round(High_Age,3))\n",
    "print('There are ',len(Outlier_Commision), ' outliers for \"Commision\" is',round(len(Outlier_Commision) * 100/ Count_Commision,2),'% of total and  which are lower than ' , round(Low_Commision,3) , ' Or Higher than ', round(High_Commision,3))\n",
    "print('There are ',len(Outlier_Duration), ' outliers for \"Duration\" is',round(len(Outlier_Duration) * 100/ Count_Duration,2),'% of total and  which are lower than ' , round(Low_Duration,3) , ' Or Higher than ', round(High_Duration,3))\n",
    "print('There are ',len(Outlier_Sales), ' outliers for \"Sales\" is',round(len(Outlier_Sales) * 100/ Count_Sales,2),'% of total and  which are lower than ' , round(Low_Sales,3) , ' Or Higher than ', round(High_Sales,3))"
   ]
  },
  {
   "cell_type": "code",
   "execution_count": 99,
   "metadata": {},
   "outputs": [],
   "source": [
    "def remove_outlier(col):\n",
    "    sorted(col)\n",
    "    Q1,Q3 = col.quantile([0.25,0.75])\n",
    "    IQR = Q3-Q1\n",
    "    lower_range = Q1-(1.5*IQR)\n",
    "    upper_range = Q3+(1.5*IQR)\n",
    "    return lower_range, upper_range"
   ]
  },
  {
   "cell_type": "code",
   "execution_count": 100,
   "metadata": {},
   "outputs": [
    {
     "data": {
      "text/plain": [
       "(3000, 10)"
      ]
     },
     "execution_count": 100,
     "metadata": {},
     "output_type": "execute_result"
    }
   ],
   "source": [
    "Insurance_no_ol=Insurance.copy()\n",
    "lrAge,urAge=remove_outlier(Insurance_no_ol['Age'])\n",
    "Insurance_no_ol['Age']=np.where(Insurance_no_ol['Age']>urAge,urAge,Insurance_no_ol['Age'])\n",
    "Insurance_no_ol['Age']=np.where(Insurance_no_ol['Age']<lrAge,lrAge,Insurance_no_ol['Age'])\n",
    "\n",
    "lrCommision,urCommision=remove_outlier(Insurance_no_ol['Commision'])\n",
    "Insurance_no_ol['Commision']=np.where(Insurance_no_ol['Commision']>urCommision,urCommision,Insurance_no_ol['Commision'])\n",
    "Insurance_no_ol['Commision']=np.where(Insurance_no_ol['Commision']<lrCommision,lrCommision,Insurance_no_ol['Commision'])\n",
    "\n",
    "lrDuration,urDuration=remove_outlier(Insurance_no_ol['Duration'])\n",
    "Insurance_no_ol['Duration']=np.where(Insurance_no_ol['Duration']>urDuration,urDuration,Insurance_no_ol['Duration'])\n",
    "Insurance_no_ol['Duration']=np.where(Insurance_no_ol['Duration']<lrDuration,lrDuration,Insurance_no_ol['Duration'])\n",
    "\n",
    "lrSales,urSales=remove_outlier(Insurance_no_ol['Sales'])\n",
    "Insurance_no_ol['Sales']=np.where(Insurance_no_ol['Sales']>urSales,urSales,Insurance_no_ol['Sales'])\n",
    "Insurance_no_ol['Sales']=np.where(Insurance_no_ol['Sales']<lrSales,lrSales,Insurance_no_ol['Sales'])\n",
    "Insurance_no_ol.shape"
   ]
  },
  {
   "cell_type": "code",
   "execution_count": 101,
   "metadata": {},
   "outputs": [
    {
     "data": {
      "image/png": "[encoded data removed]",
      "text/plain": [
       "<Figure size 1080x1080 with 1 Axes>"
      ]
     },
     "metadata": {
      "needs_background": "light"
     },
     "output_type": "display_data"
    }
   ],
   "source": [
    "plt.figure(figsize=(15,15))\n",
    "Insurance[['Age','Commision','Duration', 'Sales']].boxplot(vert=0);"
   ]
  },
  {
   "cell_type": "code",
   "execution_count": 102,
   "metadata": {},
   "outputs": [
    {
     "data": {
      "image/png": "[encoded data removed]",
      "text/plain": [
       "<Figure size 1080x1080 with 1 Axes>"
      ]
     },
     "metadata": {
      "needs_background": "light"
     },
     "output_type": "display_data"
    }
   ],
   "source": [
    "plt.figure(figsize=(15,15))\n",
    "Insurance_no_ol[['Age','Commision','Duration', 'Sales']].boxplot(vert=0);"
   ]
  },
  {
   "cell_type": "markdown",
   "metadata": {},
   "source": [
    "### 2.2 Data Split: Split the data into test and train, build classification model CART, Random Forest, Artificial Neural Network"
   ]
  },
  {
   "cell_type": "markdown",
   "metadata": {},
   "source": [
    "# Checking the data"
   ]
  },
  {
   "cell_type": "code",
   "execution_count": 103,
   "metadata": {
    "scrolled": true
   },
   "outputs": [
    {
     "data": {
      "text/html": [
       "<div>\n",
       "<style scoped>\n",
       "    .dataframe tbody tr th:only-of-type {\n",
       "        vertical-align: middle;\n",
       "    }\n",
       "\n",
       "    .dataframe tbody tr th {\n",
       "        vertical-align: top;\n",
       "    }\n",
       "\n",
       "    .dataframe thead th {\n",
       "        text-align: right;\n",
       "    }\n",
       "</style>\n",
       "<table border=\"1\" class=\"dataframe\">\n",
       "  <thead>\n",
       "    <tr style=\"text-align: right;\">\n",
       "      <th></th>\n",
       "      <th>Age</th>\n",
       "      <th>Agency_Code</th>\n",
       "      <th>Type</th>\n",
       "      <th>Claimed</th>\n",
       "      <th>Commision</th>\n",
       "      <th>Channel</th>\n",
       "      <th>Duration</th>\n",
       "      <th>Sales</th>\n",
       "      <th>Product Name</th>\n",
       "      <th>Destination</th>\n",
       "    </tr>\n",
       "  </thead>\n",
       "  <tbody>\n",
       "    <tr>\n",
       "      <th>0</th>\n",
       "      <td>48</td>\n",
       "      <td>C2B</td>\n",
       "      <td>Airlines</td>\n",
       "      <td>No</td>\n",
       "      <td>0.70</td>\n",
       "      <td>Online</td>\n",
       "      <td>7</td>\n",
       "      <td>2.51</td>\n",
       "      <td>Customised Plan</td>\n",
       "      <td>ASIA</td>\n",
       "    </tr>\n",
       "    <tr>\n",
       "      <th>1</th>\n",
       "      <td>36</td>\n",
       "      <td>EPX</td>\n",
       "      <td>Travel Agency</td>\n",
       "      <td>No</td>\n",
       "      <td>0.00</td>\n",
       "      <td>Online</td>\n",
       "      <td>34</td>\n",
       "      <td>20.00</td>\n",
       "      <td>Customised Plan</td>\n",
       "      <td>ASIA</td>\n",
       "    </tr>\n",
       "    <tr>\n",
       "      <th>2</th>\n",
       "      <td>39</td>\n",
       "      <td>CWT</td>\n",
       "      <td>Travel Agency</td>\n",
       "      <td>No</td>\n",
       "      <td>5.94</td>\n",
       "      <td>Online</td>\n",
       "      <td>3</td>\n",
       "      <td>9.90</td>\n",
       "      <td>Customised Plan</td>\n",
       "      <td>Americas</td>\n",
       "    </tr>\n",
       "    <tr>\n",
       "      <th>3</th>\n",
       "      <td>36</td>\n",
       "      <td>EPX</td>\n",
       "      <td>Travel Agency</td>\n",
       "      <td>No</td>\n",
       "      <td>0.00</td>\n",
       "      <td>Online</td>\n",
       "      <td>4</td>\n",
       "      <td>26.00</td>\n",
       "      <td>Cancellation Plan</td>\n",
       "      <td>ASIA</td>\n",
       "    </tr>\n",
       "    <tr>\n",
       "      <th>4</th>\n",
       "      <td>33</td>\n",
       "      <td>JZI</td>\n",
       "      <td>Airlines</td>\n",
       "      <td>No</td>\n",
       "      <td>6.30</td>\n",
       "      <td>Online</td>\n",
       "      <td>53</td>\n",
       "      <td>18.00</td>\n",
       "      <td>Bronze Plan</td>\n",
       "      <td>ASIA</td>\n",
       "    </tr>\n",
       "  </tbody>\n",
       "</table>\n",
       "</div>"
      ],
      "text/plain": [
       "   Age Agency_Code           Type Claimed  Commision Channel  Duration  Sales  \\\n",
       "0   48         C2B       Airlines      No       0.70  Online         7   2.51   \n",
       "1   36         EPX  Travel Agency      No       0.00  Online        34  20.00   \n",
       "2   39         CWT  Travel Agency      No       5.94  Online         3   9.90   \n",
       "3   36         EPX  Travel Agency      No       0.00  Online         4  26.00   \n",
       "4   33         JZI       Airlines      No       6.30  Online        53  18.00   \n",
       "\n",
       "        Product Name Destination  \n",
       "0    Customised Plan        ASIA  \n",
       "1    Customised Plan        ASIA  \n",
       "2    Customised Plan    Americas  \n",
       "3  Cancellation Plan        ASIA  \n",
       "4        Bronze Plan        ASIA  "
      ]
     },
     "execution_count": 103,
     "metadata": {},
     "output_type": "execute_result"
    }
   ],
   "source": [
    "Insurance.head()"
   ]
  },
  {
   "cell_type": "code",
   "execution_count": 104,
   "metadata": {},
   "outputs": [],
   "source": [
    "Insurance.rename(columns = {\"Product Name\": \"Product_Name\"}, inplace=True)"
   ]
  },
  {
   "cell_type": "markdown",
   "metadata": {},
   "source": [
    "### Geting unique counts of all Objects"
   ]
  },
  {
   "cell_type": "code",
   "execution_count": 105,
   "metadata": {},
   "outputs": [
    {
     "name": "stdout",
     "output_type": "stream",
     "text": [
      "Age \n",
      " 36    999\n",
      "31    125\n",
      "48    108\n",
      "30     96\n",
      "35     94\n",
      "     ... \n",
      "8       1\n",
      "84      1\n",
      "83      1\n",
      "15      1\n",
      "11      1\n",
      "Name: Age, Length: 70, dtype: int64\n",
      "\n",
      "\n",
      "Agency_Code \n",
      " EPX    1365\n",
      "C2B     924\n",
      "CWT     472\n",
      "JZI     239\n",
      "Name: Agency_Code, dtype: int64\n",
      "\n",
      "\n",
      "Type \n",
      " Travel Agency    1837\n",
      "Airlines         1163\n",
      "Name: Type, dtype: int64\n",
      "\n",
      "\n",
      "Claimed \n",
      " No     2076\n",
      "Yes     924\n",
      "Name: Claimed, dtype: int64\n",
      "\n",
      "\n",
      "Commision \n",
      " 0.00     1366\n",
      "63.21      62\n",
      "23.76      61\n",
      "54.00      61\n",
      "17.82      57\n",
      "         ... \n",
      "49.40       1\n",
      "68.08       1\n",
      "15.56       1\n",
      "1.25        1\n",
      "13.50       1\n",
      "Name: Commision, Length: 324, dtype: int64\n",
      "\n",
      "\n",
      "Channel \n",
      " Online     2954\n",
      "Offline      46\n",
      "Name: Channel, dtype: int64\n",
      "\n",
      "\n",
      "Duration \n",
      " 8      83\n",
      "5      82\n",
      "10     81\n",
      "6      81\n",
      "11     81\n",
      "       ..\n",
      "393     1\n",
      "244     1\n",
      "208     1\n",
      "431     1\n",
      "416     1\n",
      "Name: Duration, Length: 257, dtype: int64\n",
      "\n",
      "\n",
      "Sales \n",
      " 20.00     225\n",
      "10.00     163\n",
      "22.00      79\n",
      "252.85     60\n",
      "216.00     59\n",
      "         ... \n",
      "171.00      1\n",
      "159.00      1\n",
      "177.00      1\n",
      "1.99        1\n",
      "287.40      1\n",
      "Name: Sales, Length: 380, dtype: int64\n",
      "\n",
      "\n",
      "Product Name \n",
      " Customised Plan      1136\n",
      "Cancellation Plan     678\n",
      "Bronze Plan           650\n",
      "Silver Plan           427\n",
      "Gold Plan             109\n",
      "Name: Product_Name, dtype: int64\n",
      "\n",
      "\n",
      "Destination \n",
      " ASIA        2465\n",
      "Americas     320\n",
      "EUROPE       215\n",
      "Name: Destination, dtype: int64\n"
     ]
    }
   ],
   "source": [
    "print('Age \\n',Insurance.Age.value_counts())\n",
    "print('\\n')\n",
    "print('Agency_Code \\n',Insurance.Agency_Code.value_counts())\n",
    "print('\\n')\n",
    "print('Type \\n',Insurance.Type.value_counts())\n",
    "print('\\n')\n",
    "print('Claimed \\n',Insurance.Claimed.value_counts())\n",
    "print('\\n')\n",
    "print('Commision \\n',Insurance.Commision.value_counts())\n",
    "print('\\n')\n",
    "print('Channel \\n',Insurance.Channel.value_counts())\n",
    "print('\\n')\n",
    "print('Duration \\n',Insurance.Duration.value_counts())\n",
    "print('\\n')\n",
    "print('Sales \\n',Insurance.Sales.value_counts())\n",
    "print('\\n')\n",
    "print('Product Name \\n',Insurance.Product_Name.value_counts())\n",
    "print('\\n')\n",
    "print('Destination \\n',Insurance.Destination.value_counts())"
   ]
  },
  {
   "cell_type": "code",
   "execution_count": 106,
   "metadata": {},
   "outputs": [
    {
     "name": "stdout",
     "output_type": "stream",
     "text": [
      "\n",
      "\n",
      "feature: Agency_Code\n",
      "['C2B', 'EPX', 'CWT', 'JZI']\n",
      "Categories (4, object): ['C2B', 'CWT', 'EPX', 'JZI']\n",
      "[0 2 1 3]\n",
      "\n",
      "\n",
      "feature: Type\n",
      "['Airlines', 'Travel Agency']\n",
      "Categories (2, object): ['Airlines', 'Travel Agency']\n",
      "[0 1]\n",
      "\n",
      "\n",
      "feature: Claimed\n",
      "['No', 'Yes']\n",
      "Categories (2, object): ['No', 'Yes']\n",
      "[0 1]\n",
      "\n",
      "\n",
      "feature: Channel\n",
      "['Online', 'Offline']\n",
      "Categories (2, object): ['Offline', 'Online']\n",
      "[1 0]\n",
      "\n",
      "\n",
      "feature: Product_Name\n",
      "['Customised Plan', 'Cancellation Plan', 'Bronze Plan', 'Silver Plan', 'Gold Plan']\n",
      "Categories (5, object): ['Bronze Plan', 'Cancellation Plan', 'Customised Plan', 'Gold Plan', 'Silver Plan']\n",
      "[2 1 0 4 3]\n",
      "\n",
      "\n",
      "feature: Destination\n",
      "['ASIA', 'Americas', 'EUROPE']\n",
      "Categories (3, object): ['ASIA', 'Americas', 'EUROPE']\n",
      "[0 1 2]\n"
     ]
    }
   ],
   "source": [
    "for feature in Insurance.columns: \n",
    "    if Insurance[feature].dtype == 'object': \n",
    "        print('\\n')\n",
    "        print('feature:',feature)\n",
    "        print(pd.Categorical(Insurance[feature].unique()))\n",
    "        print(pd.Categorical(Insurance[feature].unique()).codes)\n",
    "        Insurance[feature] = pd.Categorical(Insurance[feature]).codes"
   ]
  },
  {
   "cell_type": "code",
   "execution_count": 107,
   "metadata": {},
   "outputs": [
    {
     "name": "stdout",
     "output_type": "stream",
     "text": [
      "Agency_Code \n",
      " 2    1365\n",
      "0     924\n",
      "1     472\n",
      "3     239\n",
      "Name: Agency_Code, dtype: int64\n",
      "\n",
      "\n",
      "Type \n",
      " 1    1837\n",
      "0    1163\n",
      "Name: Type, dtype: int64\n",
      "\n",
      "\n",
      "Claimed \n",
      " 0    2076\n",
      "1     924\n",
      "Name: Claimed, dtype: int64\n",
      "\n",
      "\n",
      "Channel \n",
      " 1    2954\n",
      "0      46\n",
      "Name: Channel, dtype: int64\n",
      "\n",
      "\n",
      "Product Name \n",
      " 2    1136\n",
      "1     678\n",
      "0     650\n",
      "4     427\n",
      "3     109\n",
      "Name: Product_Name, dtype: int64\n",
      "\n",
      "\n",
      "Destination \n",
      " 0    2465\n",
      "1     320\n",
      "2     215\n",
      "Name: Destination, dtype: int64\n"
     ]
    }
   ],
   "source": [
    "print('Agency_Code \\n',Insurance.Agency_Code.value_counts())\n",
    "print('\\n')\n",
    "print('Type \\n',Insurance.Type.value_counts())\n",
    "print('\\n')\n",
    "print('Claimed \\n',Insurance.Claimed.value_counts())\n",
    "print('\\n')\n",
    "print('Channel \\n',Insurance.Channel.value_counts())\n",
    "print('\\n')\n",
    "print('Product Name \\n',Insurance.Product_Name.value_counts())\n",
    "print('\\n')\n",
    "print('Destination \\n',Insurance.Destination.value_counts())"
   ]
  },
  {
   "cell_type": "code",
   "execution_count": 108,
   "metadata": {},
   "outputs": [
    {
     "name": "stdout",
     "output_type": "stream",
     "text": [
      "<class 'pandas.core.frame.DataFrame'>\n",
      "RangeIndex: 3000 entries, 0 to 2999\n",
      "Data columns (total 10 columns):\n",
      " #   Column        Non-Null Count  Dtype  \n",
      "---  ------        --------------  -----  \n",
      " 0   Age           3000 non-null   int64  \n",
      " 1   Agency_Code   3000 non-null   int8   \n",
      " 2   Type          3000 non-null   int8   \n",
      " 3   Claimed       3000 non-null   int8   \n",
      " 4   Commision     3000 non-null   float64\n",
      " 5   Channel       3000 non-null   int8   \n",
      " 6   Duration      3000 non-null   int64  \n",
      " 7   Sales         3000 non-null   float64\n",
      " 8   Product_Name  3000 non-null   int8   \n",
      " 9   Destination   3000 non-null   int8   \n",
      "dtypes: float64(2), int64(2), int8(6)\n",
      "memory usage: 111.5 KB\n"
     ]
    }
   ],
   "source": [
    "Insurance.info()"
   ]
  },
  {
   "cell_type": "code",
   "execution_count": 109,
   "metadata": {},
   "outputs": [
    {
     "data": {
      "text/html": [
       "<div>\n",
       "<style scoped>\n",
       "    .dataframe tbody tr th:only-of-type {\n",
       "        vertical-align: middle;\n",
       "    }\n",
       "\n",
       "    .dataframe tbody tr th {\n",
       "        vertical-align: top;\n",
       "    }\n",
       "\n",
       "    .dataframe thead th {\n",
       "        text-align: right;\n",
       "    }\n",
       "</style>\n",
       "<table border=\"1\" class=\"dataframe\">\n",
       "  <thead>\n",
       "    <tr style=\"text-align: right;\">\n",
       "      <th></th>\n",
       "      <th>Age</th>\n",
       "      <th>Agency_Code</th>\n",
       "      <th>Type</th>\n",
       "      <th>Claimed</th>\n",
       "      <th>Commision</th>\n",
       "      <th>Channel</th>\n",
       "      <th>Duration</th>\n",
       "      <th>Sales</th>\n",
       "      <th>Product_Name</th>\n",
       "      <th>Destination</th>\n",
       "    </tr>\n",
       "  </thead>\n",
       "  <tbody>\n",
       "    <tr>\n",
       "      <th>0</th>\n",
       "      <td>48</td>\n",
       "      <td>0</td>\n",
       "      <td>0</td>\n",
       "      <td>0</td>\n",
       "      <td>0.70</td>\n",
       "      <td>1</td>\n",
       "      <td>7</td>\n",
       "      <td>2.51</td>\n",
       "      <td>2</td>\n",
       "      <td>0</td>\n",
       "    </tr>\n",
       "    <tr>\n",
       "      <th>1</th>\n",
       "      <td>36</td>\n",
       "      <td>2</td>\n",
       "      <td>1</td>\n",
       "      <td>0</td>\n",
       "      <td>0.00</td>\n",
       "      <td>1</td>\n",
       "      <td>34</td>\n",
       "      <td>20.00</td>\n",
       "      <td>2</td>\n",
       "      <td>0</td>\n",
       "    </tr>\n",
       "    <tr>\n",
       "      <th>2</th>\n",
       "      <td>39</td>\n",
       "      <td>1</td>\n",
       "      <td>1</td>\n",
       "      <td>0</td>\n",
       "      <td>5.94</td>\n",
       "      <td>1</td>\n",
       "      <td>3</td>\n",
       "      <td>9.90</td>\n",
       "      <td>2</td>\n",
       "      <td>1</td>\n",
       "    </tr>\n",
       "    <tr>\n",
       "      <th>3</th>\n",
       "      <td>36</td>\n",
       "      <td>2</td>\n",
       "      <td>1</td>\n",
       "      <td>0</td>\n",
       "      <td>0.00</td>\n",
       "      <td>1</td>\n",
       "      <td>4</td>\n",
       "      <td>26.00</td>\n",
       "      <td>1</td>\n",
       "      <td>0</td>\n",
       "    </tr>\n",
       "    <tr>\n",
       "      <th>4</th>\n",
       "      <td>33</td>\n",
       "      <td>3</td>\n",
       "      <td>0</td>\n",
       "      <td>0</td>\n",
       "      <td>6.30</td>\n",
       "      <td>1</td>\n",
       "      <td>53</td>\n",
       "      <td>18.00</td>\n",
       "      <td>0</td>\n",
       "      <td>0</td>\n",
       "    </tr>\n",
       "  </tbody>\n",
       "</table>\n",
       "</div>"
      ],
      "text/plain": [
       "   Age  Agency_Code  Type  Claimed  Commision  Channel  Duration  Sales  \\\n",
       "0   48            0     0        0       0.70        1         7   2.51   \n",
       "1   36            2     1        0       0.00        1        34  20.00   \n",
       "2   39            1     1        0       5.94        1         3   9.90   \n",
       "3   36            2     1        0       0.00        1         4  26.00   \n",
       "4   33            3     0        0       6.30        1        53  18.00   \n",
       "\n",
       "   Product_Name  Destination  \n",
       "0             2            0  \n",
       "1             2            0  \n",
       "2             2            1  \n",
       "3             1            0  \n",
       "4             0            0  "
      ]
     },
     "execution_count": 109,
     "metadata": {},
     "output_type": "execute_result"
    }
   ],
   "source": [
    "Insurance.head()"
   ]
  },
  {
   "cell_type": "markdown",
   "metadata": {},
   "source": [
    "Label Encoding has been done and all columns are converted to number"
   ]
  },
  {
   "cell_type": "code",
   "execution_count": 110,
   "metadata": {
    "scrolled": true
   },
   "outputs": [
    {
     "data": {
      "text/plain": [
       "0   0.69\n",
       "1   0.31\n",
       "Name: Claimed, dtype: float64"
      ]
     },
     "execution_count": 110,
     "metadata": {},
     "output_type": "execute_result"
    }
   ],
   "source": [
    "Insurance.Claimed.value_counts(normalize=True)"
   ]
  },
  {
   "cell_type": "markdown",
   "metadata": {},
   "source": [
    "### Extracting the target column into separate vectors for training set and test set"
   ]
  },
  {
   "cell_type": "code",
   "execution_count": 111,
   "metadata": {},
   "outputs": [
    {
     "data": {
      "text/html": [
       "<div>\n",
       "<style scoped>\n",
       "    .dataframe tbody tr th:only-of-type {\n",
       "        vertical-align: middle;\n",
       "    }\n",
       "\n",
       "    .dataframe tbody tr th {\n",
       "        vertical-align: top;\n",
       "    }\n",
       "\n",
       "    .dataframe thead th {\n",
       "        text-align: right;\n",
       "    }\n",
       "</style>\n",
       "<table border=\"1\" class=\"dataframe\">\n",
       "  <thead>\n",
       "    <tr style=\"text-align: right;\">\n",
       "      <th></th>\n",
       "      <th>Age</th>\n",
       "      <th>Agency_Code</th>\n",
       "      <th>Type</th>\n",
       "      <th>Commision</th>\n",
       "      <th>Channel</th>\n",
       "      <th>Duration</th>\n",
       "      <th>Sales</th>\n",
       "      <th>Product_Name</th>\n",
       "      <th>Destination</th>\n",
       "    </tr>\n",
       "  </thead>\n",
       "  <tbody>\n",
       "    <tr>\n",
       "      <th>0</th>\n",
       "      <td>48</td>\n",
       "      <td>0</td>\n",
       "      <td>0</td>\n",
       "      <td>0.70</td>\n",
       "      <td>1</td>\n",
       "      <td>7</td>\n",
       "      <td>2.51</td>\n",
       "      <td>2</td>\n",
       "      <td>0</td>\n",
       "    </tr>\n",
       "    <tr>\n",
       "      <th>1</th>\n",
       "      <td>36</td>\n",
       "      <td>2</td>\n",
       "      <td>1</td>\n",
       "      <td>0.00</td>\n",
       "      <td>1</td>\n",
       "      <td>34</td>\n",
       "      <td>20.00</td>\n",
       "      <td>2</td>\n",
       "      <td>0</td>\n",
       "    </tr>\n",
       "    <tr>\n",
       "      <th>2</th>\n",
       "      <td>39</td>\n",
       "      <td>1</td>\n",
       "      <td>1</td>\n",
       "      <td>5.94</td>\n",
       "      <td>1</td>\n",
       "      <td>3</td>\n",
       "      <td>9.90</td>\n",
       "      <td>2</td>\n",
       "      <td>1</td>\n",
       "    </tr>\n",
       "    <tr>\n",
       "      <th>3</th>\n",
       "      <td>36</td>\n",
       "      <td>2</td>\n",
       "      <td>1</td>\n",
       "      <td>0.00</td>\n",
       "      <td>1</td>\n",
       "      <td>4</td>\n",
       "      <td>26.00</td>\n",
       "      <td>1</td>\n",
       "      <td>0</td>\n",
       "    </tr>\n",
       "    <tr>\n",
       "      <th>4</th>\n",
       "      <td>33</td>\n",
       "      <td>3</td>\n",
       "      <td>0</td>\n",
       "      <td>6.30</td>\n",
       "      <td>1</td>\n",
       "      <td>53</td>\n",
       "      <td>18.00</td>\n",
       "      <td>0</td>\n",
       "      <td>0</td>\n",
       "    </tr>\n",
       "  </tbody>\n",
       "</table>\n",
       "</div>"
      ],
      "text/plain": [
       "   Age  Agency_Code  Type  Commision  Channel  Duration  Sales  Product_Name  \\\n",
       "0   48            0     0       0.70        1         7   2.51             2   \n",
       "1   36            2     1       0.00        1        34  20.00             2   \n",
       "2   39            1     1       5.94        1         3   9.90             2   \n",
       "3   36            2     1       0.00        1         4  26.00             1   \n",
       "4   33            3     0       6.30        1        53  18.00             0   \n",
       "\n",
       "   Destination  \n",
       "0            0  \n",
       "1            0  \n",
       "2            1  \n",
       "3            0  \n",
       "4            0  "
      ]
     },
     "execution_count": 111,
     "metadata": {},
     "output_type": "execute_result"
    }
   ],
   "source": [
    "X = Insurance.drop(\"Claimed\", axis=1)\n",
    "\n",
    "y = Insurance.pop(\"Claimed\")\n",
    "\n",
    "X.head()"
   ]
  },
  {
   "cell_type": "markdown",
   "metadata": {},
   "source": [
    "### Splitting data into training and test set"
   ]
  },
  {
   "cell_type": "code",
   "execution_count": 112,
   "metadata": {},
   "outputs": [],
   "source": [
    "from sklearn.model_selection import train_test_split\n",
    "\n",
    "X_train, X_test, train_labels, test_labels = train_test_split(X, y, test_size=.30, random_state=1)"
   ]
  },
  {
   "cell_type": "markdown",
   "metadata": {},
   "source": [
    "### Checking the dimensions of the training and test data"
   ]
  },
  {
   "cell_type": "code",
   "execution_count": 113,
   "metadata": {},
   "outputs": [
    {
     "name": "stdout",
     "output_type": "stream",
     "text": [
      "X_train (2100, 9)\n",
      "X_test (900, 9)\n",
      "train_labels (2100,)\n",
      "test_labels (900,)\n",
      "Total Obs 3000\n"
     ]
    }
   ],
   "source": [
    "print('X_train',X_train.shape)\n",
    "print('X_test',X_test.shape)\n",
    "print('train_labels',train_labels.shape)\n",
    "print('test_labels',test_labels.shape)\n",
    "print('Total Obs',2100+900)"
   ]
  },
  {
   "cell_type": "markdown",
   "metadata": {},
   "source": [
    "### Building a Decision Tree Classifier"
   ]
  },
  {
   "cell_type": "code",
   "execution_count": 114,
   "metadata": {},
   "outputs": [],
   "source": [
    "# Initialise a Decision Tree Classifier\n",
    "dt_model = DecisionTreeClassifier(criterion='gini')"
   ]
  },
  {
   "cell_type": "code",
   "execution_count": 115,
   "metadata": {},
   "outputs": [
    {
     "data": {
      "text/plain": [
       "DecisionTreeClassifier()"
      ]
     },
     "execution_count": 115,
     "metadata": {},
     "output_type": "execute_result"
    }
   ],
   "source": [
    "# Fit the model\n",
    "dt_model.fit(X_train, train_labels)"
   ]
  },
  {
   "cell_type": "code",
   "execution_count": 118,
   "metadata": {},
   "outputs": [
    {
     "data": {
      "text/html": [
       "<div>\n",
       "<style scoped>\n",
       "    .dataframe tbody tr th:only-of-type {\n",
       "        vertical-align: middle;\n",
       "    }\n",
       "\n",
       "    .dataframe tbody tr th {\n",
       "        vertical-align: top;\n",
       "    }\n",
       "\n",
       "    .dataframe thead th {\n",
       "        text-align: right;\n",
       "    }\n",
       "</style>\n",
       "<table border=\"1\" class=\"dataframe\">\n",
       "  <thead>\n",
       "    <tr style=\"text-align: right;\">\n",
       "      <th></th>\n",
       "      <th>Age</th>\n",
       "      <th>Agency_Code</th>\n",
       "      <th>Type</th>\n",
       "      <th>Commision</th>\n",
       "      <th>Channel</th>\n",
       "      <th>Duration</th>\n",
       "      <th>Sales</th>\n",
       "      <th>Product_Name</th>\n",
       "      <th>Destination</th>\n",
       "    </tr>\n",
       "  </thead>\n",
       "  <tbody>\n",
       "    <tr>\n",
       "      <th>1045</th>\n",
       "      <td>36</td>\n",
       "      <td>2</td>\n",
       "      <td>1</td>\n",
       "      <td>0.00</td>\n",
       "      <td>1</td>\n",
       "      <td>30</td>\n",
       "      <td>20.00</td>\n",
       "      <td>2</td>\n",
       "      <td>0</td>\n",
       "    </tr>\n",
       "    <tr>\n",
       "      <th>2717</th>\n",
       "      <td>36</td>\n",
       "      <td>2</td>\n",
       "      <td>1</td>\n",
       "      <td>0.00</td>\n",
       "      <td>1</td>\n",
       "      <td>139</td>\n",
       "      <td>42.00</td>\n",
       "      <td>2</td>\n",
       "      <td>1</td>\n",
       "    </tr>\n",
       "    <tr>\n",
       "      <th>2835</th>\n",
       "      <td>28</td>\n",
       "      <td>0</td>\n",
       "      <td>0</td>\n",
       "      <td>46.96</td>\n",
       "      <td>1</td>\n",
       "      <td>367</td>\n",
       "      <td>187.85</td>\n",
       "      <td>4</td>\n",
       "      <td>0</td>\n",
       "    </tr>\n",
       "    <tr>\n",
       "      <th>2913</th>\n",
       "      <td>28</td>\n",
       "      <td>0</td>\n",
       "      <td>0</td>\n",
       "      <td>12.13</td>\n",
       "      <td>1</td>\n",
       "      <td>29</td>\n",
       "      <td>48.50</td>\n",
       "      <td>4</td>\n",
       "      <td>0</td>\n",
       "    </tr>\n",
       "    <tr>\n",
       "      <th>959</th>\n",
       "      <td>48</td>\n",
       "      <td>1</td>\n",
       "      <td>1</td>\n",
       "      <td>18.62</td>\n",
       "      <td>1</td>\n",
       "      <td>53</td>\n",
       "      <td>49.00</td>\n",
       "      <td>3</td>\n",
       "      <td>0</td>\n",
       "    </tr>\n",
       "    <tr>\n",
       "      <th>...</th>\n",
       "      <td>...</td>\n",
       "      <td>...</td>\n",
       "      <td>...</td>\n",
       "      <td>...</td>\n",
       "      <td>...</td>\n",
       "      <td>...</td>\n",
       "      <td>...</td>\n",
       "      <td>...</td>\n",
       "      <td>...</td>\n",
       "    </tr>\n",
       "    <tr>\n",
       "      <th>2763</th>\n",
       "      <td>39</td>\n",
       "      <td>0</td>\n",
       "      <td>0</td>\n",
       "      <td>34.13</td>\n",
       "      <td>1</td>\n",
       "      <td>55</td>\n",
       "      <td>136.50</td>\n",
       "      <td>3</td>\n",
       "      <td>0</td>\n",
       "    </tr>\n",
       "    <tr>\n",
       "      <th>905</th>\n",
       "      <td>41</td>\n",
       "      <td>0</td>\n",
       "      <td>0</td>\n",
       "      <td>6.00</td>\n",
       "      <td>1</td>\n",
       "      <td>9</td>\n",
       "      <td>15.00</td>\n",
       "      <td>0</td>\n",
       "      <td>0</td>\n",
       "    </tr>\n",
       "    <tr>\n",
       "      <th>1096</th>\n",
       "      <td>36</td>\n",
       "      <td>2</td>\n",
       "      <td>1</td>\n",
       "      <td>0.00</td>\n",
       "      <td>1</td>\n",
       "      <td>131</td>\n",
       "      <td>63.00</td>\n",
       "      <td>2</td>\n",
       "      <td>0</td>\n",
       "    </tr>\n",
       "    <tr>\n",
       "      <th>235</th>\n",
       "      <td>44</td>\n",
       "      <td>3</td>\n",
       "      <td>0</td>\n",
       "      <td>6.30</td>\n",
       "      <td>1</td>\n",
       "      <td>6</td>\n",
       "      <td>18.00</td>\n",
       "      <td>0</td>\n",
       "      <td>0</td>\n",
       "    </tr>\n",
       "    <tr>\n",
       "      <th>1061</th>\n",
       "      <td>36</td>\n",
       "      <td>0</td>\n",
       "      <td>0</td>\n",
       "      <td>5.63</td>\n",
       "      <td>1</td>\n",
       "      <td>85</td>\n",
       "      <td>22.50</td>\n",
       "      <td>4</td>\n",
       "      <td>0</td>\n",
       "    </tr>\n",
       "  </tbody>\n",
       "</table>\n",
       "<p>2100 rows × 9 columns</p>\n",
       "</div>"
      ],
      "text/plain": [
       "      Age  Agency_Code  Type  Commision  Channel  Duration  Sales  \\\n",
       "1045   36            2     1       0.00        1        30  20.00   \n",
       "2717   36            2     1       0.00        1       139  42.00   \n",
       "2835   28            0     0      46.96        1       367 187.85   \n",
       "2913   28            0     0      12.13        1        29  48.50   \n",
       "959    48            1     1      18.62        1        53  49.00   \n",
       "...   ...          ...   ...        ...      ...       ...    ...   \n",
       "2763   39            0     0      34.13        1        55 136.50   \n",
       "905    41            0     0       6.00        1         9  15.00   \n",
       "1096   36            2     1       0.00        1       131  63.00   \n",
       "235    44            3     0       6.30        1         6  18.00   \n",
       "1061   36            0     0       5.63        1        85  22.50   \n",
       "\n",
       "      Product_Name  Destination  \n",
       "1045             2            0  \n",
       "2717             2            1  \n",
       "2835             4            0  \n",
       "2913             4            0  \n",
       "959              3            0  \n",
       "...            ...          ...  \n",
       "2763             3            0  \n",
       "905              0            0  \n",
       "1096             2            0  \n",
       "235              0            0  \n",
       "1061             4            0  \n",
       "\n",
       "[2100 rows x 9 columns]"
      ]
     },
     "execution_count": 118,
     "metadata": {},
     "output_type": "execute_result"
    }
   ],
   "source": [
    "X_train"
   ]
  },
  {
   "cell_type": "code",
   "execution_count": 119,
   "metadata": {},
   "outputs": [
    {
     "data": {
      "text/plain": [
       "['Age',\n",
       " 'Agency_Code',\n",
       " 'Type',\n",
       " 'Commision',\n",
       " 'Channel',\n",
       " 'Duration',\n",
       " 'Sales',\n",
       " 'Product_Name',\n",
       " 'Destination']"
      ]
     },
     "execution_count": 119,
     "metadata": {},
     "output_type": "execute_result"
    }
   ],
   "source": [
    "list(X_train)"
   ]
  },
  {
   "cell_type": "code",
   "execution_count": 117,
   "metadata": {},
   "outputs": [],
   "source": [
    "from sklearn import tree\n",
    "\n",
    "train_char_label = ['No', 'Yes']\n",
    "Insurance_Tree_File = open('Insurance_Tree_File.dot','w')\n",
    "dot_data = tree.export_graphviz(dt_model, \n",
    "                                out_file=Insurance_Tree_File, \n",
    "                                feature_names = list(X_train), \n",
    "                                class_names = list(train_char_label))\n",
    "\n",
    "Insurance_Tree_File.close()"
   ]
  },
  {
   "cell_type": "markdown",
   "metadata": {},
   "source": [
    "The above code will save a .dot file in working directory.\n",
    "WebGraphviz is Graphviz in the Browser.\n",
    "Copy paste the contents of the file into the link below to get the visualization\n",
    "http://webgraphviz.com/\n"
   ]
  },
  {
   "cell_type": "markdown",
   "metadata": {},
   "source": [
    "### Variable Importance"
   ]
  },
  {
   "cell_type": "code",
   "execution_count": 155,
   "metadata": {},
   "outputs": [
    {
     "name": "stdout",
     "output_type": "stream",
     "text": [
      "              Imp\n",
      "Duration     0.26\n",
      "Sales        0.20\n",
      "Agency_Code  0.19\n",
      "Age          0.18\n",
      "Commision    0.09\n",
      "Product_Name 0.04\n",
      "Destination  0.02\n",
      "Channel      0.01\n",
      "Type         0.00\n"
     ]
    }
   ],
   "source": [
    "print (pd.DataFrame(dt_model.feature_importances_, columns = [\"Imp\"], index = X_train.columns).sort_values('Imp',ascending=False))"
   ]
  },
  {
   "cell_type": "markdown",
   "metadata": {},
   "source": [
    "### Predicting Test Data"
   ]
  },
  {
   "cell_type": "code",
   "execution_count": 156,
   "metadata": {},
   "outputs": [],
   "source": [
    "y_predict = dt_model.predict(X_test)"
   ]
  },
  {
   "cell_type": "code",
   "execution_count": 157,
   "metadata": {},
   "outputs": [
    {
     "data": {
      "text/plain": [
       "(900,)"
      ]
     },
     "execution_count": 157,
     "metadata": {},
     "output_type": "execute_result"
    }
   ],
   "source": [
    "y_predict.shape"
   ]
  },
  {
   "cell_type": "code",
   "execution_count": 158,
   "metadata": {},
   "outputs": [
    {
     "data": {
      "text/plain": [
       "array([0, 1, 1, 1, 0, 0, 0, 1, 0, 1, 0, 0, 0, 1, 1, 0, 0, 1, 1, 0, 0, 1,\n",
       "       0, 0, 0, 1, 1, 0, 0, 1, 0, 0, 0, 0, 1, 1, 0, 0, 0, 0, 0, 0, 0, 0,\n",
       "       0, 0, 1, 0, 0, 0, 1, 0, 0, 0, 0, 0, 0, 0, 1, 1, 0, 0, 0, 0, 0, 1,\n",
       "       0, 0, 0, 0, 0, 0, 1, 1, 0, 0, 0, 0, 1, 0, 0, 0, 0, 0, 0, 0, 1, 1,\n",
       "       0, 0, 0, 0, 0, 0, 1, 0, 1, 0, 0, 1, 0, 0, 0, 0, 0, 0, 0, 0, 0, 0,\n",
       "       0, 0, 1, 0, 1, 0, 1, 1, 0, 0, 0, 0, 0, 0, 1, 0, 0, 1, 0, 1, 0, 0,\n",
       "       0, 0, 1, 1, 0, 1, 1, 0, 0, 1, 0, 1, 0, 1, 1, 0, 0, 0, 0, 0, 0, 1,\n",
       "       0, 0, 0, 0, 1, 0, 0, 0, 1, 0, 0, 1, 0, 1, 0, 0, 0, 1, 1, 0, 1, 0,\n",
       "       1, 1, 0, 0, 0, 0, 0, 0, 0, 0, 0, 0, 0, 1, 0, 0, 0, 1, 1, 1, 1, 0,\n",
       "       0, 0, 1, 0, 0, 0, 1, 0, 1, 0, 0, 1, 0, 0, 1, 1, 0, 1, 0, 0, 1, 0,\n",
       "       0, 0, 0, 1, 0, 0, 0, 1, 0, 1, 0, 0, 0, 0, 0, 0, 1, 0, 0, 0, 0, 0,\n",
       "       0, 0, 0, 0, 1, 0, 0, 0, 0, 0, 1, 0, 0, 0, 0, 0, 1, 0, 0, 0, 0, 0,\n",
       "       0, 0, 0, 0, 0, 0, 1, 0, 0, 0, 0, 0, 1, 0, 0, 0, 0, 0, 1, 1, 0, 0,\n",
       "       1, 0, 0, 1, 1, 0, 1, 0, 0, 0, 0, 1, 0, 0, 0, 0, 0, 1, 1, 0, 0, 0,\n",
       "       0, 0, 0, 0, 1, 0, 0, 0, 0, 1, 0, 1, 0, 0, 1, 0, 0, 1, 0, 1, 0, 0,\n",
       "       0, 0, 0, 0, 0, 1, 0, 0, 0, 1, 0, 1, 1, 0, 0, 1, 0, 1, 0, 1, 0, 0,\n",
       "       0, 0, 0, 0, 1, 0, 1, 0, 1, 0, 0, 0, 0, 1, 1, 1, 0, 0, 1, 0, 0, 0,\n",
       "       0, 0, 0, 0, 0, 0, 0, 0, 1, 1, 1, 0, 0, 0, 0, 0, 0, 0, 0, 0, 0, 0,\n",
       "       0, 0, 1, 0, 0, 0, 0, 0, 0, 0, 0, 1, 1, 0, 0, 1, 0, 1, 1, 0, 0, 0,\n",
       "       0, 0, 0, 1, 0, 1, 1, 1, 0, 1, 0, 0, 0, 0, 0, 1, 0, 0, 1, 0, 0, 0,\n",
       "       0, 0, 1, 1, 1, 0, 0, 0, 0, 0, 0, 0, 0, 1, 0, 1, 1, 1, 0, 0, 1, 1,\n",
       "       0, 0, 0, 1, 0, 0, 1, 0, 0, 0, 0, 0, 0, 0, 0, 1, 0, 0, 0, 0, 1, 1,\n",
       "       0, 0, 1, 0, 1, 0, 1, 1, 0, 0, 0, 0, 0, 0, 0, 0, 0, 1, 0, 1, 0, 1,\n",
       "       0, 0, 1, 0, 1, 1, 0, 0, 0, 0, 0, 0, 0, 0, 0, 1, 1, 0, 0, 0, 0, 0,\n",
       "       0, 0, 1, 0, 1, 0, 1, 1, 0, 0, 0, 1, 1, 0, 0, 0, 0, 0, 0, 0, 0, 0,\n",
       "       0, 0, 0, 0, 0, 0, 0, 0, 1, 1, 0, 1, 0, 0, 0, 0, 0, 1, 1, 0, 0, 0,\n",
       "       0, 0, 0, 0, 1, 0, 0, 1, 1, 1, 0, 0, 0, 1, 0, 1, 0, 1, 0, 1, 0, 0,\n",
       "       0, 0, 1, 0, 1, 1, 1, 0, 0, 1, 1, 0, 1, 0, 1, 0, 0, 0, 0, 0, 0, 0,\n",
       "       0, 0, 0, 0, 0, 1, 0, 0, 1, 0, 1, 1, 0, 0, 0, 1, 0, 0, 0, 0, 0, 0,\n",
       "       0, 0, 0, 0, 1, 1, 0, 1, 0, 0, 0, 0, 1, 0, 0, 0, 1, 1, 0, 0, 0, 0,\n",
       "       1, 0, 0, 0, 1, 0, 0, 1, 0, 0, 0, 1, 0, 0, 0, 0, 0, 0, 0, 0, 0, 1,\n",
       "       0, 0, 1, 0, 0, 1, 1, 0, 1, 1, 0, 0, 0, 0, 1, 0, 1, 0, 1, 0, 0, 0,\n",
       "       0, 0, 1, 1, 0, 0, 0, 0, 1, 0, 0, 0, 0, 0, 1, 1, 0, 0, 0, 0, 1, 1,\n",
       "       0, 1, 0, 1, 0, 0, 0, 0, 0, 0, 0, 0, 0, 0, 1, 0, 0, 0, 0, 0, 0, 0,\n",
       "       0, 1, 1, 0, 0, 0, 0, 0, 0, 0, 1, 1, 1, 0, 0, 1, 0, 0, 1, 0, 0, 0,\n",
       "       1, 1, 1, 0, 0, 0, 0, 1, 0, 0, 1, 1, 0, 0, 0, 0, 0, 1, 0, 0, 0, 0,\n",
       "       0, 0, 0, 1, 0, 0, 0, 0, 0, 0, 1, 0, 0, 0, 0, 0, 0, 0, 0, 0, 0, 0,\n",
       "       1, 1, 0, 0, 0, 0, 1, 0, 0, 0, 0, 0, 1, 1, 1, 1, 0, 0, 0, 1, 0, 1,\n",
       "       0, 1, 0, 0, 0, 0, 0, 1, 1, 0, 0, 0, 0, 1, 0, 0, 1, 1, 0, 0, 1, 0,\n",
       "       0, 0, 0, 1, 1, 1, 1, 0, 1, 1, 1, 0, 0, 1, 1, 1, 1, 0, 0, 0, 0, 1,\n",
       "       0, 1, 1, 0, 0, 0, 0, 0, 0, 0, 0, 0, 0, 1, 0, 0, 0, 1, 0, 0],\n",
       "      dtype=int8)"
      ]
     },
     "execution_count": 158,
     "metadata": {},
     "output_type": "execute_result"
    }
   ],
   "source": [
    "y_predict"
   ]
  },
  {
   "cell_type": "markdown",
   "metadata": {},
   "source": [
    "# Regularising the Decision Tree"
   ]
  },
  {
   "cell_type": "markdown",
   "metadata": {},
   "source": [
    "### Adding Tuning Parameters"
   ]
  },
  {
   "cell_type": "code",
   "execution_count": 159,
   "metadata": {},
   "outputs": [
    {
     "data": {
      "text/plain": [
       "DecisionTreeClassifier(max_depth=30, min_samples_leaf=60, min_samples_split=250)"
      ]
     },
     "execution_count": 159,
     "metadata": {},
     "output_type": "execute_result"
    }
   ],
   "source": [
    "reg_dt_model = DecisionTreeClassifier(criterion = 'gini', max_depth = 30,min_samples_leaf=60,min_samples_split=250)\n",
    "reg_dt_model.fit(X_train, train_labels)"
   ]
  },
  {
   "cell_type": "markdown",
   "metadata": {},
   "source": [
    "### Generating New Tree"
   ]
  },
  {
   "cell_type": "code",
   "execution_count": 160,
   "metadata": {},
   "outputs": [],
   "source": [
    "Insurance_tree_regularized = open('Insurance_tree_regularized.dot','w')\n",
    "dot_data = tree.export_graphviz(reg_dt_model, out_file= Insurance_tree_regularized , feature_names = list(X_train), class_names = list(train_char_label))\n",
    "\n",
    "Insurance_tree_regularized.close()"
   ]
  },
  {
   "cell_type": "markdown",
   "metadata": {},
   "source": [
    "### Variable Importance"
   ]
  },
  {
   "cell_type": "code",
   "execution_count": 161,
   "metadata": {},
   "outputs": [
    {
     "name": "stdout",
     "output_type": "stream",
     "text": [
      "              Imp\n",
      "Agency_Code  0.63\n",
      "Sales        0.26\n",
      "Product_Name 0.06\n",
      "Duration     0.03\n",
      "Age          0.02\n",
      "Commision    0.00\n",
      "Type         0.00\n",
      "Channel      0.00\n",
      "Destination  0.00\n"
     ]
    }
   ],
   "source": [
    "print (pd.DataFrame(reg_dt_model.feature_importances_, columns = [\"Imp\"], index = X_train.columns).sort_values('Imp',ascending=False))"
   ]
  },
  {
   "cell_type": "markdown",
   "metadata": {},
   "source": [
    "### Predicting on Training and Test dataset"
   ]
  },
  {
   "cell_type": "code",
   "execution_count": 162,
   "metadata": {},
   "outputs": [],
   "source": [
    "# Complete the below code\n",
    "ytrain_predict = reg_dt_model.predict(X_train)\n",
    "ytest_predict = reg_dt_model.predict(X_test)"
   ]
  },
  {
   "cell_type": "code",
   "execution_count": 163,
   "metadata": {},
   "outputs": [
    {
     "name": "stdout",
     "output_type": "stream",
     "text": [
      "ytrain_predict (2100,)\n",
      "ytest_predict (900,)\n"
     ]
    }
   ],
   "source": [
    "print('ytrain_predict',ytrain_predict.shape)\n",
    "print('ytest_predict',ytest_predict.shape)"
   ]
  },
  {
   "cell_type": "code",
   "execution_count": 164,
   "metadata": {},
   "outputs": [
    {
     "data": {
      "text/plain": [
       "array([0, 0, 1, ..., 0, 0, 1], dtype=int8)"
      ]
     },
     "execution_count": 164,
     "metadata": {},
     "output_type": "execute_result"
    }
   ],
   "source": [
    "ytrain_predict"
   ]
  },
  {
   "cell_type": "markdown",
   "metadata": {},
   "source": [
    "### Getting the Predicted Classes"
   ]
  },
  {
   "cell_type": "code",
   "execution_count": 165,
   "metadata": {},
   "outputs": [
    {
     "data": {
      "text/plain": [
       "array([0, 1, 1, 1, 0, 0, 0, 0, 0, 1, 0, 0, 1, 1, 1, 0, 0, 0, 1, 0, 0, 0,\n",
       "       1, 0, 0, 0, 1, 0, 0, 1, 0, 0, 0, 0, 1, 0, 0, 0, 0, 1, 0, 0, 0, 0,\n",
       "       0, 0, 0, 0, 1, 0, 0, 1, 0, 0, 0, 1, 0, 0, 1, 0, 0, 0, 1, 0, 0, 1,\n",
       "       0, 1, 0, 0, 0, 0, 1, 0, 0, 0, 0, 0, 1, 0, 0, 0, 0, 0, 0, 0, 0, 1,\n",
       "       0, 0, 0, 0, 0, 0, 1, 0, 0, 0, 0, 0, 0, 0, 0, 0, 0, 0, 0, 0, 0, 0,\n",
       "       0, 0, 0, 1, 0, 0, 0, 0, 0, 0, 0, 0, 1, 0, 0, 0, 0, 0, 0, 1, 1, 0,\n",
       "       0, 0, 1, 0, 0, 1, 0, 0, 0, 0, 0, 0, 1, 0, 1, 0, 1, 0, 0, 0, 0, 1,\n",
       "       0, 0, 0, 0, 1, 0, 0, 0, 1, 0, 0, 0, 0, 1, 0, 0, 0, 1, 1, 0, 0, 0,\n",
       "       1, 1, 0, 0, 0, 0, 0, 0, 0, 1, 0, 0, 0, 0, 0, 0, 0, 1, 0, 1, 0, 0,\n",
       "       0, 0, 1, 0, 0, 0, 0, 0, 1, 0, 0, 0, 0, 0, 0, 0, 0, 0, 0, 0, 1, 0,\n",
       "       0, 0, 0, 1, 0, 0, 0, 0, 0, 0, 0, 0, 0, 0, 0, 0, 0, 0, 1, 0, 0, 0,\n",
       "       0, 1, 0, 1, 1, 0, 0, 0, 0, 0, 1, 0, 1, 0, 0, 0, 1, 0, 0, 0, 1, 0,\n",
       "       0, 1, 0, 0, 0, 0, 1, 0, 0, 0, 0, 0, 1, 0, 0, 0, 0, 0, 0, 1, 0, 0,\n",
       "       1, 0, 1, 0, 1, 0, 1, 0, 0, 0, 0, 1, 0, 0, 0, 1, 1, 0, 1, 1, 0, 0,\n",
       "       0, 0, 0, 0, 1, 0, 0, 0, 0, 1, 0, 0, 0, 0, 0, 0, 0, 0, 0, 0, 0, 0,\n",
       "       0, 0, 0, 0, 1, 1, 0, 0, 0, 0, 0, 1, 1, 0, 0, 0, 0, 1, 0, 1, 0, 0,\n",
       "       0, 1, 0, 0, 1, 0, 1, 0, 0, 0, 0, 0, 0, 1, 1, 0, 1, 0, 0, 0, 0, 0,\n",
       "       0, 0, 0, 0, 1, 0, 0, 0, 0, 1, 0, 0, 0, 0, 0, 0, 0, 0, 1, 0, 0, 0,\n",
       "       0, 0, 1, 1, 0, 0, 0, 0, 0, 0, 0, 0, 1, 0, 0, 0, 0, 0, 0, 0, 0, 0,\n",
       "       0, 0, 0, 0, 1, 0, 0, 1, 0, 1, 0, 0, 0, 0, 0, 0, 0, 0, 0, 0, 0, 0,\n",
       "       0, 0, 1, 0, 1, 0, 0, 0, 0, 0, 0, 1, 0, 0, 0, 1, 0, 0, 0, 0, 1, 1,\n",
       "       0, 0, 0, 0, 0, 0, 0, 0, 0, 0, 0, 0, 1, 0, 0, 1, 0, 0, 0, 1, 0, 1,\n",
       "       0, 0, 0, 0, 1, 0, 1, 0, 1, 0, 0, 0, 0, 0, 0, 0, 0, 1, 1, 0, 0, 1,\n",
       "       0, 0, 0, 0, 0, 1, 0, 0, 0, 0, 1, 0, 0, 1, 0, 1, 0, 0, 0, 0, 0, 0,\n",
       "       0, 0, 1, 0, 1, 0, 0, 0, 0, 0, 0, 0, 1, 0, 0, 0, 0, 0, 0, 0, 0, 0,\n",
       "       0, 1, 0, 0, 1, 0, 0, 0, 0, 1, 1, 1, 0, 0, 0, 0, 0, 0, 1, 0, 0, 0,\n",
       "       0, 0, 0, 0, 0, 0, 0, 0, 0, 0, 0, 0, 1, 1, 0, 0, 0, 1, 0, 1, 0, 0,\n",
       "       0, 0, 0, 0, 0, 1, 1, 0, 0, 1, 0, 0, 1, 0, 0, 0, 0, 0, 0, 0, 0, 0,\n",
       "       0, 1, 0, 0, 0, 1, 0, 0, 1, 0, 1, 0, 0, 0, 0, 0, 0, 0, 0, 0, 0, 0,\n",
       "       1, 0, 1, 1, 0, 1, 1, 1, 0, 0, 0, 0, 0, 0, 0, 0, 0, 0, 0, 0, 0, 0,\n",
       "       1, 0, 0, 0, 1, 0, 0, 0, 0, 0, 0, 0, 0, 0, 0, 0, 0, 0, 0, 0, 1, 1,\n",
       "       0, 0, 1, 0, 0, 0, 1, 1, 1, 1, 0, 0, 0, 0, 0, 0, 1, 0, 0, 0, 0, 0,\n",
       "       0, 1, 1, 1, 0, 0, 0, 0, 0, 0, 1, 0, 0, 1, 1, 0, 0, 0, 0, 0, 1, 0,\n",
       "       0, 1, 0, 1, 0, 0, 0, 0, 0, 0, 0, 0, 0, 0, 1, 1, 1, 0, 0, 0, 0, 0,\n",
       "       0, 1, 0, 1, 0, 0, 0, 0, 0, 0, 0, 1, 1, 0, 1, 0, 0, 0, 1, 0, 0, 0,\n",
       "       0, 0, 1, 0, 0, 0, 0, 1, 0, 0, 1, 1, 0, 0, 0, 0, 0, 0, 0, 0, 0, 0,\n",
       "       1, 0, 0, 1, 0, 0, 0, 0, 0, 0, 1, 0, 0, 0, 0, 0, 0, 0, 0, 0, 1, 0,\n",
       "       1, 1, 0, 0, 0, 0, 1, 0, 1, 0, 0, 0, 1, 0, 0, 1, 0, 0, 0, 1, 0, 0,\n",
       "       0, 1, 0, 0, 0, 0, 0, 1, 1, 0, 0, 0, 0, 0, 1, 0, 1, 1, 0, 0, 1, 0,\n",
       "       0, 0, 1, 0, 1, 0, 0, 0, 0, 0, 0, 0, 0, 0, 1, 0, 0, 0, 0, 0, 0, 1,\n",
       "       0, 1, 0, 0, 0, 0, 1, 0, 0, 0, 0, 0, 0, 1, 0, 0, 0, 1, 0, 0],\n",
       "      dtype=int8)"
      ]
     },
     "execution_count": 165,
     "metadata": {},
     "output_type": "execute_result"
    }
   ],
   "source": [
    "ytest_predict"
   ]
  },
  {
   "cell_type": "markdown",
   "metadata": {},
   "source": [
    "### Getting the Predicted Probabilities"
   ]
  },
  {
   "cell_type": "code",
   "execution_count": 166,
   "metadata": {},
   "outputs": [
    {
     "data": {
      "text/plain": [
       "array([[0.88780488, 0.11219512],\n",
       "       [0.44081633, 0.55918367],\n",
       "       [0.44081633, 0.55918367],\n",
       "       ...,\n",
       "       [0.44081633, 0.55918367],\n",
       "       [0.88405797, 0.11594203],\n",
       "       [0.88405797, 0.11594203]])"
      ]
     },
     "execution_count": 166,
     "metadata": {},
     "output_type": "execute_result"
    }
   ],
   "source": [
    "ytest_predict_prob=reg_dt_model.predict_proba(X_test)\n",
    "ytest_predict_prob"
   ]
  },
  {
   "cell_type": "code",
   "execution_count": 167,
   "metadata": {},
   "outputs": [
    {
     "data": {
      "text/html": [
       "<div>\n",
       "<style scoped>\n",
       "    .dataframe tbody tr th:only-of-type {\n",
       "        vertical-align: middle;\n",
       "    }\n",
       "\n",
       "    .dataframe tbody tr th {\n",
       "        vertical-align: top;\n",
       "    }\n",
       "\n",
       "    .dataframe thead th {\n",
       "        text-align: right;\n",
       "    }\n",
       "</style>\n",
       "<table border=\"1\" class=\"dataframe\">\n",
       "  <thead>\n",
       "    <tr style=\"text-align: right;\">\n",
       "      <th></th>\n",
       "      <th>0</th>\n",
       "      <th>1</th>\n",
       "    </tr>\n",
       "  </thead>\n",
       "  <tbody>\n",
       "    <tr>\n",
       "      <th>0</th>\n",
       "      <td>0.89</td>\n",
       "      <td>0.11</td>\n",
       "    </tr>\n",
       "    <tr>\n",
       "      <th>1</th>\n",
       "      <td>0.44</td>\n",
       "      <td>0.56</td>\n",
       "    </tr>\n",
       "    <tr>\n",
       "      <th>2</th>\n",
       "      <td>0.44</td>\n",
       "      <td>0.56</td>\n",
       "    </tr>\n",
       "    <tr>\n",
       "      <th>3</th>\n",
       "      <td>0.30</td>\n",
       "      <td>0.70</td>\n",
       "    </tr>\n",
       "    <tr>\n",
       "      <th>4</th>\n",
       "      <td>0.94</td>\n",
       "      <td>0.06</td>\n",
       "    </tr>\n",
       "    <tr>\n",
       "      <th>5</th>\n",
       "      <td>0.68</td>\n",
       "      <td>0.32</td>\n",
       "    </tr>\n",
       "    <tr>\n",
       "      <th>6</th>\n",
       "      <td>0.88</td>\n",
       "      <td>0.12</td>\n",
       "    </tr>\n",
       "    <tr>\n",
       "      <th>7</th>\n",
       "      <td>0.56</td>\n",
       "      <td>0.44</td>\n",
       "    </tr>\n",
       "    <tr>\n",
       "      <th>8</th>\n",
       "      <td>0.68</td>\n",
       "      <td>0.32</td>\n",
       "    </tr>\n",
       "    <tr>\n",
       "      <th>9</th>\n",
       "      <td>0.44</td>\n",
       "      <td>0.56</td>\n",
       "    </tr>\n",
       "  </tbody>\n",
       "</table>\n",
       "</div>"
      ],
      "text/plain": [
       "     0    1\n",
       "0 0.89 0.11\n",
       "1 0.44 0.56\n",
       "2 0.44 0.56\n",
       "3 0.30 0.70\n",
       "4 0.94 0.06\n",
       "5 0.68 0.32\n",
       "6 0.88 0.12\n",
       "7 0.56 0.44\n",
       "8 0.68 0.32\n",
       "9 0.44 0.56"
      ]
     },
     "execution_count": 167,
     "metadata": {},
     "output_type": "execute_result"
    }
   ],
   "source": [
    " pd.DataFrame(ytest_predict_prob).head(10)"
   ]
  },
  {
   "cell_type": "markdown",
   "metadata": {},
   "source": [
    "# Model Evaluation"
   ]
  },
  {
   "cell_type": "markdown",
   "metadata": {},
   "source": [
    "## Measuring AUC-ROC Curve"
   ]
  },
  {
   "cell_type": "markdown",
   "metadata": {},
   "source": [
    "### AUC and ROC for the training data"
   ]
  },
  {
   "cell_type": "code",
   "execution_count": 168,
   "metadata": {},
   "outputs": [
    {
     "name": "stdout",
     "output_type": "stream",
     "text": [
      "AUC: 0.827\n"
     ]
    },
    {
     "data": {
      "image/png": "[encoded data removed]",
      "text/plain": [
       "<Figure size 432x288 with 1 Axes>"
      ]
     },
     "metadata": {
      "needs_background": "light"
     },
     "output_type": "display_data"
    }
   ],
   "source": [
    "# predict probabilities\n",
    "probs = reg_dt_model.predict_proba(X_train)\n",
    "# keep probabilities for the positive outcome only\n",
    "probs = probs[:, 1]\n",
    "# calculate AUC\n",
    "from sklearn.metrics import roc_auc_score\n",
    "auc = roc_auc_score(train_labels, probs)\n",
    "print('AUC: %.3f' % auc)\n",
    "# calculate roc curve\n",
    "from sklearn.metrics import roc_curve\n",
    "fpr, tpr, thresholds = roc_curve(train_labels, probs)\n",
    "plt.plot([0, 1], [0, 1], linestyle='--')\n",
    "# plot the roc curve for the model\n",
    "plt.plot(fpr, tpr, marker='.')\n",
    "# show the plot\n",
    "plt.show()"
   ]
  },
  {
   "cell_type": "markdown",
   "metadata": {},
   "source": [
    "### AUC and ROC for the test data"
   ]
  },
  {
   "cell_type": "code",
   "execution_count": 169,
   "metadata": {},
   "outputs": [
    {
     "name": "stdout",
     "output_type": "stream",
     "text": [
      "AUC: 0.798\n"
     ]
    },
    {
     "data": {
      "image/png": "[encoded data removed]",
      "text/plain": [
       "<Figure size 432x288 with 1 Axes>"
      ]
     },
     "metadata": {
      "needs_background": "light"
     },
     "output_type": "display_data"
    }
   ],
   "source": [
    "# predict probabilities\n",
    "probs = reg_dt_model.predict_proba(X_test)\n",
    "# keep probabilities for the positive outcome only\n",
    "probs = probs[:, 1]\n",
    "# calculate AUC\n",
    "from sklearn.metrics import roc_auc_score\n",
    "auc = roc_auc_score(test_labels, probs)\n",
    "print('AUC: %.3f' % auc)\n",
    "# calculate roc curve\n",
    "from sklearn.metrics import roc_curve\n",
    "fpr, tpr, thresholds = roc_curve(test_labels, probs)\n",
    "plt.plot([0, 1], [0, 1], linestyle='--')\n",
    "# plot the roc curve for the model\n",
    "plt.plot(fpr, tpr, marker='.')\n",
    "# show the plot\n",
    "plt.show()"
   ]
  },
  {
   "cell_type": "markdown",
   "metadata": {},
   "source": [
    "## Confusion Matrix for the training data"
   ]
  },
  {
   "cell_type": "code",
   "execution_count": 170,
   "metadata": {},
   "outputs": [],
   "source": [
    "from sklearn.metrics import classification_report,confusion_matrix"
   ]
  },
  {
   "cell_type": "code",
   "execution_count": 171,
   "metadata": {},
   "outputs": [
    {
     "data": {
      "text/plain": [
       "array([[1293,  178],\n",
       "       [ 269,  360]], dtype=int64)"
      ]
     },
     "execution_count": 171,
     "metadata": {},
     "output_type": "execute_result"
    }
   ],
   "source": [
    "confusion_matrix(train_labels,ytrain_predict)"
   ]
  },
  {
   "cell_type": "code",
   "execution_count": 172,
   "metadata": {},
   "outputs": [],
   "source": [
    "tn, fp, fn, tp = confusion_matrix(train_labels,ytrain_predict).ravel()"
   ]
  },
  {
   "cell_type": "code",
   "execution_count": 173,
   "metadata": {},
   "outputs": [
    {
     "name": "stdout",
     "output_type": "stream",
     "text": [
      "Precision=  0.6691449814126395\n",
      "Recall=  0.5723370429252782\n",
      "F1-Score=  0.6169665809768637\n",
      "Accuracy=  0.7871428571428571\n"
     ]
    }
   ],
   "source": [
    "print('Precision= ', tp/(tp+fp) )\n",
    "print('Recall= ', tp/(tp+fn) )\n",
    "print('F1-Score= ', (2 * ((tp/(tp+fp)) * (tp/(tp+fn)))) / ((tp/(tp+fp))+ (tp/(tp+fn))))\n",
    "print('Accuracy= ', (tp+tn)/(tp+tn+fp+fn))"
   ]
  },
  {
   "cell_type": "code",
   "execution_count": 174,
   "metadata": {},
   "outputs": [
    {
     "name": "stdout",
     "output_type": "stream",
     "text": [
      "Precision=  0.8277848911651728\n",
      "Recall=  0.8789938817131203\n",
      "F1-Score=  0.8526211671612264\n",
      "Accuracy=  0.7871428571428571\n"
     ]
    }
   ],
   "source": [
    "print('Precision= ', tn/(tn+fn) )\n",
    "print('Recall= ', tn/(tn+fp) )\n",
    "print('F1-Score= ', (2 * ((tn/(tn+fn)) * (tn/(tn+fp)))) / ((tn/(tn+fn))+ (tn/(tn+fp))))\n",
    "print('Accuracy= ', (tp+tn)/(tp+tn+fp+fn) )"
   ]
  },
  {
   "cell_type": "code",
   "execution_count": 175,
   "metadata": {},
   "outputs": [
    {
     "data": {
      "image/png": "[encoded data removed]",
      "text/plain": [
       "<Figure size 432x288 with 1 Axes>"
      ]
     },
     "metadata": {
      "needs_background": "light"
     },
     "output_type": "display_data"
    }
   ],
   "source": [
    "# Get the confusion matrix on the train data\n",
    "confusion_matrix(train_labels,ytrain_predict)\n",
    "sns.heatmap(confusion_matrix(train_labels,ytrain_predict),annot=True, fmt='d',cbar=False, cmap='rainbow')\n",
    "plt.xlabel('Predicted Label')\n",
    "plt.ylabel('Actual Label')\n",
    "plt.title('Confusion Matrix')\n",
    "plt.show()"
   ]
  },
  {
   "cell_type": "code",
   "execution_count": 176,
   "metadata": {},
   "outputs": [
    {
     "data": {
      "text/plain": [
       "0.7871428571428571"
      ]
     },
     "execution_count": 176,
     "metadata": {},
     "output_type": "execute_result"
    }
   ],
   "source": [
    "#Train Data Accuracy\n",
    "reg_dt_model.score(X_train,train_labels) "
   ]
  },
  {
   "cell_type": "code",
   "execution_count": 177,
   "metadata": {
    "scrolled": false
   },
   "outputs": [
    {
     "name": "stdout",
     "output_type": "stream",
     "text": [
      "              precision    recall  f1-score   support\n",
      "\n",
      "           0       0.83      0.88      0.85      1471\n",
      "           1       0.67      0.57      0.62       629\n",
      "\n",
      "    accuracy                           0.79      2100\n",
      "   macro avg       0.75      0.73      0.73      2100\n",
      "weighted avg       0.78      0.79      0.78      2100\n",
      "\n"
     ]
    }
   ],
   "source": [
    "print(classification_report(train_labels, ytrain_predict))"
   ]
  },
  {
   "cell_type": "markdown",
   "metadata": {},
   "source": [
    "## Confusion Matrix for the Testing data"
   ]
  },
  {
   "cell_type": "code",
   "execution_count": 178,
   "metadata": {},
   "outputs": [
    {
     "data": {
      "text/plain": [
       "array([[551,  54],\n",
       "       [152, 143]], dtype=int64)"
      ]
     },
     "execution_count": 178,
     "metadata": {},
     "output_type": "execute_result"
    }
   ],
   "source": [
    "confusion_matrix(test_labels,ytest_predict)"
   ]
  },
  {
   "cell_type": "code",
   "execution_count": 179,
   "metadata": {},
   "outputs": [],
   "source": [
    "tn, fp, fn, tp = confusion_matrix(test_labels,ytest_predict).ravel()"
   ]
  },
  {
   "cell_type": "code",
   "execution_count": 180,
   "metadata": {},
   "outputs": [
    {
     "name": "stdout",
     "output_type": "stream",
     "text": [
      "Precision=  0.7258883248730964\n",
      "Recall=  0.4847457627118644\n",
      "F1-Score=  0.5813008130081301\n",
      "Accuracy=  0.7711111111111111\n"
     ]
    }
   ],
   "source": [
    "print('Precision= ', tp/(tp+fp) )\n",
    "print('Recall= ', tp/(tp+fn) )\n",
    "print('F1-Score= ', (2 * ((tp/(tp+fp)) * (tp/(tp+fn)))) / ((tp/(tp+fp))+ (tp/(tp+fn))))\n",
    "print('Accuracy= ', (tp+tn)/(tp+tn+fp+fn))"
   ]
  },
  {
   "cell_type": "code",
   "execution_count": 181,
   "metadata": {},
   "outputs": [
    {
     "name": "stdout",
     "output_type": "stream",
     "text": [
      "Precision=  0.7837837837837838\n",
      "Recall=  0.9107438016528926\n",
      "F1-Score=  0.8425076452599388\n",
      "Accuracy=  0.7711111111111111\n"
     ]
    }
   ],
   "source": [
    "print('Precision= ', tn/(tn+fn) )\n",
    "print('Recall= ', tn/(tn+fp) )\n",
    "print('F1-Score= ', (2 * ((tn/(tn+fn)) * (tn/(tn+fp)))) / ((tn/(tn+fn))+ (tn/(tn+fp))))\n",
    "print('Accuracy= ', (tp+tn)/(tp+tn+fp+fn) )"
   ]
  },
  {
   "cell_type": "code",
   "execution_count": 182,
   "metadata": {},
   "outputs": [
    {
     "data": {
      "image/png": "[encoded data removed]",
      "text/plain": [
       "<Figure size 432x288 with 1 Axes>"
      ]
     },
     "metadata": {
      "needs_background": "light"
     },
     "output_type": "display_data"
    }
   ],
   "source": [
    "# Get the confusion matrix on the train data\n",
    "confusion_matrix(test_labels,ytest_predict)\n",
    "sns.heatmap(confusion_matrix(test_labels,ytest_predict),annot=True, fmt='d',cbar=False, cmap='rainbow')\n",
    "plt.xlabel('Predicted Label')\n",
    "plt.ylabel('Actual Label')\n",
    "plt.title('Confusion Matrix')\n",
    "plt.show()"
   ]
  },
  {
   "cell_type": "code",
   "execution_count": 183,
   "metadata": {},
   "outputs": [
    {
     "data": {
      "text/plain": [
       "0.7711111111111111"
      ]
     },
     "execution_count": 183,
     "metadata": {},
     "output_type": "execute_result"
    }
   ],
   "source": [
    "#test Data Accuracy\n",
    "reg_dt_model.score(X_test,test_labels) "
   ]
  },
  {
   "cell_type": "code",
   "execution_count": 184,
   "metadata": {
    "scrolled": true
   },
   "outputs": [
    {
     "name": "stdout",
     "output_type": "stream",
     "text": [
      "              precision    recall  f1-score   support\n",
      "\n",
      "           0       0.78      0.91      0.84       605\n",
      "           1       0.73      0.48      0.58       295\n",
      "\n",
      "    accuracy                           0.77       900\n",
      "   macro avg       0.75      0.70      0.71       900\n",
      "weighted avg       0.76      0.77      0.76       900\n",
      "\n"
     ]
    }
   ],
   "source": [
    "print(classification_report(test_labels, ytest_predict))"
   ]
  },
  {
   "cell_type": "markdown",
   "metadata": {},
   "source": [
    "# Ensemble RandomForest Classifier"
   ]
  },
  {
   "cell_type": "markdown",
   "metadata": {},
   "source": [
    "#### Building the Random Forest model"
   ]
  },
  {
   "cell_type": "code",
   "execution_count": 185,
   "metadata": {},
   "outputs": [],
   "source": [
    "#Build a RandomForestCassifier wit n_estimators 100, max_features 9, andfit it on the training data\n",
    "rfcl = RandomForestClassifier(random_state=1,n_estimators=100,max_features=9)\n",
    "rfcl = rfcl.fit(X_train, train_labels)"
   ]
  },
  {
   "cell_type": "code",
   "execution_count": 186,
   "metadata": {},
   "outputs": [
    {
     "data": {
      "text/plain": [
       "RandomForestClassifier(max_features=9, random_state=1)"
      ]
     },
     "execution_count": 186,
     "metadata": {},
     "output_type": "execute_result"
    }
   ],
   "source": [
    "rfcl"
   ]
  },
  {
   "cell_type": "markdown",
   "metadata": {},
   "source": [
    "##### Predicting Train and Test data with the RF Model"
   ]
  },
  {
   "cell_type": "code",
   "execution_count": 187,
   "metadata": {},
   "outputs": [],
   "source": [
    "ytrain_predict = rfcl.predict(X_train)\n",
    "ytest_predict = rfcl.predict(X_test)"
   ]
  },
  {
   "cell_type": "markdown",
   "metadata": {},
   "source": [
    "**Train Accuracy**"
   ]
  },
  {
   "cell_type": "code",
   "execution_count": 188,
   "metadata": {},
   "outputs": [
    {
     "data": {
      "text/plain": [
       "0.9947619047619047"
      ]
     },
     "execution_count": 188,
     "metadata": {},
     "output_type": "execute_result"
    }
   ],
   "source": [
    "rfcl.score(X_train,train_labels)"
   ]
  },
  {
   "cell_type": "markdown",
   "metadata": {},
   "source": [
    "#### Evaluating model performance with confusion matrix"
   ]
  },
  {
   "cell_type": "code",
   "execution_count": 189,
   "metadata": {},
   "outputs": [],
   "source": [
    "from sklearn.metrics import confusion_matrix,classification_report"
   ]
  },
  {
   "cell_type": "markdown",
   "metadata": {},
   "source": [
    "#### Evaluating model performance on the training data"
   ]
  },
  {
   "cell_type": "code",
   "execution_count": 190,
   "metadata": {},
   "outputs": [
    {
     "data": {
      "image/png": "[encoded data removed]",
      "text/plain": [
       "<Figure size 432x288 with 1 Axes>"
      ]
     },
     "metadata": {
      "needs_background": "light"
     },
     "output_type": "display_data"
    }
   ],
   "source": [
    "# Get the confusion matrix on the train data\n",
    "confusion_matrix(train_labels,ytrain_predict)\n",
    "sns.heatmap(confusion_matrix(train_labels,ytrain_predict),annot=True, fmt='d',cbar=False, cmap='rainbow')\n",
    "plt.xlabel('Predicted Label')\n",
    "plt.ylabel('Actual Label')\n",
    "plt.title('Confusion Matrix')\n",
    "plt.show()"
   ]
  },
  {
   "cell_type": "code",
   "execution_count": 191,
   "metadata": {},
   "outputs": [
    {
     "name": "stdout",
     "output_type": "stream",
     "text": [
      "              precision    recall  f1-score   support\n",
      "\n",
      "           0       0.99      1.00      1.00      1471\n",
      "           1       1.00      0.99      0.99       629\n",
      "\n",
      "    accuracy                           0.99      2100\n",
      "   macro avg       0.99      0.99      0.99      2100\n",
      "weighted avg       0.99      0.99      0.99      2100\n",
      "\n"
     ]
    }
   ],
   "source": [
    "print(classification_report(train_labels,ytrain_predict))"
   ]
  },
  {
   "cell_type": "code",
   "execution_count": 192,
   "metadata": {},
   "outputs": [
    {
     "data": {
      "image/png": "[encoded data removed]",
      "text/plain": [
       "<Figure size 360x360 with 1 Axes>"
      ]
     },
     "metadata": {
      "needs_background": "light"
     },
     "output_type": "display_data"
    },
    {
     "name": "stdout",
     "output_type": "stream",
     "text": [
      "Area under Curve is 0.9999151588906457\n"
     ]
    }
   ],
   "source": [
    "from sklearn.metrics import roc_curve,roc_auc_score\n",
    "rf_fpr, rf_tpr,_=roc_curve(train_labels,rfcl.predict_proba(X_train)[:,1])\n",
    "plt.figure(figsize=(5,5))\n",
    "plt.plot(rf_fpr,rf_tpr, marker='x', label='Random Forest')\n",
    "plt.plot(np.arange(0,1.1,0.1),np.arange(0,1.1,0.1))\n",
    "plt.xlabel('False Positive Rate')\n",
    "plt.ylabel('True Positive Rate')\n",
    "plt.title('ROC')\n",
    "plt.show()\n",
    "print('Area under Curve is', roc_auc_score(train_labels,rfcl.predict_proba(X_train)[:,1]))"
   ]
  },
  {
   "cell_type": "markdown",
   "metadata": {},
   "source": [
    "#### Evaluating model performance on the test data"
   ]
  },
  {
   "cell_type": "code",
   "execution_count": 193,
   "metadata": {},
   "outputs": [
    {
     "data": {
      "image/png": "[encoded data removed]",
      "text/plain": [
       "<Figure size 432x288 with 1 Axes>"
      ]
     },
     "metadata": {
      "needs_background": "light"
     },
     "output_type": "display_data"
    }
   ],
   "source": [
    "confusion_matrix(test_labels,ytest_predict)\n",
    "sns.heatmap(confusion_matrix(test_labels,ytest_predict),annot=True, fmt='d',cbar=False, cmap='rainbow')\n",
    "plt.xlabel('Predicted Label')\n",
    "plt.ylabel('Actual Label')\n",
    "plt.title('Confusion Matrix')\n",
    "plt.show()"
   ]
  },
  {
   "cell_type": "code",
   "execution_count": 194,
   "metadata": {},
   "outputs": [
    {
     "name": "stdout",
     "output_type": "stream",
     "text": [
      "              precision    recall  f1-score   support\n",
      "\n",
      "           0       0.77      0.89      0.83       605\n",
      "           1       0.67      0.45      0.54       295\n",
      "\n",
      "    accuracy                           0.75       900\n",
      "   macro avg       0.72      0.67      0.68       900\n",
      "weighted avg       0.74      0.75      0.73       900\n",
      "\n"
     ]
    }
   ],
   "source": [
    "print(classification_report(test_labels,ytest_predict))"
   ]
  },
  {
   "cell_type": "markdown",
   "metadata": {},
   "source": [
    "**Test Accuracy**"
   ]
  },
  {
   "cell_type": "code",
   "execution_count": 195,
   "metadata": {},
   "outputs": [
    {
     "data": {
      "text/plain": [
       "0.7466666666666667"
      ]
     },
     "execution_count": 195,
     "metadata": {},
     "output_type": "execute_result"
    }
   ],
   "source": [
    "rfcl.score(X_test,test_labels)"
   ]
  },
  {
   "cell_type": "code",
   "execution_count": 196,
   "metadata": {},
   "outputs": [
    {
     "data": {
      "image/png": "[encoded data removed]",
      "text/plain": [
       "<Figure size 360x360 with 1 Axes>"
      ]
     },
     "metadata": {
      "needs_background": "light"
     },
     "output_type": "display_data"
    },
    {
     "name": "stdout",
     "output_type": "stream",
     "text": [
      "Area under Curve is 0.793962739879535\n"
     ]
    }
   ],
   "source": [
    "#from sklearn.metrics import roc_curve,roc_auc_score\n",
    "rf_fpr, rf_tpr,_=roc_curve(test_labels,rfcl.predict_proba(X_test)[:,1])\n",
    "plt.figure(figsize=(5,5))\n",
    "plt.plot(rf_fpr,rf_tpr, marker='x', label='Random Forest')\n",
    "plt.plot(np.arange(0,1.1,0.1),np.arange(0,1.1,0.1))\n",
    "plt.xlabel('False Positive Rate')\n",
    "plt.ylabel('True Positive Rate')\n",
    "plt.title('ROC')\n",
    "plt.show()\n",
    "print('Area under Curve is', roc_auc_score(test_labels,rfcl.predict_proba(X_test)[:,1]))"
   ]
  },
  {
   "cell_type": "markdown",
   "metadata": {},
   "source": [
    "### Grid Search for finding out the optimal values for the hyper parameters"
   ]
  },
  {
   "cell_type": "markdown",
   "metadata": {},
   "source": [
    "Note: runs for longer time on more data with more params\n",
    "**As it may take too long to get the results, we can put these values:{'max_depth': 10,\n",
    " 'max_features': 6,\n",
    " 'min_samples_leaf': 5,\n",
    " 'min_samples_split': 50,\n",
    " 'n_estimators': 200}**"
   ]
  },
  {
   "cell_type": "code",
   "execution_count": 197,
   "metadata": {},
   "outputs": [],
   "source": [
    "from sklearn.model_selection import GridSearchCV\n",
    "\n",
    "param_grid = {\n",
    "    'max_depth': [5,7,10],\n",
    "    'max_features': [4,6,9],\n",
    "    'min_samples_leaf': [5,10],\n",
    "    'min_samples_split': [50,100],\n",
    "    'n_estimators': [100,200,300]\n",
    "}\n",
    "\n",
    "rfcl = RandomForestClassifier(random_state=1)\n",
    "\n",
    "grid_search = GridSearchCV(estimator = rfcl, param_grid = param_grid, cv = 10)"
   ]
  },
  {
   "cell_type": "code",
   "execution_count": 198,
   "metadata": {},
   "outputs": [
    {
     "data": {
      "text/plain": [
       "GridSearchCV(cv=10, estimator=RandomForestClassifier(random_state=1),\n",
       "             param_grid={'max_depth': [5, 7, 10], 'max_features': [4, 6, 9],\n",
       "                         'min_samples_leaf': [5, 10],\n",
       "                         'min_samples_split': [50, 100],\n",
       "                         'n_estimators': [100, 200, 300]})"
      ]
     },
     "execution_count": 198,
     "metadata": {},
     "output_type": "execute_result"
    }
   ],
   "source": [
    "grid_search.fit(X_train, train_labels)"
   ]
  },
  {
   "cell_type": "code",
   "execution_count": 199,
   "metadata": {},
   "outputs": [
    {
     "data": {
      "text/plain": [
       "{'max_depth': 5,\n",
       " 'max_features': 9,\n",
       " 'min_samples_leaf': 5,\n",
       " 'min_samples_split': 50,\n",
       " 'n_estimators': 300}"
      ]
     },
     "execution_count": 199,
     "metadata": {},
     "output_type": "execute_result"
    }
   ],
   "source": [
    "grid_search.best_params_"
   ]
  },
  {
   "cell_type": "code",
   "execution_count": 200,
   "metadata": {},
   "outputs": [],
   "source": [
    "best_grid = grid_search.best_estimator_"
   ]
  },
  {
   "cell_type": "code",
   "execution_count": 201,
   "metadata": {},
   "outputs": [
    {
     "data": {
      "text/plain": [
       "RandomForestClassifier(max_depth=5, max_features=9, min_samples_leaf=5,\n",
       "                       min_samples_split=50, n_estimators=300, random_state=1)"
      ]
     },
     "execution_count": 201,
     "metadata": {},
     "output_type": "execute_result"
    }
   ],
   "source": [
    "best_grid"
   ]
  },
  {
   "cell_type": "code",
   "execution_count": 202,
   "metadata": {},
   "outputs": [],
   "source": [
    "ytrain_predict = best_grid.predict(X_train)\n",
    "ytest_predict = best_grid.predict(X_test)"
   ]
  },
  {
   "cell_type": "code",
   "execution_count": 203,
   "metadata": {},
   "outputs": [
    {
     "data": {
      "text/plain": [
       "array([[1316,  155],\n",
       "       [ 247,  382]], dtype=int64)"
      ]
     },
     "execution_count": 203,
     "metadata": {},
     "output_type": "execute_result"
    }
   ],
   "source": [
    "confusion_matrix(train_labels,ytrain_predict)"
   ]
  },
  {
   "cell_type": "code",
   "execution_count": 204,
   "metadata": {},
   "outputs": [
    {
     "name": "stdout",
     "output_type": "stream",
     "text": [
      "              precision    recall  f1-score   support\n",
      "\n",
      "           0       0.84      0.89      0.87      1471\n",
      "           1       0.71      0.61      0.66       629\n",
      "\n",
      "    accuracy                           0.81      2100\n",
      "   macro avg       0.78      0.75      0.76      2100\n",
      "weighted avg       0.80      0.81      0.80      2100\n",
      "\n"
     ]
    }
   ],
   "source": [
    "print(classification_report(train_labels,ytrain_predict))"
   ]
  },
  {
   "cell_type": "code",
   "execution_count": 205,
   "metadata": {},
   "outputs": [
    {
     "data": {
      "image/png": "[encoded data removed]",
      "text/plain": [
       "<Figure size 360x360 with 1 Axes>"
      ]
     },
     "metadata": {
      "needs_background": "light"
     },
     "output_type": "display_data"
    },
    {
     "name": "stdout",
     "output_type": "stream",
     "text": [
      "Area under Curve is 0.8563780519832825\n"
     ]
    }
   ],
   "source": [
    "#from sklearn.metrics import roc_curve,roc_auc_score\n",
    "rf_fpr, rf_tpr,_=roc_curve(train_labels,best_grid.predict_proba(X_train)[:,1])\n",
    "plt.figure(figsize=(5,5))\n",
    "plt.plot(rf_fpr,rf_tpr, marker='x', label='Random Forest')\n",
    "plt.plot(np.arange(0,1.1,0.1),np.arange(0,1.1,0.1))\n",
    "plt.xlabel('False Positive Rate')\n",
    "plt.ylabel('True Positive Rate')\n",
    "plt.title('ROC')\n",
    "plt.show()\n",
    "print('Area under Curve is', roc_auc_score(train_labels,best_grid.predict_proba(X_train)[:,1]))"
   ]
  },
  {
   "cell_type": "code",
   "execution_count": 206,
   "metadata": {},
   "outputs": [
    {
     "data": {
      "text/plain": [
       "array([[548,  57],\n",
       "       [150, 145]], dtype=int64)"
      ]
     },
     "execution_count": 206,
     "metadata": {},
     "output_type": "execute_result"
    }
   ],
   "source": [
    "confusion_matrix(test_labels,ytest_predict)"
   ]
  },
  {
   "cell_type": "code",
   "execution_count": 207,
   "metadata": {},
   "outputs": [
    {
     "name": "stdout",
     "output_type": "stream",
     "text": [
      "              precision    recall  f1-score   support\n",
      "\n",
      "           0       0.79      0.91      0.84       605\n",
      "           1       0.72      0.49      0.58       295\n",
      "\n",
      "    accuracy                           0.77       900\n",
      "   macro avg       0.75      0.70      0.71       900\n",
      "weighted avg       0.76      0.77      0.76       900\n",
      "\n"
     ]
    }
   ],
   "source": [
    "print(classification_report(test_labels,ytest_predict))"
   ]
  },
  {
   "cell_type": "code",
   "execution_count": 208,
   "metadata": {},
   "outputs": [
    {
     "data": {
      "image/png": "[encoded data removed]",
      "text/plain": [
       "<Figure size 360x360 with 1 Axes>"
      ]
     },
     "metadata": {
      "needs_background": "light"
     },
     "output_type": "display_data"
    },
    {
     "name": "stdout",
     "output_type": "stream",
     "text": [
      "Area under Curve is 0.8189466311808377\n"
     ]
    }
   ],
   "source": [
    "#from sklearn.metrics import roc_curve,roc_auc_score\n",
    "rf_fpr, rf_tpr,_=roc_curve(test_labels,best_grid.predict_proba(X_test)[:,1])\n",
    "plt.figure(figsize=(5,5))\n",
    "plt.plot(rf_fpr,rf_tpr, marker='x', label='Random Forest')\n",
    "plt.plot(np.arange(0,1.1,0.1),np.arange(0,1.1,0.1))\n",
    "plt.xlabel('False Positive Rate')\n",
    "plt.ylabel('True Positive Rate')\n",
    "plt.title('ROC')\n",
    "plt.show()\n",
    "print('Area under Curve is', roc_auc_score(test_labels,best_grid.predict_proba(X_test)[:,1]))"
   ]
  },
  {
   "cell_type": "markdown",
   "metadata": {},
   "source": [
    "### Building Neural Network Model"
   ]
  },
  {
   "cell_type": "code",
   "execution_count": 209,
   "metadata": {},
   "outputs": [
    {
     "name": "stdout",
     "output_type": "stream",
     "text": [
      "X_train (2100, 9)\n",
      "X_test (900, 9)\n",
      "y_train:  (2100,)\n",
      "y_test:  (900,)\n",
      "train_labels (2100,)\n",
      "test_labels (900,)\n"
     ]
    }
   ],
   "source": [
    "# Checking dimensions on the train and test data\n",
    "print('X_train',X_train.shape)\n",
    "print('X_test',X_test.shape)\n",
    "print('y_train: ',train_labels.shape)\n",
    "print('y_test: ',test_labels.shape)\n",
    "print('train_labels',train_labels.shape)\n",
    "print('test_labels',test_labels.shape)"
   ]
  },
  {
   "cell_type": "markdown",
   "metadata": {},
   "source": [
    "### Scaling the variables"
   ]
  },
  {
   "cell_type": "code",
   "execution_count": 210,
   "metadata": {},
   "outputs": [],
   "source": [
    "#Initialize an object for StandardScaler\n",
    "sc = StandardScaler()"
   ]
  },
  {
   "cell_type": "code",
   "execution_count": 211,
   "metadata": {},
   "outputs": [],
   "source": [
    "#Scale the training data\n",
    "X_train = sc.fit_transform(X_train)"
   ]
  },
  {
   "cell_type": "code",
   "execution_count": 212,
   "metadata": {},
   "outputs": [
    {
     "data": {
      "text/plain": [
       "array([[-0.19192502,  0.72815922,  0.80520286, ..., -0.5730663 ,\n",
       "         0.24642411, -0.43926017],\n",
       "       [-0.19192502,  0.72815922,  0.80520286, ..., -0.26910565,\n",
       "         0.24642411,  1.27851702],\n",
       "       [-0.97188154, -1.28518425, -1.24192306, ...,  1.74601534,\n",
       "         1.83381865, -0.43926017],\n",
       "       ...,\n",
       "       [-0.19192502,  0.72815922,  0.80520286, ...,  0.02103862,\n",
       "         0.24642411, -0.43926017],\n",
       "       [ 0.58803151,  1.73483096, -1.24192306, ..., -0.60069909,\n",
       "        -1.34097044, -0.43926017],\n",
       "       [-0.19192502, -1.28518425, -1.24192306, ..., -0.53852532,\n",
       "         1.83381865, -0.43926017]])"
      ]
     },
     "execution_count": 212,
     "metadata": {},
     "output_type": "execute_result"
    }
   ],
   "source": [
    "X_train"
   ]
  },
  {
   "cell_type": "code",
   "execution_count": 213,
   "metadata": {},
   "outputs": [],
   "source": [
    "# Apply the transformation on the test data\n",
    "X_test = sc.transform(X_test)"
   ]
  },
  {
   "cell_type": "code",
   "execution_count": 214,
   "metadata": {},
   "outputs": [
    {
     "data": {
      "text/plain": [
       "array([[-1.55684893, -0.27851251,  0.80520286, ...,  0.18683534,\n",
       "        -1.34097044,  2.99629421],\n",
       "       [ 1.66047173, -1.28518425, -1.24192306, ..., -0.48325974,\n",
       "        -1.34097044, -0.43926017],\n",
       "       [-0.87438698, -1.28518425, -1.24192306, ..., -0.62833187,\n",
       "        -1.34097044, -0.43926017],\n",
       "       ...,\n",
       "       [-0.19192502, -1.28518425, -1.24192306, ..., -0.47635155,\n",
       "        -1.34097044, -0.43926017],\n",
       "       [ 1.07550434,  1.73483096, -1.24192306, ..., -0.43490237,\n",
       "        -1.34097044, -0.43926017],\n",
       "       [-0.28941958,  1.73483096, -1.24192306, ..., -0.49016794,\n",
       "        -1.34097044, -0.43926017]])"
      ]
     },
     "execution_count": 214,
     "metadata": {},
     "output_type": "execute_result"
    }
   ],
   "source": [
    "X_test"
   ]
  },
  {
   "cell_type": "code",
   "execution_count": 215,
   "metadata": {},
   "outputs": [],
   "source": [
    "clf = MLPClassifier(hidden_layer_sizes=100, max_iter=5000,\n",
    "                     solver='sgd', verbose=True,  random_state=1,tol=0.01)"
   ]
  },
  {
   "cell_type": "code",
   "execution_count": 216,
   "metadata": {},
   "outputs": [
    {
     "name": "stdout",
     "output_type": "stream",
     "text": [
      "Iteration 1, loss = 0.73190828\n",
      "Iteration 2, loss = 0.70481842\n",
      "Iteration 3, loss = 0.67377712\n",
      "Iteration 4, loss = 0.64619472\n",
      "Iteration 5, loss = 0.62272023\n",
      "Iteration 6, loss = 0.60330223\n",
      "Iteration 7, loss = 0.58732612\n",
      "Iteration 8, loss = 0.57422402\n",
      "Iteration 9, loss = 0.56310704\n",
      "Iteration 10, loss = 0.55382327\n",
      "Iteration 11, loss = 0.54599574\n",
      "Iteration 12, loss = 0.53911673\n",
      "Iteration 13, loss = 0.53335898\n",
      "Iteration 14, loss = 0.52839899\n",
      "Iteration 15, loss = 0.52391237\n",
      "Iteration 16, loss = 0.51999360\n",
      "Iteration 17, loss = 0.51649432\n",
      "Iteration 18, loss = 0.51346008\n",
      "Iteration 19, loss = 0.51074817\n",
      "Iteration 20, loss = 0.50822930\n",
      "Training loss did not improve more than tol=0.010000 for 10 consecutive epochs. Stopping.\n"
     ]
    },
    {
     "data": {
      "text/plain": [
       "MLPClassifier(hidden_layer_sizes=100, max_iter=5000, random_state=1,\n",
       "              solver='sgd', tol=0.01, verbose=True)"
      ]
     },
     "execution_count": 216,
     "metadata": {},
     "output_type": "execute_result"
    }
   ],
   "source": [
    "# Fit the model on the training data\n",
    "clf.fit(X_train,train_labels)"
   ]
  },
  {
   "cell_type": "markdown",
   "metadata": {},
   "source": [
    "### Predicting training data"
   ]
  },
  {
   "cell_type": "code",
   "execution_count": 217,
   "metadata": {},
   "outputs": [],
   "source": [
    "# use the model to predict the training data\n",
    "y_pred = clf.predict(X_train)"
   ]
  },
  {
   "cell_type": "markdown",
   "metadata": {},
   "source": [
    "### Evaluating model performance on training data"
   ]
  },
  {
   "cell_type": "code",
   "execution_count": 218,
   "metadata": {},
   "outputs": [
    {
     "data": {
      "text/plain": [
       "array([[1396,   75],\n",
       "       [ 432,  197]], dtype=int64)"
      ]
     },
     "execution_count": 218,
     "metadata": {},
     "output_type": "execute_result"
    }
   ],
   "source": [
    "confusion_matrix(train_labels,y_pred)"
   ]
  },
  {
   "cell_type": "code",
   "execution_count": 219,
   "metadata": {},
   "outputs": [
    {
     "name": "stdout",
     "output_type": "stream",
     "text": [
      "              precision    recall  f1-score   support\n",
      "\n",
      "           0       0.76      0.95      0.85      1471\n",
      "           1       0.72      0.31      0.44       629\n",
      "\n",
      "    accuracy                           0.76      2100\n",
      "   macro avg       0.74      0.63      0.64      2100\n",
      "weighted avg       0.75      0.76      0.72      2100\n",
      "\n"
     ]
    }
   ],
   "source": [
    "print(classification_report(train_labels,y_pred))"
   ]
  },
  {
   "cell_type": "code",
   "execution_count": 220,
   "metadata": {},
   "outputs": [
    {
     "name": "stdout",
     "output_type": "stream",
     "text": [
      "AUC: 0.792\n"
     ]
    },
    {
     "data": {
      "image/png": "[encoded data removed]",
      "text/plain": [
       "<Figure size 432x288 with 1 Axes>"
      ]
     },
     "metadata": {
      "needs_background": "light"
     },
     "output_type": "display_data"
    }
   ],
   "source": [
    "# AUC and ROC for the training data\n",
    "# predict probabilities\n",
    "probs = clf.predict_proba(X_train)\n",
    "# keep probabilities for the positive outcome only\n",
    "probs = probs[:, 1]\n",
    "# calculate AUC\n",
    "from sklearn.metrics import roc_auc_score\n",
    "auc = roc_auc_score(train_labels, probs)\n",
    "print('AUC: %.3f' % auc)\n",
    "# calculate roc curve\n",
    "from sklearn.metrics import roc_curve\n",
    "fpr, tpr, thresholds = roc_curve(train_labels, probs)\n",
    "plt.plot([0, 1], [0, 1], linestyle='--')\n",
    "# plot the roc curve for the model\n",
    "plt.plot(fpr, tpr, marker='.')\n",
    "# show the plot\n",
    "plt.show()"
   ]
  },
  {
   "cell_type": "markdown",
   "metadata": {},
   "source": [
    "### Predicting Test Data and comparing model performance"
   ]
  },
  {
   "cell_type": "code",
   "execution_count": 221,
   "metadata": {},
   "outputs": [],
   "source": [
    "y_pred = clf.predict(X_test)"
   ]
  },
  {
   "cell_type": "code",
   "execution_count": 222,
   "metadata": {},
   "outputs": [
    {
     "data": {
      "text/plain": [
       "array([[582,  23],\n",
       "       [216,  79]], dtype=int64)"
      ]
     },
     "execution_count": 222,
     "metadata": {},
     "output_type": "execute_result"
    }
   ],
   "source": [
    "confusion_matrix(test_labels, y_pred)"
   ]
  },
  {
   "cell_type": "code",
   "execution_count": 223,
   "metadata": {},
   "outputs": [
    {
     "name": "stdout",
     "output_type": "stream",
     "text": [
      "              precision    recall  f1-score   support\n",
      "\n",
      "           0       0.73      0.96      0.83       605\n",
      "           1       0.77      0.27      0.40       295\n",
      "\n",
      "    accuracy                           0.73       900\n",
      "   macro avg       0.75      0.61      0.61       900\n",
      "weighted avg       0.74      0.73      0.69       900\n",
      "\n"
     ]
    }
   ],
   "source": [
    "print(classification_report(test_labels, y_pred))"
   ]
  },
  {
   "cell_type": "code",
   "execution_count": 224,
   "metadata": {},
   "outputs": [
    {
     "name": "stdout",
     "output_type": "stream",
     "text": [
      "AUC: 0.767\n"
     ]
    },
    {
     "data": {
      "image/png": "[encoded data removed]",
      "text/plain": [
       "<Figure size 432x288 with 1 Axes>"
      ]
     },
     "metadata": {
      "needs_background": "light"
     },
     "output_type": "display_data"
    }
   ],
   "source": [
    "# AUC and ROC for the test data\n",
    "\n",
    "# predict probabilities\n",
    "probs = clf.predict_proba(X_test)\n",
    "# keep probabilities for the positive outcome only\n",
    "probs = probs[:, 1]\n",
    "# calculate AUC\n",
    "auc = roc_auc_score(test_labels, probs)\n",
    "print('AUC: %.3f' % auc)\n",
    "# calculate roc curve\n",
    "fpr, tpr, thresholds = roc_curve(test_labels, probs)\n",
    "plt.plot([0, 1], [0, 1], linestyle='--')\n",
    "# plot the roc curve for the model\n",
    "plt.plot(fpr, tpr, marker='.')\n",
    "# show the plot\n",
    "plt.show()"
   ]
  },
  {
   "cell_type": "markdown",
   "metadata": {},
   "source": [
    "### Model Tuning through Grid Search"
   ]
  },
  {
   "cell_type": "code",
   "execution_count": 225,
   "metadata": {},
   "outputs": [],
   "source": [
    "from sklearn.model_selection import GridSearchCV\n",
    "\n",
    "param_grid = {\n",
    "    'hidden_layer_sizes': [100,200,300,500],\n",
    "    'max_iter': [5000,2500,7000,6000],\n",
    "    'solver': ['sgd','adam'],\n",
    "    'tol': [0.01],\n",
    "}\n",
    "\n",
    "nncl = MLPClassifier(random_state=1)\n",
    "\n",
    "grid_search = GridSearchCV(estimator = nncl, param_grid = param_grid, cv = 10)"
   ]
  },
  {
   "cell_type": "code",
   "execution_count": 226,
   "metadata": {},
   "outputs": [
    {
     "data": {
      "text/plain": [
       "GridSearchCV(cv=10, estimator=MLPClassifier(random_state=1),\n",
       "             param_grid={'hidden_layer_sizes': [100, 200, 300, 500],\n",
       "                         'max_iter': [5000, 2500, 7000, 6000],\n",
       "                         'solver': ['sgd', 'adam'], 'tol': [0.01]})"
      ]
     },
     "execution_count": 226,
     "metadata": {},
     "output_type": "execute_result"
    }
   ],
   "source": [
    "grid_search.fit(X_train,train_labels)"
   ]
  },
  {
   "cell_type": "code",
   "execution_count": 227,
   "metadata": {},
   "outputs": [
    {
     "data": {
      "text/plain": [
       "{'hidden_layer_sizes': 300, 'max_iter': 5000, 'solver': 'adam', 'tol': 0.01}"
      ]
     },
     "execution_count": 227,
     "metadata": {},
     "output_type": "execute_result"
    }
   ],
   "source": [
    "grid_search.best_params_"
   ]
  },
  {
   "cell_type": "code",
   "execution_count": 228,
   "metadata": {},
   "outputs": [],
   "source": [
    "best_grid = grid_search.best_estimator_"
   ]
  },
  {
   "cell_type": "code",
   "execution_count": 229,
   "metadata": {},
   "outputs": [
    {
     "data": {
      "text/plain": [
       "MLPClassifier(hidden_layer_sizes=300, max_iter=5000, random_state=1, tol=0.01)"
      ]
     },
     "execution_count": 229,
     "metadata": {},
     "output_type": "execute_result"
    }
   ],
   "source": [
    "best_grid"
   ]
  },
  {
   "cell_type": "code",
   "execution_count": 230,
   "metadata": {},
   "outputs": [],
   "source": [
    "ytrain_predict = best_grid.predict(X_train)\n",
    "ytest_predict = best_grid.predict(X_test)"
   ]
  },
  {
   "cell_type": "code",
   "execution_count": 231,
   "metadata": {},
   "outputs": [
    {
     "data": {
      "text/plain": [
       "array([[1327,  144],\n",
       "       [ 317,  312]], dtype=int64)"
      ]
     },
     "execution_count": 231,
     "metadata": {},
     "output_type": "execute_result"
    }
   ],
   "source": [
    "confusion_matrix(train_labels,ytrain_predict)"
   ]
  },
  {
   "cell_type": "code",
   "execution_count": 232,
   "metadata": {},
   "outputs": [
    {
     "data": {
      "text/plain": [
       "0.7804761904761904"
      ]
     },
     "execution_count": 232,
     "metadata": {},
     "output_type": "execute_result"
    }
   ],
   "source": [
    "# Accuracy of Train data\n",
    "best_grid.score(X_train,train_labels)"
   ]
  },
  {
   "cell_type": "code",
   "execution_count": 233,
   "metadata": {},
   "outputs": [
    {
     "name": "stdout",
     "output_type": "stream",
     "text": [
      "              precision    recall  f1-score   support\n",
      "\n",
      "           0       0.81      0.90      0.85      1471\n",
      "           1       0.68      0.50      0.58       629\n",
      "\n",
      "    accuracy                           0.78      2100\n",
      "   macro avg       0.75      0.70      0.71      2100\n",
      "weighted avg       0.77      0.78      0.77      2100\n",
      "\n"
     ]
    }
   ],
   "source": [
    "print(classification_report(train_labels,ytrain_predict))"
   ]
  },
  {
   "cell_type": "code",
   "execution_count": 234,
   "metadata": {},
   "outputs": [
    {
     "data": {
      "image/png": "[encoded data removed]",
      "text/plain": [
       "<Figure size 432x288 with 1 Axes>"
      ]
     },
     "metadata": {
      "needs_background": "light"
     },
     "output_type": "display_data"
    },
    {
     "name": "stdout",
     "output_type": "stream",
     "text": [
      "Area under Curve is 0.8193127545908767\n"
     ]
    }
   ],
   "source": [
    "#from sklearn.metrics import roc_curve,roc_auc_score\n",
    "rf_fpr, rf_tpr,_=roc_curve(train_labels,best_grid.predict_proba(X_train)[:,1])\n",
    "plt.plot(rf_fpr,rf_tpr, marker='x', label='NN')\n",
    "plt.plot(np.arange(0,1.1,0.1),np.arange(0,1.1,0.1))\n",
    "plt.xlabel('False Positive Rate')\n",
    "plt.ylabel('True Positive Rate')\n",
    "plt.title('ROC')\n",
    "plt.show()\n",
    "print('Area under Curve is', roc_auc_score(train_labels,best_grid.predict_proba(X_train)[:,1]))"
   ]
  },
  {
   "cell_type": "code",
   "execution_count": 235,
   "metadata": {},
   "outputs": [
    {
     "data": {
      "text/plain": [
       "array([[561,  44],\n",
       "       [171, 124]], dtype=int64)"
      ]
     },
     "execution_count": 235,
     "metadata": {},
     "output_type": "execute_result"
    }
   ],
   "source": [
    "confusion_matrix(test_labels,ytest_predict)"
   ]
  },
  {
   "cell_type": "code",
   "execution_count": 236,
   "metadata": {},
   "outputs": [
    {
     "data": {
      "text/plain": [
       "0.7611111111111111"
      ]
     },
     "execution_count": 236,
     "metadata": {},
     "output_type": "execute_result"
    }
   ],
   "source": [
    "# Accuracy of Test data\n",
    "best_grid.score(X_test, test_labels)"
   ]
  },
  {
   "cell_type": "code",
   "execution_count": 237,
   "metadata": {},
   "outputs": [
    {
     "name": "stdout",
     "output_type": "stream",
     "text": [
      "              precision    recall  f1-score   support\n",
      "\n",
      "           0       0.77      0.93      0.84       605\n",
      "           1       0.74      0.42      0.54       295\n",
      "\n",
      "    accuracy                           0.76       900\n",
      "   macro avg       0.75      0.67      0.69       900\n",
      "weighted avg       0.76      0.76      0.74       900\n",
      "\n"
     ]
    }
   ],
   "source": [
    "print(classification_report(test_labels,ytest_predict))"
   ]
  },
  {
   "cell_type": "code",
   "execution_count": 238,
   "metadata": {},
   "outputs": [
    {
     "data": {
      "image/png": "[encoded data removed]",
      "text/plain": [
       "<Figure size 432x288 with 1 Axes>"
      ]
     },
     "metadata": {
      "needs_background": "light"
     },
     "output_type": "display_data"
    },
    {
     "name": "stdout",
     "output_type": "stream",
     "text": [
      "Area under Curve is 0.8057795209413083\n"
     ]
    }
   ],
   "source": [
    "#from sklearn.metrics import roc_curve,roc_auc_score\n",
    "rf_fpr, rf_tpr,_=roc_curve(test_labels,best_grid.predict_proba(X_test)[:,1])\n",
    "plt.plot(rf_fpr,rf_tpr, marker='x', label='NN')\n",
    "plt.plot(np.arange(0,1.1,0.1),np.arange(0,1.1,0.1))\n",
    "plt.xlabel('False Positive Rate')\n",
    "plt.ylabel('True Positive Rate')\n",
    "plt.title('ROC')\n",
    "plt.show()\n",
    "print('Area under Curve is', roc_auc_score(test_labels,best_grid.predict_proba(X_test)[:,1]))"
   ]
  },
  {
   "cell_type": "markdown",
   "metadata": {},
   "source": [
    "## Conclusion"
   ]
  },
  {
   "cell_type": "markdown",
   "metadata": {},
   "source": [
    "### 2.3 Performance Metrics: Comment and Check the performance of Predictions on Train and Test sets using Accuracy, Confusion Matrix, Plot ROC curve and get ROC_AUC score, classification reports for each model."
   ]
  },
  {
   "cell_type": "markdown",
   "metadata": {},
   "source": [
    "### 2.4  Final Model: Compare all the models and write an inference which model is best/optimized."
   ]
  },
  {
   "cell_type": "markdown",
   "metadata": {},
   "source": [
    "### 2.5 Inference: Based on the whole Analysis, what are the business insights and recommendations"
   ]
  },
  {
   "cell_type": "code",
   "execution_count": null,
   "metadata": {},
   "outputs": [],
   "source": []
  }
 ],
 "metadata": {
  "colab": {
   "collapsed_sections": [],
   "name": "Titan_casestudy.ipynb",
   "provenance": []
  },
  "kernelspec": {
   "display_name": "Python 3 (ipykernel)",
   "language": "python",
   "name": "python3"
  },
  "language_info": {
   "codemirror_mode": {
    "name": "ipython",
    "version": 3
   },
   "file_extension": ".py",
   "mimetype": "text/x-python",
   "name": "python",
   "nbconvert_exporter": "python",
   "pygments_lexer": "ipython3",
   "version": "3.8.5"
  },
  "toc": {
   "base_numbering": 1,
   "nav_menu": {},
   "number_sections": true,
   "sideBar": true,
   "skip_h1_title": false,
   "title_cell": "Table of Contents",
   "title_sidebar": "Contents",
   "toc_cell": false,
   "toc_position": {},
   "toc_section_display": true,
   "toc_window_display": false
  },
  "varInspector": {
   "cols": {
    "lenName": 16,
    "lenType": 16,
    "lenVar": 40
   },
   "kernels_config": {
    "python": {
     "delete_cmd_postfix": "",
     "delete_cmd_prefix": "del ",
     "library": "var_list.py",
     "varRefreshCmd": "print(var_dic_list())"
    },
    "r": {
     "delete_cmd_postfix": ") ",
     "delete_cmd_prefix": "rm(",
     "library": "var_list.r",
     "varRefreshCmd": "cat(var_dic_list()) "
    }
   },
   "types_to_exclude": [
    "module",
    "function",
    "builtin_function_or_method",
    "instance",
    "_Feature"
   ],
   "window_display": false
  }
 },
 "nbformat": 4,
 "nbformat_minor": 1
}
