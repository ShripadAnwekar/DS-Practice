{
 "cells": [
  {
   "cell_type": "code",
   "execution_count": 2,
   "metadata": {
    "ExecuteTime": {
     "end_time": "2020-04-24T08:50:41.511617Z",
     "start_time": "2020-04-24T08:50:41.459755Z"
    },
    "colab": {},
    "colab_type": "code",
    "id": "RRIlDGgevFvW"
   },
   "outputs": [],
   "source": [
    "#Import Libraries\n",
    "import numpy as np\n",
    "import pandas as pd\n",
    "from scipy.stats import f\n",
    "import matplotlib.pyplot as plt\n",
    "%matplotlib inline\n",
    "import seaborn as sns\n",
    "import scipy.stats as stats\n",
    "from scipy.stats import ttest_1samp, ttest_ind\n",
    "from statsmodels.stats.power import ttest_power\n",
    "pd.set_option('display.float_format', lambda x: '%.2f' % x)\n",
    "import scipy.stats as stats\n",
    "import matplotlib.pyplot as plt\n",
    "from warnings import filterwarnings\n",
    "filterwarnings(\"ignore\")\n",
    "import statsmodels.api as sm\n",
    "from   scipy.stats               import ttest_1samp, ttest_ind\n",
    "import statistics"
   ]
  },
  {
   "cell_type": "markdown",
   "metadata": {
    "colab_type": "text",
    "id": "2eaGa3pwcdVd"
   },
   "source": [
    "### Problem-1. A wholesale distributor operating in different regions of Portugal has information on annual spending of several items in their stores across different regions and channels. The data consists of 440 large retailers’ annual spending on 6 different varieties of products in 3 different regions (Lisbon, Oporto, Other) and across different sales channel (Hotel, Retail)"
   ]
  },
  {
   "cell_type": "code",
   "execution_count": 3,
   "metadata": {},
   "outputs": [],
   "source": [
    "WS_Cust = pd.read_csv('Wholesale Customer.csv')"
   ]
  },
  {
   "cell_type": "markdown",
   "metadata": {},
   "source": [
    "#### 1.1.Use methods of descriptive statistics to summarize data. Which Region and which Channel spent the most? Which Region and which Channel spent the least?"
   ]
  },
  {
   "cell_type": "code",
   "execution_count": 5,
   "metadata": {},
   "outputs": [
    {
     "data": {
      "text/html": [
       "<div>\n",
       "<style scoped>\n",
       "    .dataframe tbody tr th:only-of-type {\n",
       "        vertical-align: middle;\n",
       "    }\n",
       "\n",
       "    .dataframe tbody tr th {\n",
       "        vertical-align: top;\n",
       "    }\n",
       "\n",
       "    .dataframe thead th {\n",
       "        text-align: right;\n",
       "    }\n",
       "</style>\n",
       "<table border=\"1\" class=\"dataframe\">\n",
       "  <thead>\n",
       "    <tr style=\"text-align: right;\">\n",
       "      <th></th>\n",
       "      <th>Buyer/Spender</th>\n",
       "      <th>Fresh</th>\n",
       "      <th>Milk</th>\n",
       "      <th>Grocery</th>\n",
       "      <th>Frozen</th>\n",
       "      <th>Detergents_Paper</th>\n",
       "      <th>Delicatessen</th>\n",
       "    </tr>\n",
       "  </thead>\n",
       "  <tbody>\n",
       "    <tr>\n",
       "      <th>count</th>\n",
       "      <td>440.00</td>\n",
       "      <td>440.00</td>\n",
       "      <td>440.00</td>\n",
       "      <td>440.00</td>\n",
       "      <td>440.00</td>\n",
       "      <td>440.00</td>\n",
       "      <td>440.00</td>\n",
       "    </tr>\n",
       "    <tr>\n",
       "      <th>mean</th>\n",
       "      <td>220.50</td>\n",
       "      <td>12000.30</td>\n",
       "      <td>5796.27</td>\n",
       "      <td>7951.28</td>\n",
       "      <td>3071.93</td>\n",
       "      <td>2881.49</td>\n",
       "      <td>1524.87</td>\n",
       "    </tr>\n",
       "    <tr>\n",
       "      <th>std</th>\n",
       "      <td>127.16</td>\n",
       "      <td>12647.33</td>\n",
       "      <td>7380.38</td>\n",
       "      <td>9503.16</td>\n",
       "      <td>4854.67</td>\n",
       "      <td>4767.85</td>\n",
       "      <td>2820.11</td>\n",
       "    </tr>\n",
       "    <tr>\n",
       "      <th>min</th>\n",
       "      <td>1.00</td>\n",
       "      <td>3.00</td>\n",
       "      <td>55.00</td>\n",
       "      <td>3.00</td>\n",
       "      <td>25.00</td>\n",
       "      <td>3.00</td>\n",
       "      <td>3.00</td>\n",
       "    </tr>\n",
       "    <tr>\n",
       "      <th>25%</th>\n",
       "      <td>110.75</td>\n",
       "      <td>3127.75</td>\n",
       "      <td>1533.00</td>\n",
       "      <td>2153.00</td>\n",
       "      <td>742.25</td>\n",
       "      <td>256.75</td>\n",
       "      <td>408.25</td>\n",
       "    </tr>\n",
       "    <tr>\n",
       "      <th>50%</th>\n",
       "      <td>220.50</td>\n",
       "      <td>8504.00</td>\n",
       "      <td>3627.00</td>\n",
       "      <td>4755.50</td>\n",
       "      <td>1526.00</td>\n",
       "      <td>816.50</td>\n",
       "      <td>965.50</td>\n",
       "    </tr>\n",
       "    <tr>\n",
       "      <th>75%</th>\n",
       "      <td>330.25</td>\n",
       "      <td>16933.75</td>\n",
       "      <td>7190.25</td>\n",
       "      <td>10655.75</td>\n",
       "      <td>3554.25</td>\n",
       "      <td>3922.00</td>\n",
       "      <td>1820.25</td>\n",
       "    </tr>\n",
       "    <tr>\n",
       "      <th>max</th>\n",
       "      <td>440.00</td>\n",
       "      <td>112151.00</td>\n",
       "      <td>73498.00</td>\n",
       "      <td>92780.00</td>\n",
       "      <td>60869.00</td>\n",
       "      <td>40827.00</td>\n",
       "      <td>47943.00</td>\n",
       "    </tr>\n",
       "  </tbody>\n",
       "</table>\n",
       "</div>"
      ],
      "text/plain": [
       "       Buyer/Spender     Fresh     Milk  Grocery   Frozen  Detergents_Paper  \\\n",
       "count         440.00    440.00   440.00   440.00   440.00            440.00   \n",
       "mean          220.50  12000.30  5796.27  7951.28  3071.93           2881.49   \n",
       "std           127.16  12647.33  7380.38  9503.16  4854.67           4767.85   \n",
       "min             1.00      3.00    55.00     3.00    25.00              3.00   \n",
       "25%           110.75   3127.75  1533.00  2153.00   742.25            256.75   \n",
       "50%           220.50   8504.00  3627.00  4755.50  1526.00            816.50   \n",
       "75%           330.25  16933.75  7190.25 10655.75  3554.25           3922.00   \n",
       "max           440.00 112151.00 73498.00 92780.00 60869.00          40827.00   \n",
       "\n",
       "       Delicatessen  \n",
       "count        440.00  \n",
       "mean        1524.87  \n",
       "std         2820.11  \n",
       "min            3.00  \n",
       "25%          408.25  \n",
       "50%          965.50  \n",
       "75%         1820.25  \n",
       "max        47943.00  "
      ]
     },
     "execution_count": 5,
     "metadata": {},
     "output_type": "execute_result"
    }
   ],
   "source": [
    "WS_Cust.describe()"
   ]
  },
  {
   "cell_type": "code",
   "execution_count": 88,
   "metadata": {},
   "outputs": [
    {
     "data": {
      "text/plain": [
       "(440, 9)"
      ]
     },
     "execution_count": 88,
     "metadata": {},
     "output_type": "execute_result"
    }
   ],
   "source": [
    "WS_Cust.shape"
   ]
  },
  {
   "cell_type": "code",
   "execution_count": 89,
   "metadata": {},
   "outputs": [
    {
     "data": {
      "text/plain": [
       "Buyer/Spender       0\n",
       "Channel             0\n",
       "Region              0\n",
       "Fresh               0\n",
       "Milk                0\n",
       "Grocery             0\n",
       "Frozen              0\n",
       "Detergents_Paper    0\n",
       "Delicatessen        0\n",
       "dtype: int64"
      ]
     },
     "execution_count": 89,
     "metadata": {},
     "output_type": "execute_result"
    }
   ],
   "source": [
    "WS_Cust.isnull().sum()"
   ]
  },
  {
   "cell_type": "code",
   "execution_count": 90,
   "metadata": {
    "scrolled": true
   },
   "outputs": [
    {
     "data": {
      "text/plain": [
       "<Figure size 1440x720 with 0 Axes>"
      ]
     },
     "metadata": {},
     "output_type": "display_data"
    },
    {
     "data": {
      "image/png": "[encoded data removed]",
      "text/plain": [
       "<Figure size 432x288 with 1 Axes>"
      ]
     },
     "metadata": {
      "needs_background": "light"
     },
     "output_type": "display_data"
    }
   ],
   "source": [
    "WS_Cust['Total_Spend']= WS_Cust['Fresh'] + WS_Cust['Milk'] + WS_Cust['Grocery'] + WS_Cust['Frozen'] + WS_Cust['Detergents_Paper'] + WS_Cust['Delicatessen']\n",
    "df_Channel = WS_Cust.groupby('Channel')['Total_Spend']\n",
    "channel_summary=pd.merge(df_Channel.min(),df_Channel.max(), on='Channel')\n",
    "channel_summary.columns= ['Minumum','Maximum']\n",
    "plt.figure(figsize = (20,10))\n",
    "channel_summary.plot.bar();\n",
    "plt.xticks(rotation = 45)\n",
    "plt.legend(loc='center')\n",
    "plt.ylabel('Total Spend')\n",
    "plt.grid(True)\n",
    "plt.show()"
   ]
  },
  {
   "cell_type": "code",
   "execution_count": 91,
   "metadata": {},
   "outputs": [
    {
     "data": {
      "text/plain": [
       "<Figure size 1440x432 with 0 Axes>"
      ]
     },
     "metadata": {},
     "output_type": "display_data"
    },
    {
     "data": {
      "image/png": "[encoded data removed]",
      "text/plain": [
       "<Figure size 432x288 with 1 Axes>"
      ]
     },
     "metadata": {
      "needs_background": "light"
     },
     "output_type": "display_data"
    }
   ],
   "source": [
    "df_Region = WS_Cust.groupby('Region')['Total_Spend']\n",
    "Region_summary=pd.merge(df_Region.min(),df_Region.max(), on='Region')\n",
    "Region_summary.columns= ['Minumum','Maximum']\n",
    "plt.figure(figsize = (20,6))\n",
    "Region_summary.plot.bar();\n",
    "plt.xticks(rotation = 45)\n",
    "plt.ylabel('Total Spend')\n",
    "plt.grid(True)\n",
    "plt.show()"
   ]
  },
  {
   "cell_type": "markdown",
   "metadata": {},
   "source": [
    "## ANSWER 1.1\n",
    "\n",
    "#### 1) Column 'Total_Spend'  is added to main DataFrame which contains total spend on all 6 items.\n",
    "#### 2) DataFrames 'df_Channel' and 'df_Region'are created to contain consolidated 'Total Spend' both for Channels and Regions\n",
    "#### 3) Maximum and Minimum of 'Total Spend' both for Channels and Regions is taken from these dataframes and then plotted as        Barplots\n",
    "#### 4) Minimum of Total spend  of 904 is for  Channel 'Hotel' and Region 'Other '\n",
    "#### 5) Maximum of Total spend  of 199891 is for  Channel 'Retail' and Region 'Other '\n"
   ]
  },
  {
   "cell_type": "markdown",
   "metadata": {},
   "source": [
    "#### 1.2.There are 6 different varieties of items that are considered. Describe and comment/explain all the varieties across Region and Channel? Provide a detailed justification for your answer."
   ]
  },
  {
   "cell_type": "code",
   "execution_count": 92,
   "metadata": {},
   "outputs": [],
   "source": [
    "df_Region_Fresh = WS_Cust.groupby('Region')['Fresh']\n",
    "df_Region_Milk = WS_Cust.groupby('Region')['Milk']\n",
    "df_Region_Grocery = WS_Cust.groupby('Region')['Grocery']\n",
    "df_Region_Frozen = WS_Cust.groupby('Region')['Frozen']\n",
    "df_Region_Detergents_Paper = WS_Cust.groupby('Region')['Detergents_Paper']\n",
    "df_Region_Delicatessen = WS_Cust.groupby('Region')['Delicatessen']\n",
    "df_Channel_Fresh = WS_Cust.groupby('Channel')['Fresh']\n",
    "df_Channel_Milk = WS_Cust.groupby('Channel')['Milk']\n",
    "df_Channel_Grocery = WS_Cust.groupby('Channel')['Grocery']\n",
    "df_Channel_Frozen = WS_Cust.groupby('Channel')['Frozen']\n",
    "df_Channel_Detergents_Paper = WS_Cust.groupby('Channel')['Detergents_Paper']\n",
    "df_Channel_Delicatessen = WS_Cust.groupby('Channel')['Delicatessen']\n",
    "\n",
    "df_Region_Fresh_behav= df_Region_Fresh.describe()\n",
    "df_Region_Fresh_behav['Product_Col']=['Lisbon_Fresh', 'Oporto_Fresh','Other_Fresh']\n",
    "df_Region_Fresh_behav.set_index('Product_Col', inplace=True)\n",
    "df_Region_Milk_behav= df_Region_Milk.describe()\n",
    "df_Region_Milk_behav['Product_Col']=['Lisbon_Milk', 'Oporto_Milk','Other_Milk']\n",
    "df_Region_Milk_behav.set_index('Product_Col', inplace=True)\n",
    "df_Region_Grocery_behav= df_Region_Grocery.describe()\n",
    "df_Region_Grocery_behav['Product_Col']=['Lisbon_Grocery', 'Oporto_Grocery','Other_Grocery']\n",
    "df_Region_Grocery_behav.set_index('Product_Col', inplace=True)\n",
    "df_Region_Frozen_behav= df_Region_Frozen.describe()\n",
    "df_Region_Frozen_behav['Product_Col']=['Lisbon_Frozen', 'Oporto_Frozen','Other_Frozen']\n",
    "df_Region_Frozen_behav.set_index('Product_Col', inplace=True)\n",
    "df_Region_Detergents_Paper_behav= df_Region_Detergents_Paper.describe()\n",
    "df_Region_Detergents_Paper_behav['Product_Col']=['Lisbon_Detergents_Paper', 'Oporto_Detergents_Paper','Other_Detergents_Paper']\n",
    "df_Region_Detergents_Paper_behav.set_index('Product_Col', inplace=True)\n",
    "df_Region_Delicatessen_behav= df_Region_Delicatessen.describe()\n",
    "df_Region_Delicatessen_behav['Product_Col']=['Lisbon_Delicatessen', 'Oporto_Delicatessen','Other_Delicatessen']\n",
    "df_Region_Delicatessen_behav.set_index('Product_Col', inplace=True)\n",
    "\n",
    "df_Channel_Fresh_behav= df_Channel_Fresh.describe()\n",
    "df_Channel_Fresh_behav['Product_Col']=['Hotel_Fresh', 'Retail_Fresh']\n",
    "df_Channel_Fresh_behav.set_index('Product_Col', inplace=True)\n",
    "df_Channel_Milk_behav= df_Channel_Milk.describe()\n",
    "df_Channel_Milk_behav['Product_Col']=['Hotel_Milk', 'Retail_Milk']\n",
    "df_Channel_Milk_behav.set_index('Product_Col', inplace=True)\n",
    "df_Channel_Grocery_behav= df_Channel_Grocery.describe()\n",
    "df_Channel_Grocery_behav['Product_Col']=['Hotel_Grocery', 'Retail_Grocery']\n",
    "df_Channel_Grocery_behav.set_index('Product_Col', inplace=True)\n",
    "df_Channel_Frozen_behav= df_Channel_Frozen.describe()\n",
    "df_Channel_Frozen_behav['Product_Col']=['Hotel_Frozen', 'Retail_Frozen']\n",
    "df_Channel_Frozen_behav.set_index('Product_Col', inplace=True)\n",
    "df_Channel_Detergents_Paper_behav= df_Channel_Detergents_Paper.describe()\n",
    "df_Channel_Detergents_Paper_behav['Product_Col']=['Hotel_Detergents_Paper', 'Retail_Detergents_Paper']\n",
    "df_Channel_Detergents_Paper_behav.set_index('Product_Col', inplace=True)\n",
    "df_Channel_Delicatessen_behav= df_Channel_Delicatessen.describe()\n",
    "df_Channel_Delicatessen_behav['Product_Col']=['Hotel_Delicatessen', 'Retail_Delicatessen']\n",
    "df_Channel_Delicatessen_behav.set_index('Product_Col', inplace=True)\n",
    "\n",
    "Region_Consolidated_parameters=pd.concat([df_Region_Fresh_behav,df_Region_Milk_behav,df_Region_Grocery_behav,df_Region_Frozen_behav,\n",
    "           df_Region_Detergents_Paper_behav,df_Region_Delicatessen_behav],axis=0, sort=False)\n",
    "Region_Consolidated_parameters['CV']=Region_Consolidated_parameters['std']/Region_Consolidated_parameters['mean']\n",
    "Region_Consolidated_parameters['Q1 - Min']= Region_Consolidated_parameters['25%'] -Region_Consolidated_parameters['min']\n",
    "Region_Consolidated_parameters['Max - 75%']= Region_Consolidated_parameters['max'] -Region_Consolidated_parameters['75%']\n",
    "Region_Consolidated_parameters['Q2 - Min']= Region_Consolidated_parameters['50%'] -Region_Consolidated_parameters['min']\n",
    "Region_Consolidated_parameters['Max - 50%']= Region_Consolidated_parameters['max'] -Region_Consolidated_parameters['50%']\n",
    "Region_Consolidated_parameters['Q2 - Q1']= Region_Consolidated_parameters['50%'] -Region_Consolidated_parameters['25%']\n",
    "Region_Consolidated_parameters['Q3 - Q2']= Region_Consolidated_parameters['75%'] -Region_Consolidated_parameters['50%']\n",
    "\n",
    "\n",
    "Channel_Consolidated_parameters=pd.concat([df_Channel_Fresh_behav,df_Channel_Milk_behav,df_Channel_Grocery_behav,df_Channel_Frozen_behav,\n",
    "           df_Channel_Detergents_Paper_behav,df_Channel_Delicatessen_behav],axis=0, sort=False)\n",
    "Channel_Consolidated_parameters['CV']=Channel_Consolidated_parameters['std']/Channel_Consolidated_parameters['mean']\n",
    "Channel_Consolidated_parameters['Q1 - Min']= Channel_Consolidated_parameters['25%'] -Channel_Consolidated_parameters['min']\n",
    "Channel_Consolidated_parameters['Max - 75%']= Channel_Consolidated_parameters['max'] -Channel_Consolidated_parameters['75%']\n",
    "Channel_Consolidated_parameters['Q2 - Min']= Channel_Consolidated_parameters['50%'] -Channel_Consolidated_parameters['min']\n",
    "Channel_Consolidated_parameters['Max - 50%']= Channel_Consolidated_parameters['max'] -Channel_Consolidated_parameters['50%']\n",
    "Channel_Consolidated_parameters['Q2 - Q1']= Channel_Consolidated_parameters['50%'] -Channel_Consolidated_parameters['25%']\n",
    "Channel_Consolidated_parameters['Q3 - Q2']= Channel_Consolidated_parameters['75%'] -Channel_Consolidated_parameters['50%']"
   ]
  },
  {
   "cell_type": "code",
   "execution_count": 93,
   "metadata": {
    "scrolled": true
   },
   "outputs": [
    {
     "data": {
      "text/html": [
       "<div>\n",
       "<style scoped>\n",
       "    .dataframe tbody tr th:only-of-type {\n",
       "        vertical-align: middle;\n",
       "    }\n",
       "\n",
       "    .dataframe tbody tr th {\n",
       "        vertical-align: top;\n",
       "    }\n",
       "\n",
       "    .dataframe thead th {\n",
       "        text-align: right;\n",
       "    }\n",
       "</style>\n",
       "<table border=\"1\" class=\"dataframe\">\n",
       "  <thead>\n",
       "    <tr style=\"text-align: right;\">\n",
       "      <th></th>\n",
       "      <th>count</th>\n",
       "      <th>mean</th>\n",
       "      <th>std</th>\n",
       "      <th>min</th>\n",
       "      <th>25%</th>\n",
       "      <th>50%</th>\n",
       "      <th>75%</th>\n",
       "      <th>max</th>\n",
       "      <th>CV</th>\n",
       "      <th>Q1 - Min</th>\n",
       "      <th>Max - 75%</th>\n",
       "      <th>Q2 - Min</th>\n",
       "      <th>Max - 50%</th>\n",
       "      <th>Q2 - Q1</th>\n",
       "      <th>Q3 - Q2</th>\n",
       "    </tr>\n",
       "    <tr>\n",
       "      <th>Product_Col</th>\n",
       "      <th></th>\n",
       "      <th></th>\n",
       "      <th></th>\n",
       "      <th></th>\n",
       "      <th></th>\n",
       "      <th></th>\n",
       "      <th></th>\n",
       "      <th></th>\n",
       "      <th></th>\n",
       "      <th></th>\n",
       "      <th></th>\n",
       "      <th></th>\n",
       "      <th></th>\n",
       "      <th></th>\n",
       "      <th></th>\n",
       "    </tr>\n",
       "  </thead>\n",
       "  <tbody>\n",
       "    <tr>\n",
       "      <th>Lisbon_Fresh</th>\n",
       "      <td>77.00</td>\n",
       "      <td>11101.73</td>\n",
       "      <td>11557.44</td>\n",
       "      <td>18.00</td>\n",
       "      <td>2806.00</td>\n",
       "      <td>7363.00</td>\n",
       "      <td>15218.00</td>\n",
       "      <td>56083.00</td>\n",
       "      <td>1.04</td>\n",
       "      <td>2788.00</td>\n",
       "      <td>40865.00</td>\n",
       "      <td>7345.00</td>\n",
       "      <td>48720.00</td>\n",
       "      <td>4557.00</td>\n",
       "      <td>7855.00</td>\n",
       "    </tr>\n",
       "    <tr>\n",
       "      <th>Oporto_Fresh</th>\n",
       "      <td>47.00</td>\n",
       "      <td>9887.68</td>\n",
       "      <td>8387.90</td>\n",
       "      <td>3.00</td>\n",
       "      <td>2751.50</td>\n",
       "      <td>8090.00</td>\n",
       "      <td>14925.50</td>\n",
       "      <td>32717.00</td>\n",
       "      <td>0.85</td>\n",
       "      <td>2748.50</td>\n",
       "      <td>17791.50</td>\n",
       "      <td>8087.00</td>\n",
       "      <td>24627.00</td>\n",
       "      <td>5338.50</td>\n",
       "      <td>6835.50</td>\n",
       "    </tr>\n",
       "    <tr>\n",
       "      <th>Other_Fresh</th>\n",
       "      <td>316.00</td>\n",
       "      <td>12533.47</td>\n",
       "      <td>13389.21</td>\n",
       "      <td>3.00</td>\n",
       "      <td>3350.75</td>\n",
       "      <td>8752.50</td>\n",
       "      <td>17406.50</td>\n",
       "      <td>112151.00</td>\n",
       "      <td>1.07</td>\n",
       "      <td>3347.75</td>\n",
       "      <td>94744.50</td>\n",
       "      <td>8749.50</td>\n",
       "      <td>103398.50</td>\n",
       "      <td>5401.75</td>\n",
       "      <td>8654.00</td>\n",
       "    </tr>\n",
       "    <tr>\n",
       "      <th>Lisbon_Milk</th>\n",
       "      <td>77.00</td>\n",
       "      <td>5486.42</td>\n",
       "      <td>5704.86</td>\n",
       "      <td>258.00</td>\n",
       "      <td>1372.00</td>\n",
       "      <td>3748.00</td>\n",
       "      <td>7503.00</td>\n",
       "      <td>28326.00</td>\n",
       "      <td>1.04</td>\n",
       "      <td>1114.00</td>\n",
       "      <td>20823.00</td>\n",
       "      <td>3490.00</td>\n",
       "      <td>24578.00</td>\n",
       "      <td>2376.00</td>\n",
       "      <td>3755.00</td>\n",
       "    </tr>\n",
       "    <tr>\n",
       "      <th>Oporto_Milk</th>\n",
       "      <td>47.00</td>\n",
       "      <td>5088.17</td>\n",
       "      <td>5826.34</td>\n",
       "      <td>333.00</td>\n",
       "      <td>1430.50</td>\n",
       "      <td>2374.00</td>\n",
       "      <td>5772.50</td>\n",
       "      <td>25071.00</td>\n",
       "      <td>1.15</td>\n",
       "      <td>1097.50</td>\n",
       "      <td>19298.50</td>\n",
       "      <td>2041.00</td>\n",
       "      <td>22697.00</td>\n",
       "      <td>943.50</td>\n",
       "      <td>3398.50</td>\n",
       "    </tr>\n",
       "    <tr>\n",
       "      <th>Other_Milk</th>\n",
       "      <td>316.00</td>\n",
       "      <td>5977.09</td>\n",
       "      <td>7935.46</td>\n",
       "      <td>55.00</td>\n",
       "      <td>1634.00</td>\n",
       "      <td>3684.50</td>\n",
       "      <td>7198.75</td>\n",
       "      <td>73498.00</td>\n",
       "      <td>1.33</td>\n",
       "      <td>1579.00</td>\n",
       "      <td>66299.25</td>\n",
       "      <td>3629.50</td>\n",
       "      <td>69813.50</td>\n",
       "      <td>2050.50</td>\n",
       "      <td>3514.25</td>\n",
       "    </tr>\n",
       "    <tr>\n",
       "      <th>Lisbon_Grocery</th>\n",
       "      <td>77.00</td>\n",
       "      <td>7403.08</td>\n",
       "      <td>8496.29</td>\n",
       "      <td>489.00</td>\n",
       "      <td>2046.00</td>\n",
       "      <td>3838.00</td>\n",
       "      <td>9490.00</td>\n",
       "      <td>39694.00</td>\n",
       "      <td>1.15</td>\n",
       "      <td>1557.00</td>\n",
       "      <td>30204.00</td>\n",
       "      <td>3349.00</td>\n",
       "      <td>35856.00</td>\n",
       "      <td>1792.00</td>\n",
       "      <td>5652.00</td>\n",
       "    </tr>\n",
       "    <tr>\n",
       "      <th>Oporto_Grocery</th>\n",
       "      <td>47.00</td>\n",
       "      <td>9218.60</td>\n",
       "      <td>10842.75</td>\n",
       "      <td>1330.00</td>\n",
       "      <td>2792.50</td>\n",
       "      <td>6114.00</td>\n",
       "      <td>11758.50</td>\n",
       "      <td>67298.00</td>\n",
       "      <td>1.18</td>\n",
       "      <td>1462.50</td>\n",
       "      <td>55539.50</td>\n",
       "      <td>4784.00</td>\n",
       "      <td>61184.00</td>\n",
       "      <td>3321.50</td>\n",
       "      <td>5644.50</td>\n",
       "    </tr>\n",
       "    <tr>\n",
       "      <th>Other_Grocery</th>\n",
       "      <td>316.00</td>\n",
       "      <td>7896.36</td>\n",
       "      <td>9537.29</td>\n",
       "      <td>3.00</td>\n",
       "      <td>2141.50</td>\n",
       "      <td>4732.00</td>\n",
       "      <td>10559.75</td>\n",
       "      <td>92780.00</td>\n",
       "      <td>1.21</td>\n",
       "      <td>2138.50</td>\n",
       "      <td>82220.25</td>\n",
       "      <td>4729.00</td>\n",
       "      <td>88048.00</td>\n",
       "      <td>2590.50</td>\n",
       "      <td>5827.75</td>\n",
       "    </tr>\n",
       "    <tr>\n",
       "      <th>Lisbon_Frozen</th>\n",
       "      <td>77.00</td>\n",
       "      <td>3000.34</td>\n",
       "      <td>3092.14</td>\n",
       "      <td>61.00</td>\n",
       "      <td>950.00</td>\n",
       "      <td>1801.00</td>\n",
       "      <td>4324.00</td>\n",
       "      <td>18711.00</td>\n",
       "      <td>1.03</td>\n",
       "      <td>889.00</td>\n",
       "      <td>14387.00</td>\n",
       "      <td>1740.00</td>\n",
       "      <td>16910.00</td>\n",
       "      <td>851.00</td>\n",
       "      <td>2523.00</td>\n",
       "    </tr>\n",
       "    <tr>\n",
       "      <th>Oporto_Frozen</th>\n",
       "      <td>47.00</td>\n",
       "      <td>4045.36</td>\n",
       "      <td>9151.78</td>\n",
       "      <td>131.00</td>\n",
       "      <td>811.50</td>\n",
       "      <td>1455.00</td>\n",
       "      <td>3272.00</td>\n",
       "      <td>60869.00</td>\n",
       "      <td>2.26</td>\n",
       "      <td>680.50</td>\n",
       "      <td>57597.00</td>\n",
       "      <td>1324.00</td>\n",
       "      <td>59414.00</td>\n",
       "      <td>643.50</td>\n",
       "      <td>1817.00</td>\n",
       "    </tr>\n",
       "    <tr>\n",
       "      <th>Other_Frozen</th>\n",
       "      <td>316.00</td>\n",
       "      <td>2944.59</td>\n",
       "      <td>4260.13</td>\n",
       "      <td>25.00</td>\n",
       "      <td>664.75</td>\n",
       "      <td>1498.00</td>\n",
       "      <td>3354.75</td>\n",
       "      <td>36534.00</td>\n",
       "      <td>1.45</td>\n",
       "      <td>639.75</td>\n",
       "      <td>33179.25</td>\n",
       "      <td>1473.00</td>\n",
       "      <td>35036.00</td>\n",
       "      <td>833.25</td>\n",
       "      <td>1856.75</td>\n",
       "    </tr>\n",
       "    <tr>\n",
       "      <th>Lisbon_Detergents_Paper</th>\n",
       "      <td>77.00</td>\n",
       "      <td>2651.12</td>\n",
       "      <td>4208.46</td>\n",
       "      <td>5.00</td>\n",
       "      <td>284.00</td>\n",
       "      <td>737.00</td>\n",
       "      <td>3593.00</td>\n",
       "      <td>19410.00</td>\n",
       "      <td>1.59</td>\n",
       "      <td>279.00</td>\n",
       "      <td>15817.00</td>\n",
       "      <td>732.00</td>\n",
       "      <td>18673.00</td>\n",
       "      <td>453.00</td>\n",
       "      <td>2856.00</td>\n",
       "    </tr>\n",
       "    <tr>\n",
       "      <th>Oporto_Detergents_Paper</th>\n",
       "      <td>47.00</td>\n",
       "      <td>3687.47</td>\n",
       "      <td>6514.72</td>\n",
       "      <td>15.00</td>\n",
       "      <td>282.50</td>\n",
       "      <td>811.00</td>\n",
       "      <td>4324.50</td>\n",
       "      <td>38102.00</td>\n",
       "      <td>1.77</td>\n",
       "      <td>267.50</td>\n",
       "      <td>33777.50</td>\n",
       "      <td>796.00</td>\n",
       "      <td>37291.00</td>\n",
       "      <td>528.50</td>\n",
       "      <td>3513.50</td>\n",
       "    </tr>\n",
       "    <tr>\n",
       "      <th>Other_Detergents_Paper</th>\n",
       "      <td>316.00</td>\n",
       "      <td>2817.75</td>\n",
       "      <td>4593.05</td>\n",
       "      <td>3.00</td>\n",
       "      <td>251.25</td>\n",
       "      <td>856.00</td>\n",
       "      <td>3875.75</td>\n",
       "      <td>40827.00</td>\n",
       "      <td>1.63</td>\n",
       "      <td>248.25</td>\n",
       "      <td>36951.25</td>\n",
       "      <td>853.00</td>\n",
       "      <td>39971.00</td>\n",
       "      <td>604.75</td>\n",
       "      <td>3019.75</td>\n",
       "    </tr>\n",
       "    <tr>\n",
       "      <th>Lisbon_Delicatessen</th>\n",
       "      <td>77.00</td>\n",
       "      <td>1354.90</td>\n",
       "      <td>1345.42</td>\n",
       "      <td>7.00</td>\n",
       "      <td>548.00</td>\n",
       "      <td>806.00</td>\n",
       "      <td>1775.00</td>\n",
       "      <td>6854.00</td>\n",
       "      <td>0.99</td>\n",
       "      <td>541.00</td>\n",
       "      <td>5079.00</td>\n",
       "      <td>799.00</td>\n",
       "      <td>6048.00</td>\n",
       "      <td>258.00</td>\n",
       "      <td>969.00</td>\n",
       "    </tr>\n",
       "    <tr>\n",
       "      <th>Oporto_Delicatessen</th>\n",
       "      <td>47.00</td>\n",
       "      <td>1159.70</td>\n",
       "      <td>1050.74</td>\n",
       "      <td>51.00</td>\n",
       "      <td>540.50</td>\n",
       "      <td>898.00</td>\n",
       "      <td>1538.50</td>\n",
       "      <td>5609.00</td>\n",
       "      <td>0.91</td>\n",
       "      <td>489.50</td>\n",
       "      <td>4070.50</td>\n",
       "      <td>847.00</td>\n",
       "      <td>4711.00</td>\n",
       "      <td>357.50</td>\n",
       "      <td>640.50</td>\n",
       "    </tr>\n",
       "    <tr>\n",
       "      <th>Other_Delicatessen</th>\n",
       "      <td>316.00</td>\n",
       "      <td>1620.60</td>\n",
       "      <td>3232.58</td>\n",
       "      <td>3.00</td>\n",
       "      <td>402.00</td>\n",
       "      <td>994.00</td>\n",
       "      <td>1832.75</td>\n",
       "      <td>47943.00</td>\n",
       "      <td>1.99</td>\n",
       "      <td>399.00</td>\n",
       "      <td>46110.25</td>\n",
       "      <td>991.00</td>\n",
       "      <td>46949.00</td>\n",
       "      <td>592.00</td>\n",
       "      <td>838.75</td>\n",
       "    </tr>\n",
       "  </tbody>\n",
       "</table>\n",
       "</div>"
      ],
      "text/plain": [
       "                         count     mean      std     min     25%     50%  \\\n",
       "Product_Col                                                                \n",
       "Lisbon_Fresh             77.00 11101.73 11557.44   18.00 2806.00 7363.00   \n",
       "Oporto_Fresh             47.00  9887.68  8387.90    3.00 2751.50 8090.00   \n",
       "Other_Fresh             316.00 12533.47 13389.21    3.00 3350.75 8752.50   \n",
       "Lisbon_Milk              77.00  5486.42  5704.86  258.00 1372.00 3748.00   \n",
       "Oporto_Milk              47.00  5088.17  5826.34  333.00 1430.50 2374.00   \n",
       "Other_Milk              316.00  5977.09  7935.46   55.00 1634.00 3684.50   \n",
       "Lisbon_Grocery           77.00  7403.08  8496.29  489.00 2046.00 3838.00   \n",
       "Oporto_Grocery           47.00  9218.60 10842.75 1330.00 2792.50 6114.00   \n",
       "Other_Grocery           316.00  7896.36  9537.29    3.00 2141.50 4732.00   \n",
       "Lisbon_Frozen            77.00  3000.34  3092.14   61.00  950.00 1801.00   \n",
       "Oporto_Frozen            47.00  4045.36  9151.78  131.00  811.50 1455.00   \n",
       "Other_Frozen            316.00  2944.59  4260.13   25.00  664.75 1498.00   \n",
       "Lisbon_Detergents_Paper  77.00  2651.12  4208.46    5.00  284.00  737.00   \n",
       "Oporto_Detergents_Paper  47.00  3687.47  6514.72   15.00  282.50  811.00   \n",
       "Other_Detergents_Paper  316.00  2817.75  4593.05    3.00  251.25  856.00   \n",
       "Lisbon_Delicatessen      77.00  1354.90  1345.42    7.00  548.00  806.00   \n",
       "Oporto_Delicatessen      47.00  1159.70  1050.74   51.00  540.50  898.00   \n",
       "Other_Delicatessen      316.00  1620.60  3232.58    3.00  402.00  994.00   \n",
       "\n",
       "                             75%       max   CV  Q1 - Min  Max - 75%  \\\n",
       "Product_Col                                                            \n",
       "Lisbon_Fresh            15218.00  56083.00 1.04   2788.00   40865.00   \n",
       "Oporto_Fresh            14925.50  32717.00 0.85   2748.50   17791.50   \n",
       "Other_Fresh             17406.50 112151.00 1.07   3347.75   94744.50   \n",
       "Lisbon_Milk              7503.00  28326.00 1.04   1114.00   20823.00   \n",
       "Oporto_Milk              5772.50  25071.00 1.15   1097.50   19298.50   \n",
       "Other_Milk               7198.75  73498.00 1.33   1579.00   66299.25   \n",
       "Lisbon_Grocery           9490.00  39694.00 1.15   1557.00   30204.00   \n",
       "Oporto_Grocery          11758.50  67298.00 1.18   1462.50   55539.50   \n",
       "Other_Grocery           10559.75  92780.00 1.21   2138.50   82220.25   \n",
       "Lisbon_Frozen            4324.00  18711.00 1.03    889.00   14387.00   \n",
       "Oporto_Frozen            3272.00  60869.00 2.26    680.50   57597.00   \n",
       "Other_Frozen             3354.75  36534.00 1.45    639.75   33179.25   \n",
       "Lisbon_Detergents_Paper  3593.00  19410.00 1.59    279.00   15817.00   \n",
       "Oporto_Detergents_Paper  4324.50  38102.00 1.77    267.50   33777.50   \n",
       "Other_Detergents_Paper   3875.75  40827.00 1.63    248.25   36951.25   \n",
       "Lisbon_Delicatessen      1775.00   6854.00 0.99    541.00    5079.00   \n",
       "Oporto_Delicatessen      1538.50   5609.00 0.91    489.50    4070.50   \n",
       "Other_Delicatessen       1832.75  47943.00 1.99    399.00   46110.25   \n",
       "\n",
       "                         Q2 - Min  Max - 50%  Q2 - Q1  Q3 - Q2  \n",
       "Product_Col                                                     \n",
       "Lisbon_Fresh              7345.00   48720.00  4557.00  7855.00  \n",
       "Oporto_Fresh              8087.00   24627.00  5338.50  6835.50  \n",
       "Other_Fresh               8749.50  103398.50  5401.75  8654.00  \n",
       "Lisbon_Milk               3490.00   24578.00  2376.00  3755.00  \n",
       "Oporto_Milk               2041.00   22697.00   943.50  3398.50  \n",
       "Other_Milk                3629.50   69813.50  2050.50  3514.25  \n",
       "Lisbon_Grocery            3349.00   35856.00  1792.00  5652.00  \n",
       "Oporto_Grocery            4784.00   61184.00  3321.50  5644.50  \n",
       "Other_Grocery             4729.00   88048.00  2590.50  5827.75  \n",
       "Lisbon_Frozen             1740.00   16910.00   851.00  2523.00  \n",
       "Oporto_Frozen             1324.00   59414.00   643.50  1817.00  \n",
       "Other_Frozen              1473.00   35036.00   833.25  1856.75  \n",
       "Lisbon_Detergents_Paper    732.00   18673.00   453.00  2856.00  \n",
       "Oporto_Detergents_Paper    796.00   37291.00   528.50  3513.50  \n",
       "Other_Detergents_Paper     853.00   39971.00   604.75  3019.75  \n",
       "Lisbon_Delicatessen        799.00    6048.00   258.00   969.00  \n",
       "Oporto_Delicatessen        847.00    4711.00   357.50   640.50  \n",
       "Other_Delicatessen         991.00   46949.00   592.00   838.75  "
      ]
     },
     "execution_count": 93,
     "metadata": {},
     "output_type": "execute_result"
    }
   ],
   "source": [
    "Region_Consolidated_parameters"
   ]
  },
  {
   "cell_type": "code",
   "execution_count": 94,
   "metadata": {},
   "outputs": [
    {
     "name": "stdout",
     "output_type": "stream",
     "text": [
      "Least Consumers : Product_Col\n",
      "Oporto_Fresh   47.00\n",
      "Name: count, dtype: float64 Most Consumers : Product_Col\n",
      "Other_Delicatessen   316.00\n",
      "Name: count, dtype: float64 Average Customer Count\n",
      "Least Average Spend : Product_Col\n",
      "Oporto_Delicatessen   1159.70\n",
      "Name: mean, dtype: float64 Most Average Spend : Product_Col\n",
      "Other_Fresh   12533.47\n",
      "Name: mean, dtype: float64\n",
      "Most_Near_Average_Spend : Product_Col\n",
      "Oporto_Delicatessen   1050.74\n",
      "Name: std, dtype: float64 Least_Near_Average_Spend : Product_Col\n",
      "Other_Fresh   13389.21\n",
      "Name: std, dtype: float64\n",
      "Least  Spend : Product_Col\n",
      "Other_Grocery   3.00\n",
      "Name: min, dtype: float64\n",
      "Least  Spend by 25% : Product_Col\n",
      "Other_Detergents_Paper   251.25\n",
      "Name: 25%, dtype: float64 Most  Spend by 25% : Product_Col\n",
      "Other_Fresh   3350.75\n",
      "Name: 25%, dtype: float64\n",
      "Least  Spend by 50% : Product_Col\n",
      "Lisbon_Detergents_Paper   737.00\n",
      "Name: 50%, dtype: float64 Most  Spend by 50% : Product_Col\n",
      "Other_Fresh   8752.50\n",
      "Name: 50%, dtype: float64\n",
      "Least  Spend by 75% : Product_Col\n",
      "Oporto_Delicatessen   1538.50\n",
      "Name: 75%, dtype: float64 Most  Spend by 75% : Product_Col\n",
      "Other_Fresh   17406.50\n",
      "Name: 75%, dtype: float64\n",
      "Most  Spend : Product_Col\n",
      "Other_Fresh   112151.00\n",
      "Name: max, dtype: float64\n",
      "Most_Consistant Product_Col\n",
      "Oporto_Fresh   0.85\n",
      "Name: CV, dtype: float64 Least_Consistant Product_Col\n",
      "Oporto_Frozen   2.26\n",
      "Name: CV, dtype: float64\n",
      "Product_Col\n",
      "Lisbon_Fresh              38077.00\n",
      "Oporto_Fresh              15043.00\n",
      "Other_Fresh               91396.75\n",
      "Lisbon_Milk               19709.00\n",
      "Oporto_Milk               18201.00\n",
      "Other_Milk                64720.25\n",
      "Lisbon_Grocery            28647.00\n",
      "Oporto_Grocery            54077.00\n",
      "Other_Grocery             80081.75\n",
      "Lisbon_Frozen             13498.00\n",
      "Oporto_Frozen             56916.50\n",
      "Other_Frozen              32539.50\n",
      "Lisbon_Detergents_Paper   15538.00\n",
      "Oporto_Detergents_Paper   33510.00\n",
      "Other_Detergents_Paper    36703.00\n",
      "Lisbon_Delicatessen        4538.00\n",
      "Oporto_Delicatessen        3581.00\n",
      "Other_Delicatessen        45711.25\n",
      "dtype: float64\n",
      "Product_Col\n",
      "Lisbon_Fresh              41375.00\n",
      "Oporto_Fresh              16540.00\n",
      "Other_Fresh               94649.00\n",
      "Lisbon_Milk               21088.00\n",
      "Oporto_Milk               20656.00\n",
      "Other_Milk                66184.00\n",
      "Lisbon_Grocery            32507.00\n",
      "Oporto_Grocery            56400.00\n",
      "Other_Grocery             83319.00\n",
      "Lisbon_Frozen             15170.00\n",
      "Oporto_Frozen             58090.00\n",
      "Other_Frozen              33563.00\n",
      "Lisbon_Detergents_Paper   17941.00\n",
      "Oporto_Detergents_Paper   36495.00\n",
      "Other_Detergents_Paper    39118.00\n",
      "Lisbon_Delicatessen        5249.00\n",
      "Oporto_Delicatessen        3864.00\n",
      "Other_Delicatessen        45958.00\n",
      "dtype: float64\n",
      "Product_Col\n",
      "Lisbon_Fresh              3298.00\n",
      "Oporto_Fresh              1497.00\n",
      "Other_Fresh               3252.25\n",
      "Lisbon_Milk               1379.00\n",
      "Oporto_Milk               2455.00\n",
      "Other_Milk                1463.75\n",
      "Lisbon_Grocery            3860.00\n",
      "Oporto_Grocery            2323.00\n",
      "Other_Grocery             3237.25\n",
      "Lisbon_Frozen             1672.00\n",
      "Oporto_Frozen             1173.50\n",
      "Other_Frozen              1023.50\n",
      "Lisbon_Detergents_Paper   2403.00\n",
      "Oporto_Detergents_Paper   2985.00\n",
      "Other_Detergents_Paper    2415.00\n",
      "Lisbon_Delicatessen        711.00\n",
      "Oporto_Delicatessen        283.00\n",
      "Other_Delicatessen         246.75\n",
      "dtype: float64\n"
     ]
    }
   ],
   "source": [
    "Least_Consumers= Region_Consolidated_parameters['count'].sort_values(ascending=True).head(1)\n",
    "Most_Consumers=Region_Consolidated_parameters['count'].sort_values(ascending=False).head(1)\n",
    "Least_Average_Spend= Region_Consolidated_parameters['mean'].sort_values(ascending=True).head(1)\n",
    "Most_Average_Spend=Region_Consolidated_parameters['mean'].sort_values(ascending=False).head(1)\n",
    "Most_Near_Average_Spend= Region_Consolidated_parameters['std'].sort_values(ascending=True).head(1)\n",
    "Least_Near_Average_Spend=Region_Consolidated_parameters['std'].sort_values(ascending=False).head(1)\n",
    "Least_Spend= Region_Consolidated_parameters['min'].sort_values(ascending=True).head(1)\n",
    "Least_Spend_by_25= Region_Consolidated_parameters['25%'].sort_values(ascending=True).head(1)\n",
    "Most_Spend_by_25=Region_Consolidated_parameters['25%'].sort_values(ascending=False).head(1)\n",
    "Least_Spend_by_50= Region_Consolidated_parameters['50%'].sort_values(ascending=True).head(1)\n",
    "Most_Spend_by_50=Region_Consolidated_parameters['50%'].sort_values(ascending=False).head(1)\n",
    "Least_Spend_by_75= Region_Consolidated_parameters['75%'].sort_values(ascending=True).head(1)\n",
    "Most_Spend_by_75=Region_Consolidated_parameters['75%'].sort_values(ascending=False).head(1)\n",
    "Most_Spend=Region_Consolidated_parameters['max'].sort_values(ascending=False).head(1)\n",
    "Most_Consistant= Region_Consolidated_parameters['CV'].sort_values(ascending=True).head(1)\n",
    "Least_Consistant=Region_Consolidated_parameters['CV'].sort_values(ascending=False).head(1)\n",
    "\n",
    "print('Least Consumers :' , Least_Consumers, 'Most Consumers :' , Most_Consumers, 'Average Customer Count')\n",
    "print('Least Average Spend :' , Least_Average_Spend, 'Most Average Spend :' , Most_Average_Spend)\n",
    "print('Most_Near_Average_Spend :' , Most_Near_Average_Spend, 'Least_Near_Average_Spend :' , Least_Near_Average_Spend)\n",
    "print('Least  Spend :' , Least_Spend)\n",
    "print('Least  Spend by 25% :' , Least_Spend_by_25, 'Most  Spend by 25% :' , Most_Spend_by_25)\n",
    "print('Least  Spend by 50% :' , Least_Spend_by_50, 'Most  Spend by 50% :' , Most_Spend_by_50)\n",
    "print('Least  Spend by 75% :' , Least_Spend_by_75, 'Most  Spend by 75% :' , Most_Spend_by_75)\n",
    "print( 'Most  Spend :' , Most_Spend)\n",
    "print('Most_Consistant' , Most_Consistant, 'Least_Consistant' , Least_Consistant)\n",
    "print(Region_Consolidated_parameters['Max - 75%'] -Region_Consolidated_parameters['Q1 - Min'] )\n",
    "print(Region_Consolidated_parameters['Max - 50%'] - Region_Consolidated_parameters['Q2 - Min'] )\n",
    "print(Region_Consolidated_parameters['Q3 - Q2'] - Region_Consolidated_parameters['Q2 - Q1'] )"
   ]
  },
  {
   "cell_type": "code",
   "execution_count": 95,
   "metadata": {},
   "outputs": [
    {
     "data": {
      "text/html": [
       "<div>\n",
       "<style scoped>\n",
       "    .dataframe tbody tr th:only-of-type {\n",
       "        vertical-align: middle;\n",
       "    }\n",
       "\n",
       "    .dataframe tbody tr th {\n",
       "        vertical-align: top;\n",
       "    }\n",
       "\n",
       "    .dataframe thead th {\n",
       "        text-align: right;\n",
       "    }\n",
       "</style>\n",
       "<table border=\"1\" class=\"dataframe\">\n",
       "  <thead>\n",
       "    <tr style=\"text-align: right;\">\n",
       "      <th></th>\n",
       "      <th>count</th>\n",
       "      <th>mean</th>\n",
       "      <th>std</th>\n",
       "      <th>min</th>\n",
       "      <th>25%</th>\n",
       "      <th>50%</th>\n",
       "      <th>75%</th>\n",
       "      <th>max</th>\n",
       "      <th>CV</th>\n",
       "      <th>Q1 - Min</th>\n",
       "      <th>Max - 75%</th>\n",
       "      <th>Q2 - Min</th>\n",
       "      <th>Max - 50%</th>\n",
       "      <th>Q2 - Q1</th>\n",
       "      <th>Q3 - Q2</th>\n",
       "    </tr>\n",
       "    <tr>\n",
       "      <th>Product_Col</th>\n",
       "      <th></th>\n",
       "      <th></th>\n",
       "      <th></th>\n",
       "      <th></th>\n",
       "      <th></th>\n",
       "      <th></th>\n",
       "      <th></th>\n",
       "      <th></th>\n",
       "      <th></th>\n",
       "      <th></th>\n",
       "      <th></th>\n",
       "      <th></th>\n",
       "      <th></th>\n",
       "      <th></th>\n",
       "      <th></th>\n",
       "    </tr>\n",
       "  </thead>\n",
       "  <tbody>\n",
       "    <tr>\n",
       "      <th>Hotel_Fresh</th>\n",
       "      <td>298.00</td>\n",
       "      <td>13475.56</td>\n",
       "      <td>13831.69</td>\n",
       "      <td>3.00</td>\n",
       "      <td>4070.25</td>\n",
       "      <td>9581.50</td>\n",
       "      <td>18274.75</td>\n",
       "      <td>112151.00</td>\n",
       "      <td>1.03</td>\n",
       "      <td>4067.25</td>\n",
       "      <td>93876.25</td>\n",
       "      <td>9578.50</td>\n",
       "      <td>102569.50</td>\n",
       "      <td>5511.25</td>\n",
       "      <td>8693.25</td>\n",
       "    </tr>\n",
       "    <tr>\n",
       "      <th>Retail_Fresh</th>\n",
       "      <td>142.00</td>\n",
       "      <td>8904.32</td>\n",
       "      <td>8987.71</td>\n",
       "      <td>18.00</td>\n",
       "      <td>2347.75</td>\n",
       "      <td>5993.50</td>\n",
       "      <td>12229.75</td>\n",
       "      <td>44466.00</td>\n",
       "      <td>1.01</td>\n",
       "      <td>2329.75</td>\n",
       "      <td>32236.25</td>\n",
       "      <td>5975.50</td>\n",
       "      <td>38472.50</td>\n",
       "      <td>3645.75</td>\n",
       "      <td>6236.25</td>\n",
       "    </tr>\n",
       "    <tr>\n",
       "      <th>Hotel_Milk</th>\n",
       "      <td>298.00</td>\n",
       "      <td>3451.72</td>\n",
       "      <td>4352.17</td>\n",
       "      <td>55.00</td>\n",
       "      <td>1164.50</td>\n",
       "      <td>2157.00</td>\n",
       "      <td>4029.50</td>\n",
       "      <td>43950.00</td>\n",
       "      <td>1.26</td>\n",
       "      <td>1109.50</td>\n",
       "      <td>39920.50</td>\n",
       "      <td>2102.00</td>\n",
       "      <td>41793.00</td>\n",
       "      <td>992.50</td>\n",
       "      <td>1872.50</td>\n",
       "    </tr>\n",
       "    <tr>\n",
       "      <th>Retail_Milk</th>\n",
       "      <td>142.00</td>\n",
       "      <td>10716.50</td>\n",
       "      <td>9679.63</td>\n",
       "      <td>928.00</td>\n",
       "      <td>5938.00</td>\n",
       "      <td>7812.00</td>\n",
       "      <td>12162.75</td>\n",
       "      <td>73498.00</td>\n",
       "      <td>0.90</td>\n",
       "      <td>5010.00</td>\n",
       "      <td>61335.25</td>\n",
       "      <td>6884.00</td>\n",
       "      <td>65686.00</td>\n",
       "      <td>1874.00</td>\n",
       "      <td>4350.75</td>\n",
       "    </tr>\n",
       "    <tr>\n",
       "      <th>Hotel_Grocery</th>\n",
       "      <td>298.00</td>\n",
       "      <td>3962.14</td>\n",
       "      <td>3545.51</td>\n",
       "      <td>3.00</td>\n",
       "      <td>1703.75</td>\n",
       "      <td>2684.00</td>\n",
       "      <td>5076.75</td>\n",
       "      <td>21042.00</td>\n",
       "      <td>0.89</td>\n",
       "      <td>1700.75</td>\n",
       "      <td>15965.25</td>\n",
       "      <td>2681.00</td>\n",
       "      <td>18358.00</td>\n",
       "      <td>980.25</td>\n",
       "      <td>2392.75</td>\n",
       "    </tr>\n",
       "    <tr>\n",
       "      <th>Retail_Grocery</th>\n",
       "      <td>142.00</td>\n",
       "      <td>16322.85</td>\n",
       "      <td>12267.32</td>\n",
       "      <td>2743.00</td>\n",
       "      <td>9245.25</td>\n",
       "      <td>12390.00</td>\n",
       "      <td>20183.50</td>\n",
       "      <td>92780.00</td>\n",
       "      <td>0.75</td>\n",
       "      <td>6502.25</td>\n",
       "      <td>72596.50</td>\n",
       "      <td>9647.00</td>\n",
       "      <td>80390.00</td>\n",
       "      <td>3144.75</td>\n",
       "      <td>7793.50</td>\n",
       "    </tr>\n",
       "    <tr>\n",
       "      <th>Hotel_Frozen</th>\n",
       "      <td>298.00</td>\n",
       "      <td>3748.25</td>\n",
       "      <td>5643.91</td>\n",
       "      <td>25.00</td>\n",
       "      <td>830.00</td>\n",
       "      <td>2057.50</td>\n",
       "      <td>4558.75</td>\n",
       "      <td>60869.00</td>\n",
       "      <td>1.51</td>\n",
       "      <td>805.00</td>\n",
       "      <td>56310.25</td>\n",
       "      <td>2032.50</td>\n",
       "      <td>58811.50</td>\n",
       "      <td>1227.50</td>\n",
       "      <td>2501.25</td>\n",
       "    </tr>\n",
       "    <tr>\n",
       "      <th>Retail_Frozen</th>\n",
       "      <td>142.00</td>\n",
       "      <td>1652.61</td>\n",
       "      <td>1812.80</td>\n",
       "      <td>33.00</td>\n",
       "      <td>534.25</td>\n",
       "      <td>1081.00</td>\n",
       "      <td>2146.75</td>\n",
       "      <td>11559.00</td>\n",
       "      <td>1.10</td>\n",
       "      <td>501.25</td>\n",
       "      <td>9412.25</td>\n",
       "      <td>1048.00</td>\n",
       "      <td>10478.00</td>\n",
       "      <td>546.75</td>\n",
       "      <td>1065.75</td>\n",
       "    </tr>\n",
       "    <tr>\n",
       "      <th>Hotel_Detergents_Paper</th>\n",
       "      <td>298.00</td>\n",
       "      <td>790.56</td>\n",
       "      <td>1104.09</td>\n",
       "      <td>3.00</td>\n",
       "      <td>183.25</td>\n",
       "      <td>385.50</td>\n",
       "      <td>899.50</td>\n",
       "      <td>6907.00</td>\n",
       "      <td>1.40</td>\n",
       "      <td>180.25</td>\n",
       "      <td>6007.50</td>\n",
       "      <td>382.50</td>\n",
       "      <td>6521.50</td>\n",
       "      <td>202.25</td>\n",
       "      <td>514.00</td>\n",
       "    </tr>\n",
       "    <tr>\n",
       "      <th>Retail_Detergents_Paper</th>\n",
       "      <td>142.00</td>\n",
       "      <td>7269.51</td>\n",
       "      <td>6291.09</td>\n",
       "      <td>332.00</td>\n",
       "      <td>3683.50</td>\n",
       "      <td>5614.50</td>\n",
       "      <td>8662.50</td>\n",
       "      <td>40827.00</td>\n",
       "      <td>0.87</td>\n",
       "      <td>3351.50</td>\n",
       "      <td>32164.50</td>\n",
       "      <td>5282.50</td>\n",
       "      <td>35212.50</td>\n",
       "      <td>1931.00</td>\n",
       "      <td>3048.00</td>\n",
       "    </tr>\n",
       "    <tr>\n",
       "      <th>Hotel_Delicatessen</th>\n",
       "      <td>298.00</td>\n",
       "      <td>1415.96</td>\n",
       "      <td>3147.43</td>\n",
       "      <td>3.00</td>\n",
       "      <td>379.00</td>\n",
       "      <td>821.00</td>\n",
       "      <td>1548.00</td>\n",
       "      <td>47943.00</td>\n",
       "      <td>2.22</td>\n",
       "      <td>376.00</td>\n",
       "      <td>46395.00</td>\n",
       "      <td>818.00</td>\n",
       "      <td>47122.00</td>\n",
       "      <td>442.00</td>\n",
       "      <td>727.00</td>\n",
       "    </tr>\n",
       "    <tr>\n",
       "      <th>Retail_Delicatessen</th>\n",
       "      <td>142.00</td>\n",
       "      <td>1753.44</td>\n",
       "      <td>1953.80</td>\n",
       "      <td>3.00</td>\n",
       "      <td>566.75</td>\n",
       "      <td>1350.00</td>\n",
       "      <td>2156.00</td>\n",
       "      <td>16523.00</td>\n",
       "      <td>1.11</td>\n",
       "      <td>563.75</td>\n",
       "      <td>14367.00</td>\n",
       "      <td>1347.00</td>\n",
       "      <td>15173.00</td>\n",
       "      <td>783.25</td>\n",
       "      <td>806.00</td>\n",
       "    </tr>\n",
       "  </tbody>\n",
       "</table>\n",
       "</div>"
      ],
      "text/plain": [
       "                         count     mean      std     min     25%      50%  \\\n",
       "Product_Col                                                                 \n",
       "Hotel_Fresh             298.00 13475.56 13831.69    3.00 4070.25  9581.50   \n",
       "Retail_Fresh            142.00  8904.32  8987.71   18.00 2347.75  5993.50   \n",
       "Hotel_Milk              298.00  3451.72  4352.17   55.00 1164.50  2157.00   \n",
       "Retail_Milk             142.00 10716.50  9679.63  928.00 5938.00  7812.00   \n",
       "Hotel_Grocery           298.00  3962.14  3545.51    3.00 1703.75  2684.00   \n",
       "Retail_Grocery          142.00 16322.85 12267.32 2743.00 9245.25 12390.00   \n",
       "Hotel_Frozen            298.00  3748.25  5643.91   25.00  830.00  2057.50   \n",
       "Retail_Frozen           142.00  1652.61  1812.80   33.00  534.25  1081.00   \n",
       "Hotel_Detergents_Paper  298.00   790.56  1104.09    3.00  183.25   385.50   \n",
       "Retail_Detergents_Paper 142.00  7269.51  6291.09  332.00 3683.50  5614.50   \n",
       "Hotel_Delicatessen      298.00  1415.96  3147.43    3.00  379.00   821.00   \n",
       "Retail_Delicatessen     142.00  1753.44  1953.80    3.00  566.75  1350.00   \n",
       "\n",
       "                             75%       max   CV  Q1 - Min  Max - 75%  \\\n",
       "Product_Col                                                            \n",
       "Hotel_Fresh             18274.75 112151.00 1.03   4067.25   93876.25   \n",
       "Retail_Fresh            12229.75  44466.00 1.01   2329.75   32236.25   \n",
       "Hotel_Milk               4029.50  43950.00 1.26   1109.50   39920.50   \n",
       "Retail_Milk             12162.75  73498.00 0.90   5010.00   61335.25   \n",
       "Hotel_Grocery            5076.75  21042.00 0.89   1700.75   15965.25   \n",
       "Retail_Grocery          20183.50  92780.00 0.75   6502.25   72596.50   \n",
       "Hotel_Frozen             4558.75  60869.00 1.51    805.00   56310.25   \n",
       "Retail_Frozen            2146.75  11559.00 1.10    501.25    9412.25   \n",
       "Hotel_Detergents_Paper    899.50   6907.00 1.40    180.25    6007.50   \n",
       "Retail_Detergents_Paper  8662.50  40827.00 0.87   3351.50   32164.50   \n",
       "Hotel_Delicatessen       1548.00  47943.00 2.22    376.00   46395.00   \n",
       "Retail_Delicatessen      2156.00  16523.00 1.11    563.75   14367.00   \n",
       "\n",
       "                         Q2 - Min  Max - 50%  Q2 - Q1  Q3 - Q2  \n",
       "Product_Col                                                     \n",
       "Hotel_Fresh               9578.50  102569.50  5511.25  8693.25  \n",
       "Retail_Fresh              5975.50   38472.50  3645.75  6236.25  \n",
       "Hotel_Milk                2102.00   41793.00   992.50  1872.50  \n",
       "Retail_Milk               6884.00   65686.00  1874.00  4350.75  \n",
       "Hotel_Grocery             2681.00   18358.00   980.25  2392.75  \n",
       "Retail_Grocery            9647.00   80390.00  3144.75  7793.50  \n",
       "Hotel_Frozen              2032.50   58811.50  1227.50  2501.25  \n",
       "Retail_Frozen             1048.00   10478.00   546.75  1065.75  \n",
       "Hotel_Detergents_Paper     382.50    6521.50   202.25   514.00  \n",
       "Retail_Detergents_Paper   5282.50   35212.50  1931.00  3048.00  \n",
       "Hotel_Delicatessen         818.00   47122.00   442.00   727.00  \n",
       "Retail_Delicatessen       1347.00   15173.00   783.25   806.00  "
      ]
     },
     "execution_count": 95,
     "metadata": {},
     "output_type": "execute_result"
    }
   ],
   "source": [
    "Channel_Consolidated_parameters"
   ]
  },
  {
   "cell_type": "code",
   "execution_count": 96,
   "metadata": {},
   "outputs": [
    {
     "name": "stdout",
     "output_type": "stream",
     "text": [
      "Least Consumers : Product_Col\n",
      "Retail_Fresh   142.00\n",
      "Name: count, dtype: float64 Most Consumers : Product_Col\n",
      "Hotel_Delicatessen   298.00\n",
      "Name: count, dtype: float64\n",
      "Least Average Spend : Product_Col\n",
      "Hotel_Detergents_Paper   790.56\n",
      "Name: mean, dtype: float64 Most Average Spend : Product_Col\n",
      "Retail_Grocery   16322.85\n",
      "Name: mean, dtype: float64\n",
      "Most_Near_Average_Spend : Product_Col\n",
      "Hotel_Detergents_Paper   1104.09\n",
      "Name: std, dtype: float64 Least_Near_Average_Spend : Product_Col\n",
      "Hotel_Fresh   13831.69\n",
      "Name: std, dtype: float64\n",
      "Least  Spend : Product_Col\n",
      "Hotel_Fresh   3.00\n",
      "Name: min, dtype: float64\n",
      "Least  Spend by 25% : Product_Col\n",
      "Hotel_Detergents_Paper   183.25\n",
      "Name: 25%, dtype: float64 Most  Spend by 25% : Product_Col\n",
      "Retail_Grocery   9245.25\n",
      "Name: 25%, dtype: float64\n",
      "Least  Spend by 50% : Product_Col\n",
      "Hotel_Detergents_Paper   385.50\n",
      "Name: 50%, dtype: float64 Most  Spend by 50% : Product_Col\n",
      "Retail_Grocery   12390.00\n",
      "Name: 50%, dtype: float64\n",
      "Least  Spend by 75% : Product_Col\n",
      "Hotel_Detergents_Paper   899.50\n",
      "Name: 75%, dtype: float64 Most  Spend by 75% : Product_Col\n",
      "Retail_Grocery   20183.50\n",
      "Name: 75%, dtype: float64\n",
      "Least  Spend : Product_Col\n",
      "Hotel_Fresh   3.00\n",
      "Name: min, dtype: float64 Most  Spend : Product_Col\n",
      "Hotel_Fresh   112151.00\n",
      "Name: max, dtype: float64\n",
      "Most_Consistant Product_Col\n",
      "Retail_Grocery   0.75\n",
      "Name: CV, dtype: float64 Least_Consistant Product_Col\n",
      "Hotel_Delicatessen   2.22\n",
      "Name: CV, dtype: float64\n",
      "Product_Col\n",
      "Hotel_Fresh               89809.00\n",
      "Retail_Fresh              29906.50\n",
      "Hotel_Milk                38811.00\n",
      "Retail_Milk               56325.25\n",
      "Hotel_Grocery             14264.50\n",
      "Retail_Grocery            66094.25\n",
      "Hotel_Frozen              55505.25\n",
      "Retail_Frozen              8911.00\n",
      "Hotel_Detergents_Paper     5827.25\n",
      "Retail_Detergents_Paper   28813.00\n",
      "Hotel_Delicatessen        46019.00\n",
      "Retail_Delicatessen       13803.25\n",
      "dtype: float64\n",
      "Product_Col\n",
      "Lisbon_Fresh              41375.00\n",
      "Oporto_Fresh              16540.00\n",
      "Other_Fresh               94649.00\n",
      "Lisbon_Milk               21088.00\n",
      "Oporto_Milk               20656.00\n",
      "Other_Milk                66184.00\n",
      "Lisbon_Grocery            32507.00\n",
      "Oporto_Grocery            56400.00\n",
      "Other_Grocery             83319.00\n",
      "Lisbon_Frozen             15170.00\n",
      "Oporto_Frozen             58090.00\n",
      "Other_Frozen              33563.00\n",
      "Lisbon_Detergents_Paper   17941.00\n",
      "Oporto_Detergents_Paper   36495.00\n",
      "Other_Detergents_Paper    39118.00\n",
      "Lisbon_Delicatessen        5249.00\n",
      "Oporto_Delicatessen        3864.00\n",
      "Other_Delicatessen        45958.00\n",
      "dtype: float64\n",
      "Product_Col\n",
      "Lisbon_Fresh              3298.00\n",
      "Oporto_Fresh              1497.00\n",
      "Other_Fresh               3252.25\n",
      "Lisbon_Milk               1379.00\n",
      "Oporto_Milk               2455.00\n",
      "Other_Milk                1463.75\n",
      "Lisbon_Grocery            3860.00\n",
      "Oporto_Grocery            2323.00\n",
      "Other_Grocery             3237.25\n",
      "Lisbon_Frozen             1672.00\n",
      "Oporto_Frozen             1173.50\n",
      "Other_Frozen              1023.50\n",
      "Lisbon_Detergents_Paper   2403.00\n",
      "Oporto_Detergents_Paper   2985.00\n",
      "Other_Detergents_Paper    2415.00\n",
      "Lisbon_Delicatessen        711.00\n",
      "Oporto_Delicatessen        283.00\n",
      "Other_Delicatessen         246.75\n",
      "dtype: float64\n"
     ]
    }
   ],
   "source": [
    "Least_Consumers= Channel_Consolidated_parameters['count'].sort_values(ascending=True).head(1)\n",
    "Most_Consumers=Channel_Consolidated_parameters['count'].sort_values(ascending=False).head(1)\n",
    "Least_Average_Spend= Channel_Consolidated_parameters['mean'].sort_values(ascending=True).head(1)\n",
    "Most_Average_Spend=Channel_Consolidated_parameters['mean'].sort_values(ascending=False).head(1)\n",
    "Most_Near_Average_Spend= Channel_Consolidated_parameters['std'].sort_values(ascending=True).head(1)\n",
    "Least_Near_Average_Spend=Channel_Consolidated_parameters['std'].sort_values(ascending=False).head(1)\n",
    "Least_Spend= Channel_Consolidated_parameters['min'].sort_values(ascending=True).head(1)\n",
    "Least_Spend_by_25= Channel_Consolidated_parameters['25%'].sort_values(ascending=True).head(1)\n",
    "Most_Spend_by_25=Channel_Consolidated_parameters['25%'].sort_values(ascending=False).head(1)\n",
    "Least_Spend_by_50= Channel_Consolidated_parameters['50%'].sort_values(ascending=True).head(1)\n",
    "Most_Spend_by_50=Channel_Consolidated_parameters['50%'].sort_values(ascending=False).head(1)\n",
    "Least_Spend_by_75= Channel_Consolidated_parameters['75%'].sort_values(ascending=True).head(1)\n",
    "Most_Spend_by_75=Channel_Consolidated_parameters['75%'].sort_values(ascending=False).head(1)\n",
    "Most_Spend=Channel_Consolidated_parameters['max'].sort_values(ascending=False).head(1)\n",
    "Most_Consistant= Channel_Consolidated_parameters['CV'].sort_values(ascending=True).head(1)\n",
    "Least_Consistant=Channel_Consolidated_parameters['CV'].sort_values(ascending=False).head(1)\n",
    "\n",
    "print('Least Consumers :' , Least_Consumers, 'Most Consumers :' , Most_Consumers)\n",
    "print('Least Average Spend :' , Least_Average_Spend, 'Most Average Spend :' , Most_Average_Spend)\n",
    "print('Most_Near_Average_Spend :' , Most_Near_Average_Spend, 'Least_Near_Average_Spend :' , Least_Near_Average_Spend)\n",
    "print('Least  Spend :' , Least_Spend)\n",
    "print('Least  Spend by 25% :' , Least_Spend_by_25, 'Most  Spend by 25% :' , Most_Spend_by_25)\n",
    "print('Least  Spend by 50% :' , Least_Spend_by_50, 'Most  Spend by 50% :' , Most_Spend_by_50)\n",
    "print('Least  Spend by 75% :' , Least_Spend_by_75, 'Most  Spend by 75% :' , Most_Spend_by_75)\n",
    "print('Least  Spend :' , Least_Spend, 'Most  Spend :' , Most_Spend)\n",
    "print('Most_Consistant' , Most_Consistant, 'Least_Consistant' , Least_Consistant)\n",
    "print(Channel_Consolidated_parameters['Max - 75%'] -Channel_Consolidated_parameters['Q1 - Min'] )\n",
    "print(Region_Consolidated_parameters['Max - 50%'] - Region_Consolidated_parameters['Q2 - Min'] )\n",
    "print(Region_Consolidated_parameters['Q3 - Q2'] - Region_Consolidated_parameters['Q2 - Q1'] )"
   ]
  },
  {
   "cell_type": "markdown",
   "metadata": {},
   "source": [
    "## ANSWER 1.2\n",
    "\n",
    "#### There are 6 different varieties of items Fresh, Milk, Grocery, Frozen, Detergents_Paper and Delicatessen. They are sold across three regions names Lisbon, oporto and Other. The selling is done through Channels named 'Hotel' and 'Retail'.\n",
    "\n",
    "# Across the Region Analysis\n",
    "\n",
    "##### 1) In this exercise we have analysed the data set containing 440 rows and 9 Columns.\n",
    "##### 2) None of the values are null.\n",
    "##### 3) we have analysed  the occrances, central tendency,  5 number summary , consistency (CV) and Skewness of the distribution\n",
    "##### 4) Spender Distribution across region is 47 - Oporto, 77 - Lisbon and 316 - Other\n",
    "##### 5) Average Sale across regions for Product is is\n",
    "\n",
    "                               Good\t      Average\t        to Improve\n",
    "         Fresh                 Other\t   Lisbon\t          Oporto\n",
    "         Milk                  Other\t   Lisbon\t          Oporto\n",
    "         Grocery\t           Oporto\t   Other\t          Lisbon\n",
    "         Frozen \t           Oporto\t   Other\t          Lisbon\n",
    "         Detergent_Paper\t   Oporto\t   Other\t          Lisbone\n",
    "         Delicatessen          Other       Lisbon\t          Oporto\n",
    "\n",
    "##### 6) Minimum Average Spend is Done by Region (Oporto) on Product( Delicatessen)  which is - 1159.7\n",
    "\n",
    "         Oporto has lowest average spend on product Delicatessen. there are 32 out of 47 buyers spending less than for this          product. This need to be reviewed for strategy and rates\n",
    "\n",
    "##### 7) Maximim Average Spend is Done by Region (Other) on Product( Fresh)  which is - 12533.47\n",
    "\n",
    "        Other has maximum average spend on product Fresh. there are 203 out of 316 buyers spending less than this  \n",
    "        Average Spend  for this product. \n",
    "         \n",
    "##### 8) Standard Deviation is Minimum at  Region (Oporto) on Product( Delicatessen)  which is - 1050.74\n",
    "\n",
    "        This is interesting point because Region (Oporto) on Product( Delicatessen) has the minimum Average Spend across \n",
    "        hence lowest Standard deviation for this item is not favourable from Sales standpoint. Please refer to above \n",
    "        recommendation matrix stating  the same.\n",
    "\n",
    "##### 9) Standard Deviation is Maximum at  Region (Other) on Product( Fresh)  which is - 13389.21\n",
    "\n",
    "        This is favourable point because Region (Other) on Product(Fresh) has the maximum Average Spend across hence Highest Standard deviation for this item is favourable from Sales standpoint.\n",
    "\n",
    "##### 10) Minimum Spend is at  Region (Other) on Product( Grocery)  which is - 3\n",
    "\n",
    "       This is certainly an Outlier; Needs further analysis\n",
    "\n",
    "##### 11) 25% of spend occurance are done at Region (Other) on product(Detergents_Paper) which is less than - 251.25\n",
    "\n",
    "       This region for this product generate average sales; this has already been recommended for improvement this   \n",
    "       minumum will shift to right.\n",
    "        \n",
    "##### 12) 25% of spend occurance are done at Region (Other) on product(Fresh) which is less than - 3350.75\n",
    "\n",
    "        AS mentioned above, This region for this product generates good sales; this is again confirmed by this \n",
    "        statistc which is maximum of 25% span across the regions\n",
    "\n",
    "##### 13) 50% of spend occurance are done at Region (Lisbon) on product(Detergents_Paper) which is less than - 737.00\n",
    "\n",
    "        This region for this product needs improvement in sales; this has already been recommended for improvement; this   \n",
    "        minumum will shift to right\n",
    "        \n",
    "##### 14)  50% of spend occurance are done at Region (Other) on product(Fresh) which is less than - 8752.50\n",
    "\n",
    "        AS mentioned above, This region for this product generates good sales; this is again confirmed by this \n",
    "        statistc which is maximum of 50% span across the regions\n",
    "\n",
    "\n",
    "##### 15) 75% of spend occurance are done at Region (Oporto) on product(Delicatessen) which is less than - 1538.50\n",
    "\n",
    "        This region for this product needs improvement in sales; this has already been recommended for improvement; this   \n",
    "        minumum will shift to right\n",
    "\n",
    "##### 16) 75% of spend occurance are done at Region (Other) on product(Fresh) which is less than - 17406.50\n",
    "\n",
    "        AS mentioned above, This region for this product generates good sales; this is again confirmed by this \n",
    "        statistc which is maximum of 75% span across the regions\n",
    "\n",
    "##### 17) Maximum Spend is at  Region (Other) on Product( Fresh)  which is - 112151.00\n",
    "\n",
    "        AS mentioned above, This region for this product generates good sales; this is again confirmed by this \n",
    "        statistc which is maximum spend  across the regions\n",
    "        \n",
    "        \n",
    "##### 18) Most_Consistant business comes from  Region (Oporto) on Product( Fresh) with Coefficient of variance as  - 0.85\n",
    "\n",
    "        please refer to above recommendation where you see this product for  region has been mention \"To Improve\" the sale;though the sale is less for this region however it is shown less volatile or risky as the variation around mean is minimal across the products and region.\n",
    "        \n",
    "##### 19) Least_Consistant business comes from  Region (Oporto) on Product( Frozen) with Coefficient of variance as  - 2.26\n",
    "\n",
    "        please refer to above recommendation where you see this product for  region has been mention \"Good\" for the sale;though the sale is excellent for this region however it is shown more volatile or risk as the variation around mean is maximum across the products and region.\n",
    "        \n",
    "##### 20) DIstribution of Productwise sale across Various regions is reviewed  and it is noticed that for each product, Making  individual distribution         RightSkewed considering following statistics\n",
    "\n",
    "         ['Max - 50%'] > ['Q2 - Min'] )\n",
    "         ['Max - 75%'] > ['Q1 - Min'] )\n",
    "         ['Q3 - Q2'] > ['Q2 - Q1'] )\n",
    "         \n",
    "         \n",
    "         \n",
    " # Across the Channels Analysis\n",
    " \n",
    " ##### 1) In this exercise we have analysed the data set containing 440 rows and 9 Columns.\n",
    "##### 2) None of the values are null.\n",
    "##### 3) we have analysed  the Spenders, central tendency,  5 number summary , consistency (CV) and Skewness of the distribution\n",
    "##### 4) Spender Distribution across Channels  is 298 - Hotel, 142 - Retail\n",
    "##### 5) Average Sale across regions for Product is is\n",
    "\n",
    "                               Good\t      \t        to Improve\n",
    "         Fresh                 Hotel                  Retail\n",
    "         Milk                  Retail                 Hotel\n",
    "         Grocery\t           Retail                 Hotel\n",
    "         Frozen \t           Hotel                  Retail\n",
    "         Detergent_Paper\t   Retail                 Hotel\n",
    "         Delicatessen          Retail                 Hotel\n",
    "\n",
    "\n",
    "##### 6) Minimum Average Spend is Done by Channel (Hotel) on Product( Detergents_Paper)  which is - 790.56\n",
    "\n",
    "        Hotel has lowest average spend on product Detergents_Paper. there are 212 out of 298 buyers spending less than      \n",
    "        790.56 for this product. This need to be reviewed for strategy and rates. This also relates to above analysis where \n",
    "        'Hotel' Channel is suggested for improvement.\n",
    "\n",
    "##### 7) Maximim Average Spend is Done by Channel (Retail) on Product(Grocery )  which is - 16322.85\n",
    "\n",
    "        'Retail' has Highest average spend on product Grocery. there are 93 out of 142 buyers spending less than      \n",
    "        16322.85 for this product. This also relates to above analysis where  'Retail' Channel is appreciated for good \n",
    "        Sales.\n",
    "         \n",
    "##### 8) Standard Deviation is Minimum at   Channel ( Hotel) on Product(Detergents_Paper)  which is - 1104.09\n",
    "\n",
    "        This is interesting point because Channel ( Hotel) on Product(Detergents_Paper) has the minimum Average Spend across \n",
    "        hence lowest Standard deviation for this item is not favourable from Sales standpoint. Please refer to above \n",
    "        recommendation matrix stating  the same.\n",
    "\n",
    "##### 9) Standard Deviation is Maximum at  Channel ( Hotel) on Product(Fresh) which is -  13831.69\n",
    "\n",
    "        This is favourable point because Channel ( Hotel) on Product(Fresh) has the maximum Average Spend across hence \n",
    "        Highest Standard deviation for this item is favourable from Sales standpoint.Please refer to above \n",
    "        recommendation matrix stating  the same.\n",
    "        \n",
    "##### 10) Minimum Spend is at  Channel ( Hotel) on Product(Fresh)   which is - 3\n",
    "\n",
    "       This is certainly an Outlier; Needs further analysis. This is hampering the overall mean.\n",
    "\n",
    "##### 11) 25% of spend occurance are done at Channel ( Hotel) on product(Detergents_Paper) which is less than - 183.25\n",
    "\n",
    "       This Channel for this product generate poor sales; this has already been recommended for improvement in above matrix \n",
    "       this minumum will shift to right.\n",
    "        \n",
    "##### 12) 25% of spend occurance are done at Channel ( Retail) on product (Grocery ) which is less than - 9245.25\n",
    "\n",
    "        AS mentioned above, This Channel for this product generates good sales; this is again confirmed by this \n",
    "        statistc which is maximum of 25% span across the regions\n",
    "\n",
    "##### 13) 50% of spend occurance are done at Channel ( Hotel) on product (Detergents_Paper ) which is less than - 385.50\n",
    "\n",
    "        This channel for this product needs improvement in sales; this has already been recommended for improvement; Upon \n",
    "        improvement this minumum will shift to right\n",
    "        \n",
    "##### 14)  50% of spend occurance are done at Channel ( Retail) on product (Grocery ) which is less than -  12390\n",
    "\n",
    "        AS mentioned above, This Channel for this product generates good sales; this is again confirmed by this \n",
    "        statistc which is maximum of 50% span across the regions\n",
    "\n",
    "##### 15) 75% of spend occurance are done at Channel ( Hotel) on product (Detergents_Paper ) which is less than  - 899.50\n",
    "\n",
    "        This Channel for this product needs improvement in sales; this has already been recommended for improvement; Upon \n",
    "        improvement this minumum will shift to right\n",
    "\n",
    "\n",
    "##### 16) 75% of spend occurance are done at Channel ( Retail) on product (Grocery ) which is less than -  20183.50\n",
    "\n",
    "        AS mentioned above, This Channel for this product generates good sales; this is again confirmed by this \n",
    "        statistc which is maximum of 75% span across the regions\n",
    "\n",
    "##### 17) Maximum Spend is at  Channel ( Hotel) on product (Detergents_Paper ) which is  - 112151.00\n",
    "\n",
    "        AS mentioned above, This Channel for this product generates good sales; this is again confirmed by this \n",
    "        statistc which is maximum spend  across the regions\n",
    "Most_Consistant Product_Col\n",
    "Retail_Grocery   0.75\n",
    "Name: CV, dtype: float64 Least_Consistant Product_Col\n",
    "Hotel_Delicatessen   2.22\n",
    "Name: CV, dtype: float64\n",
    "        \n",
    "##### 18) Most_Consistant business comes from  Channel ( Retail) on product (Grocery )  with Coefficient of variance as  - 0.75\n",
    "\n",
    "        please refer to above recommendation where you see this product for  Channel has been mention \"Good\" the sale; together with the good Sale; this Channel is also less volatile or risky as the variation around mean is minimal across the products and channel.\n",
    "        \n",
    "##### 19) Least_Consistant business comes from  Channel ( Hotel) on product (Delicatessen )  with Coefficient of variance as  -  2.22\n",
    "\n",
    "        please refer to above recommendation where you see this product for  Channel  has been mention as \n",
    "        \"Need Improvement\" for the sale;though the sale Not so good for this Channel however it is shown more volatile or \n",
    "        risk as the variation around mean is maximum across the products and region.\n",
    "        \n",
    "##### 20) DIstribution of Productwise sale across Various Channels  is reviewed  and it is noticed that for each product, Making  individual distribution  RightSkewed considering following statistics\n",
    "\n",
    "         ['Max - 50%'] > ['Q2 - Min'] )\n",
    "         ['Max - 75%'] > ['Q1 - Min'] )\n",
    "         ['Q3 - Q2'] > ['Q2 - Q1'] )"
   ]
  },
  {
   "cell_type": "markdown",
   "metadata": {},
   "source": [
    "####  1.3.On the basis of a descriptive measure of variability, which item shows the most inconsistent behaviour? Which items show the least inconsistent behaviour?"
   ]
  },
  {
   "cell_type": "code",
   "execution_count": 97,
   "metadata": {},
   "outputs": [
    {
     "data": {
      "text/html": [
       "<div>\n",
       "<style scoped>\n",
       "    .dataframe tbody tr th:only-of-type {\n",
       "        vertical-align: middle;\n",
       "    }\n",
       "\n",
       "    .dataframe tbody tr th {\n",
       "        vertical-align: top;\n",
       "    }\n",
       "\n",
       "    .dataframe thead th {\n",
       "        text-align: right;\n",
       "    }\n",
       "</style>\n",
       "<table border=\"1\" class=\"dataframe\">\n",
       "  <thead>\n",
       "    <tr style=\"text-align: right;\">\n",
       "      <th></th>\n",
       "      <th>0</th>\n",
       "    </tr>\n",
       "  </thead>\n",
       "  <tbody>\n",
       "    <tr>\n",
       "      <th>Delicatessen</th>\n",
       "      <td>1.85</td>\n",
       "    </tr>\n",
       "    <tr>\n",
       "      <th>Detergents_Paper</th>\n",
       "      <td>1.65</td>\n",
       "    </tr>\n",
       "    <tr>\n",
       "      <th>Frozen</th>\n",
       "      <td>1.58</td>\n",
       "    </tr>\n",
       "    <tr>\n",
       "      <th>Milk</th>\n",
       "      <td>1.27</td>\n",
       "    </tr>\n",
       "    <tr>\n",
       "      <th>Grocery</th>\n",
       "      <td>1.20</td>\n",
       "    </tr>\n",
       "    <tr>\n",
       "      <th>Fresh</th>\n",
       "      <td>1.05</td>\n",
       "    </tr>\n",
       "  </tbody>\n",
       "</table>\n",
       "</div>"
      ],
      "text/plain": [
       "                    0\n",
       "Delicatessen     1.85\n",
       "Detergents_Paper 1.65\n",
       "Frozen           1.58\n",
       "Milk             1.27\n",
       "Grocery          1.20\n",
       "Fresh            1.05"
      ]
     },
     "execution_count": 97,
     "metadata": {},
     "output_type": "execute_result"
    }
   ],
   "source": [
    "Fresh=WS_Cust['Fresh']\n",
    "Milk=WS_Cust['Milk']\n",
    "Grocery=WS_Cust['Grocery']\n",
    "Frozen=WS_Cust['Frozen']\n",
    "Detergents_Paper=WS_Cust['Detergents_Paper']\n",
    "Delicatessen=WS_Cust['Delicatessen']\n",
    "CV = pd.DataFrame({'Fresh' : [Fresh.std()/Fresh.mean()],'Milk' :[Milk.std()/Milk.mean()],\n",
    "                 'Grocery' :[Grocery.std()/Grocery.mean()],'Frozen' :[Frozen.std()/Frozen.mean()],\n",
    "                 'Detergents_Paper' :[Detergents_Paper.std()/Detergents_Paper.mean()],\n",
    "                 'Delicatessen' :[Delicatessen.std()/Delicatessen.mean()]})  \n",
    "CV.T.sort_values(by=0,ascending=False)"
   ]
  },
  {
   "cell_type": "markdown",
   "metadata": {},
   "source": [
    "#### ANSWER 1.3\n",
    "\n",
    "##### Coefficient of Variation is Maximum for Product \"Delicatessen\" making it most volatile/ Risky and Inconsistent product with Coefficient of variation  as \n",
    "            #### 1.85\n",
    "##### Coefficient of Variation is Minimum for product \"Fresh\" making it most reliable and consistent product with Coefficient of variation  as \n",
    "            #### 1.05"
   ]
  },
  {
   "cell_type": "markdown",
   "metadata": {},
   "source": [
    "####  1.4.Are there any outliers in the data? Back up your answer with a suitable plot/technique with the help of detailed comments."
   ]
  },
  {
   "cell_type": "code",
   "execution_count": 98,
   "metadata": {},
   "outputs": [
    {
     "data": {
      "text/plain": [
       "Text(0.5, 0, 'Delicatessen')"
      ]
     },
     "execution_count": 98,
     "metadata": {},
     "output_type": "execute_result"
    },
    {
     "data": {
      "image/png": "[encoded data removed]",
      "text/plain": [
       "<Figure size 1440x576 with 6 Axes>"
      ]
     },
     "metadata": {
      "needs_background": "light"
     },
     "output_type": "display_data"
    }
   ],
   "source": [
    "plt.figure(figsize=(20,8))\n",
    "plt.subplot(1,6,1)\n",
    "WS_Cust['Fresh'].plot(kind = 'box')\n",
    "plt.xlabel('Fresh')\n",
    "plt.subplot(1,6,2)\n",
    "WS_Cust['Milk'].plot(kind = 'box')\n",
    "plt.xlabel('Milk')\n",
    "plt.subplot(1,6,3)\n",
    "WS_Cust['Grocery'].plot(kind = 'box')\n",
    "plt.xlabel('Grocery')\n",
    "plt.subplot(1,6,4)\n",
    "WS_Cust['Frozen'].plot(kind = 'box')\n",
    "plt.xlabel('Frozen')\n",
    "plt.subplot(1,6,5)\n",
    "WS_Cust['Detergents_Paper'].plot(kind = 'box')\n",
    "plt.xlabel('Detergents_Paper')\n",
    "plt.subplot(1,6,6)\n",
    "WS_Cust['Delicatessen'].plot(kind = 'box')\n",
    "plt.xlabel('Delicatessen')"
   ]
  },
  {
   "cell_type": "code",
   "execution_count": 99,
   "metadata": {},
   "outputs": [
    {
     "name": "stdout",
     "output_type": "stream",
     "text": [
      "There are  20  outliers for product \"Fresh \" is 4.55 % of total and  which are lower than  -17603.0  Or Higher than  37657.0\n",
      "There are  28  outliers for product \"Milk \" is 6.36 % of total and which are lower than  -6964.75  Or Higher than  15693.25\n",
      "There are  24  outliers for product \"Grocery\" is 5.45 % of total and which are lower than  -10620.75  Or Higher than  23437.25\n",
      "There are  42  outliers for product \"Frozen \" is 9.55 % of total and  which are lower than  -3488.0  Or Higher than  7788.0\n",
      "There are  30  outliers for product \"Detergents_Paper is\" 6.82 % of total and   which are lower than  -5261.25  Or Higher than  9452.75\n",
      "There are  27  outliers for product \"Delicatessen is\" 6.14 % of total and    which are lower than  -1713.5  Or Higher than  3942.5\n"
     ]
    }
   ],
   "source": [
    "Sort_Fresh=np.sort(WS_Cust['Fresh'])\n",
    "Count_Fresh=WS_Cust['Fresh'].count()\n",
    "Q1_Fresh=np.percentile(WS_Cust['Fresh'],25, interpolation = 'midpoint')\n",
    "Q2_Fresh=np.percentile(WS_Cust['Fresh'],50, interpolation = 'midpoint')\n",
    "Q3_Fresh=np.percentile(WS_Cust['Fresh'],75, interpolation = 'midpoint')\n",
    "IQR_Fresh=Q3_Fresh-Q1_Fresh\n",
    "Low_Fresh=Q1_Fresh-1.5*IQR_Fresh\n",
    "High_Fresh=Q3_Fresh+1.5*IQR_Fresh\n",
    "Outlier_Fresh=[]\n",
    "for x in Sort_Fresh:\n",
    "    if (( x>High_Fresh) or ( x<Low_Fresh)):\n",
    "        Outlier_Fresh.append(x)\n",
    "        \n",
    "Sort_Milk=np.sort(WS_Cust['Milk'])\n",
    "Count_Milk=WS_Cust['Milk'].count()\n",
    "Q1_Milk=np.percentile(WS_Cust['Milk'],25, interpolation = 'midpoint')\n",
    "Q2_Milk=np.percentile(WS_Cust['Milk'],50, interpolation = 'midpoint')\n",
    "Q3_Milk=np.percentile(WS_Cust['Milk'],75, interpolation = 'midpoint')\n",
    "IQR_Milk=Q3_Milk-Q1_Milk\n",
    "Low_Milk=Q1_Milk-1.5*IQR_Milk\n",
    "High_Milk=Q3_Milk+1.5*IQR_Milk\n",
    "Outlier_Milk=[]\n",
    "for x in Sort_Milk:\n",
    "    if (( x>High_Milk) or ( x<Low_Milk)):\n",
    "        Outlier_Milk.append(x)\n",
    "\n",
    "Sort_Grocery=np.sort(WS_Cust['Grocery'])\n",
    "Count_Grocery=WS_Cust['Grocery'].count()\n",
    "Q1_Grocery=np.percentile(WS_Cust['Grocery'],25, interpolation = 'midpoint')\n",
    "Q2_Grocery=np.percentile(WS_Cust['Grocery'],50, interpolation = 'midpoint')\n",
    "Q3_Grocery=np.percentile(WS_Cust['Grocery'],75, interpolation = 'midpoint')\n",
    "IQR_Grocery=Q3_Grocery-Q1_Grocery\n",
    "Low_Grocery=Q1_Grocery-1.5*IQR_Grocery\n",
    "High_Grocery=Q3_Grocery+1.5*IQR_Grocery\n",
    "Outlier_Grocery=[]\n",
    "for x in Sort_Grocery:\n",
    "    if (( x>High_Grocery) or ( x<Low_Grocery)):\n",
    "        Outlier_Grocery.append(x)\n",
    "\n",
    "Sort_Frozen=np.sort(WS_Cust['Frozen'])\n",
    "Count_Frozen=WS_Cust['Frozen'].count()\n",
    "Q1_Frozen=np.percentile(WS_Cust['Frozen'],25, interpolation = 'midpoint')\n",
    "Q2_Frozen=np.percentile(WS_Cust['Frozen'],50, interpolation = 'midpoint')\n",
    "Q3_Frozen=np.percentile(WS_Cust['Frozen'],75, interpolation = 'midpoint')\n",
    "IQR_Frozen=Q3_Frozen-Q1_Frozen\n",
    "Low_Frozen=Q1_Frozen-1.5*IQR_Frozen\n",
    "High_Frozen=Q3_Frozen+1.5*IQR_Frozen\n",
    "Outlier_Frozen=[]\n",
    "for x in Sort_Frozen:\n",
    "    if (( x>High_Frozen) or ( x<Low_Frozen)):\n",
    "        Outlier_Frozen.append(x)\n",
    "\n",
    "Sort_Detergents_Paper=np.sort(WS_Cust['Detergents_Paper'])\n",
    "Count_Detergents_Paper=WS_Cust['Detergents_Paper'].count()\n",
    "Q1_Detergents_Paper=np.percentile(WS_Cust['Detergents_Paper'],25, interpolation = 'midpoint')\n",
    "Q2_Detergents_Paper=np.percentile(WS_Cust['Detergents_Paper'],50, interpolation = 'midpoint')\n",
    "Q3_Detergents_Paper=np.percentile(WS_Cust['Detergents_Paper'],75, interpolation = 'midpoint')\n",
    "IQR_Detergents_Paper=Q3_Detergents_Paper-Q1_Detergents_Paper\n",
    "Low_Detergents_Paper=Q1_Detergents_Paper-1.5*IQR_Detergents_Paper\n",
    "High_Detergents_Paper=Q3_Detergents_Paper+1.5*IQR_Detergents_Paper\n",
    "Outlier_Detergents_Paper=[]\n",
    "for x in Sort_Detergents_Paper:\n",
    "    if (( x>High_Detergents_Paper) or ( x<Low_Detergents_Paper)):\n",
    "        Outlier_Detergents_Paper.append(x)\n",
    "\n",
    "Sort_Delicatessen=np.sort(WS_Cust['Delicatessen'])\n",
    "Count_Delicatessen=WS_Cust['Delicatessen'].count()\n",
    "Q1_Delicatessen=np.percentile(WS_Cust['Delicatessen'],25, interpolation = 'midpoint')\n",
    "Q2_Delicatessen=np.percentile(WS_Cust['Delicatessen'],50, interpolation = 'midpoint')\n",
    "Q3_Delicatessen=np.percentile(WS_Cust['Delicatessen'],75, interpolation = 'midpoint')\n",
    "IQR_Delicatessen=Q3_Delicatessen-Q1_Delicatessen\n",
    "Low_Delicatessen=Q1_Delicatessen-1.5*IQR_Delicatessen\n",
    "High_Delicatessen=Q3_Delicatessen+1.5*IQR_Delicatessen\n",
    "Outlier_Delicatessen=[]\n",
    "for x in Sort_Delicatessen:\n",
    "    if (( x>High_Delicatessen) or ( x<Low_Delicatessen)):\n",
    "        Outlier_Delicatessen.append(x)\n",
    "print('There are ',len(Outlier_Fresh), ' outliers for product \"Fresh \" is',round(len(Outlier_Fresh) * 100/ Count_Fresh,2),'% of total and  which are lower than ' , Low_Fresh , ' Or Higher than ', High_Fresh)\n",
    "print('There are ',len(Outlier_Milk), ' outliers for product \"Milk \" is',round(len(Outlier_Milk) * 100/ Count_Milk,2),'% of total and which are lower than ' , Low_Milk , ' Or Higher than ', High_Milk)\n",
    "print('There are ',len(Outlier_Grocery), ' outliers for product \"Grocery\" is',round(len(Outlier_Grocery) * 100/ Count_Grocery,2),'% of total and which are lower than ' , Low_Grocery , ' Or Higher than ', High_Grocery)\n",
    "print('There are ',len(Outlier_Frozen), ' outliers for product \"Frozen \" is',round(len(Outlier_Frozen) * 100/ Count_Frozen,2),'% of total and  which are lower than ' , Low_Frozen , ' Or Higher than ', High_Frozen)\n",
    "print('There are ',len(Outlier_Detergents_Paper), ' outliers for product \"Detergents_Paper is\"',round(len(Outlier_Detergents_Paper) * 100/ Count_Detergents_Paper,2),'% of total and   which are lower than ' , Low_Detergents_Paper , ' Or Higher than ', High_Detergents_Paper)\n",
    "print('There are ',len(Outlier_Delicatessen), ' outliers for product \"Delicatessen is\"',round(len(Outlier_Delicatessen) * 100/ Count_Delicatessen,2),'% of total and    which are lower than ' , Low_Delicatessen , ' Or Higher than ', High_Delicatessen)"
   ]
  },
  {
   "cell_type": "code",
   "execution_count": 100,
   "metadata": {},
   "outputs": [
    {
     "data": {
      "text/html": [
       "<div>\n",
       "<style scoped>\n",
       "    .dataframe tbody tr th:only-of-type {\n",
       "        vertical-align: middle;\n",
       "    }\n",
       "\n",
       "    .dataframe tbody tr th {\n",
       "        vertical-align: top;\n",
       "    }\n",
       "\n",
       "    .dataframe thead th {\n",
       "        text-align: right;\n",
       "    }\n",
       "</style>\n",
       "<table border=\"1\" class=\"dataframe\">\n",
       "  <thead>\n",
       "    <tr style=\"text-align: right;\">\n",
       "      <th></th>\n",
       "      <th>Fresh</th>\n",
       "      <th>Milk</th>\n",
       "      <th>Grocery</th>\n",
       "      <th>Frozen</th>\n",
       "      <th>Detergents_Paper</th>\n",
       "      <th>Delicatessen</th>\n",
       "    </tr>\n",
       "  </thead>\n",
       "  <tbody>\n",
       "    <tr>\n",
       "      <th>0</th>\n",
       "      <td>38793.00</td>\n",
       "      <td>15726.00</td>\n",
       "      <td>23596.00</td>\n",
       "      <td>7849.00</td>\n",
       "      <td>9529.00</td>\n",
       "      <td>4100.00</td>\n",
       "    </tr>\n",
       "    <tr>\n",
       "      <th>1</th>\n",
       "      <td>39228.00</td>\n",
       "      <td>15729.00</td>\n",
       "      <td>23998.00</td>\n",
       "      <td>7888.00</td>\n",
       "      <td>9606.00</td>\n",
       "      <td>4334.00</td>\n",
       "    </tr>\n",
       "    <tr>\n",
       "      <th>2</th>\n",
       "      <td>39679.00</td>\n",
       "      <td>16599.00</td>\n",
       "      <td>24708.00</td>\n",
       "      <td>8132.00</td>\n",
       "      <td>9836.00</td>\n",
       "      <td>4365.00</td>\n",
       "    </tr>\n",
       "    <tr>\n",
       "      <th>3</th>\n",
       "      <td>40254.00</td>\n",
       "      <td>16687.00</td>\n",
       "      <td>24773.00</td>\n",
       "      <td>8164.00</td>\n",
       "      <td>9959.00</td>\n",
       "      <td>4430.00</td>\n",
       "    </tr>\n",
       "    <tr>\n",
       "      <th>4</th>\n",
       "      <td>40721.00</td>\n",
       "      <td>16729.00</td>\n",
       "      <td>25957.00</td>\n",
       "      <td>8170.00</td>\n",
       "      <td>10069.00</td>\n",
       "      <td>4478.00</td>\n",
       "    </tr>\n",
       "    <tr>\n",
       "      <th>5</th>\n",
       "      <td>42312.00</td>\n",
       "      <td>16784.00</td>\n",
       "      <td>26316.00</td>\n",
       "      <td>8195.00</td>\n",
       "      <td>11577.00</td>\n",
       "      <td>4626.00</td>\n",
       "    </tr>\n",
       "    <tr>\n",
       "      <th>6</th>\n",
       "      <td>42786.00</td>\n",
       "      <td>17972.00</td>\n",
       "      <td>26839.00</td>\n",
       "      <td>8321.00</td>\n",
       "      <td>11783.00</td>\n",
       "      <td>4829.00</td>\n",
       "    </tr>\n",
       "    <tr>\n",
       "      <th>7</th>\n",
       "      <td>43088.00</td>\n",
       "      <td>18664.00</td>\n",
       "      <td>26866.00</td>\n",
       "      <td>8366.00</td>\n",
       "      <td>12034.00</td>\n",
       "      <td>4985.00</td>\n",
       "    </tr>\n",
       "    <tr>\n",
       "      <th>8</th>\n",
       "      <td>43265.00</td>\n",
       "      <td>20484.00</td>\n",
       "      <td>26870.00</td>\n",
       "      <td>8425.00</td>\n",
       "      <td>12218.00</td>\n",
       "      <td>5120.00</td>\n",
       "    </tr>\n",
       "    <tr>\n",
       "      <th>9</th>\n",
       "      <td>44466.00</td>\n",
       "      <td>20655.00</td>\n",
       "      <td>28540.00</td>\n",
       "      <td>8620.00</td>\n",
       "      <td>12408.00</td>\n",
       "      <td>5121.00</td>\n",
       "    </tr>\n",
       "    <tr>\n",
       "      <th>10</th>\n",
       "      <td>45640.00</td>\n",
       "      <td>20959.00</td>\n",
       "      <td>28921.00</td>\n",
       "      <td>8692.00</td>\n",
       "      <td>12420.00</td>\n",
       "      <td>5130.00</td>\n",
       "    </tr>\n",
       "    <tr>\n",
       "      <th>11</th>\n",
       "      <td>47493.00</td>\n",
       "      <td>21412.00</td>\n",
       "      <td>28986.00</td>\n",
       "      <td>8693.00</td>\n",
       "      <td>12591.00</td>\n",
       "      <td>5137.00</td>\n",
       "    </tr>\n",
       "    <tr>\n",
       "      <th>12</th>\n",
       "      <td>49063.00</td>\n",
       "      <td>21858.00</td>\n",
       "      <td>30243.00</td>\n",
       "      <td>8853.00</td>\n",
       "      <td>12638.00</td>\n",
       "      <td>5185.00</td>\n",
       "    </tr>\n",
       "    <tr>\n",
       "      <th>13</th>\n",
       "      <td>53205.00</td>\n",
       "      <td>22044.00</td>\n",
       "      <td>32034.00</td>\n",
       "      <td>8872.00</td>\n",
       "      <td>13308.00</td>\n",
       "      <td>5206.00</td>\n",
       "    </tr>\n",
       "    <tr>\n",
       "      <th>14</th>\n",
       "      <td>56082.00</td>\n",
       "      <td>23133.00</td>\n",
       "      <td>32114.00</td>\n",
       "      <td>9408.00</td>\n",
       "      <td>13583.00</td>\n",
       "      <td>5609.00</td>\n",
       "    </tr>\n",
       "    <tr>\n",
       "      <th>15</th>\n",
       "      <td>56083.00</td>\n",
       "      <td>23527.00</td>\n",
       "      <td>33586.00</td>\n",
       "      <td>9510.00</td>\n",
       "      <td>13726.00</td>\n",
       "      <td>5778.00</td>\n",
       "    </tr>\n",
       "    <tr>\n",
       "      <th>16</th>\n",
       "      <td>56159.00</td>\n",
       "      <td>25071.00</td>\n",
       "      <td>34792.00</td>\n",
       "      <td>9584.00</td>\n",
       "      <td>14235.00</td>\n",
       "      <td>5864.00</td>\n",
       "    </tr>\n",
       "    <tr>\n",
       "      <th>17</th>\n",
       "      <td>68951.00</td>\n",
       "      <td>25862.00</td>\n",
       "      <td>36486.00</td>\n",
       "      <td>9735.00</td>\n",
       "      <td>14841.00</td>\n",
       "      <td>6250.00</td>\n",
       "    </tr>\n",
       "    <tr>\n",
       "      <th>18</th>\n",
       "      <td>76237.00</td>\n",
       "      <td>27472.00</td>\n",
       "      <td>39694.00</td>\n",
       "      <td>9806.00</td>\n",
       "      <td>15469.00</td>\n",
       "      <td>6372.00</td>\n",
       "    </tr>\n",
       "    <tr>\n",
       "      <th>19</th>\n",
       "      <td>112151.00</td>\n",
       "      <td>28326.00</td>\n",
       "      <td>45828.00</td>\n",
       "      <td>9927.00</td>\n",
       "      <td>17120.00</td>\n",
       "      <td>6465.00</td>\n",
       "    </tr>\n",
       "    <tr>\n",
       "      <th>20</th>\n",
       "      <td>nan</td>\n",
       "      <td>29627.00</td>\n",
       "      <td>55571.00</td>\n",
       "      <td>10002.00</td>\n",
       "      <td>17740.00</td>\n",
       "      <td>6854.00</td>\n",
       "    </tr>\n",
       "    <tr>\n",
       "      <th>21</th>\n",
       "      <td>nan</td>\n",
       "      <td>29892.00</td>\n",
       "      <td>59598.00</td>\n",
       "      <td>10155.00</td>\n",
       "      <td>18594.00</td>\n",
       "      <td>7844.00</td>\n",
       "    </tr>\n",
       "    <tr>\n",
       "      <th>22</th>\n",
       "      <td>nan</td>\n",
       "      <td>36423.00</td>\n",
       "      <td>67298.00</td>\n",
       "      <td>10303.00</td>\n",
       "      <td>18906.00</td>\n",
       "      <td>8550.00</td>\n",
       "    </tr>\n",
       "    <tr>\n",
       "      <th>23</th>\n",
       "      <td>nan</td>\n",
       "      <td>38369.00</td>\n",
       "      <td>92780.00</td>\n",
       "      <td>10643.00</td>\n",
       "      <td>19410.00</td>\n",
       "      <td>14351.00</td>\n",
       "    </tr>\n",
       "    <tr>\n",
       "      <th>24</th>\n",
       "      <td>nan</td>\n",
       "      <td>43950.00</td>\n",
       "      <td>nan</td>\n",
       "      <td>11422.00</td>\n",
       "      <td>20070.00</td>\n",
       "      <td>14472.00</td>\n",
       "    </tr>\n",
       "    <tr>\n",
       "      <th>25</th>\n",
       "      <td>nan</td>\n",
       "      <td>46197.00</td>\n",
       "      <td>nan</td>\n",
       "      <td>11559.00</td>\n",
       "      <td>24171.00</td>\n",
       "      <td>16523.00</td>\n",
       "    </tr>\n",
       "    <tr>\n",
       "      <th>26</th>\n",
       "      <td>nan</td>\n",
       "      <td>54259.00</td>\n",
       "      <td>nan</td>\n",
       "      <td>12569.00</td>\n",
       "      <td>24231.00</td>\n",
       "      <td>47943.00</td>\n",
       "    </tr>\n",
       "    <tr>\n",
       "      <th>27</th>\n",
       "      <td>nan</td>\n",
       "      <td>73498.00</td>\n",
       "      <td>nan</td>\n",
       "      <td>13135.00</td>\n",
       "      <td>26701.00</td>\n",
       "      <td>nan</td>\n",
       "    </tr>\n",
       "    <tr>\n",
       "      <th>28</th>\n",
       "      <td>nan</td>\n",
       "      <td>nan</td>\n",
       "      <td>nan</td>\n",
       "      <td>13223.00</td>\n",
       "      <td>38102.00</td>\n",
       "      <td>nan</td>\n",
       "    </tr>\n",
       "    <tr>\n",
       "      <th>29</th>\n",
       "      <td>nan</td>\n",
       "      <td>nan</td>\n",
       "      <td>nan</td>\n",
       "      <td>13486.00</td>\n",
       "      <td>40827.00</td>\n",
       "      <td>nan</td>\n",
       "    </tr>\n",
       "    <tr>\n",
       "      <th>30</th>\n",
       "      <td>nan</td>\n",
       "      <td>nan</td>\n",
       "      <td>nan</td>\n",
       "      <td>15082.00</td>\n",
       "      <td>nan</td>\n",
       "      <td>nan</td>\n",
       "    </tr>\n",
       "    <tr>\n",
       "      <th>31</th>\n",
       "      <td>nan</td>\n",
       "      <td>nan</td>\n",
       "      <td>nan</td>\n",
       "      <td>15348.00</td>\n",
       "      <td>nan</td>\n",
       "      <td>nan</td>\n",
       "    </tr>\n",
       "    <tr>\n",
       "      <th>32</th>\n",
       "      <td>nan</td>\n",
       "      <td>nan</td>\n",
       "      <td>nan</td>\n",
       "      <td>15601.00</td>\n",
       "      <td>nan</td>\n",
       "      <td>nan</td>\n",
       "    </tr>\n",
       "    <tr>\n",
       "      <th>33</th>\n",
       "      <td>nan</td>\n",
       "      <td>nan</td>\n",
       "      <td>nan</td>\n",
       "      <td>16538.00</td>\n",
       "      <td>nan</td>\n",
       "      <td>nan</td>\n",
       "    </tr>\n",
       "    <tr>\n",
       "      <th>34</th>\n",
       "      <td>nan</td>\n",
       "      <td>nan</td>\n",
       "      <td>nan</td>\n",
       "      <td>16745.00</td>\n",
       "      <td>nan</td>\n",
       "      <td>nan</td>\n",
       "    </tr>\n",
       "    <tr>\n",
       "      <th>35</th>\n",
       "      <td>nan</td>\n",
       "      <td>nan</td>\n",
       "      <td>nan</td>\n",
       "      <td>16919.00</td>\n",
       "      <td>nan</td>\n",
       "      <td>nan</td>\n",
       "    </tr>\n",
       "    <tr>\n",
       "      <th>36</th>\n",
       "      <td>nan</td>\n",
       "      <td>nan</td>\n",
       "      <td>nan</td>\n",
       "      <td>17866.00</td>\n",
       "      <td>nan</td>\n",
       "      <td>nan</td>\n",
       "    </tr>\n",
       "    <tr>\n",
       "      <th>37</th>\n",
       "      <td>nan</td>\n",
       "      <td>nan</td>\n",
       "      <td>nan</td>\n",
       "      <td>18028.00</td>\n",
       "      <td>nan</td>\n",
       "      <td>nan</td>\n",
       "    </tr>\n",
       "    <tr>\n",
       "      <th>38</th>\n",
       "      <td>nan</td>\n",
       "      <td>nan</td>\n",
       "      <td>nan</td>\n",
       "      <td>18711.00</td>\n",
       "      <td>nan</td>\n",
       "      <td>nan</td>\n",
       "    </tr>\n",
       "    <tr>\n",
       "      <th>39</th>\n",
       "      <td>nan</td>\n",
       "      <td>nan</td>\n",
       "      <td>nan</td>\n",
       "      <td>35009.00</td>\n",
       "      <td>nan</td>\n",
       "      <td>nan</td>\n",
       "    </tr>\n",
       "    <tr>\n",
       "      <th>40</th>\n",
       "      <td>nan</td>\n",
       "      <td>nan</td>\n",
       "      <td>nan</td>\n",
       "      <td>36534.00</td>\n",
       "      <td>nan</td>\n",
       "      <td>nan</td>\n",
       "    </tr>\n",
       "    <tr>\n",
       "      <th>41</th>\n",
       "      <td>nan</td>\n",
       "      <td>nan</td>\n",
       "      <td>nan</td>\n",
       "      <td>60869.00</td>\n",
       "      <td>nan</td>\n",
       "      <td>nan</td>\n",
       "    </tr>\n",
       "  </tbody>\n",
       "</table>\n",
       "</div>"
      ],
      "text/plain": [
       "       Fresh     Milk  Grocery   Frozen  Detergents_Paper  Delicatessen\n",
       "0   38793.00 15726.00 23596.00  7849.00           9529.00       4100.00\n",
       "1   39228.00 15729.00 23998.00  7888.00           9606.00       4334.00\n",
       "2   39679.00 16599.00 24708.00  8132.00           9836.00       4365.00\n",
       "3   40254.00 16687.00 24773.00  8164.00           9959.00       4430.00\n",
       "4   40721.00 16729.00 25957.00  8170.00          10069.00       4478.00\n",
       "5   42312.00 16784.00 26316.00  8195.00          11577.00       4626.00\n",
       "6   42786.00 17972.00 26839.00  8321.00          11783.00       4829.00\n",
       "7   43088.00 18664.00 26866.00  8366.00          12034.00       4985.00\n",
       "8   43265.00 20484.00 26870.00  8425.00          12218.00       5120.00\n",
       "9   44466.00 20655.00 28540.00  8620.00          12408.00       5121.00\n",
       "10  45640.00 20959.00 28921.00  8692.00          12420.00       5130.00\n",
       "11  47493.00 21412.00 28986.00  8693.00          12591.00       5137.00\n",
       "12  49063.00 21858.00 30243.00  8853.00          12638.00       5185.00\n",
       "13  53205.00 22044.00 32034.00  8872.00          13308.00       5206.00\n",
       "14  56082.00 23133.00 32114.00  9408.00          13583.00       5609.00\n",
       "15  56083.00 23527.00 33586.00  9510.00          13726.00       5778.00\n",
       "16  56159.00 25071.00 34792.00  9584.00          14235.00       5864.00\n",
       "17  68951.00 25862.00 36486.00  9735.00          14841.00       6250.00\n",
       "18  76237.00 27472.00 39694.00  9806.00          15469.00       6372.00\n",
       "19 112151.00 28326.00 45828.00  9927.00          17120.00       6465.00\n",
       "20       nan 29627.00 55571.00 10002.00          17740.00       6854.00\n",
       "21       nan 29892.00 59598.00 10155.00          18594.00       7844.00\n",
       "22       nan 36423.00 67298.00 10303.00          18906.00       8550.00\n",
       "23       nan 38369.00 92780.00 10643.00          19410.00      14351.00\n",
       "24       nan 43950.00      nan 11422.00          20070.00      14472.00\n",
       "25       nan 46197.00      nan 11559.00          24171.00      16523.00\n",
       "26       nan 54259.00      nan 12569.00          24231.00      47943.00\n",
       "27       nan 73498.00      nan 13135.00          26701.00           nan\n",
       "28       nan      nan      nan 13223.00          38102.00           nan\n",
       "29       nan      nan      nan 13486.00          40827.00           nan\n",
       "30       nan      nan      nan 15082.00               nan           nan\n",
       "31       nan      nan      nan 15348.00               nan           nan\n",
       "32       nan      nan      nan 15601.00               nan           nan\n",
       "33       nan      nan      nan 16538.00               nan           nan\n",
       "34       nan      nan      nan 16745.00               nan           nan\n",
       "35       nan      nan      nan 16919.00               nan           nan\n",
       "36       nan      nan      nan 17866.00               nan           nan\n",
       "37       nan      nan      nan 18028.00               nan           nan\n",
       "38       nan      nan      nan 18711.00               nan           nan\n",
       "39       nan      nan      nan 35009.00               nan           nan\n",
       "40       nan      nan      nan 36534.00               nan           nan\n",
       "41       nan      nan      nan 60869.00               nan           nan"
      ]
     },
     "execution_count": 100,
     "metadata": {},
     "output_type": "execute_result"
    }
   ],
   "source": [
    "df1=pd.DataFrame([Outlier_Fresh])\n",
    "df2=pd.DataFrame([Outlier_Milk])\n",
    "df3=pd.DataFrame([Outlier_Grocery])\n",
    "df4=pd.DataFrame([Outlier_Frozen])\n",
    "df5=pd.DataFrame([Outlier_Detergents_Paper])\n",
    "df6=pd.DataFrame([Outlier_Delicatessen])\n",
    "Outlier=pd.concat([df1,df2,df3,df4,df5,df6],axis=0,sort=False)\n",
    "Outlier.index =['Fresh','Milk','Grocery','Frozen','Detergents_Paper','Delicatessen']\n",
    "Outlier.T"
   ]
  },
  {
   "cell_type": "markdown",
   "metadata": {},
   "source": [
    "###### ANSWER 1.4\n",
    "\n",
    "#####  Yes there are outliers across every product , please refer above plotting supported by following Data -\n",
    "\n",
    "###### 1) There are  20  outliers for product \"Fresh \" is 4.55 % of total and  which are lower than  -17603.0  Or Higher than  37657.0\n",
    "###### 2) There are  28  outliers for product \"Milk \" is 6.36 % of total and which are lower than  -6964.75  Or Higher than  15693.25\n",
    "###### 3) There are  24  outliers for product \"Grocery\" is 5.45 % of total and which are lower than  -10620.75  Or Higher than  23437.25\n",
    "###### 4) There are  42  outliers for product \"Frozen \" is 9.55 % of total and  which are lower than  -3488.0  Or Higher than  7788.0\n",
    "###### 5) There are  30  outliers for product \"Detergents_Paper is\" 6.82 % of total and   which are lower than  -5261.25  Or Higher than  9452.75\n",
    "###### 6) There are  27  outliers for product \"Delicatessen is\" 6.14 % of total and    which are lower than  -1713.5  Or Higher than  3942.5"
   ]
  },
  {
   "cell_type": "markdown",
   "metadata": {},
   "source": [
    "#### 1.5.On the basis of your analysis, what are your recommendations for the business? How can your analysis help the business to solve its problem? Answer from the business perspective"
   ]
  },
  {
   "cell_type": "markdown",
   "metadata": {},
   "source": [
    "### ANSWER 1.5\n",
    "•\tIdentified Regions and Channels with opportunity to improve sell are shown in ‘Table 1.2.5’ And  ‘Table 1.2.5’\n",
    "•\tFurther Data is analysed for the count, central tendency,   5 number summaries, consistency (CV) and skewness outcome of this analysis is detailed in  ‘Table 1.2.3’ and ‘Table 1.2.6’ respectively for  ‘Regions’  and ‘Channels’\n",
    "•\tOutcome of analysis is shown in column (R/G/Y), categorised to distinguish the expected actions.\n",
    "•\t‘Spenders Impacted’ column in  ‘Table 1.2.3’ and ‘Table 1.2.6’ shows the spender count that we have to target  improve the sell by reviewing our offerings, client expectations , commercials, strategy.\n",
    "•\tCurrent spread for all the items across regions / channels is right skewed i.e. most spend is less than the average.  Business Focus on R (Red) categorized findings will shift the spread to right turning the sell Higher.\n",
    "•\tTable 1.3.1 shows the degrees on inconsistency which shows the fluctuating client behaviour or may be some gap in supply chain. This need to be reviewed to improve.\n",
    "•\tOutliers from table Table 1.4.1 and Table 1.4.2 to be reviewed for correctness.\n",
    "•\tThis Analysis should be redone after removing the unexpected outliers.\n"
   ]
  },
  {
   "cell_type": "markdown",
   "metadata": {},
   "source": [
    "### Q2.The Student News Service at Clear Mountain State University (CMSU) has decided to gather data about the undergraduate students that attend CMSU. CMSU creates and distributes a survey of 14 questions and receives responses from 62 undergraduates (stored in the Survey data set)."
   ]
  },
  {
   "cell_type": "code",
   "execution_count": 101,
   "metadata": {},
   "outputs": [],
   "source": [
    "CMSU = pd.read_csv('Survey.csv')"
   ]
  },
  {
   "cell_type": "code",
   "execution_count": 102,
   "metadata": {
    "scrolled": true
   },
   "outputs": [
    {
     "data": {
      "text/html": [
       "<div>\n",
       "<style scoped>\n",
       "    .dataframe tbody tr th:only-of-type {\n",
       "        vertical-align: middle;\n",
       "    }\n",
       "\n",
       "    .dataframe tbody tr th {\n",
       "        vertical-align: top;\n",
       "    }\n",
       "\n",
       "    .dataframe thead th {\n",
       "        text-align: right;\n",
       "    }\n",
       "</style>\n",
       "<table border=\"1\" class=\"dataframe\">\n",
       "  <thead>\n",
       "    <tr style=\"text-align: right;\">\n",
       "      <th></th>\n",
       "      <th>ID</th>\n",
       "      <th>Gender</th>\n",
       "      <th>Age</th>\n",
       "      <th>Class</th>\n",
       "      <th>Major</th>\n",
       "      <th>Grad Intention</th>\n",
       "      <th>GPA</th>\n",
       "      <th>Employment</th>\n",
       "      <th>Salary</th>\n",
       "      <th>Social Networking</th>\n",
       "      <th>Satisfaction</th>\n",
       "      <th>Spending</th>\n",
       "      <th>Computer</th>\n",
       "      <th>Text Messages</th>\n",
       "    </tr>\n",
       "  </thead>\n",
       "  <tbody>\n",
       "    <tr>\n",
       "      <th>0</th>\n",
       "      <td>1</td>\n",
       "      <td>Female</td>\n",
       "      <td>20</td>\n",
       "      <td>Junior</td>\n",
       "      <td>Other</td>\n",
       "      <td>Yes</td>\n",
       "      <td>2.90</td>\n",
       "      <td>Full-Time</td>\n",
       "      <td>50.00</td>\n",
       "      <td>1</td>\n",
       "      <td>3</td>\n",
       "      <td>350</td>\n",
       "      <td>Laptop</td>\n",
       "      <td>200</td>\n",
       "    </tr>\n",
       "    <tr>\n",
       "      <th>1</th>\n",
       "      <td>2</td>\n",
       "      <td>Male</td>\n",
       "      <td>23</td>\n",
       "      <td>Senior</td>\n",
       "      <td>Management</td>\n",
       "      <td>Yes</td>\n",
       "      <td>3.60</td>\n",
       "      <td>Part-Time</td>\n",
       "      <td>25.00</td>\n",
       "      <td>1</td>\n",
       "      <td>4</td>\n",
       "      <td>360</td>\n",
       "      <td>Laptop</td>\n",
       "      <td>50</td>\n",
       "    </tr>\n",
       "    <tr>\n",
       "      <th>2</th>\n",
       "      <td>3</td>\n",
       "      <td>Male</td>\n",
       "      <td>21</td>\n",
       "      <td>Junior</td>\n",
       "      <td>Other</td>\n",
       "      <td>Yes</td>\n",
       "      <td>2.50</td>\n",
       "      <td>Part-Time</td>\n",
       "      <td>45.00</td>\n",
       "      <td>2</td>\n",
       "      <td>4</td>\n",
       "      <td>600</td>\n",
       "      <td>Laptop</td>\n",
       "      <td>200</td>\n",
       "    </tr>\n",
       "    <tr>\n",
       "      <th>3</th>\n",
       "      <td>4</td>\n",
       "      <td>Male</td>\n",
       "      <td>21</td>\n",
       "      <td>Junior</td>\n",
       "      <td>CIS</td>\n",
       "      <td>Yes</td>\n",
       "      <td>2.50</td>\n",
       "      <td>Full-Time</td>\n",
       "      <td>40.00</td>\n",
       "      <td>4</td>\n",
       "      <td>6</td>\n",
       "      <td>600</td>\n",
       "      <td>Laptop</td>\n",
       "      <td>250</td>\n",
       "    </tr>\n",
       "    <tr>\n",
       "      <th>4</th>\n",
       "      <td>5</td>\n",
       "      <td>Male</td>\n",
       "      <td>23</td>\n",
       "      <td>Senior</td>\n",
       "      <td>Other</td>\n",
       "      <td>Undecided</td>\n",
       "      <td>2.80</td>\n",
       "      <td>Unemployed</td>\n",
       "      <td>40.00</td>\n",
       "      <td>2</td>\n",
       "      <td>4</td>\n",
       "      <td>500</td>\n",
       "      <td>Laptop</td>\n",
       "      <td>100</td>\n",
       "    </tr>\n",
       "  </tbody>\n",
       "</table>\n",
       "</div>"
      ],
      "text/plain": [
       "   ID  Gender  Age   Class       Major Grad Intention  GPA  Employment  \\\n",
       "0   1  Female   20  Junior       Other            Yes 2.90   Full-Time   \n",
       "1   2    Male   23  Senior  Management            Yes 3.60   Part-Time   \n",
       "2   3    Male   21  Junior       Other            Yes 2.50   Part-Time   \n",
       "3   4    Male   21  Junior         CIS            Yes 2.50   Full-Time   \n",
       "4   5    Male   23  Senior       Other      Undecided 2.80  Unemployed   \n",
       "\n",
       "   Salary  Social Networking  Satisfaction  Spending Computer  Text Messages  \n",
       "0   50.00                  1             3       350   Laptop            200  \n",
       "1   25.00                  1             4       360   Laptop             50  \n",
       "2   45.00                  2             4       600   Laptop            200  \n",
       "3   40.00                  4             6       600   Laptop            250  \n",
       "4   40.00                  2             4       500   Laptop            100  "
      ]
     },
     "execution_count": 102,
     "metadata": {},
     "output_type": "execute_result"
    }
   ],
   "source": [
    "CMSU.head()"
   ]
  },
  {
   "cell_type": "code",
   "execution_count": 103,
   "metadata": {
    "scrolled": true
   },
   "outputs": [
    {
     "data": {
      "text/html": [
       "<div>\n",
       "<style scoped>\n",
       "    .dataframe tbody tr th:only-of-type {\n",
       "        vertical-align: middle;\n",
       "    }\n",
       "\n",
       "    .dataframe tbody tr th {\n",
       "        vertical-align: top;\n",
       "    }\n",
       "\n",
       "    .dataframe thead th {\n",
       "        text-align: right;\n",
       "    }\n",
       "</style>\n",
       "<table border=\"1\" class=\"dataframe\">\n",
       "  <thead>\n",
       "    <tr style=\"text-align: right;\">\n",
       "      <th></th>\n",
       "      <th>ID</th>\n",
       "      <th>Gender</th>\n",
       "      <th>Age</th>\n",
       "      <th>Class</th>\n",
       "      <th>Major</th>\n",
       "      <th>Grad Intention</th>\n",
       "      <th>GPA</th>\n",
       "      <th>Employment</th>\n",
       "      <th>Salary</th>\n",
       "      <th>Social Networking</th>\n",
       "      <th>Satisfaction</th>\n",
       "      <th>Spending</th>\n",
       "      <th>Computer</th>\n",
       "      <th>Text Messages</th>\n",
       "    </tr>\n",
       "  </thead>\n",
       "  <tbody>\n",
       "    <tr>\n",
       "      <th>count</th>\n",
       "      <td>62.00</td>\n",
       "      <td>62</td>\n",
       "      <td>62.00</td>\n",
       "      <td>62</td>\n",
       "      <td>62</td>\n",
       "      <td>62</td>\n",
       "      <td>62.00</td>\n",
       "      <td>62</td>\n",
       "      <td>62.00</td>\n",
       "      <td>62.00</td>\n",
       "      <td>62.00</td>\n",
       "      <td>62.00</td>\n",
       "      <td>62</td>\n",
       "      <td>62.00</td>\n",
       "    </tr>\n",
       "    <tr>\n",
       "      <th>unique</th>\n",
       "      <td>nan</td>\n",
       "      <td>2</td>\n",
       "      <td>nan</td>\n",
       "      <td>3</td>\n",
       "      <td>8</td>\n",
       "      <td>3</td>\n",
       "      <td>nan</td>\n",
       "      <td>3</td>\n",
       "      <td>nan</td>\n",
       "      <td>nan</td>\n",
       "      <td>nan</td>\n",
       "      <td>nan</td>\n",
       "      <td>3</td>\n",
       "      <td>nan</td>\n",
       "    </tr>\n",
       "    <tr>\n",
       "      <th>top</th>\n",
       "      <td>nan</td>\n",
       "      <td>Female</td>\n",
       "      <td>nan</td>\n",
       "      <td>Senior</td>\n",
       "      <td>Retailing/Marketing</td>\n",
       "      <td>Yes</td>\n",
       "      <td>nan</td>\n",
       "      <td>Part-Time</td>\n",
       "      <td>nan</td>\n",
       "      <td>nan</td>\n",
       "      <td>nan</td>\n",
       "      <td>nan</td>\n",
       "      <td>Laptop</td>\n",
       "      <td>nan</td>\n",
       "    </tr>\n",
       "    <tr>\n",
       "      <th>freq</th>\n",
       "      <td>nan</td>\n",
       "      <td>33</td>\n",
       "      <td>nan</td>\n",
       "      <td>31</td>\n",
       "      <td>14</td>\n",
       "      <td>28</td>\n",
       "      <td>nan</td>\n",
       "      <td>43</td>\n",
       "      <td>nan</td>\n",
       "      <td>nan</td>\n",
       "      <td>nan</td>\n",
       "      <td>nan</td>\n",
       "      <td>55</td>\n",
       "      <td>nan</td>\n",
       "    </tr>\n",
       "    <tr>\n",
       "      <th>mean</th>\n",
       "      <td>31.50</td>\n",
       "      <td>NaN</td>\n",
       "      <td>21.13</td>\n",
       "      <td>NaN</td>\n",
       "      <td>NaN</td>\n",
       "      <td>NaN</td>\n",
       "      <td>3.13</td>\n",
       "      <td>NaN</td>\n",
       "      <td>48.55</td>\n",
       "      <td>1.52</td>\n",
       "      <td>3.74</td>\n",
       "      <td>482.02</td>\n",
       "      <td>NaN</td>\n",
       "      <td>246.21</td>\n",
       "    </tr>\n",
       "    <tr>\n",
       "      <th>std</th>\n",
       "      <td>18.04</td>\n",
       "      <td>NaN</td>\n",
       "      <td>1.43</td>\n",
       "      <td>NaN</td>\n",
       "      <td>NaN</td>\n",
       "      <td>NaN</td>\n",
       "      <td>0.38</td>\n",
       "      <td>NaN</td>\n",
       "      <td>12.08</td>\n",
       "      <td>0.84</td>\n",
       "      <td>1.21</td>\n",
       "      <td>221.95</td>\n",
       "      <td>NaN</td>\n",
       "      <td>214.47</td>\n",
       "    </tr>\n",
       "    <tr>\n",
       "      <th>min</th>\n",
       "      <td>1.00</td>\n",
       "      <td>NaN</td>\n",
       "      <td>18.00</td>\n",
       "      <td>NaN</td>\n",
       "      <td>NaN</td>\n",
       "      <td>NaN</td>\n",
       "      <td>2.30</td>\n",
       "      <td>NaN</td>\n",
       "      <td>25.00</td>\n",
       "      <td>0.00</td>\n",
       "      <td>1.00</td>\n",
       "      <td>100.00</td>\n",
       "      <td>NaN</td>\n",
       "      <td>0.00</td>\n",
       "    </tr>\n",
       "    <tr>\n",
       "      <th>25%</th>\n",
       "      <td>16.25</td>\n",
       "      <td>NaN</td>\n",
       "      <td>20.00</td>\n",
       "      <td>NaN</td>\n",
       "      <td>NaN</td>\n",
       "      <td>NaN</td>\n",
       "      <td>2.90</td>\n",
       "      <td>NaN</td>\n",
       "      <td>40.00</td>\n",
       "      <td>1.00</td>\n",
       "      <td>3.00</td>\n",
       "      <td>312.50</td>\n",
       "      <td>NaN</td>\n",
       "      <td>100.00</td>\n",
       "    </tr>\n",
       "    <tr>\n",
       "      <th>50%</th>\n",
       "      <td>31.50</td>\n",
       "      <td>NaN</td>\n",
       "      <td>21.00</td>\n",
       "      <td>NaN</td>\n",
       "      <td>NaN</td>\n",
       "      <td>NaN</td>\n",
       "      <td>3.15</td>\n",
       "      <td>NaN</td>\n",
       "      <td>50.00</td>\n",
       "      <td>1.00</td>\n",
       "      <td>4.00</td>\n",
       "      <td>500.00</td>\n",
       "      <td>NaN</td>\n",
       "      <td>200.00</td>\n",
       "    </tr>\n",
       "    <tr>\n",
       "      <th>75%</th>\n",
       "      <td>46.75</td>\n",
       "      <td>NaN</td>\n",
       "      <td>22.00</td>\n",
       "      <td>NaN</td>\n",
       "      <td>NaN</td>\n",
       "      <td>NaN</td>\n",
       "      <td>3.40</td>\n",
       "      <td>NaN</td>\n",
       "      <td>55.00</td>\n",
       "      <td>2.00</td>\n",
       "      <td>4.00</td>\n",
       "      <td>600.00</td>\n",
       "      <td>NaN</td>\n",
       "      <td>300.00</td>\n",
       "    </tr>\n",
       "    <tr>\n",
       "      <th>max</th>\n",
       "      <td>62.00</td>\n",
       "      <td>NaN</td>\n",
       "      <td>26.00</td>\n",
       "      <td>NaN</td>\n",
       "      <td>NaN</td>\n",
       "      <td>NaN</td>\n",
       "      <td>3.90</td>\n",
       "      <td>NaN</td>\n",
       "      <td>80.00</td>\n",
       "      <td>4.00</td>\n",
       "      <td>6.00</td>\n",
       "      <td>1400.00</td>\n",
       "      <td>NaN</td>\n",
       "      <td>900.00</td>\n",
       "    </tr>\n",
       "  </tbody>\n",
       "</table>\n",
       "</div>"
      ],
      "text/plain": [
       "          ID  Gender   Age   Class                Major Grad Intention   GPA  \\\n",
       "count  62.00      62 62.00      62                   62             62 62.00   \n",
       "unique   nan       2   nan       3                    8              3   nan   \n",
       "top      nan  Female   nan  Senior  Retailing/Marketing            Yes   nan   \n",
       "freq     nan      33   nan      31                   14             28   nan   \n",
       "mean   31.50     NaN 21.13     NaN                  NaN            NaN  3.13   \n",
       "std    18.04     NaN  1.43     NaN                  NaN            NaN  0.38   \n",
       "min     1.00     NaN 18.00     NaN                  NaN            NaN  2.30   \n",
       "25%    16.25     NaN 20.00     NaN                  NaN            NaN  2.90   \n",
       "50%    31.50     NaN 21.00     NaN                  NaN            NaN  3.15   \n",
       "75%    46.75     NaN 22.00     NaN                  NaN            NaN  3.40   \n",
       "max    62.00     NaN 26.00     NaN                  NaN            NaN  3.90   \n",
       "\n",
       "       Employment  Salary  Social Networking  Satisfaction  Spending Computer  \\\n",
       "count          62   62.00              62.00         62.00     62.00       62   \n",
       "unique          3     nan                nan           nan       nan        3   \n",
       "top     Part-Time     nan                nan           nan       nan   Laptop   \n",
       "freq           43     nan                nan           nan       nan       55   \n",
       "mean          NaN   48.55               1.52          3.74    482.02      NaN   \n",
       "std           NaN   12.08               0.84          1.21    221.95      NaN   \n",
       "min           NaN   25.00               0.00          1.00    100.00      NaN   \n",
       "25%           NaN   40.00               1.00          3.00    312.50      NaN   \n",
       "50%           NaN   50.00               1.00          4.00    500.00      NaN   \n",
       "75%           NaN   55.00               2.00          4.00    600.00      NaN   \n",
       "max           NaN   80.00               4.00          6.00   1400.00      NaN   \n",
       "\n",
       "        Text Messages  \n",
       "count           62.00  \n",
       "unique            nan  \n",
       "top               nan  \n",
       "freq              nan  \n",
       "mean           246.21  \n",
       "std            214.47  \n",
       "min              0.00  \n",
       "25%            100.00  \n",
       "50%            200.00  \n",
       "75%            300.00  \n",
       "max            900.00  "
      ]
     },
     "execution_count": 103,
     "metadata": {},
     "output_type": "execute_result"
    }
   ],
   "source": [
    "CMSU.describe(include='all')"
   ]
  },
  {
   "cell_type": "code",
   "execution_count": 104,
   "metadata": {},
   "outputs": [
    {
     "name": "stdout",
     "output_type": "stream",
     "text": [
      "<class 'pandas.core.frame.DataFrame'>\n",
      "RangeIndex: 62 entries, 0 to 61\n",
      "Data columns (total 14 columns):\n",
      " #   Column             Non-Null Count  Dtype  \n",
      "---  ------             --------------  -----  \n",
      " 0   ID                 62 non-null     int64  \n",
      " 1   Gender             62 non-null     object \n",
      " 2   Age                62 non-null     int64  \n",
      " 3   Class              62 non-null     object \n",
      " 4   Major              62 non-null     object \n",
      " 5   Grad Intention     62 non-null     object \n",
      " 6   GPA                62 non-null     float64\n",
      " 7   Employment         62 non-null     object \n",
      " 8   Salary             62 non-null     float64\n",
      " 9   Social Networking  62 non-null     int64  \n",
      " 10  Satisfaction       62 non-null     int64  \n",
      " 11  Spending           62 non-null     int64  \n",
      " 12  Computer           62 non-null     object \n",
      " 13  Text Messages      62 non-null     int64  \n",
      "dtypes: float64(2), int64(6), object(6)\n",
      "memory usage: 6.9+ KB\n"
     ]
    }
   ],
   "source": [
    "CMSU.info()"
   ]
  },
  {
   "cell_type": "code",
   "execution_count": 105,
   "metadata": {},
   "outputs": [
    {
     "data": {
      "text/plain": [
       "(62, 14)"
      ]
     },
     "execution_count": 105,
     "metadata": {},
     "output_type": "execute_result"
    }
   ],
   "source": [
    "CMSU.shape"
   ]
  },
  {
   "cell_type": "code",
   "execution_count": 106,
   "metadata": {},
   "outputs": [
    {
     "data": {
      "text/plain": [
       "ID                   0\n",
       "Gender               0\n",
       "Age                  0\n",
       "Class                0\n",
       "Major                0\n",
       "Grad Intention       0\n",
       "GPA                  0\n",
       "Employment           0\n",
       "Salary               0\n",
       "Social Networking    0\n",
       "Satisfaction         0\n",
       "Spending             0\n",
       "Computer             0\n",
       "Text Messages        0\n",
       "dtype: int64"
      ]
     },
     "execution_count": 106,
     "metadata": {},
     "output_type": "execute_result"
    }
   ],
   "source": [
    "CMSU.isnull().sum()"
   ]
  },
  {
   "cell_type": "markdown",
   "metadata": {},
   "source": [
    "####  2.1. For this data, construct the following contingency tables (Keep Gender as row variable)"
   ]
  },
  {
   "cell_type": "markdown",
   "metadata": {},
   "source": [
    "##### 2.1.1.Gender and Major"
   ]
  },
  {
   "cell_type": "code",
   "execution_count": 107,
   "metadata": {
    "scrolled": false
   },
   "outputs": [
    {
     "data": {
      "text/html": [
       "<div>\n",
       "<style scoped>\n",
       "    .dataframe tbody tr th:only-of-type {\n",
       "        vertical-align: middle;\n",
       "    }\n",
       "\n",
       "    .dataframe tbody tr th {\n",
       "        vertical-align: top;\n",
       "    }\n",
       "\n",
       "    .dataframe thead th {\n",
       "        text-align: right;\n",
       "    }\n",
       "</style>\n",
       "<table border=\"1\" class=\"dataframe\">\n",
       "  <thead>\n",
       "    <tr style=\"text-align: right;\">\n",
       "      <th>Major</th>\n",
       "      <th>Accounting</th>\n",
       "      <th>CIS</th>\n",
       "      <th>Economics/Finance</th>\n",
       "      <th>International Business</th>\n",
       "      <th>Management</th>\n",
       "      <th>Other</th>\n",
       "      <th>Retailing/Marketing</th>\n",
       "      <th>Undecided</th>\n",
       "      <th>Total</th>\n",
       "    </tr>\n",
       "    <tr>\n",
       "      <th>Gender</th>\n",
       "      <th></th>\n",
       "      <th></th>\n",
       "      <th></th>\n",
       "      <th></th>\n",
       "      <th></th>\n",
       "      <th></th>\n",
       "      <th></th>\n",
       "      <th></th>\n",
       "      <th></th>\n",
       "    </tr>\n",
       "  </thead>\n",
       "  <tbody>\n",
       "    <tr>\n",
       "      <th>Female</th>\n",
       "      <td>3</td>\n",
       "      <td>3</td>\n",
       "      <td>7</td>\n",
       "      <td>4</td>\n",
       "      <td>4</td>\n",
       "      <td>3</td>\n",
       "      <td>9</td>\n",
       "      <td>0</td>\n",
       "      <td>33</td>\n",
       "    </tr>\n",
       "    <tr>\n",
       "      <th>Male</th>\n",
       "      <td>4</td>\n",
       "      <td>1</td>\n",
       "      <td>4</td>\n",
       "      <td>2</td>\n",
       "      <td>6</td>\n",
       "      <td>4</td>\n",
       "      <td>5</td>\n",
       "      <td>3</td>\n",
       "      <td>29</td>\n",
       "    </tr>\n",
       "    <tr>\n",
       "      <th>Total</th>\n",
       "      <td>7</td>\n",
       "      <td>4</td>\n",
       "      <td>11</td>\n",
       "      <td>6</td>\n",
       "      <td>10</td>\n",
       "      <td>7</td>\n",
       "      <td>14</td>\n",
       "      <td>3</td>\n",
       "      <td>62</td>\n",
       "    </tr>\n",
       "  </tbody>\n",
       "</table>\n",
       "</div>"
      ],
      "text/plain": [
       "Major   Accounting  CIS  Economics/Finance  International Business  \\\n",
       "Gender                                                               \n",
       "Female           3    3                  7                       4   \n",
       "Male             4    1                  4                       2   \n",
       "Total            7    4                 11                       6   \n",
       "\n",
       "Major   Management  Other  Retailing/Marketing  Undecided  Total  \n",
       "Gender                                                            \n",
       "Female           4      3                    9          0     33  \n",
       "Male             6      4                    5          3     29  \n",
       "Total           10      7                   14          3     62  "
      ]
     },
     "execution_count": 107,
     "metadata": {},
     "output_type": "execute_result"
    }
   ],
   "source": [
    "pd.crosstab(CMSU['Gender'],CMSU['Major'], margins=True, margins_name='Total')"
   ]
  },
  {
   "cell_type": "markdown",
   "metadata": {},
   "source": [
    "##### 2.1.2.Gender and Grad Intention"
   ]
  },
  {
   "cell_type": "code",
   "execution_count": 108,
   "metadata": {},
   "outputs": [
    {
     "data": {
      "text/html": [
       "<div>\n",
       "<style scoped>\n",
       "    .dataframe tbody tr th:only-of-type {\n",
       "        vertical-align: middle;\n",
       "    }\n",
       "\n",
       "    .dataframe tbody tr th {\n",
       "        vertical-align: top;\n",
       "    }\n",
       "\n",
       "    .dataframe thead th {\n",
       "        text-align: right;\n",
       "    }\n",
       "</style>\n",
       "<table border=\"1\" class=\"dataframe\">\n",
       "  <thead>\n",
       "    <tr style=\"text-align: right;\">\n",
       "      <th>Grad Intention</th>\n",
       "      <th>No</th>\n",
       "      <th>Undecided</th>\n",
       "      <th>Yes</th>\n",
       "      <th>Total</th>\n",
       "    </tr>\n",
       "    <tr>\n",
       "      <th>Gender</th>\n",
       "      <th></th>\n",
       "      <th></th>\n",
       "      <th></th>\n",
       "      <th></th>\n",
       "    </tr>\n",
       "  </thead>\n",
       "  <tbody>\n",
       "    <tr>\n",
       "      <th>Female</th>\n",
       "      <td>9</td>\n",
       "      <td>13</td>\n",
       "      <td>11</td>\n",
       "      <td>33</td>\n",
       "    </tr>\n",
       "    <tr>\n",
       "      <th>Male</th>\n",
       "      <td>3</td>\n",
       "      <td>9</td>\n",
       "      <td>17</td>\n",
       "      <td>29</td>\n",
       "    </tr>\n",
       "    <tr>\n",
       "      <th>Total</th>\n",
       "      <td>12</td>\n",
       "      <td>22</td>\n",
       "      <td>28</td>\n",
       "      <td>62</td>\n",
       "    </tr>\n",
       "  </tbody>\n",
       "</table>\n",
       "</div>"
      ],
      "text/plain": [
       "Grad Intention  No  Undecided  Yes  Total\n",
       "Gender                                   \n",
       "Female           9         13   11     33\n",
       "Male             3          9   17     29\n",
       "Total           12         22   28     62"
      ]
     },
     "execution_count": 108,
     "metadata": {},
     "output_type": "execute_result"
    }
   ],
   "source": [
    "pd.crosstab(CMSU['Gender'],CMSU['Grad Intention'], margins=True, margins_name='Total')"
   ]
  },
  {
   "cell_type": "markdown",
   "metadata": {},
   "source": [
    "#####  2.1.3.Gender and Employment"
   ]
  },
  {
   "cell_type": "code",
   "execution_count": 109,
   "metadata": {
    "scrolled": true
   },
   "outputs": [
    {
     "data": {
      "text/html": [
       "<div>\n",
       "<style scoped>\n",
       "    .dataframe tbody tr th:only-of-type {\n",
       "        vertical-align: middle;\n",
       "    }\n",
       "\n",
       "    .dataframe tbody tr th {\n",
       "        vertical-align: top;\n",
       "    }\n",
       "\n",
       "    .dataframe thead th {\n",
       "        text-align: right;\n",
       "    }\n",
       "</style>\n",
       "<table border=\"1\" class=\"dataframe\">\n",
       "  <thead>\n",
       "    <tr style=\"text-align: right;\">\n",
       "      <th>Employment</th>\n",
       "      <th>Full-Time</th>\n",
       "      <th>Part-Time</th>\n",
       "      <th>Unemployed</th>\n",
       "      <th>Total</th>\n",
       "    </tr>\n",
       "    <tr>\n",
       "      <th>Gender</th>\n",
       "      <th></th>\n",
       "      <th></th>\n",
       "      <th></th>\n",
       "      <th></th>\n",
       "    </tr>\n",
       "  </thead>\n",
       "  <tbody>\n",
       "    <tr>\n",
       "      <th>Female</th>\n",
       "      <td>3</td>\n",
       "      <td>24</td>\n",
       "      <td>6</td>\n",
       "      <td>33</td>\n",
       "    </tr>\n",
       "    <tr>\n",
       "      <th>Male</th>\n",
       "      <td>7</td>\n",
       "      <td>19</td>\n",
       "      <td>3</td>\n",
       "      <td>29</td>\n",
       "    </tr>\n",
       "    <tr>\n",
       "      <th>Total</th>\n",
       "      <td>10</td>\n",
       "      <td>43</td>\n",
       "      <td>9</td>\n",
       "      <td>62</td>\n",
       "    </tr>\n",
       "  </tbody>\n",
       "</table>\n",
       "</div>"
      ],
      "text/plain": [
       "Employment  Full-Time  Part-Time  Unemployed  Total\n",
       "Gender                                             \n",
       "Female              3         24           6     33\n",
       "Male                7         19           3     29\n",
       "Total              10         43           9     62"
      ]
     },
     "execution_count": 109,
     "metadata": {},
     "output_type": "execute_result"
    }
   ],
   "source": [
    "pd.crosstab(CMSU['Gender'],CMSU['Employment'], margins=True, margins_name='Total')"
   ]
  },
  {
   "cell_type": "markdown",
   "metadata": {},
   "source": [
    "##### 2.1.4.Gender and Compute"
   ]
  },
  {
   "cell_type": "code",
   "execution_count": 110,
   "metadata": {},
   "outputs": [
    {
     "data": {
      "text/html": [
       "<div>\n",
       "<style scoped>\n",
       "    .dataframe tbody tr th:only-of-type {\n",
       "        vertical-align: middle;\n",
       "    }\n",
       "\n",
       "    .dataframe tbody tr th {\n",
       "        vertical-align: top;\n",
       "    }\n",
       "\n",
       "    .dataframe thead th {\n",
       "        text-align: right;\n",
       "    }\n",
       "</style>\n",
       "<table border=\"1\" class=\"dataframe\">\n",
       "  <thead>\n",
       "    <tr style=\"text-align: right;\">\n",
       "      <th>Computer</th>\n",
       "      <th>Desktop</th>\n",
       "      <th>Laptop</th>\n",
       "      <th>Tablet</th>\n",
       "      <th>Total</th>\n",
       "    </tr>\n",
       "    <tr>\n",
       "      <th>Gender</th>\n",
       "      <th></th>\n",
       "      <th></th>\n",
       "      <th></th>\n",
       "      <th></th>\n",
       "    </tr>\n",
       "  </thead>\n",
       "  <tbody>\n",
       "    <tr>\n",
       "      <th>Female</th>\n",
       "      <td>2</td>\n",
       "      <td>29</td>\n",
       "      <td>2</td>\n",
       "      <td>33</td>\n",
       "    </tr>\n",
       "    <tr>\n",
       "      <th>Male</th>\n",
       "      <td>3</td>\n",
       "      <td>26</td>\n",
       "      <td>0</td>\n",
       "      <td>29</td>\n",
       "    </tr>\n",
       "    <tr>\n",
       "      <th>Total</th>\n",
       "      <td>5</td>\n",
       "      <td>55</td>\n",
       "      <td>2</td>\n",
       "      <td>62</td>\n",
       "    </tr>\n",
       "  </tbody>\n",
       "</table>\n",
       "</div>"
      ],
      "text/plain": [
       "Computer  Desktop  Laptop  Tablet  Total\n",
       "Gender                                  \n",
       "Female          2      29       2     33\n",
       "Male            3      26       0     29\n",
       "Total           5      55       2     62"
      ]
     },
     "execution_count": 110,
     "metadata": {},
     "output_type": "execute_result"
    }
   ],
   "source": [
    "pd.crosstab(CMSU['Gender'],CMSU['Computer'], margins=True, margins_name='Total')"
   ]
  },
  {
   "cell_type": "markdown",
   "metadata": {},
   "source": [
    "#### 2.2. Assume that the sample is representative of the population of CMSU. Based on the data, answer the following question:"
   ]
  },
  {
   "cell_type": "markdown",
   "metadata": {},
   "source": [
    "##### 2.2.1.What is the probability that a randomly selected CMSU student will be male?"
   ]
  },
  {
   "cell_type": "code",
   "execution_count": 111,
   "metadata": {},
   "outputs": [
    {
     "name": "stdout",
     "output_type": "stream",
     "text": [
      "Male Count is: 29 -- Female Count is: 33 -- probability that a randomly selected CMSU student will be a MALE is:  46.77 %\n"
     ]
    }
   ],
   "source": [
    "Male= CMSU[CMSU['Gender']=='Male']['ID'].count()\n",
    "Female= CMSU[CMSU['Gender']=='Female']['ID'].count()\n",
    "Total_Count=len(CMSU['Gender'])\n",
    "print('Male Count is:',Male, '-- Female Count is:', Female,  '-- probability that a randomly selected CMSU student will be a MALE is: ',   round((Male/Total_Count) * 100,2),'%')"
   ]
  },
  {
   "cell_type": "markdown",
   "metadata": {},
   "source": [
    "###### ANSWER 2.2.1.\n",
    "###### Male Count is: 29 \n",
    "###### Female Count is: 33\n",
    "###### Probability that a randomly selected CMSU student will be a MALE is:   Count of Male / Total Students =29/62 = 46.77 %"
   ]
  },
  {
   "cell_type": "markdown",
   "metadata": {},
   "source": [
    "##### 2.2.2 What is the probability that a randomly selected CMSU student will be female?"
   ]
  },
  {
   "cell_type": "code",
   "execution_count": 112,
   "metadata": {},
   "outputs": [
    {
     "name": "stdout",
     "output_type": "stream",
     "text": [
      "Male Count is: 29 -- Female Count is: 33 -- probability that a randomly selected CMSU student will be a FEMALE is:  53.23 %\n"
     ]
    }
   ],
   "source": [
    "Male= CMSU[CMSU['Gender']=='Male']['ID'].count()\n",
    "Female= CMSU[CMSU['Gender']=='Female']['ID'].count()\n",
    "Total=Male+Female\n",
    "\n",
    "print('Male Count is:',Male, '-- Female Count is:', Female,  '-- probability that a randomly selected CMSU student will be a FEMALE is: ',   round((Female/Total) * 100,2),'%')"
   ]
  },
  {
   "cell_type": "markdown",
   "metadata": {},
   "source": [
    "###### ANSWER 2.2.2.\n",
    "###### Male Count is: 29 \n",
    "###### Female Count is: 33\n",
    "###### Probability that a randomly selected CMSU student will be a FMALE is:  Count of Female / Total Students = 33/62 = 53.23 %"
   ]
  },
  {
   "cell_type": "markdown",
   "metadata": {},
   "source": [
    "#### 2.3.\t Assume that the sample is representative of the population of CMSU. Based on the data, answer the following question:"
   ]
  },
  {
   "cell_type": "markdown",
   "metadata": {},
   "source": [
    "##### 2.3.1.\t Find the conditional probability of different majors among the male students in CMSU."
   ]
  },
  {
   "cell_type": "code",
   "execution_count": 113,
   "metadata": {
    "scrolled": false
   },
   "outputs": [
    {
     "data": {
      "text/html": [
       "<div>\n",
       "<style scoped>\n",
       "    .dataframe tbody tr th:only-of-type {\n",
       "        vertical-align: middle;\n",
       "    }\n",
       "\n",
       "    .dataframe tbody tr th {\n",
       "        vertical-align: top;\n",
       "    }\n",
       "\n",
       "    .dataframe thead th {\n",
       "        text-align: right;\n",
       "    }\n",
       "</style>\n",
       "<table border=\"1\" class=\"dataframe\">\n",
       "  <thead>\n",
       "    <tr style=\"text-align: right;\">\n",
       "      <th>Gender</th>\n",
       "      <th>Male</th>\n",
       "      <th>P (Major ∩ male)/ P(male)</th>\n",
       "    </tr>\n",
       "    <tr>\n",
       "      <th>Major</th>\n",
       "      <th></th>\n",
       "      <th></th>\n",
       "    </tr>\n",
       "  </thead>\n",
       "  <tbody>\n",
       "    <tr>\n",
       "      <th>Accounting</th>\n",
       "      <td>4</td>\n",
       "      <td>0.14</td>\n",
       "    </tr>\n",
       "    <tr>\n",
       "      <th>CIS</th>\n",
       "      <td>1</td>\n",
       "      <td>0.03</td>\n",
       "    </tr>\n",
       "    <tr>\n",
       "      <th>Economics/Finance</th>\n",
       "      <td>4</td>\n",
       "      <td>0.14</td>\n",
       "    </tr>\n",
       "    <tr>\n",
       "      <th>International Business</th>\n",
       "      <td>2</td>\n",
       "      <td>0.07</td>\n",
       "    </tr>\n",
       "    <tr>\n",
       "      <th>Management</th>\n",
       "      <td>6</td>\n",
       "      <td>0.21</td>\n",
       "    </tr>\n",
       "    <tr>\n",
       "      <th>Other</th>\n",
       "      <td>4</td>\n",
       "      <td>0.14</td>\n",
       "    </tr>\n",
       "    <tr>\n",
       "      <th>Retailing/Marketing</th>\n",
       "      <td>5</td>\n",
       "      <td>0.17</td>\n",
       "    </tr>\n",
       "    <tr>\n",
       "      <th>Undecided</th>\n",
       "      <td>3</td>\n",
       "      <td>0.10</td>\n",
       "    </tr>\n",
       "  </tbody>\n",
       "</table>\n",
       "</div>"
      ],
      "text/plain": [
       "Gender                  Male  P (Major ∩ male)/ P(male)\n",
       "Major                                                  \n",
       "Accounting                 4                       0.14\n",
       "CIS                        1                       0.03\n",
       "Economics/Finance          4                       0.14\n",
       "International Business     2                       0.07\n",
       "Management                 6                       0.21\n",
       "Other                      4                       0.14\n",
       "Retailing/Marketing        5                       0.17\n",
       "Undecided                  3                       0.10"
      ]
     },
     "execution_count": 113,
     "metadata": {},
     "output_type": "execute_result"
    }
   ],
   "source": [
    "df_male= pd.crosstab(CMSU['Gender'],CMSU['Major'], margins=False, margins_name='Total')\n",
    "Male_count= CMSU[CMSU['Gender']=='Male']['ID'].count()\n",
    "df_male_maj_prob= df_male.T.drop('Female', axis=1 )\n",
    "df_male_maj_prob['P (Major ∩ male)/ P(male)']=df_male_maj_prob['Male']/Male_count\n",
    "df_male_maj_prob"
   ]
  },
  {
   "cell_type": "markdown",
   "metadata": {},
   "source": [
    "### ANSWER 2.3.1.\n",
    "\n",
    "#### conditional probability of different majors among the male students in CMSU = P (Major | male) = P (Major ∩ male)/ P(male)\n",
    "\n",
    "                              Male \tP (Major ∩ male)/ P(male)\n",
    "\n",
    "                    Accounting \t4 \t0.14\n",
    "                           CIS \t1     0.03\n",
    "             Economics/Finance \t4 \t0.14\n",
    "        International Business \t2 \t0.07\n",
    "                    Management \t6 \t0.21\n",
    "                         Other \t4 \t0.14\n",
    "           Retailing/Marketing \t5 \t0.17\n",
    "                     Undecided \t3 \t0.10"
   ]
  },
  {
   "cell_type": "markdown",
   "metadata": {},
   "source": [
    "##### 2.3.2.\tFind the conditional probability of different majors among the female students of CMSU."
   ]
  },
  {
   "cell_type": "markdown",
   "metadata": {},
   "source": [
    "P (Major | female) = P (Major ∩ female)/ P(female)"
   ]
  },
  {
   "cell_type": "code",
   "execution_count": 114,
   "metadata": {},
   "outputs": [
    {
     "data": {
      "text/html": [
       "<div>\n",
       "<style scoped>\n",
       "    .dataframe tbody tr th:only-of-type {\n",
       "        vertical-align: middle;\n",
       "    }\n",
       "\n",
       "    .dataframe tbody tr th {\n",
       "        vertical-align: top;\n",
       "    }\n",
       "\n",
       "    .dataframe thead th {\n",
       "        text-align: right;\n",
       "    }\n",
       "</style>\n",
       "<table border=\"1\" class=\"dataframe\">\n",
       "  <thead>\n",
       "    <tr style=\"text-align: right;\">\n",
       "      <th>Gender</th>\n",
       "      <th>Female</th>\n",
       "      <th>P (Major ∩ female)/ P(female))</th>\n",
       "    </tr>\n",
       "    <tr>\n",
       "      <th>Major</th>\n",
       "      <th></th>\n",
       "      <th></th>\n",
       "    </tr>\n",
       "  </thead>\n",
       "  <tbody>\n",
       "    <tr>\n",
       "      <th>Accounting</th>\n",
       "      <td>3</td>\n",
       "      <td>0.09</td>\n",
       "    </tr>\n",
       "    <tr>\n",
       "      <th>CIS</th>\n",
       "      <td>3</td>\n",
       "      <td>0.09</td>\n",
       "    </tr>\n",
       "    <tr>\n",
       "      <th>Economics/Finance</th>\n",
       "      <td>7</td>\n",
       "      <td>0.21</td>\n",
       "    </tr>\n",
       "    <tr>\n",
       "      <th>International Business</th>\n",
       "      <td>4</td>\n",
       "      <td>0.12</td>\n",
       "    </tr>\n",
       "    <tr>\n",
       "      <th>Management</th>\n",
       "      <td>4</td>\n",
       "      <td>0.12</td>\n",
       "    </tr>\n",
       "    <tr>\n",
       "      <th>Other</th>\n",
       "      <td>3</td>\n",
       "      <td>0.09</td>\n",
       "    </tr>\n",
       "    <tr>\n",
       "      <th>Retailing/Marketing</th>\n",
       "      <td>9</td>\n",
       "      <td>0.27</td>\n",
       "    </tr>\n",
       "    <tr>\n",
       "      <th>Undecided</th>\n",
       "      <td>0</td>\n",
       "      <td>0.00</td>\n",
       "    </tr>\n",
       "  </tbody>\n",
       "</table>\n",
       "</div>"
      ],
      "text/plain": [
       "Gender                  Female   P (Major ∩ female)/ P(female))\n",
       "Major                                                          \n",
       "Accounting                   3                             0.09\n",
       "CIS                          3                             0.09\n",
       "Economics/Finance            7                             0.21\n",
       "International Business       4                             0.12\n",
       "Management                   4                             0.12\n",
       "Other                        3                             0.09\n",
       "Retailing/Marketing          9                             0.27\n",
       "Undecided                    0                             0.00"
      ]
     },
     "execution_count": 114,
     "metadata": {},
     "output_type": "execute_result"
    }
   ],
   "source": [
    "df_female= pd.crosstab(CMSU['Gender'],CMSU['Major'], margins=False, margins_name='Total')\n",
    "Female_count= CMSU[CMSU['Gender']=='Female']['ID'].count()\n",
    "df_female_maj_prob= df_female.T.drop('Male', axis=1 )\n",
    "df_female_maj_prob[' P (Major ∩ female)/ P(female))']= round(df_female_maj_prob['Female']/Female_count,4)\n",
    "df_female_maj_prob"
   ]
  },
  {
   "cell_type": "markdown",
   "metadata": {},
   "source": [
    "### ANSWER 2.3.2.\n",
    "#### conditional probability of different majors among the female students of CMSU = P (Major ∩ female)/ P(female))\n",
    "\n",
    "\n",
    "                        Female \tP (Major ∩ female)/ P(female))\n",
    "                Accounting \t3 \t0.09\n",
    "                       CIS \t3 \t0.09\n",
    "           onomics/Finance \t7 \t0.21\n",
    "    International Business \t4 \t0.12\n",
    "                Management \t4 \t0.12\n",
    "                     Other \t3 \t0.09\n",
    "       Retailing/Marketing \t9 \t0.27\n",
    "                 Undecided \t0 \t0.00"
   ]
  },
  {
   "cell_type": "markdown",
   "metadata": {},
   "source": [
    "#### 2.4.\t Assume that the sample is a representative of the population of CMSU. Based on the data, answer the following question:"
   ]
  },
  {
   "cell_type": "markdown",
   "metadata": {},
   "source": [
    "##### 2.4.1.\t Find the probability That a randomly chosen student is a male and intends to graduate."
   ]
  },
  {
   "cell_type": "code",
   "execution_count": 115,
   "metadata": {},
   "outputs": [
    {
     "name": "stdout",
     "output_type": "stream",
     "text": [
      "P(Grad Intention ∩ Male) = P (Grad Intention| Male) x P (male)=  0.27\n"
     ]
    }
   ],
   "source": [
    "Male_count= CMSU[CMSU['Gender']=='Male']['ID'].count()\n",
    "P_male=Male_count /len(CMSU['Gender'])\n",
    "Male_Grad_Intention_Yes= CMSU[(CMSU['Gender']=='Male') & (CMSU['Grad Intention']=='Yes')]['ID'].count()\n",
    "print(\"P(Grad Intention ∩ Male) = P (Grad Intention| Male) x P (male)= \",round((Male_Grad_Intention_Yes/Male_count) * P_male,2))"
   ]
  },
  {
   "cell_type": "markdown",
   "metadata": {},
   "source": [
    "### ANSWER 2.4.1.\n",
    "\n",
    "#####  probability That a randomly chosen student is a male and intends to graduate is -\n",
    "##### P(Grad Intention ∩ Male) = P (Grad Intention| Male) x P (male) = 17/29 * 29/62 = 0.27\n",
    "\n"
   ]
  },
  {
   "cell_type": "markdown",
   "metadata": {},
   "source": [
    "##### 2.4.2.\t Find the probability that a randomly selected student is a female and does NOT have a laptop. "
   ]
  },
  {
   "cell_type": "code",
   "execution_count": 116,
   "metadata": {},
   "outputs": [
    {
     "name": "stdout",
     "output_type": "stream",
     "text": [
      "P(other than Laptop ∩ Female) = (1 - P (Laptop| Female)) x P (Female)    0.0645\n"
     ]
    }
   ],
   "source": [
    "Female_count= CMSU[CMSU['Gender']=='Female']['ID'].count()\n",
    "P_Female=Female_count /len(CMSU['Gender'])\n",
    "Female_Laptop_Yes= CMSU[(CMSU['Gender']=='Female') & (CMSU['Computer']=='Laptop')]['ID'].count()\n",
    "print(\"P(other than Laptop ∩ Female) = (1 - P (Laptop| Female)) x P (Female)   \",round((1- Female_Laptop_Yes/Female_count) * P_Female,4))"
   ]
  },
  {
   "cell_type": "markdown",
   "metadata": {},
   "source": [
    "### ANSWER 2.4.2.\n",
    "\n",
    "#####  probability that a randomly selected student is a female and does NOT have a laptop -\n",
    "##### P(other than Laptop ∩ Female) = (1 - P (Laptop| Female)) x P (Female) =  (1- 29/33 )* 33/62 = 0.0645"
   ]
  },
  {
   "cell_type": "markdown",
   "metadata": {},
   "source": [
    "#### 2.5.\t Assume that the sample is representative of the population of CMSU. Based on the data, answer the following question:"
   ]
  },
  {
   "cell_type": "markdown",
   "metadata": {},
   "source": [
    "##### 2.5.1.\t Find the probability that a randomly chosen student is a male or has full-time employment?"
   ]
  },
  {
   "cell_type": "code",
   "execution_count": 117,
   "metadata": {
    "scrolled": false
   },
   "outputs": [
    {
     "name": "stdout",
     "output_type": "stream",
     "text": [
      "P(Male U full-time)= P(Male) + P(Full-Time) -P(Male ∩ Full-Time) ==  0.516\n"
     ]
    }
   ],
   "source": [
    "Male_count= CMSU[CMSU['Gender']=='Male']['ID'].count()\n",
    "P_Male=Male_count /len(CMSU['Gender'])\n",
    "P_Full_time= (CMSU[(CMSU['Employment']=='Full-Time')]['ID'].count())/len(CMSU['Gender'])\n",
    "Male_Full_time = (CMSU[(CMSU['Gender']=='Male') & (CMSU['Employment']=='Full-Time')]['ID'].count())/len(CMSU['Gender'])\n",
    "print(\"P(Male U full-time)= P(Male) + P(Full-Time) -P(Male ∩ Full-Time) == \", round(P_Male+P_Full_time-Male_Full_time,3))\n"
   ]
  },
  {
   "cell_type": "markdown",
   "metadata": {},
   "source": [
    "### ANSWER 2.5.1.\n",
    "\n",
    "#####  probability that a randomly chosen student is a male or has full-time employment-\n",
    "##### P(Male U full-time)= P(Male) + P(Full-Time) -P(Male ∩ Full-Time) =  (29/62 + 10/62 - 7/62 ) = 0.516"
   ]
  },
  {
   "cell_type": "markdown",
   "metadata": {},
   "source": [
    "##### 2.5.2.\t Find the conditional probability that given a female student is randomly chosen, she is majoring in international business or management."
   ]
  },
  {
   "cell_type": "code",
   "execution_count": 118,
   "metadata": {},
   "outputs": [
    {
     "name": "stdout",
     "output_type": "stream",
     "text": [
      "P(International Business U Management) / Female = P(International Business/Female) + P(Management/Female) ==  0.242\n"
     ]
    }
   ],
   "source": [
    "Female_count= CMSU[CMSU['Gender']=='Female']['ID'].count()\n",
    "Female_International_Business = (CMSU[(CMSU['Gender']=='Female') & (CMSU['Major']=='International Business')]['ID'].count())/Female_count\n",
    "Female_Management = (CMSU[(CMSU['Gender']=='Female') & (CMSU['Major']=='Management')]['ID'].count())/Female_count\n",
    "print(\"P(International Business U Management) / Female = P(International Business/Female) + P(Management/Female) == \", round(Female_International_Business+Female_Management,3))"
   ]
  },
  {
   "cell_type": "markdown",
   "metadata": {},
   "source": [
    "### ANSWER 2.5.2.\n",
    "\n",
    "#####  probability that given a female student is randomly chosen, she is majoring in international business or management.-\n",
    "##### P(International Business U Management) / Female = P(International Business/Female) + P(Management/Female) =  4/33 + 4/33= 0.242"
   ]
  },
  {
   "cell_type": "markdown",
   "metadata": {},
   "source": [
    "#### 2.6.\tConstruct a contingency table of Gender and Intent to Graduate at 2 levels (Yes/No). The Undecided students are not considered now and the table is a 2x2 table. Do you think the graduate intention and being female are independent events?"
   ]
  },
  {
   "cell_type": "code",
   "execution_count": 119,
   "metadata": {},
   "outputs": [
    {
     "data": {
      "text/html": [
       "<div>\n",
       "<style scoped>\n",
       "    .dataframe tbody tr th:only-of-type {\n",
       "        vertical-align: middle;\n",
       "    }\n",
       "\n",
       "    .dataframe tbody tr th {\n",
       "        vertical-align: top;\n",
       "    }\n",
       "\n",
       "    .dataframe thead th {\n",
       "        text-align: right;\n",
       "    }\n",
       "</style>\n",
       "<table border=\"1\" class=\"dataframe\">\n",
       "  <thead>\n",
       "    <tr style=\"text-align: right;\">\n",
       "      <th>Grad Intention</th>\n",
       "      <th>No</th>\n",
       "      <th>Undecided</th>\n",
       "      <th>Yes</th>\n",
       "    </tr>\n",
       "    <tr>\n",
       "      <th>Gender</th>\n",
       "      <th></th>\n",
       "      <th></th>\n",
       "      <th></th>\n",
       "    </tr>\n",
       "  </thead>\n",
       "  <tbody>\n",
       "    <tr>\n",
       "      <th>Female</th>\n",
       "      <td>9</td>\n",
       "      <td>13</td>\n",
       "      <td>11</td>\n",
       "    </tr>\n",
       "    <tr>\n",
       "      <th>Male</th>\n",
       "      <td>3</td>\n",
       "      <td>9</td>\n",
       "      <td>17</td>\n",
       "    </tr>\n",
       "  </tbody>\n",
       "</table>\n",
       "</div>"
      ],
      "text/plain": [
       "Grad Intention  No  Undecided  Yes\n",
       "Gender                            \n",
       "Female           9         13   11\n",
       "Male             3          9   17"
      ]
     },
     "execution_count": 119,
     "metadata": {},
     "output_type": "execute_result"
    }
   ],
   "source": [
    "pd.crosstab(CMSU['Gender'],CMSU['Grad Intention'])"
   ]
  },
  {
   "cell_type": "code",
   "execution_count": 120,
   "metadata": {
    "scrolled": false
   },
   "outputs": [
    {
     "name": "stdout",
     "output_type": "stream",
     "text": [
      "P(Grad Intention ∩ Female) = P (Grad Intention| Female) x P (Female)=  0.18\n"
     ]
    }
   ],
   "source": [
    "Female_count= CMSU[CMSU['Gender']=='Female']['ID'].count()\n",
    "P_Female=Female_count /len(CMSU['Gender'])\n",
    "Female_Grad_Intention_Yes= CMSU[(CMSU['Gender']=='Female') & (CMSU['Grad Intention']=='Yes')]['ID'].count()\n",
    "print(\"P(Grad Intention ∩ Female) = P (Grad Intention| Female) x P (Female)= \",round((Female_Grad_Intention_Yes/Female_count)* P_Female,2))"
   ]
  },
  {
   "cell_type": "code",
   "execution_count": 121,
   "metadata": {},
   "outputs": [
    {
     "data": {
      "text/html": [
       "<div>\n",
       "<style scoped>\n",
       "    .dataframe tbody tr th:only-of-type {\n",
       "        vertical-align: middle;\n",
       "    }\n",
       "\n",
       "    .dataframe tbody tr th {\n",
       "        vertical-align: top;\n",
       "    }\n",
       "\n",
       "    .dataframe thead th {\n",
       "        text-align: right;\n",
       "    }\n",
       "</style>\n",
       "<table border=\"1\" class=\"dataframe\">\n",
       "  <thead>\n",
       "    <tr style=\"text-align: right;\">\n",
       "      <th>Grad Intention</th>\n",
       "      <th>No</th>\n",
       "      <th>Yes</th>\n",
       "    </tr>\n",
       "    <tr>\n",
       "      <th>Gender</th>\n",
       "      <th></th>\n",
       "      <th></th>\n",
       "    </tr>\n",
       "  </thead>\n",
       "  <tbody>\n",
       "    <tr>\n",
       "      <th>Female</th>\n",
       "      <td>9</td>\n",
       "      <td>11</td>\n",
       "    </tr>\n",
       "    <tr>\n",
       "      <th>Male</th>\n",
       "      <td>3</td>\n",
       "      <td>17</td>\n",
       "    </tr>\n",
       "  </tbody>\n",
       "</table>\n",
       "</div>"
      ],
      "text/plain": [
       "Grad Intention  No  Yes\n",
       "Gender                 \n",
       "Female           9   11\n",
       "Male             3   17"
      ]
     },
     "execution_count": 121,
     "metadata": {},
     "output_type": "execute_result"
    }
   ],
   "source": [
    "pd.crosstab(CMSU['Gender'] ,CMSU['Grad Intention']).drop(['Undecided'],axis=1)"
   ]
  },
  {
   "cell_type": "code",
   "execution_count": 122,
   "metadata": {},
   "outputs": [
    {
     "name": "stdout",
     "output_type": "stream",
     "text": [
      "P(Grad Intention ∩ Female) = P (Grad Intention| Female) x P (Female)=  Gender\n",
      "Female   0.28\n",
      "dtype: float64\n"
     ]
    }
   ],
   "source": [
    "df1= (pd.crosstab(CMSU['Gender'] ,CMSU['Grad Intention']).drop(['Undecided'],axis=1))\n",
    "Total_count=df1['Yes'].sum()+ df1['No'].sum()\n",
    "df1= (pd.crosstab(CMSU['Gender'] ,CMSU['Grad Intention']).drop(['Undecided'],axis=1)).drop('Male', axis=0)\n",
    "Female_count=df1['Yes']+df1['No']\n",
    "P_Female=Female_count /Total_count\n",
    "Female_Grad_Intention_Yes= df1['Yes']\n",
    "print(\"P(Grad Intention ∩ Female) = P (Grad Intention| Female) x P (Female)= \",round((Female_Grad_Intention_Yes/Female_count)* P_Female,2))"
   ]
  },
  {
   "cell_type": "markdown",
   "metadata": {},
   "source": [
    "### ANSWER 2.6.\n",
    "\n",
    "\n",
    "##### The graduate intention and being female are not independent events which is evident from the following outcome from the given data\n",
    "\n",
    "#####  Probability  that a Female is selected and she intends to Gratuate  while 'undecided' category considered was 0.18\n",
    "#####  Probability  that a Female is selected and she intends to Gratuate  Without  'undecided' onsidered increased to 0.28"
   ]
  },
  {
   "cell_type": "markdown",
   "metadata": {},
   "source": [
    "#### 2.7.\tNote that there are four numerical (continuous) variables in the data set, GPA, Salary, Spending, and Text Messages."
   ]
  },
  {
   "cell_type": "markdown",
   "metadata": {},
   "source": [
    "##### 2.7.1.\tIf a student is chosen randomly, what is the probability that his/her GPA is less than 3?\n"
   ]
  },
  {
   "cell_type": "code",
   "execution_count": 124,
   "metadata": {},
   "outputs": [
    {
     "name": "stdout",
     "output_type": "stream",
     "text": [
      "If a student is chosen randomly,  the probability that his/her GPA is less than 3 is  27.419\n"
     ]
    }
   ],
   "source": [
    "# Count of GPA\n",
    "n=len(CMSU['GPA']) \n",
    "# inclusive is set as False as we want less than 3 GPA\n",
    "is_between1 = CMSU['GPA'].between(0, 3, inclusive=False ) \n",
    "# Count of GPA less than 3 occurances\n",
    "m=len(CMSU[is_between1])\n",
    "print('If a student is chosen randomly,  the probability that his/her GPA is less than 3 is ',round((m/n)* 100,3))"
   ]
  },
  {
   "cell_type": "markdown",
   "metadata": {},
   "source": [
    "### ANSWER 2.7.1\n",
    "\n",
    "\n",
    "##### If a student is chosen randomly, then the probability that his/her GPA is less than 3 is 27.419"
   ]
  },
  {
   "cell_type": "markdown",
   "metadata": {},
   "source": [
    "##### 2.7.2.\t Find the conditional probability that a randomly selected male earns 50 or more. Find the conditional probability that a randomly selected female earns 50 or more."
   ]
  },
  {
   "cell_type": "code",
   "execution_count": 125,
   "metadata": {
    "scrolled": false
   },
   "outputs": [
    {
     "name": "stdout",
     "output_type": "stream",
     "text": [
      "conditional probability that a randomly selected male earns 50 or more is (count of Male with salary >= 50 /total Male Count) 0.483\n",
      "conditional probability that a randomly selected Female earns 50 or more is (count of Female with salary >= 50 /total Female Count) 0.545\n"
     ]
    }
   ],
   "source": [
    "CMSU_Male = CMSU[CMSU['Gender'] == 'Male']\n",
    "CMSU_Female = CMSU[CMSU['Gender'] == 'Female']\n",
    "n=len(CMSU_Male['Salary'])\n",
    "is_between1 = CMSU_Male['Salary'].between(50, CMSU_Male['Salary'].max(), inclusive=True )\n",
    "m=len(CMSU_Male[is_between1])\n",
    "print('conditional probability that a randomly selected male earns 50 or more is (count of Male with salary >= 50 /total Male Count)',\n",
    "      round((m/n),3))\n",
    "n=len(CMSU_Female['Salary'])\n",
    "is_between1 = CMSU_Female['Salary'].between(50, CMSU_Female['Salary'].max(), inclusive=True )\n",
    "m=len(CMSU_Female[is_between1])\n",
    "\n",
    "print('conditional probability that a randomly selected Female earns 50 or more is (count of Female with salary >= 50 /total Female Count)',\n",
    "      round((m/n),3))"
   ]
  },
  {
   "cell_type": "markdown",
   "metadata": {},
   "source": [
    "### ANSWER 2.7.2\n",
    "\n",
    "#####  Conditional probability that a randomly selected Male earns 50 or more. \n",
    "\n",
    "###### count of Male with salary >= 50  =  14\n",
    "###### count of Male                    =  29\n",
    "###### conditional probability that a randomly selected male earns 50 or more is == 0.483\n",
    "\n",
    "#####  Conditional probability that a randomly selected Female earns 50 or more. \n",
    "\n",
    "###### count of Male with salary >= 50  =  18\n",
    "###### count of Male                    =  33\n",
    "###### conditional probability that a randomly selected male earns 50 or more is == 0.545"
   ]
  },
  {
   "cell_type": "markdown",
   "metadata": {},
   "source": [
    "#### 2.8.\t Note that there are four numerical (continuous) variables in the data set, GPA, Salary, Spending, and Text Messages. For each of them comment whether they follow a normal distribution. Write a note summarizing your conclusions for this whole Problem 2."
   ]
  },
  {
   "cell_type": "markdown",
   "metadata": {},
   "source": [
    "##  CMSU['GPA'] HISTOGRAM"
   ]
  },
  {
   "cell_type": "code",
   "execution_count": 126,
   "metadata": {},
   "outputs": [
    {
     "data": {
      "text/plain": [
       "<AxesSubplot:xlabel='GPA', ylabel='Density'>"
      ]
     },
     "execution_count": 126,
     "metadata": {},
     "output_type": "execute_result"
    },
    {
     "data": {
      "image/png": "[encoded data removed]",
      "text/plain": [
       "<Figure size 432x288 with 1 Axes>"
      ]
     },
     "metadata": {
      "needs_background": "light"
     },
     "output_type": "display_data"
    }
   ],
   "source": [
    "sns.distplot(CMSU['GPA'])"
   ]
  },
  {
   "cell_type": "markdown",
   "metadata": {},
   "source": [
    "### Histogram Review for CMSU['GPA'] Shows -\n",
    "#### 1) 2 Peaks\n",
    "#### 2) Left Skewness\n",
    "#### 3) It doesnt Show a perfect 'Bell Curve'"
   ]
  },
  {
   "cell_type": "markdown",
   "metadata": {},
   "source": [
    "##  CMSU['GPA'] 5 Number Summary"
   ]
  },
  {
   "cell_type": "code",
   "execution_count": 127,
   "metadata": {},
   "outputs": [
    {
     "data": {
      "text/plain": [
       "count   62.00\n",
       "mean     3.13\n",
       "std      0.38\n",
       "min      2.30\n",
       "25%      2.90\n",
       "50%      3.15\n",
       "75%      3.40\n",
       "max      3.90\n",
       "Name: GPA, dtype: float64"
      ]
     },
     "execution_count": 127,
     "metadata": {},
     "output_type": "execute_result"
    }
   ],
   "source": [
    "CMSU['GPA'].describe(include='all')"
   ]
  },
  {
   "cell_type": "markdown",
   "metadata": {},
   "source": [
    "### CMSU['GPA'] review of 5 number Summary Suggests that -\n",
    "  ##### Disribution is  Left skewed  -\n",
    "        (Q1 - Min) which is 0.60  > Max - Q3 which is 0.50 \n",
    "  ##### Following points  upport the symmetry -\n",
    "        (Q2 - Min ) which is 0.75 =  (Max - Q2) which is 0.75\n",
    "        (Q2 - Q1 ) which is 0.25 = (Q3 - Q2 ) which is 0.25\n",
    "        \n",
    "   ##### Let's review the Box plot as second level of verification to Confirm the Skewness -     "
   ]
  },
  {
   "cell_type": "markdown",
   "metadata": {},
   "source": [
    "##  CMSU['GPA'] BOXPLOT"
   ]
  },
  {
   "cell_type": "code",
   "execution_count": 128,
   "metadata": {
    "scrolled": false
   },
   "outputs": [
    {
     "data": {
      "image/png": "[encoded data removed]",
      "text/plain": [
       "<Figure size 432x288 with 1 Axes>"
      ]
     },
     "metadata": {
      "needs_background": "light"
     },
     "output_type": "display_data"
    }
   ],
   "source": [
    "sns.boxplot(x=CMSU['GPA'])\n",
    "plt.grid()"
   ]
  },
  {
   "cell_type": "markdown",
   "metadata": {},
   "source": [
    "### CMSU['GPA'] review of Boxplot Suggests that -\n",
    "\n",
    "#### 1) There are No outliers\n",
    "#### 2) Distribution is LeftSkewed due to longer Left Whisker\n"
   ]
  },
  {
   "cell_type": "markdown",
   "metadata": {},
   "source": [
    "## CMSU['GPA']  Empirical Rule"
   ]
  },
  {
   "cell_type": "code",
   "execution_count": 129,
   "metadata": {},
   "outputs": [
    {
     "name": "stdout",
     "output_type": "stream",
     "text": [
      "Number of Mean + 1 Sigma occurances should be  21.08 where as they are  24\n",
      "Number of Mean - 1 Sigma occurances should be  21.08 where as they are  21\n",
      "Number of Mean + 2 Sigma occurances should be  29.45 where as they are  30\n",
      "Number of Mean - 2 Sigma occurances should be  29.45 where as they are  30\n",
      "Number of Mean + 3 Sigma occurances should be  30.907 where as they are  31\n",
      "Number of Mean - 3 Sigma occurances should be  30.907 where as they are  31\n"
     ]
    }
   ],
   "source": [
    "x_1std= CMSU['GPA'].mean() + (1 * CMSU['GPA'].std())\n",
    "y_1std= CMSU['GPA'].mean() - (1 * CMSU['GPA'].std())\n",
    "x_2std= CMSU['GPA'].mean() + (2 * CMSU['GPA'].std())\n",
    "y_2std= CMSU['GPA'].mean() - (2 * CMSU['GPA'].std())\n",
    "x_3std= CMSU['GPA'].mean() + (3 * CMSU['GPA'].std())\n",
    "y_3std= CMSU['GPA'].mean() - (3 * CMSU['GPA'].std())\n",
    "\n",
    "Sample_size=len(CMSU['GPA'])\n",
    "\n",
    "is_between11 = CMSU['GPA'].between(CMSU['GPA'].mean(),x_1std, inclusive=False )\n",
    "Level11=len(CMSU[is_between11])\n",
    "is_between12 = CMSU['GPA'].between(y_1std,CMSU['GPA'].mean(), inclusive=False )\n",
    "Level12=len(CMSU[is_between12]) \n",
    "\n",
    "is_between21 = CMSU['GPA'].between(CMSU['GPA'].mean(),x_2std, inclusive=False )\n",
    "Level21=len(CMSU[is_between21])\n",
    "is_between22 = CMSU['GPA'].between(y_2std,CMSU['GPA'].mean(), inclusive=False )\n",
    "Level22=len(CMSU[is_between22])\n",
    "\n",
    "is_between31 = CMSU['GPA'].between(CMSU['GPA'].mean(),x_3std, inclusive=False )\n",
    "Level31=len(CMSU[is_between31])\n",
    "is_between32 = CMSU['GPA'].between(y_3std,CMSU['GPA'].mean(), inclusive=False )\n",
    "Level32=len(CMSU[is_between32])\n",
    "\n",
    "print('Number of Mean + 1 Sigma occurances should be ', round((Sample_size * .68/2),3) , 'where as they are ',  Level11)\n",
    "print('Number of Mean - 1 Sigma occurances should be ', round((Sample_size * .68/2),3) , 'where as they are ',  Level12)\n",
    "print('Number of Mean + 2 Sigma occurances should be ', round((Sample_size * .95/2),3) , 'where as they are ',  Level21)\n",
    "print('Number of Mean - 2 Sigma occurances should be ', round((Sample_size * .95/2),3) , 'where as they are ',  Level22)\n",
    "print('Number of Mean + 3 Sigma occurances should be ', round((Sample_size * .997/2),3) , 'where as they are ',  Level31)\n",
    "print('Number of Mean - 3 Sigma occurances should be ', round((Sample_size * .997/2),3) , 'where as they are ',  Level32)"
   ]
  },
  {
   "cell_type": "markdown",
   "metadata": {},
   "source": [
    "### CMSU['GPA'] review of Empirical Rule suggest that -\n",
    "\n",
    "#### 1) '1 standard deviation' from Mean is assymetrical (Left Skewed)\n",
    "#### 1) '2 standard deviation' from Mean is approximate symmetrical\n",
    "#### 1) '3 standard deviation' from Mean is approximate symmetrical"
   ]
  },
  {
   "cell_type": "markdown",
   "metadata": {},
   "source": [
    "##  CMSU['GPA'] mean,median and mode"
   ]
  },
  {
   "cell_type": "code",
   "execution_count": 130,
   "metadata": {
    "scrolled": true
   },
   "outputs": [
    {
     "name": "stdout",
     "output_type": "stream",
     "text": [
      "Mean = 3.129032258064516 Median = 3.1500000000000004 Mode = 3.1666666666666665\n"
     ]
    }
   ],
   "source": [
    "a=CMSU['GPA'].mean()\n",
    "b=CMSU['GPA'].median()\n",
    "c=CMSU['GPA'].mode().mean()\n",
    "print('Mean =', a,'Median =',b,'Mode =',c)"
   ]
  },
  {
   "cell_type": "markdown",
   "metadata": {},
   "source": [
    "### CMSU['GPA'] review of Mean, Median and Mode suggests that -\n",
    "\n",
    "#### In this case Mode > Median > Mean hence the distribution is Left Skewed"
   ]
  },
  {
   "cell_type": "markdown",
   "metadata": {},
   "source": [
    "##  CMSU['Salary'] HISTOGRAM"
   ]
  },
  {
   "cell_type": "code",
   "execution_count": 131,
   "metadata": {},
   "outputs": [
    {
     "data": {
      "text/plain": [
       "<AxesSubplot:xlabel='Salary', ylabel='Density'>"
      ]
     },
     "execution_count": 131,
     "metadata": {},
     "output_type": "execute_result"
    },
    {
     "data": {
      "image/png": "[encoded data removed]",
      "text/plain": [
       "<Figure size 432x288 with 1 Axes>"
      ]
     },
     "metadata": {
      "needs_background": "light"
     },
     "output_type": "display_data"
    }
   ],
   "source": [
    "sns.distplot(CMSU['Salary'])"
   ]
  },
  {
   "cell_type": "markdown",
   "metadata": {},
   "source": [
    "### Histogram Review for CMSU['Salary'] Shows -\n",
    "#### 1) 2 Peaks\n",
    "#### 2) Right Skewness\n",
    "#### 3) It doesnt Show a perfect 'Bell Curve'"
   ]
  },
  {
   "cell_type": "markdown",
   "metadata": {},
   "source": [
    "##  CMSU['Salary'] 5 Number Summary"
   ]
  },
  {
   "cell_type": "code",
   "execution_count": 132,
   "metadata": {},
   "outputs": [
    {
     "data": {
      "text/plain": [
       "count   62.00\n",
       "mean    48.55\n",
       "std     12.08\n",
       "min     25.00\n",
       "25%     40.00\n",
       "50%     50.00\n",
       "75%     55.00\n",
       "max     80.00\n",
       "Name: Salary, dtype: float64"
      ]
     },
     "execution_count": 132,
     "metadata": {},
     "output_type": "execute_result"
    }
   ],
   "source": [
    "CMSU['Salary'].describe(include='all')"
   ]
  },
  {
   "cell_type": "markdown",
   "metadata": {},
   "source": [
    "### CMSU['Salary'] review of 5 number Summary Suggests that -\n",
    "  ##### Disribution is  right skewed  -\n",
    "         (Q1 - Min) which is 0.15 < (Max - Q3) which is 0.25\n",
    "         (Q2 - Min) which is 0.25  <(Max - Q2) which is 0.30      \n",
    "  ##### Disribution is  Left  skewed  -\n",
    "         (Q2 - Q1) which is 0.10 > (Q3 - Q2) which is 0.05\n",
    "  \n",
    "  #####  Let's review the Box plot to Verify the skewness -"
   ]
  },
  {
   "cell_type": "markdown",
   "metadata": {},
   "source": [
    "## CMSU['Salary'] BOXPLOT"
   ]
  },
  {
   "cell_type": "code",
   "execution_count": 133,
   "metadata": {
    "scrolled": true
   },
   "outputs": [
    {
     "data": {
      "image/png": "[encoded data removed]",
      "text/plain": [
       "<Figure size 432x288 with 1 Axes>"
      ]
     },
     "metadata": {
      "needs_background": "light"
     },
     "output_type": "display_data"
    }
   ],
   "source": [
    "sns.boxplot(CMSU['Salary'] )\n",
    "plt.grid()"
   ]
  },
  {
   "cell_type": "markdown",
   "metadata": {},
   "source": [
    "### CMSU['Salary'] review of Boxplot Suggests that -\n",
    "\n",
    "    #### 1) There are Multiple outliers\n",
    "    #### 2) Distribution appears to be Asymmetric\n",
    "    #### 3) Distribution is definitely Right skewed."
   ]
  },
  {
   "cell_type": "markdown",
   "metadata": {},
   "source": [
    "## CMSU['Salary'] Empirical Rule"
   ]
  },
  {
   "cell_type": "code",
   "execution_count": 134,
   "metadata": {},
   "outputs": [
    {
     "name": "stdout",
     "output_type": "stream",
     "text": [
      "Number of Mean + 1 Sigma occurances should be  21.08 where as they are  27\n",
      "Number of Mean - 1 Sigma occurances should be  21.08 where as they are  22\n",
      "Number of Mean + 2 Sigma occurances should be  29.45 where as they are  29\n",
      "Number of Mean - 2 Sigma occurances should be  29.45 where as they are  30\n",
      "Number of Mean + 3 Sigma occurances should be  30.907 where as they are  32\n",
      "Number of Mean - 3 Sigma occurances should be  30.907 where as they are  30\n"
     ]
    }
   ],
   "source": [
    "x_1std= CMSU['Salary'].mean() + (1 * CMSU['Salary'].std())\n",
    "y_1std= CMSU['Salary'].mean() - (1 * CMSU['Salary'].std())\n",
    "x_2std= CMSU['Salary'].mean() + (2 * CMSU['Salary'].std())\n",
    "y_2std= CMSU['Salary'].mean() - (2 * CMSU['Salary'].std())\n",
    "x_3std= CMSU['Salary'].mean() + (3 * CMSU['Salary'].std())\n",
    "y_3std= CMSU['Salary'].mean() - (3 * CMSU['Salary'].std())\n",
    "\n",
    "Sample_size=len(CMSU['Salary'])\n",
    "\n",
    "is_between11 = CMSU['Salary'].between(CMSU['Salary'].mean(),x_1std, inclusive=False )\n",
    "Level11=len(CMSU[is_between11])\n",
    "is_between12 = CMSU['Salary'].between(y_1std,CMSU['Salary'].mean(), inclusive=False )\n",
    "Level12=len(CMSU[is_between12]) \n",
    "\n",
    "is_between21 = CMSU['Salary'].between(CMSU['Salary'].mean(),x_2std, inclusive=False )\n",
    "Level21=len(CMSU[is_between21])\n",
    "is_between22 = CMSU['Salary'].between(y_2std,CMSU['Salary'].mean(), inclusive=False )\n",
    "Level22=len(CMSU[is_between22])\n",
    "\n",
    "is_between31 = CMSU['Salary'].between(CMSU['Salary'].mean(),x_3std, inclusive=False )\n",
    "Level31=len(CMSU[is_between31])\n",
    "is_between32 = CMSU['Salary'].between(y_3std,CMSU['Salary'].mean(), inclusive=False )\n",
    "Level32=len(CMSU[is_between32])\n",
    "\n",
    "print('Number of Mean + 1 Sigma occurances should be ', round((Sample_size * .68/2),3) , 'where as they are ',  Level11)\n",
    "print('Number of Mean - 1 Sigma occurances should be ', round((Sample_size * .68/2),3) , 'where as they are ',  Level12)\n",
    "print('Number of Mean + 2 Sigma occurances should be ', round((Sample_size * .95/2),3) , 'where as they are ',  Level21)\n",
    "print('Number of Mean - 2 Sigma occurances should be ', round((Sample_size * .95/2),3) , 'where as they are ',  Level22)\n",
    "print('Number of Mean + 3 Sigma occurances should be ', round((Sample_size * .997/2),3) , 'where as they are ',  Level31)\n",
    "print('Number of Mean - 3 Sigma occurances should be ', round((Sample_size * .997/2),3) , 'where as they are ',  Level32)"
   ]
  },
  {
   "cell_type": "markdown",
   "metadata": {},
   "source": [
    "### CMSU['Salary'] review of Impirical Rule suggest that  that -\n",
    "\n",
    "#### 1) '1 standard deviation' from Mean is Highly Left Skewed assymetrical  which is compensated covered by 3SD\n",
    "#### 1) '2 standard deviation' from Mean is approximate symmetrical\n",
    "#### 1) '3 standard deviation' from Mean is approximate symmetrical"
   ]
  },
  {
   "cell_type": "markdown",
   "metadata": {},
   "source": [
    "##  CMSU['Salary'] mean,median and mode"
   ]
  },
  {
   "cell_type": "code",
   "execution_count": 135,
   "metadata": {},
   "outputs": [
    {
     "name": "stdout",
     "output_type": "stream",
     "text": [
      "Mean = 48.54838709677419 Median = 50.0 Mode = 0   40.00\n",
      "dtype: float64\n"
     ]
    }
   ],
   "source": [
    "a=CMSU['Salary'].mean()\n",
    "b=CMSU['Salary'].median()\n",
    "c=CMSU['Salary'].mode()\n",
    "print('Mean =', a,'Median =',b,'Mode =',c)"
   ]
  },
  {
   "cell_type": "markdown",
   "metadata": {},
   "source": [
    "### CMSU['Salary'] review of Mean, Median and Mode suggests that -\n",
    "\n",
    "#### In this case Mode < Median hence the distribution is Left Skewed"
   ]
  },
  {
   "cell_type": "markdown",
   "metadata": {},
   "source": [
    "## CMSU['Spending'] Histogram"
   ]
  },
  {
   "cell_type": "code",
   "execution_count": 136,
   "metadata": {
    "scrolled": true
   },
   "outputs": [
    {
     "data": {
      "text/plain": [
       "<AxesSubplot:xlabel='Spending', ylabel='Density'>"
      ]
     },
     "execution_count": 136,
     "metadata": {},
     "output_type": "execute_result"
    },
    {
     "data": {
      "image/png": "[encoded data removed]",
      "text/plain": [
       "<Figure size 432x288 with 1 Axes>"
      ]
     },
     "metadata": {
      "needs_background": "light"
     },
     "output_type": "display_data"
    }
   ],
   "source": [
    "sns.distplot(CMSU['Spending'])"
   ]
  },
  {
   "cell_type": "markdown",
   "metadata": {},
   "source": [
    "### Histogram Review for CMSU['Spending'] Shows -\n",
    "#### 1) 3 Peaks\n",
    "#### 2) Right Skewness\n",
    "#### 3) It doesnt Show a 'Bell Curve'"
   ]
  },
  {
   "cell_type": "markdown",
   "metadata": {},
   "source": [
    "##  CMSU['Spending']  5 Number Summary"
   ]
  },
  {
   "cell_type": "code",
   "execution_count": 137,
   "metadata": {},
   "outputs": [
    {
     "data": {
      "text/plain": [
       "count     62.00\n",
       "mean     482.02\n",
       "std      221.95\n",
       "min      100.00\n",
       "25%      312.50\n",
       "50%      500.00\n",
       "75%      600.00\n",
       "max     1400.00\n",
       "Name: Spending, dtype: float64"
      ]
     },
     "execution_count": 137,
     "metadata": {},
     "output_type": "execute_result"
    }
   ],
   "source": [
    "CMSU['Spending'].describe(include='all')"
   ]
  },
  {
   "cell_type": "markdown",
   "metadata": {},
   "source": [
    "### CMSU['Spending'] review of 5 number Summary Suggests that -\n",
    "\n",
    "  ##### Disribution is  right skewed  -\n",
    "         (Q1 - Min) which is 212.50 < (Max - Q3) which is 800\n",
    "         (Q2 - Min) which is 400  <(Max - Q2) which is 900      \n",
    "  ##### Disribution is  Left  skewed  -\n",
    "         (Q2 - Q1) which is 187.50 > (Q3 - Q2) which is 100\n",
    "  \n",
    "  #####  Let's review the Box plot to Verify the skewness -"
   ]
  },
  {
   "cell_type": "markdown",
   "metadata": {},
   "source": [
    "## CMSU['Spending'] BoxPlot"
   ]
  },
  {
   "cell_type": "code",
   "execution_count": 138,
   "metadata": {},
   "outputs": [
    {
     "data": {
      "image/png": "[encoded data removed]",
      "text/plain": [
       "<Figure size 432x288 with 1 Axes>"
      ]
     },
     "metadata": {
      "needs_background": "light"
     },
     "output_type": "display_data"
    }
   ],
   "source": [
    "sns.boxplot(CMSU['Spending'] )\n",
    "plt.grid()"
   ]
  },
  {
   "cell_type": "markdown",
   "metadata": {},
   "source": [
    "### CMSU['Spending'] review of Boxplot Suggests that -\n",
    "\n",
    "#### 1) There are Multiple outliers\n",
    "#### 2) Distribution appears to be Asymmetric\n",
    "#### 3) Distribution is Right skewed due to outliers and whiskers."
   ]
  },
  {
   "cell_type": "markdown",
   "metadata": {},
   "source": [
    "## CMSU['Spending']  Empirical Rule"
   ]
  },
  {
   "cell_type": "code",
   "execution_count": 139,
   "metadata": {},
   "outputs": [
    {
     "name": "stdout",
     "output_type": "stream",
     "text": [
      "Number of Mean + 1 Sigma occurances should be  21.08 where as they are  30\n",
      "Number of Mean - 1 Sigma occurances should be  21.08 where as they are  20\n",
      "Number of Mean + 2 Sigma occurances should be  29.45 where as they are  31\n",
      "Number of Mean - 2 Sigma occurances should be  29.45 where as they are  28\n",
      "Number of Mean + 3 Sigma occurances should be  30.907 where as they are  33\n",
      "Number of Mean - 3 Sigma occurances should be  30.907 where as they are  28\n"
     ]
    }
   ],
   "source": [
    "x_1std= CMSU['Spending'].mean() + (1 * CMSU['Spending'].std())\n",
    "y_1std= CMSU['Spending'].mean() - (1 * CMSU['Spending'].std())\n",
    "x_2std= CMSU['Spending'].mean() + (2 * CMSU['Spending'].std())\n",
    "y_2std= CMSU['Spending'].mean() - (2 * CMSU['Spending'].std())\n",
    "x_3std= CMSU['Spending'].mean() + (3 * CMSU['Spending'].std())\n",
    "y_3std= CMSU['Spending'].mean() - (3 * CMSU['Spending'].std())\n",
    "\n",
    "Sample_size=len(CMSU['Spending'])\n",
    "\n",
    "is_between11 = CMSU['Spending'].between(CMSU['Spending'].mean(),x_1std, inclusive=False )\n",
    "Level11=len(CMSU[is_between11])\n",
    "is_between12 = CMSU['Spending'].between(y_1std,CMSU['Spending'].mean(), inclusive=False )\n",
    "Level12=len(CMSU[is_between12]) \n",
    "\n",
    "is_between21 = CMSU['Spending'].between(CMSU['Spending'].mean(),x_2std, inclusive=False )\n",
    "Level21=len(CMSU[is_between21])\n",
    "is_between22 = CMSU['Spending'].between(y_2std,CMSU['Spending'].mean(), inclusive=False )\n",
    "Level22=len(CMSU[is_between22])\n",
    "\n",
    "is_between31 = CMSU['Spending'].between(CMSU['Spending'].mean(),x_3std, inclusive=False )\n",
    "Level31=len(CMSU[is_between31])\n",
    "is_between32 = CMSU['Spending'].between(y_3std,CMSU['Spending'].mean(), inclusive=False )\n",
    "Level32=len(CMSU[is_between32])\n",
    "\n",
    "print('Number of Mean + 1 Sigma occurances should be ', round((Sample_size * .68/2),3) , 'where as they are ',  Level11)\n",
    "print('Number of Mean - 1 Sigma occurances should be ', round((Sample_size * .68/2),3) , 'where as they are ',  Level12)\n",
    "print('Number of Mean + 2 Sigma occurances should be ', round((Sample_size * .95/2),3) , 'where as they are ',  Level21)\n",
    "print('Number of Mean - 2 Sigma occurances should be ', round((Sample_size * .95/2),3) , 'where as they are ',  Level22)\n",
    "print('Number of Mean + 3 Sigma occurances should be ', round((Sample_size * .997/2),3) , 'where as they are ',  Level31)\n",
    "print('Number of Mean - 3 Sigma occurances should be ', round((Sample_size * .997/2),3) , 'where as they are ',  Level32)"
   ]
  },
  {
   "cell_type": "markdown",
   "metadata": {},
   "source": [
    "### CMSU['Spending'] review of Impirical Rule suggest that  that -\n",
    "\n",
    "#### 1) '1 standard deviation' from Mean is assymetrical (Right Skewed)\n",
    "#### 1) '2 standard deviation' from Mean is assymetrical (Right Skewed)\n",
    "#### 1) '3 standard deviation' from Mean is assymetrical (Right Skewed)"
   ]
  },
  {
   "cell_type": "markdown",
   "metadata": {},
   "source": [
    "##  CMSU['Spending'] mean,median and mode"
   ]
  },
  {
   "cell_type": "code",
   "execution_count": 140,
   "metadata": {},
   "outputs": [
    {
     "name": "stdout",
     "output_type": "stream",
     "text": [
      "Mean = 482.01612903225805 Median = 500.0 Mode = 0    500\n",
      "dtype: int64\n"
     ]
    }
   ],
   "source": [
    "a=CMSU['Spending'].mean()\n",
    "b=CMSU['Spending'].median()\n",
    "c=CMSU['Spending'].mode()\n",
    "print('Mean =', a,'Median =',b,'Mode =',c)"
   ]
  },
  {
   "cell_type": "markdown",
   "metadata": {},
   "source": [
    "### CMSU['Spending'] review of Mean, Median and Mode suggests that -\n",
    "\n",
    "### Skeweness can not be conclued however this is not a normal distribution"
   ]
  },
  {
   "cell_type": "markdown",
   "metadata": {},
   "source": [
    "## CMSU['Text Messages'] Histogram"
   ]
  },
  {
   "cell_type": "code",
   "execution_count": 141,
   "metadata": {},
   "outputs": [
    {
     "data": {
      "text/plain": [
       "<AxesSubplot:xlabel='Text Messages', ylabel='Density'>"
      ]
     },
     "execution_count": 141,
     "metadata": {},
     "output_type": "execute_result"
    },
    {
     "data": {
      "image/png": "[encoded data removed]",
      "text/plain": [
       "<Figure size 432x288 with 1 Axes>"
      ]
     },
     "metadata": {
      "needs_background": "light"
     },
     "output_type": "display_data"
    }
   ],
   "source": [
    "sns.distplot(CMSU['Text Messages'])"
   ]
  },
  {
   "cell_type": "markdown",
   "metadata": {},
   "source": [
    "## Histogram Review for CMSU['Text Messages'] Shows -\n",
    "#### 1) 2 Peaks\n",
    "#### 2) Right Skewness\n",
    "#### 3) It doesnt Show a 'Bell Curve'"
   ]
  },
  {
   "cell_type": "markdown",
   "metadata": {},
   "source": [
    "## CMSU['Text Messages']  5 Number Summary"
   ]
  },
  {
   "cell_type": "code",
   "execution_count": 142,
   "metadata": {},
   "outputs": [
    {
     "data": {
      "text/plain": [
       "count    62.00\n",
       "mean    246.21\n",
       "std     214.47\n",
       "min       0.00\n",
       "25%     100.00\n",
       "50%     200.00\n",
       "75%     300.00\n",
       "max     900.00\n",
       "Name: Text Messages, dtype: float64"
      ]
     },
     "execution_count": 142,
     "metadata": {},
     "output_type": "execute_result"
    }
   ],
   "source": [
    "CMSU['Text Messages'].describe(include='all')"
   ]
  },
  {
   "cell_type": "markdown",
   "metadata": {},
   "source": [
    "### CMSU['Test Messages'] review of 5 number Summary Suggests that -\n",
    "\n",
    "  ##### Distribution  is  right skewed  -\n",
    "         (Q1 - Min) which is 100 < (Max - Q3) which is 600\n",
    "         (Q2 - Min) which is 200  <(Max - Q2) which is 700      \n",
    "  ##### Distribution  is Symmetrical  -\n",
    "         (Q2 - Q1) which is 100 =  (Q3 - Q2) which is 100\n",
    "  \n",
    "  #####  Let's review the Box plot to Verify the skewness -"
   ]
  },
  {
   "cell_type": "markdown",
   "metadata": {},
   "source": [
    "## CMSU['Text Messages'] BoxPlot"
   ]
  },
  {
   "cell_type": "code",
   "execution_count": 143,
   "metadata": {},
   "outputs": [
    {
     "data": {
      "image/png": "[encoded data removed]",
      "text/plain": [
       "<Figure size 432x288 with 1 Axes>"
      ]
     },
     "metadata": {
      "needs_background": "light"
     },
     "output_type": "display_data"
    }
   ],
   "source": [
    "sns.boxplot(x=CMSU['Text Messages'])\n",
    "plt.grid()"
   ]
  },
  {
   "cell_type": "markdown",
   "metadata": {},
   "source": [
    "### CMSU['Text Messages'] review of Boxplot Suggests that -\n",
    "\n",
    "#### 1) There are Multiple outliers\n",
    "#### 2) Distribution appears to be Asymmetric\n",
    "#### 3) Distribution is Right skewed due to outliers and whiskers."
   ]
  },
  {
   "cell_type": "markdown",
   "metadata": {},
   "source": [
    "## CMSU['Text Messages'] Empirical Rule"
   ]
  },
  {
   "cell_type": "code",
   "execution_count": 144,
   "metadata": {},
   "outputs": [
    {
     "name": "stdout",
     "output_type": "stream",
     "text": [
      "Number of Mean + 1 Sigma occurances should be  21.08 where as they are  16\n",
      "Number of Mean - 1 Sigma occurances should be  21.08 where as they are  33\n",
      "Number of Mean + 2 Sigma occurances should be  29.45 where as they are  21\n",
      "Number of Mean - 2 Sigma occurances should be  29.45 where as they are  36\n",
      "Number of Mean + 3 Sigma occurances should be  30.907 where as they are  25\n",
      "Number of Mean - 3 Sigma occurances should be  30.907 where as they are  36\n"
     ]
    }
   ],
   "source": [
    "x_1std= CMSU['Text Messages'].mean() + (1 * CMSU['Text Messages'].std())\n",
    "y_1std= CMSU['Text Messages'].mean() - (1 * CMSU['Text Messages'].std())\n",
    "x_2std= CMSU['Text Messages'].mean() + (2 * CMSU['Text Messages'].std())\n",
    "y_2std= CMSU['Text Messages'].mean() - (2 * CMSU['Text Messages'].std())\n",
    "x_3std= CMSU['Text Messages'].mean() + (3 * CMSU['Text Messages'].std())\n",
    "y_3std= CMSU['Text Messages'].mean() - (3 * CMSU['Text Messages'].std())\n",
    "\n",
    "Sample_size=len(CMSU['Text Messages'])\n",
    "\n",
    "is_between11 = CMSU['Text Messages'].between(CMSU['Text Messages'].mean(),x_1std, inclusive=False )\n",
    "Level11=len(CMSU[is_between11])\n",
    "is_between12 = CMSU['Text Messages'].between(y_1std,CMSU['Text Messages'].mean(), inclusive=False )\n",
    "Level12=len(CMSU[is_between12]) \n",
    "\n",
    "is_between21 = CMSU['Text Messages'].between(CMSU['Text Messages'].mean(),x_2std, inclusive=False )\n",
    "Level21=len(CMSU[is_between21])\n",
    "is_between22 = CMSU['Text Messages'].between(y_2std,CMSU['Text Messages'].mean(), inclusive=False )\n",
    "Level22=len(CMSU[is_between22])\n",
    "\n",
    "is_between31 = CMSU['Text Messages'].between(CMSU['Text Messages'].mean(),x_3std, inclusive=False )\n",
    "Level31=len(CMSU[is_between31])\n",
    "is_between32 = CMSU['Text Messages'].between(y_3std,CMSU['Text Messages'].mean(), inclusive=False )\n",
    "Level32=len(CMSU[is_between32])\n",
    "\n",
    "print('Number of Mean + 1 Sigma occurances should be ', round((Sample_size * .68/2),3) , 'where as they are ',  Level11)\n",
    "print('Number of Mean - 1 Sigma occurances should be ', round((Sample_size * .68/2),3) , 'where as they are ',  Level12)\n",
    "print('Number of Mean + 2 Sigma occurances should be ', round((Sample_size * .95/2),3) , 'where as they are ',  Level21)\n",
    "print('Number of Mean - 2 Sigma occurances should be ', round((Sample_size * .95/2),3) , 'where as they are ',  Level22)\n",
    "print('Number of Mean + 3 Sigma occurances should be ', round((Sample_size * .997/2),3) , 'where as they are ',  Level31)\n",
    "print('Number of Mean - 3 Sigma occurances should be ', round((Sample_size * .997/2),3) , 'where as they are ',  Level32)"
   ]
  },
  {
   "cell_type": "markdown",
   "metadata": {},
   "source": [
    "### CMSU['Text Messages'] review of Impirical Rule suggest that  that -\n",
    "\n",
    "#### 1) '1 standard deviation' from Mean is assymetrical (Right Skewed)\n",
    "#### 1) '2 standard deviation' from Mean is assymetrical (Right Skewed)\n",
    "#### 1) '3 standard deviation' from Mean is assymetrical (Right Skewed)"
   ]
  },
  {
   "cell_type": "markdown",
   "metadata": {},
   "source": [
    "##  CMSU['Text Messages'] mean,median and mode"
   ]
  },
  {
   "cell_type": "code",
   "execution_count": 145,
   "metadata": {},
   "outputs": [
    {
     "name": "stdout",
     "output_type": "stream",
     "text": [
      "Mean = 246.20967741935485 Median = 200.0 Mode = 0    300\n",
      "dtype: int64\n"
     ]
    }
   ],
   "source": [
    "a=CMSU['Text Messages'].mean()\n",
    "b=CMSU['Text Messages'].median()\n",
    "c=CMSU['Text Messages'].mode()\n",
    "print('Mean =', a,'Median =',b,'Mode =',c)"
   ]
  },
  {
   "cell_type": "markdown",
   "metadata": {},
   "source": [
    "### CMSU['Text Messages'] review of Mean, Median and Mode suggests that -\n",
    "\n",
    "#### Skeweness can not be conclued however this is not a normal distribution"
   ]
  },
  {
   "cell_type": "markdown",
   "metadata": {},
   "source": [
    "### ANSWER 2.8"
   ]
  },
  {
   "cell_type": "markdown",
   "metadata": {},
   "source": [
    "### Q3 An important quality characteristic used by the manufacturers of ABC asphalt shingles is the amount of moisture the shingles contain when they are packaged. Customers may feel that they have purchased a product lacking in quality if they find moisture and wet shingles inside the packaging.   In some cases, excessive moisture can cause the granules attached to the shingles for texture and colouring purposes to fall off the shingles resulting in appearance problems. To monitor the amount of moisture present, the company conducts moisture tests. A shingle is weighed and then dried. The shingle is then reweighed, and based on the amount of moisture taken out of the product, the pounds of moisture per 100 square feet is calculated. The company would like to show that the mean moisture content is less than 0.35 pound per 100 square feet.\n",
    "\n",
    "#### The file (A & B shingles.csv) includes 36 measurements (in pounds per 100 square feet) for A shingles and 31 for B shingles.\n"
   ]
  },
  {
   "cell_type": "code",
   "execution_count": 146,
   "metadata": {},
   "outputs": [],
   "source": [
    "asphalt_shingles=pd.read_csv('A & B shingles-1.csv')"
   ]
  },
  {
   "cell_type": "code",
   "execution_count": 147,
   "metadata": {},
   "outputs": [
    {
     "data": {
      "text/html": [
       "<div>\n",
       "<style scoped>\n",
       "    .dataframe tbody tr th:only-of-type {\n",
       "        vertical-align: middle;\n",
       "    }\n",
       "\n",
       "    .dataframe tbody tr th {\n",
       "        vertical-align: top;\n",
       "    }\n",
       "\n",
       "    .dataframe thead th {\n",
       "        text-align: right;\n",
       "    }\n",
       "</style>\n",
       "<table border=\"1\" class=\"dataframe\">\n",
       "  <thead>\n",
       "    <tr style=\"text-align: right;\">\n",
       "      <th></th>\n",
       "      <th>A</th>\n",
       "      <th>B</th>\n",
       "    </tr>\n",
       "  </thead>\n",
       "  <tbody>\n",
       "    <tr>\n",
       "      <th>0</th>\n",
       "      <td>0.44</td>\n",
       "      <td>0.14</td>\n",
       "    </tr>\n",
       "    <tr>\n",
       "      <th>1</th>\n",
       "      <td>0.61</td>\n",
       "      <td>0.15</td>\n",
       "    </tr>\n",
       "    <tr>\n",
       "      <th>2</th>\n",
       "      <td>0.47</td>\n",
       "      <td>0.31</td>\n",
       "    </tr>\n",
       "    <tr>\n",
       "      <th>3</th>\n",
       "      <td>0.30</td>\n",
       "      <td>0.16</td>\n",
       "    </tr>\n",
       "    <tr>\n",
       "      <th>4</th>\n",
       "      <td>0.15</td>\n",
       "      <td>0.37</td>\n",
       "    </tr>\n",
       "    <tr>\n",
       "      <th>5</th>\n",
       "      <td>0.24</td>\n",
       "      <td>0.18</td>\n",
       "    </tr>\n",
       "    <tr>\n",
       "      <th>6</th>\n",
       "      <td>0.16</td>\n",
       "      <td>0.42</td>\n",
       "    </tr>\n",
       "    <tr>\n",
       "      <th>7</th>\n",
       "      <td>0.20</td>\n",
       "      <td>0.58</td>\n",
       "    </tr>\n",
       "    <tr>\n",
       "      <th>8</th>\n",
       "      <td>0.20</td>\n",
       "      <td>0.25</td>\n",
       "    </tr>\n",
       "    <tr>\n",
       "      <th>9</th>\n",
       "      <td>0.20</td>\n",
       "      <td>0.41</td>\n",
       "    </tr>\n",
       "    <tr>\n",
       "      <th>10</th>\n",
       "      <td>0.26</td>\n",
       "      <td>0.17</td>\n",
       "    </tr>\n",
       "    <tr>\n",
       "      <th>11</th>\n",
       "      <td>0.14</td>\n",
       "      <td>0.13</td>\n",
       "    </tr>\n",
       "    <tr>\n",
       "      <th>12</th>\n",
       "      <td>0.33</td>\n",
       "      <td>0.23</td>\n",
       "    </tr>\n",
       "    <tr>\n",
       "      <th>13</th>\n",
       "      <td>0.13</td>\n",
       "      <td>0.11</td>\n",
       "    </tr>\n",
       "    <tr>\n",
       "      <th>14</th>\n",
       "      <td>0.72</td>\n",
       "      <td>0.10</td>\n",
       "    </tr>\n",
       "    <tr>\n",
       "      <th>15</th>\n",
       "      <td>0.51</td>\n",
       "      <td>0.19</td>\n",
       "    </tr>\n",
       "    <tr>\n",
       "      <th>16</th>\n",
       "      <td>0.28</td>\n",
       "      <td>0.22</td>\n",
       "    </tr>\n",
       "    <tr>\n",
       "      <th>17</th>\n",
       "      <td>0.39</td>\n",
       "      <td>0.44</td>\n",
       "    </tr>\n",
       "    <tr>\n",
       "      <th>18</th>\n",
       "      <td>0.39</td>\n",
       "      <td>0.11</td>\n",
       "    </tr>\n",
       "    <tr>\n",
       "      <th>19</th>\n",
       "      <td>0.25</td>\n",
       "      <td>0.11</td>\n",
       "    </tr>\n",
       "    <tr>\n",
       "      <th>20</th>\n",
       "      <td>0.16</td>\n",
       "      <td>0.31</td>\n",
       "    </tr>\n",
       "    <tr>\n",
       "      <th>21</th>\n",
       "      <td>0.20</td>\n",
       "      <td>0.43</td>\n",
       "    </tr>\n",
       "    <tr>\n",
       "      <th>22</th>\n",
       "      <td>0.22</td>\n",
       "      <td>0.26</td>\n",
       "    </tr>\n",
       "    <tr>\n",
       "      <th>23</th>\n",
       "      <td>0.42</td>\n",
       "      <td>0.18</td>\n",
       "    </tr>\n",
       "    <tr>\n",
       "      <th>24</th>\n",
       "      <td>0.24</td>\n",
       "      <td>0.44</td>\n",
       "    </tr>\n",
       "    <tr>\n",
       "      <th>25</th>\n",
       "      <td>0.21</td>\n",
       "      <td>0.43</td>\n",
       "    </tr>\n",
       "    <tr>\n",
       "      <th>26</th>\n",
       "      <td>0.49</td>\n",
       "      <td>0.16</td>\n",
       "    </tr>\n",
       "    <tr>\n",
       "      <th>27</th>\n",
       "      <td>0.34</td>\n",
       "      <td>0.52</td>\n",
       "    </tr>\n",
       "    <tr>\n",
       "      <th>28</th>\n",
       "      <td>0.36</td>\n",
       "      <td>0.36</td>\n",
       "    </tr>\n",
       "    <tr>\n",
       "      <th>29</th>\n",
       "      <td>0.29</td>\n",
       "      <td>0.22</td>\n",
       "    </tr>\n",
       "    <tr>\n",
       "      <th>30</th>\n",
       "      <td>0.27</td>\n",
       "      <td>0.39</td>\n",
       "    </tr>\n",
       "    <tr>\n",
       "      <th>31</th>\n",
       "      <td>0.40</td>\n",
       "      <td>nan</td>\n",
       "    </tr>\n",
       "    <tr>\n",
       "      <th>32</th>\n",
       "      <td>0.29</td>\n",
       "      <td>nan</td>\n",
       "    </tr>\n",
       "    <tr>\n",
       "      <th>33</th>\n",
       "      <td>0.43</td>\n",
       "      <td>nan</td>\n",
       "    </tr>\n",
       "    <tr>\n",
       "      <th>34</th>\n",
       "      <td>0.34</td>\n",
       "      <td>nan</td>\n",
       "    </tr>\n",
       "    <tr>\n",
       "      <th>35</th>\n",
       "      <td>0.37</td>\n",
       "      <td>nan</td>\n",
       "    </tr>\n",
       "  </tbody>\n",
       "</table>\n",
       "</div>"
      ],
      "text/plain": [
       "      A    B\n",
       "0  0.44 0.14\n",
       "1  0.61 0.15\n",
       "2  0.47 0.31\n",
       "3  0.30 0.16\n",
       "4  0.15 0.37\n",
       "5  0.24 0.18\n",
       "6  0.16 0.42\n",
       "7  0.20 0.58\n",
       "8  0.20 0.25\n",
       "9  0.20 0.41\n",
       "10 0.26 0.17\n",
       "11 0.14 0.13\n",
       "12 0.33 0.23\n",
       "13 0.13 0.11\n",
       "14 0.72 0.10\n",
       "15 0.51 0.19\n",
       "16 0.28 0.22\n",
       "17 0.39 0.44\n",
       "18 0.39 0.11\n",
       "19 0.25 0.11\n",
       "20 0.16 0.31\n",
       "21 0.20 0.43\n",
       "22 0.22 0.26\n",
       "23 0.42 0.18\n",
       "24 0.24 0.44\n",
       "25 0.21 0.43\n",
       "26 0.49 0.16\n",
       "27 0.34 0.52\n",
       "28 0.36 0.36\n",
       "29 0.29 0.22\n",
       "30 0.27 0.39\n",
       "31 0.40  nan\n",
       "32 0.29  nan\n",
       "33 0.43  nan\n",
       "34 0.34  nan\n",
       "35 0.37  nan"
      ]
     },
     "execution_count": 147,
     "metadata": {},
     "output_type": "execute_result"
    }
   ],
   "source": [
    "asphalt_shingles"
   ]
  },
  {
   "cell_type": "markdown",
   "metadata": {},
   "source": [
    "#### 3.1.\tDo you think there is evidence that means moisture contents in both types of shingles are within the permissible limits? State your conclusions clearly showing all steps.\n"
   ]
  },
  {
   "cell_type": "markdown",
   "metadata": {},
   "source": [
    "# Test Objective\n",
    "For every moisture test,the claim to check here becomes whether the moisture content is still greater than 0.35 pounds per 100 square feet"
   ]
  },
  {
   "cell_type": "markdown",
   "metadata": {},
   "source": [
    "# Step 1: Define null and alternative hypotheses"
   ]
  },
  {
   "cell_type": "markdown",
   "metadata": {},
   "source": [
    "For the A shingles,the null and alternative hypothesis to test whether the population mean moisture content is less than 0.35 pound per 100 square feet is given:\n",
    "\n",
    "H0 : mean moisture content <=0.35\n",
    "\n",
    "HA : mean moisture content > 0.35\n",
    "\n",
    "\n",
    "\n",
    "For the B shingles,the null and alternative hypothesis to test whether the population mean moisture content is less than 0.35 pound per 100 square feet is given:\n",
    "\n",
    "H0 : mean moisture content <=0.35\n",
    "\n",
    "HA : mean moisture content > 0.35"
   ]
  },
  {
   "cell_type": "markdown",
   "metadata": {},
   "source": [
    "# Step 2: Decide the significance level"
   ]
  },
  {
   "cell_type": "markdown",
   "metadata": {},
   "source": [
    "##### Here we select 𝛼 = 0.05 as this is not specified in the problem statement"
   ]
  },
  {
   "cell_type": "markdown",
   "metadata": {},
   "source": [
    "# Step 3: Identify Test Statistics"
   ]
  },
  {
   "cell_type": "code",
   "execution_count": 148,
   "metadata": {
    "scrolled": true
   },
   "outputs": [
    {
     "name": "stdout",
     "output_type": "stream",
     "text": [
      "The sample size for asphalt_shingles['A'] is 36\n",
      "The sample size for asphalt_shingles['B'] is 31\n"
     ]
    }
   ],
   "source": [
    "print(\"The sample size for asphalt_shingles['A'] is\", asphalt_shingles['A'].count())\n",
    "print(\"The sample size for asphalt_shingles['B'] is\", asphalt_shingles['B'].count())"
   ]
  },
  {
   "cell_type": "markdown",
   "metadata": {},
   "source": [
    "##### We do not know the population standard deviation and for A, samplesize is 36. So we use the t distribution and the $t_{STAT}$ test statistic.\n",
    "##### We do not know the population standard deviation and for B, samplesize is 31. So we use the t distribution and the $t_{STAT}$ test statistic."
   ]
  },
  {
   "cell_type": "markdown",
   "metadata": {},
   "source": [
    "# Step 4: Calculate P-value and Test Statistics"
   ]
  },
  {
   "cell_type": "code",
   "execution_count": 149,
   "metadata": {},
   "outputs": [
    {
     "name": "stdout",
     "output_type": "stream",
     "text": [
      "for A shingles , One sample t test \n",
      "t statistic: -1.4735046253382782 p value: 0.0748 \n",
      "Level of significance: 0.05\n",
      "We have no evidence to reject the null hypothesis for A shingles ; since p value for A shingles  > Level of significance\n",
      "Our one-sample t-test for A shingles ;p-value= 0.0748\n"
     ]
    }
   ],
   "source": [
    "# one sample t-test for A shingles\n",
    "# null hypothesis: expected value = 0.35\n",
    "t_statistic, p_value = ttest_1samp(asphalt_shingles['A'], 0.35)\n",
    "p_value_one_Tail=round(p_value/2,4)\n",
    "print('for A shingles , One sample t test \\nt statistic: {0} p value: {1} '.format(t_statistic, p_value_one_Tail))\n",
    "\n",
    "\n",
    "# p_value < 0.05 => alternative hypothesis:\n",
    "\n",
    "alpha_value = 0.05 # Level of significance\n",
    "print('Level of significance: %.2f' %alpha_value)\n",
    "if p_value_one_Tail < alpha_value: \n",
    "    print('We have evidence to reject the null hypothesis for A shingles ; since p value for A shingles < Level of significance')\n",
    "else:\n",
    "    print('We have no evidence to reject the null hypothesis for A shingles ; since p value for A shingles  > Level of significance') \n",
    "\n",
    "print (\"Our one-sample t-test for A shingles ;p-value=\", p_value_one_Tail)"
   ]
  },
  {
   "cell_type": "code",
   "execution_count": 150,
   "metadata": {
    "scrolled": true
   },
   "outputs": [
    {
     "name": "stdout",
     "output_type": "stream",
     "text": [
      "for B shingles , One sample t test \n",
      "t statistic: -3.1003313069986995 p value: 0.0021 \n",
      "Level of significance: 0.05\n",
      "We have evidence to reject the null hypothesis for B shingles ; since p value for B shingles < Level of significance\n",
      "Our one-sample t-test for B shingles ;p-value= 0.0021\n"
     ]
    }
   ],
   "source": [
    "# one sample t-test for B shingles\n",
    "# null hypothesis: expected value = 0.35\n",
    "t_statistic, p_value =ttest_1samp(asphalt_shingles['B'].dropna(), 0.35)\n",
    "p_value_one_Tail=round(p_value/2,4)\n",
    "print('for B shingles , One sample t test \\nt statistic: {0} p value: {1} '.format(t_statistic, p_value_one_Tail))\n",
    "\n",
    "\n",
    "# p_value < 0.05 => alternative hypothesis:\n",
    "\n",
    "alpha_value = 0.05 # Level of significance\n",
    "print('Level of significance: %.2f' %alpha_value)\n",
    "if p_value_one_Tail < alpha_value: \n",
    "    print('We have evidence to reject the null hypothesis for B shingles ; since p value for B shingles < Level of significance')\n",
    "else:\n",
    "    print('We have no evidence to reject the null hypothesis for B shingles ; since p value for B shingles  > Level of significance') \n",
    "\n",
    "print (\"Our one-sample t-test for B shingles ;p-value=\", p_value_one_Tail)"
   ]
  },
  {
   "cell_type": "markdown",
   "metadata": {},
   "source": [
    "# Step 5: Decide to reject or accept null hypothesis"
   ]
  },
  {
   "cell_type": "markdown",
   "metadata": {},
   "source": [
    "1. The null hypothesis is the ​current status or statusquo. The company's current status is that the mean moisture content is less than 0.35.\n",
    "\n",
    "Their current statusquo needs to be refuted on the basis of very strong evidence. The company does this test on the basis of the assumption that their production process is undercontrol.\n",
    "\n",
    "That is hinted as To monitor the amount of moisture present, the company conducts moisture tests\n",
    "\n",
    "2.Hence\n",
    "\n",
    "        H0:mean moisture content=<0.35(since it is current claim)\n",
    "        Ha:mean moisture content > 0.35. \n",
    "\n",
    "    The company is monitoring its quality control\n",
    "\n",
    "3.This is a peculiar case of claim and statusquo being the same i.e. Ho<=0.35 while the test is carried out is to test for the opposite i.e. Ha > 0.35\n",
    "\n",
    "4.The stated null and alternative hypothesis is irrespective of the sample values. This is important to understand. The highest tolerant value of moisture content is 0.35. The process is much better than the acceptable value, hence the average content found from the sample is considerably less than the acceptable limit.\n",
    "\n",
    "5.The rejection region in this case is still on the right side. Since the sample average is less than the null value,the p-value of the test will be greater than 0.05. The null hypothesis will not be rejected"
   ]
  },
  {
   "cell_type": "markdown",
   "metadata": {},
   "source": [
    "\n",
    "### ANSWER 3.1\n",
    "\n",
    "There is no evidence that means moisture contents in both types of shingles are within the permissible limits\n",
    "\n",
    "average moisture content For 'A' Shingles is less than 0.35 pounds per 100 square feet\n",
    "average moisture content for 'B' Shingles is more than 0.35 pounds per 100 square feet\n",
    "\n",
    "#### FOR 'A' shingles\n",
    "\n",
    "We have no evidence to reject the null hypothesis for A shingles ; since p value for A shingles  > Level of significance\n",
    "Our one-sample t-test for A shingles ;p-value= 0.0748\n",
    "\n",
    "Basis the hypothesis test performed for  the given Sample of 36 observations at 95% confidence level we fail to reject H0 i.e. average moisture content For 'A' Shingles is less than 0.35 pounds per 100 square feet\n",
    "\n",
    "#### FOR 'B' shingles\n",
    "\n",
    "We have evidence to reject the null hypothesis for B shingles ; since p value for B shingles  < Level of significance\n",
    "Our one-sample t-test for B shingles ;p-value=  0.0021\n",
    "\n",
    "Basis the hypothesis test performed for  the given Sample of 31 observations at 95% confidence level we reject H0 i.e. average moisture content for 'B' Shingles is more than 0.35 pounds per 100 square feet\n"
   ]
  },
  {
   "cell_type": "markdown",
   "metadata": {},
   "source": [
    "#### 3.2.\t Do you think that the population mean for shingles A and B are equal? Form the hypothesis and conduct the test of the hypothesis. What assumption do you need to check before the test for equality of means is performed?\n"
   ]
  },
  {
   "cell_type": "markdown",
   "metadata": {},
   "source": [
    "### Verifying the assumptions"
   ]
  },
  {
   "cell_type": "code",
   "execution_count": 151,
   "metadata": {
    "scrolled": true
   },
   "outputs": [
    {
     "data": {
      "text/plain": [
       "0.0005"
      ]
     },
     "execution_count": 151,
     "metadata": {},
     "output_type": "execute_result"
    }
   ],
   "source": [
    "round(round(statistics.variance(asphalt_shingles['B'].dropna()),4) - round(statistics.variance(asphalt_shingles['A']),4),4)"
   ]
  },
  {
   "cell_type": "markdown",
   "metadata": {},
   "source": [
    "#### Variance of 'A' is almost equal to Variance of 'B'"
   ]
  },
  {
   "cell_type": "markdown",
   "metadata": {},
   "source": [
    "####  Distribution of Both the samples 'A' and 'B' is Right Skewed"
   ]
  },
  {
   "cell_type": "markdown",
   "metadata": {},
   "source": [
    "### Step 1: Define null and alternative hypotheses"
   ]
  },
  {
   "cell_type": "markdown",
   "metadata": {},
   "source": [
    "In testing whether the average moisture content of the shingles  is  same in both the categories ('A' and 'B') of the shingles, the null hypothesis states that the average moisture content of the shingles are the same, $\\mu{A}$ equals $\\mu{B}$. The alternative hypothesis states that the average moisture content of the shingles are different, $\\mu{A}$ is not equal to $\\mu{B}$.\n",
    "\n",
    "* $H_0$: $\\mu{A}$ - $\\mu{B}$ =      0 i.e        $\\mu{A}$ = $\\mu{B}$\n",
    "* $H_A$: $\\mu{A}$ - $\\mu{B}$ $\\neq$  0 i.e      $\\mu{A}$ $\\neq$ $\\mu{B}$"
   ]
  },
  {
   "cell_type": "markdown",
   "metadata": {},
   "source": [
    "### Step 2: Decide the significance level"
   ]
  },
  {
   "cell_type": "markdown",
   "metadata": {},
   "source": [
    "Here we select $\\alpha$ = 0.05 and the population standard deviation is not known."
   ]
  },
  {
   "cell_type": "markdown",
   "metadata": {},
   "source": [
    "### Step 3: Identify the test statistic"
   ]
  },
  {
   "cell_type": "markdown",
   "metadata": {},
   "source": [
    "* We have two samples and we do not know the population standard deviation.\n",
    "* Sample sizes for both samples are not the same.\n",
    "* We use the t distribution and the $t_{STAT}$ test statistic for 2sampleT-Test(ttest_ind) test."
   ]
  },
  {
   "cell_type": "markdown",
   "metadata": {},
   "source": [
    "### Step 4: Calculate the p - value and test statistic"
   ]
  },
  {
   "cell_type": "markdown",
   "metadata": {},
   "source": [
    "** We use the scipy.stats.ttest_ind to calculate the t-test for the means of TWO INDEPENDENT samples of scores given the two sample observations. This function returns t statistic and two-tailed p value.**\n",
    "\n",
    "** This is a two-sided test for the null hypothesis that 2 independent samples have identical average (expected) values. This test assumes that the populations have identical variances.**"
   ]
  },
  {
   "cell_type": "markdown",
   "metadata": {},
   "source": [
    "For this exercise, we are going to first assume that the variance is equal and then compute the necessary statistical values."
   ]
  },
  {
   "cell_type": "code",
   "execution_count": 152,
   "metadata": {},
   "outputs": [
    {
     "name": "stdout",
     "output_type": "stream",
     "text": [
      "tstat 1.2896282719661123\n",
      "P Value 0.2017\n"
     ]
    }
   ],
   "source": [
    "t_statistic, p_value  = ttest_ind(asphalt_shingles['A'],asphalt_shingles['B'],nan_policy='omit')\n",
    "print('tstat',t_statistic)    \n",
    "print('P Value',round(p_value,4)) "
   ]
  },
  {
   "cell_type": "markdown",
   "metadata": {},
   "source": [
    "### Step 5:  Decide to reject or accept null hypothesis"
   ]
  },
  {
   "cell_type": "code",
   "execution_count": 153,
   "metadata": {},
   "outputs": [
    {
     "name": "stdout",
     "output_type": "stream",
     "text": [
      "two-sample t-test p-value= 0.2017496571835306\n",
      "We do not have enough evidence to reject the null hypothesis in favour of alternative hypothesis\n",
      "We conclude that the average moisture content of the shingles in both the categories A and B , ARE same.\n"
     ]
    }
   ],
   "source": [
    "# p_value < 0.05 => alternative hypothesis:\n",
    "# they don't have the same mean at the 5% significance level\n",
    "print (\"two-sample t-test p-value=\", p_value)\n",
    "\n",
    "alpha_level = 0.05\n",
    "\n",
    "if p_value < alpha_level:\n",
    "    print('We have enough evidence to reject the null hypothesis in favour of alternative hypothesis')\n",
    "    print('We conclude that the average moisture content of the shingles in both the categories A and B ,  ARE NOT same.')\n",
    "else:\n",
    "    print('We do not have enough evidence to reject the null hypothesis in favour of alternative hypothesis')\n",
    "    print('We conclude that the average moisture content of the shingles in both the categories A and B , ARE same.')\n"
   ]
  },
  {
   "cell_type": "markdown",
   "metadata": {},
   "source": [
    "### ANSWER 3.2\n",
    "\n",
    "Do you think that the population mean for shingles A and B are equal? Form the hypothesis and conduct the test of the hypothesis. What assumption do you need to check before the test for equality of means is performed?\n",
    "\n",
    "two-sample t-test p-value= 0.2017496571835306\n",
    "We do not have enough evidence to reject the null hypothesis in favour of alternative hypothesis\n",
    "We conclude that the average moisture content of the shingles in both the categories A and B , ARE same.\n"
   ]
  },
  {
   "cell_type": "code",
   "execution_count": null,
   "metadata": {},
   "outputs": [],
   "source": []
  }
 ],
 "metadata": {
  "colab": {
   "collapsed_sections": [],
   "name": "Titan_casestudy.ipynb",
   "provenance": []
  },
  "kernelspec": {
   "display_name": "Python 3 (ipykernel)",
   "language": "python",
   "name": "python3"
  },
  "language_info": {
   "codemirror_mode": {
    "name": "ipython",
    "version": 3
   },
   "file_extension": ".py",
   "mimetype": "text/x-python",
   "name": "python",
   "nbconvert_exporter": "python",
   "pygments_lexer": "ipython3",
   "version": "3.8.5"
  },
  "toc": {
   "base_numbering": 1,
   "nav_menu": {},
   "number_sections": true,
   "sideBar": true,
   "skip_h1_title": false,
   "title_cell": "Table of Contents",
   "title_sidebar": "Contents",
   "toc_cell": false,
   "toc_position": {},
   "toc_section_display": true,
   "toc_window_display": false
  },
  "varInspector": {
   "cols": {
    "lenName": 16,
    "lenType": 16,
    "lenVar": 40
   },
   "kernels_config": {
    "python": {
     "delete_cmd_postfix": "",
     "delete_cmd_prefix": "del ",
     "library": "var_list.py",
     "varRefreshCmd": "print(var_dic_list())"
    },
    "r": {
     "delete_cmd_postfix": ") ",
     "delete_cmd_prefix": "rm(",
     "library": "var_list.r",
     "varRefreshCmd": "cat(var_dic_list()) "
    }
   },
   "types_to_exclude": [
    "module",
    "function",
    "builtin_function_or_method",
    "instance",
    "_Feature"
   ],
   "window_display": false
  }
 },
 "nbformat": 4,
 "nbformat_minor": 1
}
